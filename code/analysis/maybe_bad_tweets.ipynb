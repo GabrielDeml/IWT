{
 "cells": [
  {
   "cell_type": "code",
   "execution_count": 1,
   "metadata": {},
   "outputs": [],
   "source": [
    "import json\n",
    "import matplotlib.pyplot as plt\n",
    "from wordcloud import WordCloud\n",
    "import os\n",
    "import requests\n",
    "import operator"
   ]
  },
  {
   "cell_type": "code",
   "execution_count": 2,
   "metadata": {},
   "outputs": [],
   "source": [
    "maybe_bad_tweets_analysis_json = {}"
   ]
  },
  {
   "cell_type": "code",
   "execution_count": 3,
   "metadata": {},
   "outputs": [],
   "source": [
    "# Json path\n",
    "json_path = '../../data/maybe_bad_tweets_v2.json'"
   ]
  },
  {
   "cell_type": "code",
   "execution_count": 4,
   "metadata": {},
   "outputs": [],
   "source": [
    "# Open json file\n",
    "bad_user_tweets_file = open(json_path, 'r')\n",
    "# Load json file\n",
    "bad_user_tweets = json.load(bad_user_tweets_file)"
   ]
  },
  {
   "cell_type": "code",
   "execution_count": 5,
   "metadata": {},
   "outputs": [],
   "source": [
    "search_words = [\"ivory\"]\n",
    "suspicious_tweets_word_list = []\n",
    "tweets_with_search_words = []\n",
    "suspicious_tweets_word_count = {}\n",
    "suspicious_tweet_count = 0\n",
    "total_tweets_count = 0\n",
    "followers = 0\n",
    "for word in search_words:\n",
    "    suspicious_tweets_word_count[word] = 0\n",
    "\n",
    "\n",
    "for tweet in bad_user_tweets['tweets']:\n",
    "    # print(tweet)\n",
    "    try:\n",
    "        tweet_text = tweet['text']\n",
    "        tweet_id = tweet['id']\n",
    "        tweet_suspicious = False\n",
    "        bad_tweet = {}\n",
    "        total_tweets_count += 1\n",
    "        for search_word in search_words:\n",
    "            if search_word in tweet_text.lower():\n",
    "                # print(tweet_text)\n",
    "                bad_tweet['tweet'] = tweet_text\n",
    "                bad_tweet['id'] = tweet_id\n",
    "                \n",
    "                if tweet_suspicious == False:\n",
    "                    bad_tweet['suspicious_word'] = [search_word]\n",
    "                    suspicious_tweets_word_list.append([search_word])\n",
    "                    suspicious_tweet_count += 1\n",
    "                else:\n",
    "                    suspicious_tweets_word_list[-1].append(search_word)\n",
    "                    bad_tweet['suspicious_word'].append(search_word)\n",
    "                tweet_suspicious = True\n",
    "                suspicious_tweets_word_count[search_word] += 1\n",
    "        # If bad tweet is not empty\n",
    "        if len(bad_tweet) > 0:\n",
    "            tweets_with_search_words.append(bad_tweet)\n",
    "    except:\n",
    "        pass\n",
    "    #     # Print the error"
   ]
  },
  {
   "cell_type": "code",
   "execution_count": 6,
   "metadata": {},
   "outputs": [
    {
     "name": "stdout",
     "output_type": "stream",
     "text": [
      "Suspicious tweet count:  297\n",
      "Total tweets:  1627\n",
      "Percentage of suspicious tweets:  18.254456054087278\n"
     ]
    }
   ],
   "source": [
    "print(\"Suspicious tweet count: \", suspicious_tweet_count)\n",
    "# print(\"Total followers: \", followers)\n",
    "print(\"Total tweets: \", total_tweets_count)\n",
    "# print(\"Average tweets per follower: \", total_tweets_count/followers)\n",
    "print(\"Percentage of suspicious tweets: \", (suspicious_tweet_count/total_tweets_count)*100)"
   ]
  },
  {
   "cell_type": "code",
   "execution_count": 7,
   "metadata": {},
   "outputs": [],
   "source": [
    "maybe_bad_tweets_analysis_json['suspicious_tweets_word_count'] = suspicious_tweets_word_count\n",
    "maybe_bad_tweets_analysis_json['tweets_with_search_words'] = tweets_with_search_words"
   ]
  },
  {
   "cell_type": "code",
   "execution_count": 8,
   "metadata": {},
   "outputs": [],
   "source": [
    "with open('../../data/maybe_bad_tweets_ivroy_v2.json', 'w') as outfile:\n",
    "\tjson.dump(maybe_bad_tweets_analysis_json, outfile, indent=4)"
   ]
  }
 ],
 "metadata": {
  "interpreter": {
   "hash": "5d259f8ea978a0011a9c41c85f38b722350957b00d06485c4eb037401ff597af"
  },
  "kernelspec": {
   "display_name": "Python 3.9.7 64-bit ('main': conda)",
   "language": "python",
   "name": "python3"
  },
  "language_info": {
   "codemirror_mode": {
    "name": "ipython",
    "version": 3
   },
   "file_extension": ".py",
   "mimetype": "text/x-python",
   "name": "python",
   "nbconvert_exporter": "python",
   "pygments_lexer": "ipython3",
   "version": "3.9.7"
  },
  "orig_nbformat": 4
 },
 "nbformat": 4,
 "nbformat_minor": 2
}
