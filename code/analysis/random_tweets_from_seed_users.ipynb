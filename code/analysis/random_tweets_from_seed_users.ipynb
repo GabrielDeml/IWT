{
 "cells": [
  {
   "cell_type": "code",
   "execution_count": 1,
   "metadata": {},
   "outputs": [],
   "source": [
    "import sys\n",
    "# insert at 1, 0 is the script path (or '' in REPL)\n",
    "sys.path.append('../../lib/')"
   ]
  },
  {
   "cell_type": "code",
   "execution_count": 14,
   "metadata": {},
   "outputs": [],
   "source": [
    "from analysis import *\n",
    "import json"
   ]
  },
  {
   "cell_type": "code",
   "execution_count": 9,
   "metadata": {},
   "outputs": [],
   "source": [
    "user_tweets_file = analysis.universal_data_loader(\"../../data/users_timeline.json\")"
   ]
  },
  {
   "cell_type": "code",
   "execution_count": 10,
   "metadata": {},
   "outputs": [],
   "source": [
    "tweet_list = analysis.create_tweet_list_from_loaded_json(user_tweets_file)"
   ]
  },
  {
   "cell_type": "code",
   "execution_count": 26,
   "metadata": {},
   "outputs": [
    {
     "name": "stdout",
     "output_type": "stream",
     "text": [
      "1000\n"
     ]
    }
   ],
   "source": [
    "print(len(tweet_list))"
   ]
  },
  {
   "cell_type": "code",
   "execution_count": 11,
   "metadata": {},
   "outputs": [],
   "source": [
    "random_tweets = analysis.random_tweet_selector(tweet_list, 100, 1)"
   ]
  },
  {
   "cell_type": "code",
   "execution_count": 13,
   "metadata": {},
   "outputs": [
    {
     "name": "stdout",
     "output_type": "stream",
     "text": [
      "100\n",
      "{\n",
      "    \"id\": \"1462007836955787270\",\n",
      "    \"text\": \"Excited to share the latest addition to my #etsy  #etsycanada shop: #StainedGlass #Goddess #Pregnant #Woman #BabyBump #Doula #Midwife #Earth #OriginalDesign #Handmade #Canada #christmas #purple #doulagift #midwifegift #birthgoddess #babyshowergifts https://t.co/VbdIG8vzcA https://t.co/D8Io7MqTmq\"\n",
      "}\n"
     ]
    }
   ],
   "source": [
    "print(len(random_tweets))\n",
    "analysis.print_tweet(random_tweets[0])"
   ]
  },
  {
   "cell_type": "code",
   "execution_count": 15,
   "metadata": {},
   "outputs": [],
   "source": [
    "# Write to file\n",
    "with open('../../data/100_random_tweets_from_seed_users.json', 'w') as outfile:\n",
    "\tjson.dump(random_tweets, outfile)"
   ]
  },
  {
   "cell_type": "code",
   "execution_count": 39,
   "metadata": {},
   "outputs": [],
   "source": [
    "# Load ../../data/100_random_tweets_from_seed_users.json\n",
    "hundred_random_tweets = analysis.universal_data_loader(\"../../data/100_random_tweets_from_seed_users.json\")\n",
    "hundred_random_tweets_list = analysis.create_tweet_list_from_loaded_json(hundred_random_tweets)"
   ]
  },
  {
   "cell_type": "code",
   "execution_count": 40,
   "metadata": {},
   "outputs": [
    {
     "name": "stdout",
     "output_type": "stream",
     "text": [
      "99\n"
     ]
    }
   ],
   "source": [
    "print(len(hundred_random_tweets_list))"
   ]
  },
  {
   "cell_type": "code",
   "execution_count": 37,
   "metadata": {},
   "outputs": [],
   "source": [
    "new_random_tweets = analysis.random_tweet_selector(tweet_list, 100 - len(hundred_random_tweets_list), 123)"
   ]
  },
  {
   "cell_type": "code",
   "execution_count": 38,
   "metadata": {},
   "outputs": [],
   "source": [
    "# Write to file\n",
    "all_tweets = hundred_random_tweets_list + new_random_tweets\n",
    "with open('../../data/100_random_tweets_from_seed_users.json', 'w') as outfile:\n",
    "\tjson.dump(all_tweets, outfile)"
   ]
  }
 ],
 "metadata": {
  "interpreter": {
   "hash": "5d259f8ea978a0011a9c41c85f38b722350957b00d06485c4eb037401ff597af"
  },
  "kernelspec": {
   "display_name": "Python 3.9.7 ('main')",
   "language": "python",
   "name": "python3"
  },
  "language_info": {
   "codemirror_mode": {
    "name": "ipython",
    "version": 3
   },
   "file_extension": ".py",
   "mimetype": "text/x-python",
   "name": "python",
   "nbconvert_exporter": "python",
   "pygments_lexer": "ipython3",
   "version": "3.9.7"
  },
  "orig_nbformat": 4
 },
 "nbformat": 4,
 "nbformat_minor": 2
}
