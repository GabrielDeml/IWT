{
 "cells": [
  {
   "cell_type": "code",
   "execution_count": 2,
   "metadata": {},
   "outputs": [],
   "source": [
    "import json\n",
    "import matplotlib.pyplot as plt\n",
    "from wordcloud import WordCloud\n",
    "import os\n",
    "import requests\n",
    "import operator"
   ]
  },
  {
   "cell_type": "code",
   "execution_count": 3,
   "metadata": {},
   "outputs": [],
   "source": [
    "bad_user_tweets_analysis_json = {}"
   ]
  },
  {
   "cell_type": "code",
   "execution_count": 1,
   "metadata": {},
   "outputs": [],
   "source": [
    "# Json path\n",
    "json_path = '../../data/bad_user_tweets.json'"
   ]
  },
  {
   "cell_type": "code",
   "execution_count": 5,
   "metadata": {},
   "outputs": [],
   "source": [
    "# Open json file\n",
    "bad_user_tweets_file = open(json_path, 'r')\n",
    "# Load json file\n",
    "bad_user_tweets = json.load(bad_user_tweets_file)"
   ]
  },
  {
   "cell_type": "code",
   "execution_count": 7,
   "metadata": {},
   "outputs": [
    {
     "name": "stdout",
     "output_type": "stream",
     "text": [
      "Number of bad tweets:  66\n"
     ]
    }
   ],
   "source": [
    "print(\"Number of bad tweets: \", len(bad_user_tweets['IWTSeller']))"
   ]
  },
  {
   "cell_type": "code",
   "execution_count": 8,
   "metadata": {},
   "outputs": [],
   "source": [
    "number_of_bad_tweets_per_user = {}\n",
    "for tweet in bad_user_tweets['IWTSeller']:\n",
    "\tuser_id = tweet['user']\n",
    "\t# Check if user id in in the number_of_bad_tweets_per_user dictionary\n",
    "\tif user_id in number_of_bad_tweets_per_user:\n",
    "\t\t# If user id is in the dictionary, increment the value\n",
    "\t\tnumber_of_bad_tweets_per_user[user_id] += 1\n",
    "\telse:\n",
    "\t\t# If user id is not in the dictionary, add it with value 1\n",
    "\t\tnumber_of_bad_tweets_per_user[user_id] = 1\n",
    "\t"
   ]
  },
  {
   "cell_type": "code",
   "execution_count": 9,
   "metadata": {},
   "outputs": [
    {
     "name": "stdout",
     "output_type": "stream",
     "text": [
      "Number of bad tweets per user:  {'47297687': 64, '717712395112751104': 2}\n"
     ]
    }
   ],
   "source": [
    "print(\"Number of bad tweets per user: \", number_of_bad_tweets_per_user)"
   ]
  },
  {
   "cell_type": "code",
   "execution_count": 16,
   "metadata": {},
   "outputs": [
    {
     "name": "stdout",
     "output_type": "stream",
     "text": [
      "{'user': '47297687', 'tweet': 'Mammoth Ivory Carvings Figurine of Japanese Samurai\\n\\nLook at this mighty yet robust creation of Japanese Samurai Figurines on a Wooden platform precisely sculpted with original mammoth ivory.\\n\\nhttps://t.co/kbjbZ65Mrf https://t.co/xRZQLBdzDZ', 'id': '1218189939214573568'}\n",
      "{'user': '47297687', 'tweet': 'Mammoth Ivory Netsuke – 12 zodiac animals set – Round Stand\\n\\nThis is a very high quality mammoth ivory carving netsukes of 12 Chinese Zodiac animals Set!\\n\\nCheck the link: https://t.co/sjc9zvWslb https://t.co/ZhIyx7QkOm', 'id': '1217409087597662208'}\n",
      "{'user': '47297687', 'tweet': 'Mammoth Ivory Masterpiece Netsuke – Father &amp; Son with a Fish\\nThe relationship between father and son is a classic and timeless relationship worthy of artistic interpretation.\\n\\nhttps://t.co/6V9gHq54kk\\n\\n#masterpiece #sculpture #art https://t.co/NiJygsdnir', 'id': '1215217584943063041'}\n",
      "{'user': '47297687', 'tweet': 'Mammoth Ivory Figurine -The New archery samurai kneeling\\n\\nGenuine MAMMOTH IVORY FIGURINE portraying a Samurai kneeling down, about to shoot an arrow.\\n\\n#artcollector #ivory #sculptures\\n\\nhttps://t.co/796CozjBdi https://t.co/DHjrgjuRC3', 'id': '1213137430209089536'}\n",
      "{'user': '47297687', 'tweet': 'What A beautiful year it has been! We can only say thanks to all our customers!!\\nWishing you all a great evening with family and friends, and that 2020 may bring you good health and joy!\\n#IvoryAndArt #IvoryCarving #MammothIvory #legalivory #CarveIvory #netsuke #mammothIvoryTusk https://t.co/xIqt4ixKRe', 'id': '1212082335182721030'}\n",
      "{'user': '47297687', 'tweet': 'Really amazing piece of art look how the octopus surround the mermaid &amp; it’s looks little beat erotic that the octopus insert his limbs under the mermaid skirt inlay-ed with red gestones &amp; give her a good time.\\n\\nhttps://t.co/eXVzfQsxNY\\n\\n#sculpture #octopus #Mermaid #ivory https://t.co/Hemg4h8hrZ', 'id': '1199982172859445248'}\n",
      "{'user': '47297687', 'tweet': 'This outstanding Netsuke made of 100% genuine Mammoth ivory Tusk &amp; made out from the best grade of mammoth ivory tusk.\\n\\nhttps://t.co/ztDv1amJyU\\n\\n#monkeys #elephant #ivory #collection #tusk https://t.co/Y7RDHh2w4n', 'id': '1199230905153441793'}\n",
      "{'user': '47297687', 'tweet': 'As one of the four creatures of the world’s directions, the Dragon stands for new beginnings. The Dragon also has the power to release water to parched lands, and which in turn stands for abundance and relief. \\n\\nhttps://t.co/hR8LwRmRlQ\\n\\n#dragon #newbeginnings #ivory #mammothivory https://t.co/VpXb0CNgOe', 'id': '1198206678031835141'}\n",
      "{'user': '47297687', 'tweet': 'This is a very high quality mammoth ivory carving netsuke A Listening To Music. This netsuke is carved out of genuine pure Mammoth ivory!\\n\\nhttps://t.co/uMLqKYYlWH\\n\\n#netsuke #sculpture #ivory #mammothivory https://t.co/xAA8qinrWk', 'id': '1197821878569701376'}\n",
      "{'user': '47297687', 'tweet': 'Museum quality Mammoth ivory Netsuke of Samurai Carrying Bag On His Shoulder. Where are the Samurai going to with his bag hanging on his shoulders, two swords in his belt &amp; a some kid of letter on his right hand.\\n\\nhttps://t.co/PGMcF7iOaD\\n\\n#netsuke #ivory #mammothivory #art https://t.co/PZlaxwK46L', 'id': '1197089880620359681'}\n",
      "{'user': '47297687', 'tweet': 'Museum quality – Mammoth Ivory Netsuke – Three Monkeys In Boat \\n\\nThis outstanding Netsuke is a proud member of our MASTER Pieces Netsukes collection, hand carved by Master Carver.\\n\\nhttps://t.co/PrkBIXjf2d\\n\\n#art #mammothivory #ivory #monkeys #netsuke #artworks #sculpture https://t.co/3sajULDh5D', 'id': '1196735602466721792'}\n",
      "{'user': '47297687', 'tweet': 'Museum quality Mammoth ivory Netsuke of – 5 Mice And Mask Head. Amazing art creation on the tiny Mammoth Ivory Tusk scrap.\\nJust imagine that this scene is carved on piece that smaller than a lighter.\\n\\nhttps://t.co/TNGsHrrM2Y\\n\\n#sculpture #ivoryart #ivory #carving #mammothivory https://t.co/UkQK9Hpi3L', 'id': '1196372820537872385'}\n",
      "{'user': '47297687', 'tweet': 'Mammoth Ivory Netsuke – TWIN OWLS\\n\\nThis outstanding Netsuke made of 100% genuine Mammoth ivory Tusk &amp; made out from the best grade of mammoth ivory tusk.\\n\\nhttps://t.co/MD3rNErh85\\n\\n#sculpture #ivory #mammothivory #art #workart #netsuke #carving https://t.co/I6rWq2c5Do', 'id': '1196035061050740736'}\n",
      "{'user': '47297687', 'tweet': 'Mammoth Ivory Jewelry – Dragon Ring\\n\\nThis hand made Mammoth Ivory Jewelry was hand made by top artist.\\n\\nhttps://t.co/PZs9nG5PFe\\n\\n#dragon #ivory #mammothivory #art #jewelry #masterpiece https://t.co/lPhBVwhCyp', 'id': '1195727586535596033'}\n",
      "{'user': '47297687', 'tweet': 'An extremely amazing Mammoth ivory Netsuke of the Seven Lucky gods(Or Japans’ Seven Gods of Fortune) in a bottle Guard.\\n\\nhttps://t.co/7QlCjYMip1\\n\\n#handmade #ivory #sculpture #carving #tusk #art https://t.co/ZeWJlegEx5', 'id': '1194913507013201920'}\n",
      "{'user': '47297687', 'tweet': 'Mammoth Ivory Netsuke – On The Bridge\\n\\nThis is Mammoth Ivory Netsuke of Bridge Scene Breathtakingly beautiful with bold, defined strokes, capturing the expression of the Japanese people that are on the bridge.\\nhttps://t.co/cvOPjKxpgM\\n\\n#ivory #sculpture #mammothivory #netsuke #art https://t.co/tcTkBc1umV', 'id': '1194552845951000577'}\n",
      "{'user': '47297687', 'tweet': 'Legal Mammoth Ivory Carvings – Fishing on a Boat in The sea\\n\\nThis beautiful piece of mammoth ivory has been carved as a fishing scene.\\n\\n#ivory #mammothivory #fishing #sculpture #masterpiece #Passion #artwork https://t.co/7y57gs4DVE', 'id': '1193822648591114241'}\n",
      "{'user': '47297687', 'tweet': 'Mammoth Ivory Netsuke – Lohan Riding Dragon\\n\\nThis pattern is known in Shaolin Kungfu as “Lohan Riding Dragon” (“Lor Hon Kea Loong”). You can then strike him on his head or chest.\\n\\nhttps://t.co/5IEtBWEyuB\\n#netsuke #mammoth #mammothivory #ivory #art #artcreation #dragon #asia https://t.co/W38TmLO91q', 'id': '1193519795368611841'}\n",
      "{'user': '47297687', 'tweet': 'Mammoth Ivory Figurine – Two Japanese Geishas\\nThis is a very high quality mammoth ivory carving of two half naked Japanese Geishas\\nThis Erotic Figurine is Hand carved by Master Carver to perfection.\\n\\nhttps://t.co/5xDKeyiW2e\\n\\n#geisha #art #mammoth #mammothivory #erotic https://t.co/Wbe5ZaimF7', 'id': '1193128013032050688'}\n",
      "{'user': '47297687', 'tweet': 'Antique Legal Mammoth Ivory Carving of Fukurokuju\\n\\nOne of the prominent seven Lucky Gods, #fukurokuju is omnipresent in Japanese mythology. Handcrafted by #mastercarver.\\n\\nhttps://t.co/Z18Ws9PdO8\\n\\n#mammoth #mammothivory #ivory #carving #japanesegod #sculpture #art  #collection https://t.co/Yc4xKhcixt', 'id': '1192728465079971842'}\n",
      "{'user': '47297687', 'tweet': 'Mammoth Ivory Netsuke – The Sculpture\\n\\nThis outstanding #netsuke is a proud member of our MASTER Pieces Netsukes collection. \\n#handcarved by Master Carver. \\n\\nhttps://t.co/EACXqylqc5\\n\\n#mammoth #mammothivory #ivory #sculpture #netsukemastercollection\\n#netsuke_art #art #collection https://t.co/jdpPjSQYi5', 'id': '1192036275110502400'}\n",
      "{'user': '47297687', 'tweet': 'Amazing Mammoth Ivory Carving Of Birds On A Flower\\n\\nThis exquisite sculpture is of a bird perking a leaf. \\n\\nhttps://t.co/HGqzT0ZfIj\\n\\n#mammoth #mammothivory #ivory #mammothivorytusk\\n#bird #birdsivorycarvingivory #passion #art #beautiful #nature #legalmammothivory #masterpiece https://t.co/EKrZmCjMTl', 'id': '1191674636775428097'}\n",
      "{'user': '47297687', 'tweet': 'Mammoth Ivory Tusk- The Bears\\n\\nTranquil, peaceful, beautiful and utterly unique are all words that describe this mammoth ivory tusk carving. \\n\\nhttps://t.co/6YPg0Cwo9Z\\n\\n#animal #bears #legalmammothivory #MammothivoryTusk #tusk https://t.co/X8kq78cfZ9', 'id': '1191337579477655552'}\n",
      "{'user': '47297687', 'tweet': 'Mammoth Ivory Masterpiece – Three Cats in A basket https://t.co/4VR90H1S05', 'id': '1158727662526853121'}\n",
      "{'user': '47297687', 'tweet': 'Samurai With Sword Up- Mammoth Ivory Masterpiece\\n\\nProduct: https://t.co/GuoamRdbLA https://t.co/dVIAVVdp80', 'id': '1155158483450208256'}\n",
      "{'user': '47297687', 'tweet': 'Mammoth Ivory Masterpiece Netsuke – Tiger &amp; a Crab\\n\\nLink: https://t.co/G7zaX2mQL4\\n\\n#Ivoryandart #art #sculpture #sculptures #homedecor #homedecoration #summersale #summersales https://t.co/ezHI9QRPcz', 'id': '1154648332087652352'}\n",
      "{'user': '47297687', 'tweet': 'Meissen Porcelain Figurine The Drummer From Meissen Monkey Band \\n\\nOffer Link: https://t.co/osAomWVSQB\\n\\n#Mammoth #ivory #warriors #tusk #qiang #Ivoryandart #art #sculpture #sculptures #homedecor #homedecoration #summersale #summersales https://t.co/HmzVGt90tb', 'id': '1154089510566711296'}\n",
      "{'user': '47297687', 'tweet': 'This Figurine is made of 100% genuine Mammoth Ivory Tusk. The extinct woolly Mammoth roamed the earth before 10,000-40,000 years ago. Today we can found Mammoth ivory tusk in the arctic regions like Siberia in Russia.\\nMore Details: https://t.co/yr4hZGPC3t\\n#virgin #malaysianhair https://t.co/4GP6x0mCou', 'id': '1147758922834464768'}\n",
      "{'user': '47297687', 'tweet': 'Mammoth Ivory Figurine – Saint Joseph Holding Baby Jesus\\n\\nSpecial Offer: https://t.co/HWcHmTxJen\\n\\n#saint #catholicism #catholic #christianity #joseph #dun #jenna #josh #tyler #jishwa #jennajoseph #tyjo #skeletonclique #clique #joshuadun #regionalatbest #joshler #blurryface https://t.co/eENdPe11Pp', 'id': '1147529401757601793'}\n",
      "{'user': '47297687', 'tweet': 'Legal Mammoth Ivory Tusk Carving of 3 Lucky Gods\\n\\nSpecial Offer: https://t.co/T3XEgMo6Ur\\n\\n#Mammoth #ivory #warriors #tusk #qiang #Ivoryandart #art #sculpture #sculptures #homedecor #homedecoration #summersale #summersales https://t.co/cxoszfaSgV', 'id': '1147197190940397568'}\n",
      "{'user': '47297687', 'tweet': 'Sculpture of Man With Baskets in Mammoth Ivory\\n\\nOffer Link: https://t.co/H9QGNsWm0P\\n\\n#Ivoryandart #art #sculpture #sculptures #homedecor #homedecoration #summersale #summersales https://t.co/hptAXBW1wm', 'id': '1147073119854579712'}\n",
      "{'user': '47297687', 'tweet': 'Legal Mammoth Ivory Carving of Fisherman\\n\\nSpecial Offer Link: https://t.co/dvsgIhAlPK\\n\\n#Ivoryandart #art #sculpture #sculptures #homedecor #homedecoration #summersale #summersale https://t.co/fC5DCs9Zpf', 'id': '1146821161117863936'}\n",
      "{'user': '47297687', 'tweet': 'Legal Mammoth Ivory Carving of Fisherman\\n\\nSpecial Offer Link: https://t.co/dvsgIhAlPK\\n\\n#Ivoryandart #art #sculpture #sculptures #homedecor #homedecoration #summersale #summersale https://t.co/fC5DCs9Zpf', 'id': '1146821161117863936'}\n",
      "{'user': '47297687', 'tweet': 'Legal Mammoth Ivory Carving of Fisherman\\n\\nSpecial Offer Link: https://t.co/dvsgIhAlPK\\n\\n#Ivoryandart #art #sculpture #sculptures #homedecor #homedecoration #summersale #summersale https://t.co/fC5DCs9Zpf', 'id': '1146821161117863936'}\n",
      "{'user': '47297687', 'tweet': 'Dragon Sculpture in Mammoth Ivory\\n\\nSpecial Offer Link: https://t.co/zIAXVIJ7xY\\n\\n #Mammoth #ivory #warriors #tusk #qiang #Ivoryandart #art #sculpture #sculptures #homedecor #homedecoration #summersale #summersales https://t.co/8N6K7WqC7h', 'id': '1146720815460671488'}\n",
      "{'user': '47297687', 'tweet': 'Mammoth Ivory Netsuke – Monkey Sitting on Horse Back\\n\\nSpecial Offer Link: https://t.co/grYbTWydvC\\n.\\n.\\n.\\n #antique #netsuke #antiquenetsuke #ivorynetsuke #antiqueivory #hare #netsukeivory #ivoryhare #japanantique #石川 #Ishikawa #meijiperiod #meijinetsuke #theharewithambereyes https://t.co/jAtMDqmv7g', 'id': '1146347536967299073'}\n",
      "{'user': '47297687', 'tweet': 'Each of us is carving a stone, erecting a column, or cutting a piece of stained glass in the construction of something much bigger than ourselves.\\nBuy And Get Offer: https://t.co/m5mBcsk2zZ\\n\\n#ivoryandart #decor #homedecor #interior #house #decoration #homesweethome #homedesign https://t.co/7O0zXAkdZq', 'id': '1146106251719278593'}\n",
      "{'user': '47297687', 'tweet': 'Fisherman With Boy Sculpted in Mammoth Ivory\\n\\nBuy this wonderful #Sculpture @ https://t.co/GjgmQcoRs0\\n\\n#Ivoryandart #art #sculpture #sculptures #homedecor #homedecoration #summersale #summersales https://t.co/01cOQ4Gb2C', 'id': '1134374712329420800'}\n",
      "{'user': '47297687', 'tweet': 'Sculpture of Man With Baskets in Mammoth Ivory\\n\\nBuy this wonderful #Sculpture @ https://t.co/kpFRKIfIxH…/\\n\\n#Ivoryandart #art #sculpture #sculptures #homedecor #homedecoration #summersale #summersales https://t.co/W1HJgJIb2r', 'id': '1133791716316573697'}\n",
      "{'user': '47297687', 'tweet': '19th Century Meissen Figurine of Cupid Sewing Broken Heart\\n\\nBuy this wonderful #MeissenPorcelainSculpture @ https://t.co/exTLwbWIpV\\n\\n#Ivoryandart #art #sculpture #sculptures #homedecor #homedecoration #summersale #summersales https://t.co/EsnxOSUiyb', 'id': '1132998011385069568'}\n",
      "{'user': '47297687', 'tweet': 'You can buy this splendid and graceful Carving of Seven Lucky Gods on a wooden plank by authentic Mammoth Ivory.\\n\\nNew Year Sale Upto 20% Off\\nBuy Now @ https://t.co/GSZZkyFP9r\\n\\n#MammothIvorySculpture #MammothIvory #IvoryAndArt #NewYearSale #HolidayShopping https://t.co/5zudPgUDLU', 'id': '1084151641060851712'}\n",
      "{'user': '47297687', 'tweet': 'You can buy this enchanting and enthralling Masterpiece Carving of A Pig on a wooden plank by authentic Mammoth Ivory.\\n\\nNew Year Sale Upto 20% Off\\nBuy Now @ https://t.co/IGVpb5BQlQ\\n\\n#MammothIvorySculpture #MammothIvory #IvoryAndArt #NewYearSale #HolidayShopping https://t.co/7FWpOZ0Nku', 'id': '1083444881173999617'}\n",
      "{'user': '47297687', 'tweet': 'Look at this fascinating and enchanting work Padmapani Buddha Statue carefully sculpted with original mammoth ivory.\\n\\nNew Year Sale Upto 20% Off\\nBuy Now @ https://t.co/1M3oR60OSn\\n\\n#MammothIvorySculpture #MammothIvory #IvoryAndArt #NewYearSale #HolidayShopping https://t.co/wwqLfDklJl', 'id': '1082688387595845633'}\n",
      "{'user': '47297687', 'tweet': 'Look at this exotic yet outlandish work of\\xa0Geisa carefully sculpted with original mammoth ivory.\\n\\nNew Year Sale Upto 20% Off\\nBuy Now @ https://t.co/aMzLfIXWVd\\n\\n#MammothIvorySculpture #MammothIvory #IvoryAndArt #NewYearSale #HolidayShopping https://t.co/Rm2HheepXE', 'id': '1082322722707914752'}\n",
      "{'user': '47297687', 'tweet': 'Look at this mighty yet robust creation of Japanese Samurai Figurines precisely sculpted with original mammoth ivory.\\n\\nNew Year Sale Upto 20% Off\\nBuy Now @ https://t.co/1EVQ1cBy7H\\n\\n#MammothIvorySculpture #MammothIvory #IvoryAndArt #NewYearSale #HolidayShopping https://t.co/zPrhnsiwYY', 'id': '1081606962641481728'}\n",
      "{'user': '47297687', 'tweet': 'Look at this illustrious yet overwhelming creation of these Mythical Figurines of Eight Deities sculpted with original mammoth ivory.\\n\\nNew Year Sale Upto 20% Off\\nBuy Now @ https://t.co/fIhMt40Tgk\\n\\n#MammothIvorySculpture #MammothIvory #IvoryAndArt #NewYearSale #HolidayShopping https://t.co/Kzt0d2Hw6g', 'id': '1080855530158112768'}\n",
      "{'user': '47297687', 'tweet': 'Look at this intricate yet delicate creation of a Traditional Chinese Village with all Antique Idols with original mammoth ivory.\\n\\nNew Year Sale Upto 20% Off\\nBuy Now @ https://t.co/JrPvPyVgh5\\n\\n#MammothIvorySculpture #MammothIvory #IvoryAndArt #NewYearSale #HolidayShopping https://t.co/Jy0cwIKeDY', 'id': '1080497172033007616'}\n",
      "{'user': '47297687', 'tweet': 'You can purchase this stunning, nonetheless distinctive work of meditating seated Buddha fastidiously carved with mammoth ivory. \\n\\nNew Year Sale Upto 20% Off\\nBuy Now @ https://t.co/CTmYFHKTID\\n\\n#MammothIvorySculpture #MammothIvory #IvoryAndArt #NewYearSale #HolidayShopping https://t.co/kGi8biZcjD', 'id': '1079697107739725825'}\n",
      "{'user': '47297687', 'tweet': 'You can buy this wonderful, yet exquisite work of Crane and Deer  on a wooden plank carefully sculpted with original mammoth ivory.\\n\\nNew Year Sale Upto 20% Off\\nBuy Now @ https://t.co/SgqY9Pk14C\\n\\n#MammothIvorySculpture #MammothIvory #IvoryAndArt #NewYearSale #HolidayShopping https://t.co/qtcwcuY7nn', 'id': '1079415638656016384'}\n",
      "{'user': '47297687', 'tweet': 'You can buy this wonderful, yet unique work of A Chinese Old Man Holding Chinese Bayberry Fruit carefully sculpted with mammoth ivory.\\n\\nNew Year Sale Upto 20% Off\\nBuy Now @ https://t.co/PveaN4TCms\\n\\n#MammothIvorySculpture #MammothIvory #IvoryAndArt #NewYearSale #HolidayShopping https://t.co/zjZVGlJ8u1', 'id': '1079063683349778432'}\n",
      "{'user': '47297687', 'tweet': 'Look at this excellent, exquisite work of Bonsai tree with duck twins on a picket plank fastidiously carved with mammoth ivory.\\n\\nNew Year Sale Upto 20% Off\\nBuy Now @ https://t.co/mKD3R8Zd0V\\n\\n#MammothIvorySculpture #MammothIvory #IvoryAndArt #NewYearSale #HolidayShopping https://t.co/NNIeobQv62', 'id': '1078673018505887744'}\n",
      "{'user': '47297687', 'tweet': 'You can buy this gorgeous, yet exotic work of Two Rabbits eating carrot on a wooden plank carefully sculpted with original mammoth ivory.\\n\\nNew Year Sale Upto 20% Off\\nBuy Now @ https://t.co/DSHLEvgL20\\n\\n#MammothIvorySculpture #MammothIvory #IvoryAndArt #NewYearSale #HolidayShopping https://t.co/1WWoiKa6PC', 'id': '1078243338594238464'}\n",
      "{'user': '47297687', 'tweet': 'You can obtain this glorious carving of Laughing\\xa0Buddha twiddling with 2 kids rigorously carven with original mammoth ivory.\\n\\nNew Year Sale Upto 20% Off\\nBuy Now @ https://t.co/xH5OYkJMLX\\n\\n#MammothIvorySculpture #MammothIvory #IvoryAndArt #NewYearSale #HolidayShopping https://t.co/omGnz32w9J', 'id': '1077966276696436736'}\n",
      "{'user': '47297687', 'tweet': 'You can buy this antique carving of Lions And Rhino handcrafted statue produced using with the finest Mammoth Ivory.\\n\\nChristmas Sale Upto 20% Off\\nBuy Now @ https://t.co/5ax03qrgyd\\n\\n#MammothIvorySculpture #MammothIvory #IvoryAndArt #ChristmasSale #HolidayShopping https://t.co/qe9dcC3sqo', 'id': '1077086756384718848'}\n",
      "{'user': '47297687', 'tweet': 'You can buy this explicit carving of\\xa0Laughing Buddha Holding a Wealth Ball in his hand carefully sculpted with original mammoth ivory.\\n\\nChristmas Sale Upto 20% Off\\nBuy Now @ https://t.co/wORnEsqF0c\\n\\n#MammothIvorySculpture #MammothIvory #IvoryAndArt #ChristmasSale #HolidayShopping https://t.co/x6B9tlx7YO', 'id': '1076867922121949184'}\n",
      "{'user': '47297687', 'tweet': 'You can buy this gorgeous carving of elephant herd roaming in the jungle carefully sculpted with original mammoth ivory.\\n\\nChristmas Sale Upto 20% Off\\nBuy Now @ https://t.co/9sS0B0SJ6O\\n\\n#MammothIvorySculpture #MammothIvory #IvoryAndArt #ChristmasSale #HolidayShopping https://t.co/QAd2qkuZSJ', 'id': '1076435336341962752'}\n",
      "{'user': '47297687', 'tweet': 'You can buy this beautiful work of\\xa0The Dragon And Phoenix on a wooden plank carefully sculpted with original mammoth ivory.\\n\\nChristmas Sale Upto 20% Off\\nBuy Now @ https://t.co/PsiAmFMD9n\\n\\n#MammothIvorySculpture #MammothIvory #IvoryAndArt #ChristmasSale #HolidayShopping https://t.co/BHRyH5aYyO', 'id': '1075997079846105093'}\n",
      "{'user': '47297687', 'tweet': 'You can buy this beautiful work of Lion King Sitting on his den on a wooden plank carefully sculpted with original mammoth ivory.\\n\\nChristmas Sale Upto 20% Off\\nBuy Now @ https://t.co/4fpC65tR5l\\n\\n#MammothIvorySculpture #MammothIvory #IvoryAndArt #ChristmasSale #HolidayShopping https://t.co/MRfDlQOcAe', 'id': '1075700602485776385'}\n",
      "{'user': '47297687', 'tweet': 'You can buy this stunning as well as a magnificent statue that features an eagle perched on rock above canyon made of mammoth ivory.\\n\\nChristmas Sale Upto 20% Off\\nBuy Now @ https://t.co/6uBgzo3Zil\\n\\n#MammothIvorySculpture #MammothIvory #IvoryAndArt #ChristmasSale #HolidayShopping https://t.co/Z0wDXcgG5h', 'id': '1074553699274502144'}\n",
      "{'user': '47297687', 'tweet': 'You can buy this 11 faced and 46 hand idol of Lord Shiva carefully sculpted with original mammoth ivory. \\n\\nChristmas Sale Upto 20% Off\\nBuy Now @ https://t.co/6NwP7CCIcC\\n\\n#MammothIvorySculpture #MammothIvory #IvoryAndArt #ChristmasSale #HolidayShopping https://t.co/X3Mn13xufu', 'id': '1074289144619298816'}\n",
      "{'user': '47297687', 'tweet': 'You can buy this wonderful Chinese Philosopher Confucius Figurine holding a sword carefully sculpted with mammoth ivory.\\n\\nChristmas Sale Upto 20% Off\\nBuy Now @ https://t.co/sw0hS8Afud\\n\\n#MammothIvorySculpture #MammothIvory #IvoryAndArt #IvoryAndArt #christmassale #HolidayShopping https://t.co/o5mrfvq0vI', 'id': '1073474756672778240'}\n",
      "{'user': '47297687', 'tweet': 'You can buy this exclusive work of Chinese Rich Man Holding a Coin Carving on Mammoth Ivory\\n\\nChristmas Sale Upto 20% Off\\nBuy Now @ https://t.co/gf7OIb1ACO\\n\\n#MammothIvorySculpture #MammothIvory #IvoryAndArt #IvoryAndArt #christmassale #HolidayShopping https://t.co/PPaTlCrYX9', 'id': '1073046666377379840'}\n",
      "{'user': '47297687', 'tweet': 'You can buy this wonderful, yet unique work of Two Squirrels Playing with each other.\\n\\nChristmas Sale Upto 20% Off\\nBuy Now @ https://t.co/LH5rHArDzi\\n\\n#MammothIvorySculpture #MammothIvory #IvoryAndArt #IvoryAndArt #christmassale #HolidayShopping', 'id': '1072417397833940994'}\n",
      "{'user': '47297687', 'tweet': 'You can buy this beautiful, yet unique work of Meditating Seated Buddha carefully sculpted with original mammoth ivory.\\n\\nChristmas Sale Upto 20% Off\\nBuy Now @ https://t.co/8gjUImREOA\\n\\n#MammothIvorySculpture #MammothIvory #IvoryAndArt #IvoryAndArt #christmassale #HolidayShopping https://t.co/nvyfzOXNIk', 'id': '1072036116474150913'}\n",
      "{'user': '717712395112751104', 'tweet': 'A pair of #ivory africans sculptures, #France 70s\\n#vintage #modern #vintageshop #deco #decoration #ElRastro #Madrid #style #instadecor #instaantiques #interior #design #inspiration #interiors #homedecor #antiquesdealersofinstagram #antiqueshop #art https://t.co/dBV4H1dboW', 'id': '1146388306814484480'}\n",
      "{'user': '717712395112751104', 'tweet': 'A set of #ivory africans heads.\\n#vintage #modern #vintageshop #deco #decoration #ElRastro #Madrid #style #instadecor #instaantiques #interior #design #inspiration #interiors #homedecor #antiquesdealersofinstagram #antiqueshop #art https://t.co/C8iAdRPIZm', 'id': '1144213949191270400'}\n"
     ]
    }
   ],
   "source": [
    "search_words = [\"trophy\", \"skin\"\n",
    "                \"fur\",\n",
    "                \"dragon\",\n",
    "                \"pelt\",\n",
    "                \"tusk\",\n",
    "                \"ivory\",\n",
    "                \"scale\",\n",
    "                \"taxidermy\",\n",
    "                \"rug\",\n",
    "                \"hide\",\n",
    "                \"bone\",\n",
    "                \"meat\",\n",
    "                \"delicacy\",\n",
    "                \"medicine\",\n",
    "                \"live\",\n",
    "                \"pangolin\",\n",
    "                \"leopard\",\n",
    "                \"rhino\",\n",
    "                \"sungazer\",\n",
    "                \"lizard\",\n",
    "                \"crocodile\",\n",
    "                \"alligator\",\n",
    "                \"parrot\",\n",
    "                \"snake\",\n",
    "                \"python\",\n",
    "                \"yellow material\",\n",
    "                \"white plastic\",\n",
    "                \"jelly\",\n",
    "                \"aloo\",\n",
    "                \"kola\",\n",
    "                \"australian teddy bear\",\n",
    "                \"stripped t-shirt\",\n",
    "                \"four wheeler\",\n",
    "                \"antique\",\n",
    "                \"mammoth\",\n",
    "                \"carved\",\n",
    "                \"sale\",\n",
    "                \"selling\",\n",
    "                \"price\",\n",
    "                \"xiangya\",\n",
    "                \"african material\",\n",
    "                \"ANTEBELLUMELEG1\"]\n",
    "suspicious_tweets_word_list = []\n",
    "tweets_with_search_words = []\n",
    "suspicious_tweets_word_count = {}\n",
    "suspicious_tweet_count = 0\n",
    "total_tweets_count = 0\n",
    "followers = 0\n",
    "for word in search_words:\n",
    "    suspicious_tweets_word_count[word] = 0\n",
    "\n",
    "\n",
    "for tweet in bad_user_tweets['IWTSeller']:\n",
    "    print(tweet)\n",
    "    try:\n",
    "        tweet_text = tweet['tweet']\n",
    "        tweet_id = tweet['id']\n",
    "        tweet_suspicious = False\n",
    "        bad_tweet = {}\n",
    "        total_tweets_count += 1\n",
    "        for search_word in search_words:\n",
    "            if search_word in tweet_text.lower():\n",
    "                # print(tweet_text)\n",
    "\n",
    "                \n",
    "                bad_tweet['user'] = tweet['user']\n",
    "                bad_tweet['tweet'] = tweet_text\n",
    "                bad_tweet['id'] = tweet_id\n",
    "                \n",
    "                if tweet_suspicious == False:\n",
    "                    bad_tweet['suspicious_word'] = [search_word]\n",
    "                    suspicious_tweets_word_list.append([search_word])\n",
    "                    suspicious_tweet_count += 1\n",
    "                else:\n",
    "                    suspicious_tweets_word_list[-1].append(search_word)\n",
    "                    bad_tweet['suspicious_word'].append(search_word)\n",
    "                tweet_suspicious = True\n",
    "                suspicious_tweets_word_count[search_word] += 1\n",
    "        # If bad tweet is not empty\n",
    "        if len(bad_tweet) > 0:\n",
    "            tweets_with_search_words.append(bad_tweet)\n",
    "    except:\n",
    "        pass\n",
    "    #     # Print the error\n"
   ]
  },
  {
   "cell_type": "code",
   "execution_count": 17,
   "metadata": {},
   "outputs": [
    {
     "name": "stdout",
     "output_type": "stream",
     "text": [
      "Suspicious tweet count:  66\n",
      "Total tweets:  66\n",
      "Percentage of suspicious tweets:  100.0\n"
     ]
    }
   ],
   "source": [
    "print(\"Suspicious tweet count: \", suspicious_tweet_count)\n",
    "# print(\"Total followers: \", followers)\n",
    "print(\"Total tweets: \", total_tweets_count)\n",
    "# print(\"Average tweets per follower: \", total_tweets_count/followers)\n",
    "print(\"Percentage of suspicious tweets: \", (suspicious_tweet_count/total_tweets_count)*100)"
   ]
  },
  {
   "cell_type": "code",
   "execution_count": 18,
   "metadata": {},
   "outputs": [
    {
     "data": {
      "image/png": "[encoded data removed]",
      "text/plain": [
       "<Figure size 720x720 with 1 Axes>"
      ]
     },
     "metadata": {
      "needs_background": "light"
     },
     "output_type": "display_data"
    }
   ],
   "source": [
    "# Sort suspicious_tweets_word_count\n",
    "suspicious_tweets_word_count_sorted = sorted(suspicious_tweets_word_count.items(), key=operator.itemgetter(1), reverse=True)\n",
    "# Remove the items with 0 count\n",
    "suspicious_tweets_word_count_sorted = [x for x in suspicious_tweets_word_count_sorted if x[1] > 0]\n",
    "# Make a chart of suspicious_tweets_word_count_sorted with names of the search words in bar\n",
    "# Make the chart wider\n",
    "plt.figure(figsize=(10,10))\n",
    "plt.bar(range(len(suspicious_tweets_word_count_sorted)), [x[1] for x in suspicious_tweets_word_count_sorted], align='center')\n",
    "plt.xticks(range(len(suspicious_tweets_word_count_sorted)), [x[0] for x in suspicious_tweets_word_count_sorted], rotation=90)\n",
    "plt.title(\"Suspicious tweets from followers timeline\")\n",
    "plt.show()"
   ]
  }
 ],
 "metadata": {
  "interpreter": {
   "hash": "31f2aee4e71d21fbe5cf8b01ff0e069b9275f58929596ceb00d14d90e3e16cd6"
  },
  "kernelspec": {
   "display_name": "Python 3.7.3 64-bit",
   "language": "python",
   "name": "python3"
  },
  "language_info": {
   "codemirror_mode": {
    "name": "ipython",
    "version": 3
   },
   "file_extension": ".py",
   "mimetype": "text/x-python",
   "name": "python",
   "nbconvert_exporter": "python",
   "pygments_lexer": "ipython3",
   "version": "3.9.7"
  },
  "orig_nbformat": 4
 },
 "nbformat": 4,
 "nbformat_minor": 2
}
