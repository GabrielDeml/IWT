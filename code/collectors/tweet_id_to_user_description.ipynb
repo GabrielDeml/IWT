{
 "cells": [
  {
   "cell_type": "code",
   "execution_count": 1,
   "metadata": {},
   "outputs": [],
   "source": [
    "import sys\n",
    "sys.path.append('../../lib/')"
   ]
  },
  {
   "cell_type": "code",
   "execution_count": 2,
   "metadata": {},
   "outputs": [],
   "source": [
    "from analysis import *\n",
    "import json\n",
    "import requests\n",
    "import time\n",
    "import shutil"
   ]
  },
  {
   "cell_type": "code",
   "execution_count": 3,
   "metadata": {},
   "outputs": [],
   "source": [
    "with open('../../key.json') as f:\n",
    "\tkey = json.load(f)\n",
    "\tbearer_token = key['BEARER_TOKEN']"
   ]
  },
  {
   "cell_type": "code",
   "execution_count": 5,
   "metadata": {},
   "outputs": [],
   "source": [
    "tweets_list_possable_bad = analysis.create_tweet_list_from_loaded_json(analysis.universal_data_loader(\"../../data/dataset/posable_bad_tweets.json\"))\n",
    "tweets_list_good = analysis.create_tweet_list_from_loaded_json(analysis.universal_data_loader(\"../../data/dataset/300_random_users_first_tweet.json\"))\n",
    "tweets_list_false_positives = analysis.create_tweet_list_from_loaded_json(analysis.universal_data_loader(\"../../data/dataset/false_postives_from_v3_ivory.json\"))\n",
    "seed_user_good_tweets = analysis.create_tweet_list_from_loaded_json(analysis.universal_data_loader(\"../../data/dataset/100_random_tweets_from_seed_users.json\"))\n",
    "\n",
    "tweets_list = tweets_list_possable_bad + tweets_list_good + tweets_list_false_positives + seed_user_good_tweets"
   ]
  },
  {
   "cell_type": "code",
   "execution_count": 35,
   "metadata": {},
   "outputs": [],
   "source": [
    "def get_tweet(tweet_id):\n",
    "\t# Create the url\n",
    "\turl = 'https://api.twitter.com/2/tweets/{}'.format(tweet_id) + '?expansions=attachments.media_keys,referenced_tweets.id.author_id&&media.fields=url&&tweet.fields=id&&user.fields=description'\n",
    "\t# Create request headers\n",
    "\theaders = {\n",
    "\t\t'authorization': 'Bearer ' + bearer_token,\n",
    "\t\t'user-agent': 'v2FilteredStreamPython',\n",
    "\t}\n",
    "\t# Make the request\n",
    "\tresponse = requests.get(url, headers=headers)\n",
    "\treturn response.json()"
   ]
  },
  {
   "cell_type": "code",
   "execution_count": 36,
   "metadata": {},
   "outputs": [],
   "source": [
    "tweets_with_user_ids = {}\n",
    "tweets_with_user_ids[\"tweets\"] = []\n",
    "# Go through each tweet\n",
    "for tweet in tweets_list:\n",
    "    try:\n",
    "        tweet_response = get_tweet(analysis.get_tweet_id(tweet))\n",
    "        if tweet_response['data']:\n",
    "            tweets_with_user_ids[\"tweets\"].append(tweet_response)\n",
    "    except:\n",
    "        print(analysis.get_tweet_text(tweet)) \n",
    "    time.sleep(2)\n",
    "    break"
   ]
  },
  {
   "cell_type": "code",
   "execution_count": 32,
   "metadata": {},
   "outputs": [],
   "source": [
    "with open('../../data/dataset/tweets_with_user_ids.json', 'w') as f:\n",
    "\tjson.dump(tweets_with_user_ids, f)"
   ]
  }
 ],
 "metadata": {
  "interpreter": {
   "hash": "5d259f8ea978a0011a9c41c85f38b722350957b00d06485c4eb037401ff597af"
  },
  "kernelspec": {
   "display_name": "Python 3.9.7 ('main')",
   "language": "python",
   "name": "python3"
  },
  "language_info": {
   "codemirror_mode": {
    "name": "ipython",
    "version": 3
   },
   "file_extension": ".py",
   "mimetype": "text/x-python",
   "name": "python",
   "nbconvert_exporter": "python",
   "pygments_lexer": "ipython3",
   "version": "3.9.7"
  },
  "orig_nbformat": 4
 },
 "nbformat": 4,
 "nbformat_minor": 2
}
