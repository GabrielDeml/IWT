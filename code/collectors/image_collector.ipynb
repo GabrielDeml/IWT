{
 "cells": [
  {
   "cell_type": "code",
   "execution_count": 1,
   "metadata": {},
   "outputs": [],
   "source": [
    "import sys\n",
    "sys.path.append('../../lib/')"
   ]
  },
  {
   "cell_type": "code",
   "execution_count": 2,
   "metadata": {},
   "outputs": [],
   "source": [
    "from analysis import *\n",
    "import json\n",
    "import requests\n",
    "import time\n",
    "import shutil"
   ]
  },
  {
   "cell_type": "code",
   "execution_count": 3,
   "metadata": {},
   "outputs": [],
   "source": [
    "with open('../../key.json') as f:\n",
    "\tkey = json.load(f)\n",
    "\tbearer_token = key['BEARER_TOKEN']"
   ]
  },
  {
   "cell_type": "code",
   "execution_count": 4,
   "metadata": {},
   "outputs": [],
   "source": [
    "tweets_list_possable_bad = analysis.create_tweet_list_from_loaded_json(analysis.universal_data_loader(\"../../data/dataset/posable_bad_tweets.json\"))\n",
    "tweets_list_good = analysis.create_tweet_list_from_loaded_json(analysis.universal_data_loader(\"../../data/dataset/300_random_users_first_tweet.json\"))\n",
    "tweets_list_false_positives = analysis.create_tweet_list_from_loaded_json(analysis.universal_data_loader(\"../../data/dataset/false_postives_from_v3_ivory.json\"))\n",
    "seed_user_good_tweets = analysis.create_tweet_list_from_loaded_json(analysis.universal_data_loader(\"../../data/dataset/100_random_tweets_from_seed_users.json\"))\n",
    "\n",
    "tweets_list = tweets_list_possable_bad + tweets_list_good + tweets_list_false_positives + seed_user_good_tweets"
   ]
  },
  {
   "cell_type": "code",
   "execution_count": 5,
   "metadata": {},
   "outputs": [
    {
     "name": "stdout",
     "output_type": "stream",
     "text": [
      "Number of bad tweets: 168\n",
      "Number of good tweets: 240\n",
      "Number of false positives: 131\n",
      "Number of seed user tweets: 100\n",
      "Number of tweets: 639\n"
     ]
    }
   ],
   "source": [
    "print(\"Number of bad tweets: \" + str(len(tweets_list_possable_bad)))\n",
    "print(\"Number of good tweets: \" + str(len(tweets_list_good)))\n",
    "print(\"Number of false positives: \" + str(len(tweets_list_false_positives)))\n",
    "print(\"Number of seed user tweets: \" + str(len(seed_user_good_tweets)))\n",
    "print(\"Number of tweets: \" + str(len(tweets_list)))"
   ]
  },
  {
   "cell_type": "code",
   "execution_count": 6,
   "metadata": {},
   "outputs": [],
   "source": [
    "# Check to make sure all the tweets are unique\n",
    "tweet_ids = {}\n",
    "for tweet in tweets_list:\n",
    "\tif analysis.get_tweet_id(tweet) in tweet_ids:\n",
    "\t\tprint(analysis.get_tweet_id(tweet))\n",
    "\t\ttweet_ids[analysis.get_tweet_id(tweet)] += 1\n",
    "\telse:\n",
    "\t\ttweet_ids[analysis.get_tweet_id(tweet)] = 1\n"
   ]
  },
  {
   "cell_type": "code",
   "execution_count": 7,
   "metadata": {},
   "outputs": [
    {
     "name": "stdout",
     "output_type": "stream",
     "text": [
      "639\n"
     ]
    }
   ],
   "source": [
    "print(len(tweets_list))"
   ]
  },
  {
   "cell_type": "code",
   "execution_count": 8,
   "metadata": {},
   "outputs": [],
   "source": [
    "# Get timeline\n",
    "def get_tweet(tweet_id):\n",
    "\t# Create the url\n",
    "\turl = 'https://api.twitter.com/2/tweets/{}'.format(tweet_id) + '?expansions=attachments.media_keys,referenced_tweets.id.author_id&&media.fields=url&&tweet.fields=id&&user.fields=description'\n",
    "\t# Create request headers\n",
    "\theaders = {\n",
    "\t\t'authorization': 'Bearer ' + bearer_token,\n",
    "\t\t'user-agent': 'v2FilteredStreamPython',\n",
    "\t}\n",
    "\t# Make the request\n",
    "\tresponse = requests.get(url, headers=headers)\n",
    "\treturn response.json()"
   ]
  },
  {
   "cell_type": "code",
   "execution_count": 11,
   "metadata": {},
   "outputs": [
    {
     "ename": "KeyboardInterrupt",
     "evalue": "",
     "output_type": "error",
     "traceback": [
      "\u001b[0;31m---------------------------------------------------------------------------\u001b[0m",
      "\u001b[0;31mKeyboardInterrupt\u001b[0m                         Traceback (most recent call last)",
      "\u001b[0;32m/tmp/ipykernel_28434/609764215.py\u001b[0m in \u001b[0;36m<module>\u001b[0;34m\u001b[0m\n\u001b[1;32m      9\u001b[0m     \u001b[0;32mexcept\u001b[0m\u001b[0;34m:\u001b[0m\u001b[0;34m\u001b[0m\u001b[0;34m\u001b[0m\u001b[0m\n\u001b[1;32m     10\u001b[0m         \u001b[0mprint\u001b[0m\u001b[0;34m(\u001b[0m\u001b[0manalysis\u001b[0m\u001b[0;34m.\u001b[0m\u001b[0mget_tweet_text\u001b[0m\u001b[0;34m(\u001b[0m\u001b[0mtweet\u001b[0m\u001b[0;34m)\u001b[0m\u001b[0;34m)\u001b[0m\u001b[0;34m\u001b[0m\u001b[0;34m\u001b[0m\u001b[0m\n\u001b[0;32m---> 11\u001b[0;31m     \u001b[0mtime\u001b[0m\u001b[0;34m.\u001b[0m\u001b[0msleep\u001b[0m\u001b[0;34m(\u001b[0m\u001b[0;36m4\u001b[0m\u001b[0;34m)\u001b[0m\u001b[0;34m\u001b[0m\u001b[0;34m\u001b[0m\u001b[0m\n\u001b[0m",
      "\u001b[0;31mKeyboardInterrupt\u001b[0m: "
     ]
    }
   ],
   "source": [
    "tweets_with_images = {}\n",
    "tweets_with_images[\"tweets\"] = []\n",
    "# Go through each tweet\n",
    "for tweet in tweets_list:\n",
    "    try:\n",
    "        tweet_response = get_tweet(analysis.get_tweet_id(tweet))\n",
    "        if tweet_response['data']:\n",
    "            tweets_with_images[\"tweets\"].append(tweet_response)\n",
    "    except:\n",
    "        print(analysis.get_tweet_text(tweet)) \n",
    "    time.sleep(4)"
   ]
  },
  {
   "cell_type": "code",
   "execution_count": 13,
   "metadata": {},
   "outputs": [],
   "source": [
    "# Write to file\n",
    "with open('../../data/dataset/tweets_with_images.json', 'w') as f:\n",
    "\tjson.dump(tweets_with_images, f)"
   ]
  },
  {
   "cell_type": "code",
   "execution_count": 14,
   "metadata": {},
   "outputs": [],
   "source": [
    "json_image_path = '../../data/dataset/tweets_with_images.json'\n",
    "# load json file\n",
    "with open(json_image_path) as json_file:\n",
    "\tdata = json.load(json_file)"
   ]
  },
  {
   "cell_type": "code",
   "execution_count": 15,
   "metadata": {},
   "outputs": [
    {
     "name": "stdout",
     "output_type": "stream",
     "text": [
      "5\n"
     ]
    }
   ],
   "source": [
    "print(len(data[\"tweets\"]))"
   ]
  },
  {
   "cell_type": "code",
   "execution_count": 16,
   "metadata": {},
   "outputs": [
    {
     "name": "stdout",
     "output_type": "stream",
     "text": [
      "https://pbs.twimg.com/media/EOfhQPyXkAI7um2.png\n",
      "https://pbs.twimg.com/media/EOUbGtNWoAMuDNi.jpg\n",
      "https://pbs.twimg.com/media/EN1R8i7XsAIAEED.png\n",
      "https://pbs.twimg.com/media/ENXuDhRXkAUS2QJ.png\n",
      "https://pbs.twimg.com/media/ENIudOBWkAAmGOE.jpg\n"
     ]
    }
   ],
   "source": [
    "for tweet in data[\"tweets\"]:\n",
    "    image_count = 0\n",
    "    try:\n",
    "        for image in tweet['includes']['media']:\n",
    "            image_url = image['url']\n",
    "            print(image_url)\n",
    "            # Download image\n",
    "            r = requests.get(image_url, stream=True)\n",
    "            \n",
    "            # Get image type from url\n",
    "            image_type = image_url.split('.')[-1]\n",
    "            if r.status_code == 200:\n",
    "                with open('../../data/dataset/images/' + str(tweet['data']['id']) + \"_\" + str(image_count) + \".\" + image_type, 'wb') as f:\n",
    "                    r.raw.decode_content = True\n",
    "                    shutil.copyfileobj(r.raw, f)\n",
    "            image_count += 1\n",
    "    except:\n",
    "        print(\"Error id: \" + str(tweet['data']['id']))\n"
   ]
  }
 ],
 "metadata": {
  "interpreter": {
   "hash": "5d259f8ea978a0011a9c41c85f38b722350957b00d06485c4eb037401ff597af"
  },
  "kernelspec": {
   "display_name": "Python 3.9.7 ('main')",
   "language": "python",
   "name": "python3"
  },
  "language_info": {
   "codemirror_mode": {
    "name": "ipython",
    "version": 3
   },
   "file_extension": ".py",
   "mimetype": "text/x-python",
   "name": "python",
   "nbconvert_exporter": "python",
   "pygments_lexer": "ipython3",
   "version": "3.9.7"
  },
  "orig_nbformat": 4
 },
 "nbformat": 4,
 "nbformat_minor": 2
}
