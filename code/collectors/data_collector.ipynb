{
 "cells": [
  {
   "cell_type": "code",
   "execution_count": 1,
   "metadata": {},
   "outputs": [],
   "source": [
    "import requests\n",
    "import json\n",
    "import time"
   ]
  },
  {
   "cell_type": "code",
   "execution_count": 3,
   "metadata": {},
   "outputs": [],
   "source": [
    "# Get BEARER_TOKEN from key.json\n",
    "with open('../key.json') as f:\n",
    "\tkey = json.load(f)\n",
    "\tbearer_token = key['BEARER_TOKEN']"
   ]
  },
  {
   "cell_type": "code",
   "execution_count": 5,
   "metadata": {},
   "outputs": [],
   "source": [
    "# Json path\n",
    "json_path = '../GMouYes/data/userProfile.json'\n",
    "# Open json file\n",
    "json_file = open(json_path, 'r')\n",
    "# Load json file\n",
    "json_data = json.load(json_file)"
   ]
  },
  {
   "cell_type": "code",
   "execution_count": 6,
   "metadata": {},
   "outputs": [
    {
     "name": "stdout",
     "output_type": "stream",
     "text": [
      "['1132988843609808899', '153701624', '242877245', '3131222121', '4721076616', '47297687', '707966804253999105', '717712395112751104', '85810276', '937064669608628226']\n"
     ]
    }
   ],
   "source": [
    "id_list = []\n",
    "for i in json_data:\n",
    "\tid_list.append(i)\n",
    "print(id_list)"
   ]
  },
  {
   "cell_type": "code",
   "execution_count": null,
   "metadata": {},
   "outputs": [],
   "source": [
    "# Get timeline\n",
    "def get_timeline(user_id, num_tweets = 5):\n",
    "\t# Create the url\n",
    "\turl = 'https://api.twitter.com/2/users/' + user_id + '/tweets?max_results=' + str(num_tweets)\n",
    "\t# Create request headers\n",
    "\theaders = {\n",
    "\t\t'authorization': 'Bearer ' + bearer_token,\n",
    "\t\t'user-agent': 'v2FilteredStreamPython',\n",
    "\t}\n",
    "\t# Make the request\n",
    "\tresponse = requests.get(url, headers=headers)\n",
    "\treturn response.json()"
   ]
  },
  {
   "cell_type": "code",
   "execution_count": null,
   "metadata": {},
   "outputs": [],
   "source": [
    "users_timeline = {}\n",
    "for i in id_list:\n",
    "\t# Get the timeline \n",
    "\ttimeline = get_timeline(i, 100)\n",
    "\t# Add the timeline to the dictionary\n",
    "\tusers_timeline[i] = timeline\n",
    "# Write the dictionary to a json file\n",
    "with open('users_timeline.json', 'w') as f:\n",
    "\tjson.dump(users_timeline, f)"
   ]
  },
  {
   "cell_type": "code",
   "execution_count": null,
   "metadata": {},
   "outputs": [],
   "source": [
    "print(json.dumps(users_timeline, indent=4, sort_keys=True))"
   ]
  },
  {
   "cell_type": "code",
   "execution_count": 9,
   "metadata": {},
   "outputs": [],
   "source": [
    "# Get timeline\n",
    "get_followers_counter = 0\n",
    "def get_followers(user_id):\n",
    "    # Create the url\n",
    "    return_json = {}\n",
    "    url = 'https://api.twitter.com/2/users/{}/followers'.format(user_id)\n",
    "    while True:\n",
    "        # Create request headers\n",
    "        headers = {\n",
    "            'authorization': 'Bearer ' + bearer_token,\n",
    "            'user-agent': 'v2FilteredStreamPython',\n",
    "        }\n",
    "        # Make the request\n",
    "        get_followers_counter += 1\n",
    "        if get_followers_counter >= 180:\n",
    "            get_followers_counter = 0\n",
    "            # Sleep for 15 minutes\n",
    "            print('Sleeping for 15 minutes')\n",
    "            time.sleep(60 * 15)\n",
    "        response = requests.get(url, headers=headers).json()\n",
    "        # Merge the response with the return_json\n",
    "        return_json.update(response)\n",
    "        # Check if next_token exists in response\n",
    "        try:\n",
    "            # Update the url with the next_token\n",
    "            url = 'https://api.twitter.com/2/users/{}/followers?pagination_token={}'.format(\n",
    "                user_id, response[\"data\"][\"meta\"][\"next_token\"])\n",
    "        except:\n",
    "            # If next_token does not exist, break the loop\n",
    "            break\n",
    "    return return_json\n"
   ]
  },
  {
   "cell_type": "code",
   "execution_count": 12,
   "metadata": {},
   "outputs": [
    {
     "name": "stdout",
     "output_type": "stream",
     "text": [
      "{\n",
      "    \"1132988843609808899\": {\n",
      "        \"detail\": \"Too Many Requests\",\n",
      "        \"status\": 429,\n",
      "        \"title\": \"Too Many Requests\",\n",
      "        \"type\": \"about:blank\"\n",
      "    },\n",
      "    \"153701624\": {\n",
      "        \"detail\": \"Too Many Requests\",\n",
      "        \"status\": 429,\n",
      "        \"title\": \"Too Many Requests\",\n",
      "        \"type\": \"about:blank\"\n",
      "    },\n",
      "    \"242877245\": {\n",
      "        \"detail\": \"Too Many Requests\",\n",
      "        \"status\": 429,\n",
      "        \"title\": \"Too Many Requests\",\n",
      "        \"type\": \"about:blank\"\n",
      "    },\n",
      "    \"3131222121\": {\n",
      "        \"detail\": \"Too Many Requests\",\n",
      "        \"status\": 429,\n",
      "        \"title\": \"Too Many Requests\",\n",
      "        \"type\": \"about:blank\"\n",
      "    },\n",
      "    \"4721076616\": {\n",
      "        \"detail\": \"Too Many Requests\",\n",
      "        \"status\": 429,\n",
      "        \"title\": \"Too Many Requests\",\n",
      "        \"type\": \"about:blank\"\n",
      "    },\n",
      "    \"47297687\": {\n",
      "        \"detail\": \"Too Many Requests\",\n",
      "        \"status\": 429,\n",
      "        \"title\": \"Too Many Requests\",\n",
      "        \"type\": \"about:blank\"\n",
      "    },\n",
      "    \"707966804253999105\": {\n",
      "        \"detail\": \"Too Many Requests\",\n",
      "        \"status\": 429,\n",
      "        \"title\": \"Too Many Requests\",\n",
      "        \"type\": \"about:blank\"\n",
      "    },\n",
      "    \"717712395112751104\": {\n",
      "        \"detail\": \"Too Many Requests\",\n",
      "        \"status\": 429,\n",
      "        \"title\": \"Too Many Requests\",\n",
      "        \"type\": \"about:blank\"\n",
      "    },\n",
      "    \"85810276\": {\n",
      "        \"detail\": \"Too Many Requests\",\n",
      "        \"status\": 429,\n",
      "        \"title\": \"Too Many Requests\",\n",
      "        \"type\": \"about:blank\"\n",
      "    },\n",
      "    \"937064669608628226\": {\n",
      "        \"detail\": \"Too Many Requests\",\n",
      "        \"status\": 429,\n",
      "        \"title\": \"Too Many Requests\",\n",
      "        \"type\": \"about:blank\"\n",
      "    }\n",
      "}\n"
     ]
    }
   ],
   "source": [
    "followers = {}\n",
    "for i in id_list:\n",
    "\tfollowers[i] = get_followers(i, )\n",
    "\n",
    "# Write the dictionary to a json file\n",
    "with open('../data/followers.json', 'w') as f:\n",
    "\tjson.dump(followers, f)\n",
    "print(json.dumps(followers, indent=4, sort_keys=True))"
   ]
  }
 ],
 "metadata": {
  "interpreter": {
   "hash": "31f2aee4e71d21fbe5cf8b01ff0e069b9275f58929596ceb00d14d90e3e16cd6"
  },
  "kernelspec": {
   "display_name": "Python 3.7.3 64-bit",
   "language": "python",
   "name": "python3"
  },
  "language_info": {
   "codemirror_mode": {
    "name": "ipython",
    "version": 3
   },
   "file_extension": ".py",
   "mimetype": "text/x-python",
   "name": "python",
   "nbconvert_exporter": "python",
   "pygments_lexer": "ipython3",
   "version": "3.9.7"
  },
  "orig_nbformat": 4
 },
 "nbformat": 4,
 "nbformat_minor": 2
}
