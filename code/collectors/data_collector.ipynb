{
 "cells": [
  {
   "cell_type": "code",
   "execution_count": 2,
   "metadata": {},
   "outputs": [],
   "source": [
    "import requests\n",
    "import json\n",
    "import time"
   ]
  },
  {
   "cell_type": "code",
   "execution_count": 3,
   "metadata": {},
   "outputs": [],
   "source": [
    "# Get BEARER_TOKEN from key.json\n",
    "with open('../../key.json') as f:\n",
    "\tkey = json.load(f)\n",
    "\tbearer_token = key['BEARER_TOKEN']"
   ]
  },
  {
   "cell_type": "code",
   "execution_count": 4,
   "metadata": {},
   "outputs": [],
   "source": [
    "# Json path\n",
    "json_path = '../../GMouYes/data/userProfile.json'\n",
    "# Open json file\n",
    "json_file = open(json_path, 'r')\n",
    "# Load json file\n",
    "json_data = json.load(json_file)"
   ]
  },
  {
   "cell_type": "code",
   "execution_count": 5,
   "metadata": {},
   "outputs": [
    {
     "name": "stdout",
     "output_type": "stream",
     "text": [
      "['1132988843609808899', '153701624', '242877245', '3131222121', '4721076616', '47297687', '707966804253999105', '717712395112751104', '85810276', '937064669608628226']\n"
     ]
    }
   ],
   "source": [
    "id_list = []\n",
    "for i in json_data:\n",
    "\tid_list.append(i)\n",
    "print(id_list)"
   ]
  },
  {
   "cell_type": "code",
   "execution_count": null,
   "metadata": {},
   "outputs": [],
   "source": [
    "# Get timeline\n",
    "def get_timeline(user_id, num_tweets = 5):\n",
    "\t# Create the url\n",
    "\turl = 'https://api.twitter.com/2/users/' + user_id + '/tweets?max_results=' + str(num_tweets)\n",
    "\t# Create request headers\n",
    "\theaders = {\n",
    "\t\t'authorization': 'Bearer ' + bearer_token,\n",
    "\t\t'user-agent': 'v2FilteredStreamPython',\n",
    "\t}\n",
    "\t# Make the request\n",
    "\tresponse = requests.get(url, headers=headers)\n",
    "\treturn response.json()"
   ]
  },
  {
   "cell_type": "code",
   "execution_count": null,
   "metadata": {},
   "outputs": [],
   "source": [
    "users_timeline = {}\n",
    "for i in id_list:\n",
    "\t# Get the timeline \n",
    "\ttimeline = get_timeline(i, 100)\n",
    "\t# Add the timeline to the dictionary\n",
    "\tusers_timeline[i] = timeline\n",
    "# Write the dictionary to a json file\n",
    "with open('users_timeline.json', 'w') as f:\n",
    "\tjson.dump(users_timeline, f)"
   ]
  },
  {
   "cell_type": "code",
   "execution_count": 12,
   "metadata": {},
   "outputs": [
    {
     "ename": "NameError",
     "evalue": "name 'users_timeline' is not defined",
     "output_type": "error",
     "traceback": [
      "\u001b[0;31m---------------------------------------------------------------------------\u001b[0m",
      "\u001b[0;31mNameError\u001b[0m                                 Traceback (most recent call last)",
      "\u001b[0;32m/tmp/ipykernel_31377/911331145.py\u001b[0m in \u001b[0;36m<module>\u001b[0;34m\u001b[0m\n\u001b[0;32m----> 1\u001b[0;31m \u001b[0mprint\u001b[0m\u001b[0;34m(\u001b[0m\u001b[0mjson\u001b[0m\u001b[0;34m.\u001b[0m\u001b[0mdumps\u001b[0m\u001b[0;34m(\u001b[0m\u001b[0musers_timeline\u001b[0m\u001b[0;34m,\u001b[0m \u001b[0mindent\u001b[0m\u001b[0;34m=\u001b[0m\u001b[0;36m4\u001b[0m\u001b[0;34m,\u001b[0m \u001b[0msort_keys\u001b[0m\u001b[0;34m=\u001b[0m\u001b[0;32mTrue\u001b[0m\u001b[0;34m)\u001b[0m\u001b[0;34m)\u001b[0m\u001b[0;34m\u001b[0m\u001b[0;34m\u001b[0m\u001b[0m\n\u001b[0m",
      "\u001b[0;31mNameError\u001b[0m: name 'users_timeline' is not defined"
     ]
    }
   ],
   "source": [
    "print(json.dumps(users_timeline, indent=4, sort_keys=True))"
   ]
  },
  {
   "cell_type": "code",
   "execution_count": 10,
   "metadata": {},
   "outputs": [],
   "source": [
    "# Get timeline\n",
    "get_followers_counter = 0\n",
    "def get_followers(user_id):\n",
    "    # Create the url\n",
    "    return_json = {}\n",
    "    url = 'https://api.twitter.com/2/users/{}/followers'.format(user_id)\n",
    "    while True:\n",
    "        # Create request headers\n",
    "        headers = {\n",
    "            'authorization': 'Bearer ' + bearer_token,\n",
    "            'user-agent': 'v2FilteredStreamPython',\n",
    "        }\n",
    "        # Make the request\n",
    "        global get_followers_counter\n",
    "        get_followers_counter += 1\n",
    "        if get_followers_counter >= 15:\n",
    "            get_followers_counter = 0\n",
    "            # Sleep for 15 minutes\n",
    "            print('Sleeping for 15 minutes')\n",
    "            time.sleep(60 * 15)\n",
    "        response = requests.get(url, headers=headers).json()\n",
    "        # Add up the response count\n",
    "        try:\n",
    "            return_json[\"meta\"][\"result_count\"] = response[\"meta\"][\"result_count\"] + return_json[\"meta\"][\"result_count\"]\n",
    "        except:\n",
    "            return_json[\"meta\"] = response[\"meta\"]\n",
    "        # Merge the response with the return_json\n",
    "        try:\n",
    "            for i in response[\"data\"]:\n",
    "                return_json[\"data\"].append(i)\n",
    "        except:\n",
    "            return_json[\"data\"] = response[\"data\"]\n",
    "\n",
    "      \n",
    "        # Check if next_token exists in response\n",
    "        try:\n",
    "            # Update the url with the next_token\n",
    "            url = 'https://api.twitter.com/2/users/{}/followers?pagination_token={}'.format(\n",
    "                user_id, response[\"meta\"][\"next_token\"])\n",
    "        except:\n",
    "            # If next_token does not exist, break the loop\n",
    "            break\n",
    "    return return_json\n"
   ]
  },
  {
   "cell_type": "code",
   "execution_count": 11,
   "metadata": {},
   "outputs": [
    {
     "name": "stdout",
     "output_type": "stream",
     "text": [
      "Sleeping for 15 minutes\n"
     ]
    }
   ],
   "source": [
    "followers = {}\n",
    "for i in id_list:\n",
    "\tfollowers[i] = get_followers(i)\n",
    "\n",
    "# Write the dictionary to a json file\n",
    "with open('../../data/followers.json', 'w') as f:\n",
    "\tjson.dump(followers, f)\n",
    "print(json.dumps(followers, indent=4, sort_keys=True))"
   ]
  }
 ],
 "metadata": {
  "interpreter": {
   "hash": "31f2aee4e71d21fbe5cf8b01ff0e069b9275f58929596ceb00d14d90e3e16cd6"
  },
  "kernelspec": {
   "display_name": "Python 3.7.3 64-bit",
   "language": "python",
   "name": "python3"
  },
  "language_info": {
   "codemirror_mode": {
    "name": "ipython",
    "version": 3
   },
   "file_extension": ".py",
   "mimetype": "text/x-python",
   "name": "python",
   "nbconvert_exporter": "python",
   "pygments_lexer": "ipython3",
   "version": "3.9.7"
  },
  "orig_nbformat": 4
 },
 "nbformat": 4,
 "nbformat_minor": 2
}
