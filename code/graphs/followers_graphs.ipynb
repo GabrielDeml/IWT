{
 "cells": [
  {
   "cell_type": "code",
   "execution_count": 2,
   "metadata": {},
   "outputs": [],
   "source": [
    "import json\n",
    "import matplotlib.pyplot as plt"
   ]
  },
  {
   "cell_type": "code",
   "execution_count": 3,
   "metadata": {},
   "outputs": [],
   "source": [
    "# Read in json file\n",
    "file_location = \"../../data/followers.json\"\n",
    "with open(file_location) as f:\n",
    "\tdata = json.load(f)\n"
   ]
  },
  {
   "cell_type": "code",
   "execution_count": 4,
   "metadata": {},
   "outputs": [
    {
     "name": "stdout",
     "output_type": "stream",
     "text": [
      "{\n",
      "    \"1132988843609808899\": {\n",
      "        \"title\": \"Too Many Requests\",\n",
      "        \"detail\": \"Too Many Requests\",\n",
      "        \"type\": \"about:blank\",\n",
      "        \"status\": 429\n",
      "    },\n",
      "    \"153701624\": {\n",
      "        \"title\": \"Too Many Requests\",\n",
      "        \"detail\": \"Too Many Requests\",\n",
      "        \"type\": \"about:blank\",\n",
      "        \"status\": 429\n",
      "    },\n",
      "    \"242877245\": {\n",
      "        \"title\": \"Too Many Requests\",\n",
      "        \"detail\": \"Too Many Requests\",\n",
      "        \"type\": \"about:blank\",\n",
      "        \"status\": 429\n",
      "    },\n",
      "    \"3131222121\": {\n",
      "        \"title\": \"Too Many Requests\",\n",
      "        \"detail\": \"Too Many Requests\",\n",
      "        \"type\": \"about:blank\",\n",
      "        \"status\": 429\n",
      "    },\n",
      "    \"4721076616\": {\n",
      "        \"title\": \"Too Many Requests\",\n",
      "        \"detail\": \"Too Many Requests\",\n",
      "        \"type\": \"about:blank\",\n",
      "        \"status\": 429\n",
      "    },\n",
      "    \"47297687\": {\n",
      "        \"title\": \"Too Many Requests\",\n",
      "        \"detail\": \"Too Many Requests\",\n",
      "        \"type\": \"about:blank\",\n",
      "        \"status\": 429\n",
      "    },\n",
      "    \"707966804253999105\": {\n",
      "        \"title\": \"Too Many Requests\",\n",
      "        \"detail\": \"Too Many Requests\",\n",
      "        \"type\": \"about:blank\",\n",
      "        \"status\": 429\n",
      "    },\n",
      "    \"717712395112751104\": {\n",
      "        \"title\": \"Too Many Requests\",\n",
      "        \"detail\": \"Too Many Requests\",\n",
      "        \"type\": \"about:blank\",\n",
      "        \"status\": 429\n",
      "    },\n",
      "    \"85810276\": {\n",
      "        \"title\": \"Too Many Requests\",\n",
      "        \"detail\": \"Too Many Requests\",\n",
      "        \"type\": \"about:blank\",\n",
      "        \"status\": 429\n",
      "    },\n",
      "    \"937064669608628226\": {\n",
      "        \"title\": \"Too Many Requests\",\n",
      "        \"detail\": \"Too Many Requests\",\n",
      "        \"type\": \"about:blank\",\n",
      "        \"status\": 429\n",
      "    }\n",
      "}\n"
     ]
    }
   ],
   "source": [
    "print(json.dumps(data, indent=4))"
   ]
  }
 ],
 "metadata": {
  "interpreter": {
   "hash": "31f2aee4e71d21fbe5cf8b01ff0e069b9275f58929596ceb00d14d90e3e16cd6"
  },
  "kernelspec": {
   "display_name": "Python 3.7.3 64-bit",
   "language": "python",
   "name": "python3"
  },
  "language_info": {
   "codemirror_mode": {
    "name": "ipython",
    "version": 3
   },
   "file_extension": ".py",
   "mimetype": "text/x-python",
   "name": "python",
   "nbconvert_exporter": "python",
   "pygments_lexer": "ipython3",
   "version": "3.9.7"
  },
  "orig_nbformat": 4
 },
 "nbformat": 4,
 "nbformat_minor": 2
}
