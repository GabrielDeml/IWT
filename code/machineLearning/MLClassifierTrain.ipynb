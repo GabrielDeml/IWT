{
 "cells": [
  {
   "cell_type": "markdown",
   "metadata": {},
   "source": [
    "# Things used\n",
    "#### https://www.thepythoncode.com/article/finetuning-bert-using-huggingface-transformers-python\n",
    "#### https://towardsdatascience.com/fine-tuning-pretrained-nlp-models-with-huggingfaces-trainer-6326a4456e7b"
   ]
  },
  {
   "cell_type": "code",
   "execution_count": 1,
   "metadata": {},
   "outputs": [],
   "source": [
    "import json\n",
    "import torch\n",
    "import numpy as np\n",
    "from transformers import BertTokenizerFast, BertForSequenceClassification\n",
    "from transformers import Trainer, TrainingArguments"
   ]
  },
  {
   "cell_type": "code",
   "execution_count": 2,
   "metadata": {},
   "outputs": [],
   "source": [
    "# Get device to use\n",
    "device = torch.device(\"cuda\" if torch.cuda.is_available() else \"cpu\")"
   ]
  },
  {
   "cell_type": "code",
   "execution_count": 3,
   "metadata": {},
   "outputs": [],
   "source": [
    "# Json path\n",
    "json_path = '../../data/bad_user_tweets.json'\n",
    "json_path_good = '../../data/random_users_timeline.json'"
   ]
  },
  {
   "cell_type": "code",
   "execution_count": 4,
   "metadata": {},
   "outputs": [],
   "source": [
    "# Open json file\n",
    "bad_user_tweets_file = open(json_path, 'r')\n",
    "# Load json file\n",
    "bad_user_tweets = json.load(bad_user_tweets_file)\n",
    "bad_user_tweets = bad_user_tweets['IWTSeller']\n",
    "\n",
    "# Open json file\n",
    "good_user_tweets_file = open(json_path_good, 'r')\n",
    "# Load json file\n",
    "good_user_tweets = json.load(good_user_tweets_file)\n",
    "# good_user_tweets = good_user_tweets['notIWTSeller']"
   ]
  },
  {
   "cell_type": "code",
   "execution_count": 6,
   "metadata": {},
   "outputs": [
    {
     "name": "stdout",
     "output_type": "stream",
     "text": [
      "Mammoth Ivory Carvings Figurine of Japanese Samurai\n",
      "\n",
      "Look at this mighty yet robust creation of Japanese Samurai Figurines on a Wooden platform precisely sculpted with original mammoth ivory.\n",
      "\n",
      "https://t.co/kbjbZ65Mrf https://t.co/xRZQLBdzDZ\n",
      "Mammoth Ivory Netsuke – 12 zodiac animals set – Round Stand\n",
      "\n",
      "This is a very high quality mammoth ivory carving netsukes of 12 Chinese Zodiac animals Set!\n",
      "\n",
      "Check the link: https://t.co/sjc9zvWslb https://t.co/ZhIyx7QkOm\n",
      "Mammoth Ivory Masterpiece Netsuke – Father &amp; Son with a Fish\n",
      "The relationship between father and son is a classic and timeless relationship worthy of artistic interpretation.\n",
      "\n",
      "https://t.co/6V9gHq54kk\n",
      "\n",
      "#masterpiece #sculpture #art https://t.co/NiJygsdnir\n",
      "Mammoth Ivory Figurine -The New archery samurai kneeling\n",
      "\n",
      "Genuine MAMMOTH IVORY FIGURINE portraying a Samurai kneeling down, about to shoot an arrow.\n",
      "\n",
      "#artcollector #ivory #sculptures\n",
      "\n",
      "https://t.co/796CozjBdi https://t.co/DHjrgjuRC3\n",
      "What A beautiful year it has been! We can only say thanks to all our customers!!\n",
      "Wishing you all a great evening with family and friends, and that 2020 may bring you good health and joy!\n",
      "#IvoryAndArt #IvoryCarving #MammothIvory #legalivory #CarveIvory #netsuke #mammothIvoryTusk https://t.co/xIqt4ixKRe\n",
      "Really amazing piece of art look how the octopus surround the mermaid &amp; it’s looks little beat erotic that the octopus insert his limbs under the mermaid skirt inlay-ed with red gestones &amp; give her a good time.\n",
      "\n",
      "https://t.co/eXVzfQsxNY\n",
      "\n",
      "#sculpture #octopus #Mermaid #ivory https://t.co/Hemg4h8hrZ\n",
      "This outstanding Netsuke made of 100% genuine Mammoth ivory Tusk &amp; made out from the best grade of mammoth ivory tusk.\n",
      "\n",
      "https://t.co/ztDv1amJyU\n",
      "\n",
      "#monkeys #elephant #ivory #collection #tusk https://t.co/Y7RDHh2w4n\n",
      "As one of the four creatures of the world’s directions, the Dragon stands for new beginnings. The Dragon also has the power to release water to parched lands, and which in turn stands for abundance and relief. \n",
      "\n",
      "https://t.co/hR8LwRmRlQ\n",
      "\n",
      "#dragon #newbeginnings #ivory #mammothivory https://t.co/VpXb0CNgOe\n",
      "This is a very high quality mammoth ivory carving netsuke A Listening To Music. This netsuke is carved out of genuine pure Mammoth ivory!\n",
      "\n",
      "https://t.co/uMLqKYYlWH\n",
      "\n",
      "#netsuke #sculpture #ivory #mammothivory https://t.co/xAA8qinrWk\n",
      "Museum quality Mammoth ivory Netsuke of Samurai Carrying Bag On His Shoulder. Where are the Samurai going to with his bag hanging on his shoulders, two swords in his belt &amp; a some kid of letter on his right hand.\n",
      "\n",
      "https://t.co/PGMcF7iOaD\n",
      "\n",
      "#netsuke #ivory #mammothivory #art https://t.co/PZlaxwK46L\n",
      "Museum quality – Mammoth Ivory Netsuke – Three Monkeys In Boat \n",
      "\n",
      "This outstanding Netsuke is a proud member of our MASTER Pieces Netsukes collection, hand carved by Master Carver.\n",
      "\n",
      "https://t.co/PrkBIXjf2d\n",
      "\n",
      "#art #mammothivory #ivory #monkeys #netsuke #artworks #sculpture https://t.co/3sajULDh5D\n",
      "Museum quality Mammoth ivory Netsuke of – 5 Mice And Mask Head. Amazing art creation on the tiny Mammoth Ivory Tusk scrap.\n",
      "Just imagine that this scene is carved on piece that smaller than a lighter.\n",
      "\n",
      "https://t.co/TNGsHrrM2Y\n",
      "\n",
      "#sculpture #ivoryart #ivory #carving #mammothivory https://t.co/UkQK9Hpi3L\n",
      "Mammoth Ivory Netsuke – TWIN OWLS\n",
      "\n",
      "This outstanding Netsuke made of 100% genuine Mammoth ivory Tusk &amp; made out from the best grade of mammoth ivory tusk.\n",
      "\n",
      "https://t.co/MD3rNErh85\n",
      "\n",
      "#sculpture #ivory #mammothivory #art #workart #netsuke #carving https://t.co/I6rWq2c5Do\n",
      "Mammoth Ivory Jewelry – Dragon Ring\n",
      "\n",
      "This hand made Mammoth Ivory Jewelry was hand made by top artist.\n",
      "\n",
      "https://t.co/PZs9nG5PFe\n",
      "\n",
      "#dragon #ivory #mammothivory #art #jewelry #masterpiece https://t.co/lPhBVwhCyp\n",
      "An extremely amazing Mammoth ivory Netsuke of the Seven Lucky gods(Or Japans’ Seven Gods of Fortune) in a bottle Guard.\n",
      "\n",
      "https://t.co/7QlCjYMip1\n",
      "\n",
      "#handmade #ivory #sculpture #carving #tusk #art https://t.co/ZeWJlegEx5\n",
      "Mammoth Ivory Netsuke – On The Bridge\n",
      "\n",
      "This is Mammoth Ivory Netsuke of Bridge Scene Breathtakingly beautiful with bold, defined strokes, capturing the expression of the Japanese people that are on the bridge.\n",
      "https://t.co/cvOPjKxpgM\n",
      "\n",
      "#ivory #sculpture #mammothivory #netsuke #art https://t.co/tcTkBc1umV\n",
      "Legal Mammoth Ivory Carvings – Fishing on a Boat in The sea\n",
      "\n",
      "This beautiful piece of mammoth ivory has been carved as a fishing scene.\n",
      "\n",
      "#ivory #mammothivory #fishing #sculpture #masterpiece #Passion #artwork https://t.co/7y57gs4DVE\n",
      "Mammoth Ivory Netsuke – Lohan Riding Dragon\n",
      "\n",
      "This pattern is known in Shaolin Kungfu as “Lohan Riding Dragon” (“Lor Hon Kea Loong”). You can then strike him on his head or chest.\n",
      "\n",
      "https://t.co/5IEtBWEyuB\n",
      "#netsuke #mammoth #mammothivory #ivory #art #artcreation #dragon #asia https://t.co/W38TmLO91q\n",
      "Mammoth Ivory Figurine – Two Japanese Geishas\n",
      "This is a very high quality mammoth ivory carving of two half naked Japanese Geishas\n",
      "This Erotic Figurine is Hand carved by Master Carver to perfection.\n",
      "\n",
      "https://t.co/5xDKeyiW2e\n",
      "\n",
      "#geisha #art #mammoth #mammothivory #erotic https://t.co/Wbe5ZaimF7\n",
      "Antique Legal Mammoth Ivory Carving of Fukurokuju\n",
      "\n",
      "One of the prominent seven Lucky Gods, #fukurokuju is omnipresent in Japanese mythology. Handcrafted by #mastercarver.\n",
      "\n",
      "https://t.co/Z18Ws9PdO8\n",
      "\n",
      "#mammoth #mammothivory #ivory #carving #japanesegod #sculpture #art  #collection https://t.co/Yc4xKhcixt\n",
      "Mammoth Ivory Netsuke – The Sculpture\n",
      "\n",
      "This outstanding #netsuke is a proud member of our MASTER Pieces Netsukes collection. \n",
      "#handcarved by Master Carver. \n",
      "\n",
      "https://t.co/EACXqylqc5\n",
      "\n",
      "#mammoth #mammothivory #ivory #sculpture #netsukemastercollection\n",
      "#netsuke_art #art #collection https://t.co/jdpPjSQYi5\n",
      "Amazing Mammoth Ivory Carving Of Birds On A Flower\n",
      "\n",
      "This exquisite sculpture is of a bird perking a leaf. \n",
      "\n",
      "https://t.co/HGqzT0ZfIj\n",
      "\n",
      "#mammoth #mammothivory #ivory #mammothivorytusk\n",
      "#bird #birdsivorycarvingivory #passion #art #beautiful #nature #legalmammothivory #masterpiece https://t.co/EKrZmCjMTl\n",
      "Mammoth Ivory Tusk- The Bears\n",
      "\n",
      "Tranquil, peaceful, beautiful and utterly unique are all words that describe this mammoth ivory tusk carving. \n",
      "\n",
      "https://t.co/6YPg0Cwo9Z\n",
      "\n",
      "#animal #bears #legalmammothivory #MammothivoryTusk #tusk https://t.co/X8kq78cfZ9\n",
      "Mammoth Ivory Masterpiece – Three Cats in A basket https://t.co/4VR90H1S05\n",
      "Samurai With Sword Up- Mammoth Ivory Masterpiece\n",
      "\n",
      "Product: https://t.co/GuoamRdbLA https://t.co/dVIAVVdp80\n",
      "Mammoth Ivory Masterpiece Netsuke – Tiger &amp; a Crab\n",
      "\n",
      "Link: https://t.co/G7zaX2mQL4\n",
      "\n",
      "#Ivoryandart #art #sculpture #sculptures #homedecor #homedecoration #summersale #summersales https://t.co/ezHI9QRPcz\n",
      "Meissen Porcelain Figurine The Drummer From Meissen Monkey Band \n",
      "\n",
      "Offer Link: https://t.co/osAomWVSQB\n",
      "\n",
      "#Mammoth #ivory #warriors #tusk #qiang #Ivoryandart #art #sculpture #sculptures #homedecor #homedecoration #summersale #summersales https://t.co/HmzVGt90tb\n",
      "This Figurine is made of 100% genuine Mammoth Ivory Tusk. The extinct woolly Mammoth roamed the earth before 10,000-40,000 years ago. Today we can found Mammoth ivory tusk in the arctic regions like Siberia in Russia.\n",
      "More Details: https://t.co/yr4hZGPC3t\n",
      "#virgin #malaysianhair https://t.co/4GP6x0mCou\n",
      "Mammoth Ivory Figurine – Saint Joseph Holding Baby Jesus\n",
      "\n",
      "Special Offer: https://t.co/HWcHmTxJen\n",
      "\n",
      "#saint #catholicism #catholic #christianity #joseph #dun #jenna #josh #tyler #jishwa #jennajoseph #tyjo #skeletonclique #clique #joshuadun #regionalatbest #joshler #blurryface https://t.co/eENdPe11Pp\n",
      "Legal Mammoth Ivory Tusk Carving of 3 Lucky Gods\n",
      "\n",
      "Special Offer: https://t.co/T3XEgMo6Ur\n",
      "\n",
      "#Mammoth #ivory #warriors #tusk #qiang #Ivoryandart #art #sculpture #sculptures #homedecor #homedecoration #summersale #summersales https://t.co/cxoszfaSgV\n",
      "Sculpture of Man With Baskets in Mammoth Ivory\n",
      "\n",
      "Offer Link: https://t.co/H9QGNsWm0P\n",
      "\n",
      "#Ivoryandart #art #sculpture #sculptures #homedecor #homedecoration #summersale #summersales https://t.co/hptAXBW1wm\n",
      "Legal Mammoth Ivory Carving of Fisherman\n",
      "\n",
      "Special Offer Link: https://t.co/dvsgIhAlPK\n",
      "\n",
      "#Ivoryandart #art #sculpture #sculptures #homedecor #homedecoration #summersale #summersale https://t.co/fC5DCs9Zpf\n",
      "Legal Mammoth Ivory Carving of Fisherman\n",
      "\n",
      "Special Offer Link: https://t.co/dvsgIhAlPK\n",
      "\n",
      "#Ivoryandart #art #sculpture #sculptures #homedecor #homedecoration #summersale #summersale https://t.co/fC5DCs9Zpf\n",
      "Legal Mammoth Ivory Carving of Fisherman\n",
      "\n",
      "Special Offer Link: https://t.co/dvsgIhAlPK\n",
      "\n",
      "#Ivoryandart #art #sculpture #sculptures #homedecor #homedecoration #summersale #summersale https://t.co/fC5DCs9Zpf\n",
      "Dragon Sculpture in Mammoth Ivory\n",
      "\n",
      "Special Offer Link: https://t.co/zIAXVIJ7xY\n",
      "\n",
      " #Mammoth #ivory #warriors #tusk #qiang #Ivoryandart #art #sculpture #sculptures #homedecor #homedecoration #summersale #summersales https://t.co/8N6K7WqC7h\n",
      "Mammoth Ivory Netsuke – Monkey Sitting on Horse Back\n",
      "\n",
      "Special Offer Link: https://t.co/grYbTWydvC\n",
      ".\n",
      ".\n",
      ".\n",
      " #antique #netsuke #antiquenetsuke #ivorynetsuke #antiqueivory #hare #netsukeivory #ivoryhare #japanantique #石川 #Ishikawa #meijiperiod #meijinetsuke #theharewithambereyes https://t.co/jAtMDqmv7g\n",
      "Each of us is carving a stone, erecting a column, or cutting a piece of stained glass in the construction of something much bigger than ourselves.\n",
      "Buy And Get Offer: https://t.co/m5mBcsk2zZ\n",
      "\n",
      "#ivoryandart #decor #homedecor #interior #house #decoration #homesweethome #homedesign https://t.co/7O0zXAkdZq\n",
      "Fisherman With Boy Sculpted in Mammoth Ivory\n",
      "\n",
      "Buy this wonderful #Sculpture @ https://t.co/GjgmQcoRs0\n",
      "\n",
      "#Ivoryandart #art #sculpture #sculptures #homedecor #homedecoration #summersale #summersales https://t.co/01cOQ4Gb2C\n",
      "Sculpture of Man With Baskets in Mammoth Ivory\n",
      "\n",
      "Buy this wonderful #Sculpture @ https://t.co/kpFRKIfIxH…/\n",
      "\n",
      "#Ivoryandart #art #sculpture #sculptures #homedecor #homedecoration #summersale #summersales https://t.co/W1HJgJIb2r\n",
      "19th Century Meissen Figurine of Cupid Sewing Broken Heart\n",
      "\n",
      "Buy this wonderful #MeissenPorcelainSculpture @ https://t.co/exTLwbWIpV\n",
      "\n",
      "#Ivoryandart #art #sculpture #sculptures #homedecor #homedecoration #summersale #summersales https://t.co/EsnxOSUiyb\n",
      "You can buy this splendid and graceful Carving of Seven Lucky Gods on a wooden plank by authentic Mammoth Ivory.\n",
      "\n",
      "New Year Sale Upto 20% Off\n",
      "Buy Now @ https://t.co/GSZZkyFP9r\n",
      "\n",
      "#MammothIvorySculpture #MammothIvory #IvoryAndArt #NewYearSale #HolidayShopping https://t.co/5zudPgUDLU\n",
      "You can buy this enchanting and enthralling Masterpiece Carving of A Pig on a wooden plank by authentic Mammoth Ivory.\n",
      "\n",
      "New Year Sale Upto 20% Off\n",
      "Buy Now @ https://t.co/IGVpb5BQlQ\n",
      "\n",
      "#MammothIvorySculpture #MammothIvory #IvoryAndArt #NewYearSale #HolidayShopping https://t.co/7FWpOZ0Nku\n",
      "Look at this fascinating and enchanting work Padmapani Buddha Statue carefully sculpted with original mammoth ivory.\n",
      "\n",
      "New Year Sale Upto 20% Off\n",
      "Buy Now @ https://t.co/1M3oR60OSn\n",
      "\n",
      "#MammothIvorySculpture #MammothIvory #IvoryAndArt #NewYearSale #HolidayShopping https://t.co/wwqLfDklJl\n",
      "Look at this exotic yet outlandish work of Geisa carefully sculpted with original mammoth ivory.\n",
      "\n",
      "New Year Sale Upto 20% Off\n",
      "Buy Now @ https://t.co/aMzLfIXWVd\n",
      "\n",
      "#MammothIvorySculpture #MammothIvory #IvoryAndArt #NewYearSale #HolidayShopping https://t.co/Rm2HheepXE\n",
      "Look at this mighty yet robust creation of Japanese Samurai Figurines precisely sculpted with original mammoth ivory.\n",
      "\n",
      "New Year Sale Upto 20% Off\n",
      "Buy Now @ https://t.co/1EVQ1cBy7H\n",
      "\n",
      "#MammothIvorySculpture #MammothIvory #IvoryAndArt #NewYearSale #HolidayShopping https://t.co/zPrhnsiwYY\n",
      "Look at this illustrious yet overwhelming creation of these Mythical Figurines of Eight Deities sculpted with original mammoth ivory.\n",
      "\n",
      "New Year Sale Upto 20% Off\n",
      "Buy Now @ https://t.co/fIhMt40Tgk\n",
      "\n",
      "#MammothIvorySculpture #MammothIvory #IvoryAndArt #NewYearSale #HolidayShopping https://t.co/Kzt0d2Hw6g\n",
      "Look at this intricate yet delicate creation of a Traditional Chinese Village with all Antique Idols with original mammoth ivory.\n",
      "\n",
      "New Year Sale Upto 20% Off\n",
      "Buy Now @ https://t.co/JrPvPyVgh5\n",
      "\n",
      "#MammothIvorySculpture #MammothIvory #IvoryAndArt #NewYearSale #HolidayShopping https://t.co/Jy0cwIKeDY\n",
      "You can purchase this stunning, nonetheless distinctive work of meditating seated Buddha fastidiously carved with mammoth ivory. \n",
      "\n",
      "New Year Sale Upto 20% Off\n",
      "Buy Now @ https://t.co/CTmYFHKTID\n",
      "\n",
      "#MammothIvorySculpture #MammothIvory #IvoryAndArt #NewYearSale #HolidayShopping https://t.co/kGi8biZcjD\n",
      "You can buy this wonderful, yet exquisite work of Crane and Deer  on a wooden plank carefully sculpted with original mammoth ivory.\n",
      "\n",
      "New Year Sale Upto 20% Off\n",
      "Buy Now @ https://t.co/SgqY9Pk14C\n",
      "\n",
      "#MammothIvorySculpture #MammothIvory #IvoryAndArt #NewYearSale #HolidayShopping https://t.co/qtcwcuY7nn\n",
      "You can buy this wonderful, yet unique work of A Chinese Old Man Holding Chinese Bayberry Fruit carefully sculpted with mammoth ivory.\n",
      "\n",
      "New Year Sale Upto 20% Off\n",
      "Buy Now @ https://t.co/PveaN4TCms\n",
      "\n",
      "#MammothIvorySculpture #MammothIvory #IvoryAndArt #NewYearSale #HolidayShopping https://t.co/zjZVGlJ8u1\n",
      "Look at this excellent, exquisite work of Bonsai tree with duck twins on a picket plank fastidiously carved with mammoth ivory.\n",
      "\n",
      "New Year Sale Upto 20% Off\n",
      "Buy Now @ https://t.co/mKD3R8Zd0V\n",
      "\n",
      "#MammothIvorySculpture #MammothIvory #IvoryAndArt #NewYearSale #HolidayShopping https://t.co/NNIeobQv62\n",
      "You can buy this gorgeous, yet exotic work of Two Rabbits eating carrot on a wooden plank carefully sculpted with original mammoth ivory.\n",
      "\n",
      "New Year Sale Upto 20% Off\n",
      "Buy Now @ https://t.co/DSHLEvgL20\n",
      "\n",
      "#MammothIvorySculpture #MammothIvory #IvoryAndArt #NewYearSale #HolidayShopping https://t.co/1WWoiKa6PC\n",
      "You can obtain this glorious carving of Laughing Buddha twiddling with 2 kids rigorously carven with original mammoth ivory.\n",
      "\n",
      "New Year Sale Upto 20% Off\n",
      "Buy Now @ https://t.co/xH5OYkJMLX\n",
      "\n",
      "#MammothIvorySculpture #MammothIvory #IvoryAndArt #NewYearSale #HolidayShopping https://t.co/omGnz32w9J\n",
      "You can buy this antique carving of Lions And Rhino handcrafted statue produced using with the finest Mammoth Ivory.\n",
      "\n",
      "Christmas Sale Upto 20% Off\n",
      "Buy Now @ https://t.co/5ax03qrgyd\n",
      "\n",
      "#MammothIvorySculpture #MammothIvory #IvoryAndArt #ChristmasSale #HolidayShopping https://t.co/qe9dcC3sqo\n",
      "You can buy this explicit carving of Laughing Buddha Holding a Wealth Ball in his hand carefully sculpted with original mammoth ivory.\n",
      "\n",
      "Christmas Sale Upto 20% Off\n",
      "Buy Now @ https://t.co/wORnEsqF0c\n",
      "\n",
      "#MammothIvorySculpture #MammothIvory #IvoryAndArt #ChristmasSale #HolidayShopping https://t.co/x6B9tlx7YO\n",
      "You can buy this gorgeous carving of elephant herd roaming in the jungle carefully sculpted with original mammoth ivory.\n",
      "\n",
      "Christmas Sale Upto 20% Off\n",
      "Buy Now @ https://t.co/9sS0B0SJ6O\n",
      "\n",
      "#MammothIvorySculpture #MammothIvory #IvoryAndArt #ChristmasSale #HolidayShopping https://t.co/QAd2qkuZSJ\n",
      "You can buy this beautiful work of The Dragon And Phoenix on a wooden plank carefully sculpted with original mammoth ivory.\n",
      "\n",
      "Christmas Sale Upto 20% Off\n",
      "Buy Now @ https://t.co/PsiAmFMD9n\n",
      "\n",
      "#MammothIvorySculpture #MammothIvory #IvoryAndArt #ChristmasSale #HolidayShopping https://t.co/BHRyH5aYyO\n",
      "You can buy this beautiful work of Lion King Sitting on his den on a wooden plank carefully sculpted with original mammoth ivory.\n",
      "\n",
      "Christmas Sale Upto 20% Off\n",
      "Buy Now @ https://t.co/4fpC65tR5l\n",
      "\n",
      "#MammothIvorySculpture #MammothIvory #IvoryAndArt #ChristmasSale #HolidayShopping https://t.co/MRfDlQOcAe\n",
      "You can buy this stunning as well as a magnificent statue that features an eagle perched on rock above canyon made of mammoth ivory.\n",
      "\n",
      "Christmas Sale Upto 20% Off\n",
      "Buy Now @ https://t.co/6uBgzo3Zil\n",
      "\n",
      "#MammothIvorySculpture #MammothIvory #IvoryAndArt #ChristmasSale #HolidayShopping https://t.co/Z0wDXcgG5h\n",
      "You can buy this 11 faced and 46 hand idol of Lord Shiva carefully sculpted with original mammoth ivory. \n",
      "\n",
      "Christmas Sale Upto 20% Off\n",
      "Buy Now @ https://t.co/6NwP7CCIcC\n",
      "\n",
      "#MammothIvorySculpture #MammothIvory #IvoryAndArt #ChristmasSale #HolidayShopping https://t.co/X3Mn13xufu\n",
      "You can buy this wonderful Chinese Philosopher Confucius Figurine holding a sword carefully sculpted with mammoth ivory.\n",
      "\n",
      "Christmas Sale Upto 20% Off\n",
      "Buy Now @ https://t.co/sw0hS8Afud\n",
      "\n",
      "#MammothIvorySculpture #MammothIvory #IvoryAndArt #IvoryAndArt #christmassale #HolidayShopping https://t.co/o5mrfvq0vI\n",
      "You can buy this exclusive work of Chinese Rich Man Holding a Coin Carving on Mammoth Ivory\n",
      "\n",
      "Christmas Sale Upto 20% Off\n",
      "Buy Now @ https://t.co/gf7OIb1ACO\n",
      "\n",
      "#MammothIvorySculpture #MammothIvory #IvoryAndArt #IvoryAndArt #christmassale #HolidayShopping https://t.co/PPaTlCrYX9\n",
      "You can buy this wonderful, yet unique work of Two Squirrels Playing with each other.\n",
      "\n",
      "Christmas Sale Upto 20% Off\n",
      "Buy Now @ https://t.co/LH5rHArDzi\n",
      "\n",
      "#MammothIvorySculpture #MammothIvory #IvoryAndArt #IvoryAndArt #christmassale #HolidayShopping\n",
      "You can buy this beautiful, yet unique work of Meditating Seated Buddha carefully sculpted with original mammoth ivory.\n",
      "\n",
      "Christmas Sale Upto 20% Off\n",
      "Buy Now @ https://t.co/8gjUImREOA\n",
      "\n",
      "#MammothIvorySculpture #MammothIvory #IvoryAndArt #IvoryAndArt #christmassale #HolidayShopping https://t.co/nvyfzOXNIk\n"
     ]
    }
   ],
   "source": [
    "# print user tweets\n",
    "for tweet in bad_user_tweets:\n",
    "\tprint(tweet['tweet'])"
   ]
  },
  {
   "cell_type": "code",
   "execution_count": 7,
   "metadata": {},
   "outputs": [
    {
     "name": "stderr",
     "output_type": "stream",
     "text": [
      "[nltk_data] Downloading package stopwords to /home/gabe/nltk_data...\n",
      "[nltk_data]   Package stopwords is already up-to-date!\n",
      "[nltk_data] Downloading package wordnet to /home/gabe/nltk_data...\n",
      "[nltk_data]   Package wordnet is already up-to-date!\n",
      "[nltk_data] Downloading package omw-1.4 to /home/gabe/nltk_data...\n",
      "[nltk_data]   Package omw-1.4 is already up-to-date!\n"
     ]
    }
   ],
   "source": [
    "#remove punctuation\n",
    "import string\n",
    "import nltk\n",
    "nltk.download('stopwords')\n",
    "nltk.download('wordnet')\n",
    "nltk.download('omw-1.4')\n",
    "\n",
    "table = str.maketrans('', '', string.punctuation)\n",
    "\n",
    "# Remove stop words\n",
    "from nltk.corpus import stopwords\n",
    "\n",
    "stop = stopwords.words('english')\n",
    "\n",
    "# Lemmatize all words\n",
    "from nltk.stem import WordNetLemmatizer\n",
    "lemmatizer = WordNetLemmatizer()\t"
   ]
  },
  {
   "cell_type": "code",
   "execution_count": 8,
   "metadata": {},
   "outputs": [],
   "source": [
    "bad_tweet_text_list = []\n",
    "for tweet in bad_user_tweets:\n",
    "    tweet_text = tweet['tweet']\n",
    "    tweet_text = ' '.join([word for word in tweet_text.lower().split() if word not in stop]) #remove stopwords\n",
    "    tweet_text = tweet_text.translate(table) #remove punc.\n",
    "    tweet_text = ''.join(c for c in tweet_text if not c.isdigit()) #remove numbers\n",
    "    tweet_text = tweet_text.replace('  ', ' ') #remove double spaces\n",
    "    tweet_text = ' '.join([lemmatizer.lemmatize(word) for word in tweet_text.split()]) #lemminize\n",
    "    bad_tweet_text_list.append(tweet_text)"
   ]
  },
  {
   "cell_type": "code",
   "execution_count": 15,
   "metadata": {},
   "outputs": [
    {
     "name": "stdout",
     "output_type": "stream",
     "text": [
      "Error\n",
      "Error\n",
      "Error\n",
      "Error\n",
      "Error\n",
      "Error\n",
      "Error\n",
      "Error\n",
      "Error\n",
      "Error\n",
      "Error\n",
      "Error\n",
      "Error\n",
      "Error\n",
      "Error\n",
      "Error\n",
      "Error\n",
      "Error\n",
      "Error\n",
      "Error\n",
      "Error\n",
      "Error\n",
      "Error\n",
      "Error\n"
     ]
    }
   ],
   "source": [
    "good_tweet_text_list = []\n",
    "for user in good_user_tweets:\n",
    "\ttry:\n",
    "\t\tfor tweet in good_user_tweets[user]['data']:\n",
    "\t\t\ttweet_text = tweet['text']\n",
    "\t\t\ttweet_text = ' '.join([word for word in tweet_text.lower().split() if word not in stop]) #remove stopwords\n",
    "\t\t\ttweet_text = tweet_text.translate(table) #remove punc.\n",
    "\t\t\ttweet_text = ''.join(c for c in tweet_text if not c.isdigit()) #remove numbers\n",
    "\t\t\ttweet_text = tweet_text.replace('  ', ' ') #remove double spaces\n",
    "\t\t\ttweet_text = ' '.join([lemmatizer.lemmatize(word) for word in tweet_text.split()]) #lemminize\n",
    "\t\t\tgood_tweet_text_list.append(tweet_text)\n",
    "\texcept:\n",
    "\t\tprint(\"Error\")"
   ]
  },
  {
   "cell_type": "code",
   "execution_count": 17,
   "metadata": {},
   "outputs": [
    {
     "name": "stdout",
     "output_type": "stream",
     "text": [
      "4896\n",
      "tide pool excretion schoolnewsletter\n"
     ]
    }
   ],
   "source": [
    "print(len(good_tweet_text_list))\n",
    "print(good_tweet_text_list[0])"
   ]
  },
  {
   "cell_type": "code",
   "execution_count": 16,
   "metadata": {},
   "outputs": [
    {
     "name": "stdout",
     "output_type": "stream",
     "text": [
      "4960\n",
      "mammoth ivory carving figurine japanese samurai look mighty yet robust creation japanese samurai figurine wooden platform precisely sculpted original mammoth ivory httpstcokbjbzmrf httpstcoxrzqlbdzdz\n"
     ]
    }
   ],
   "source": [
    "# Combine bad and good tweets\n",
    "tweet_combined_ground_truth = bad_tweet_text_list + good_tweet_text_list\n",
    "print(len(tweet_combined_ground_truth))\n",
    "print(tweet_combined_ground_truth[0])\n"
   ]
  },
  {
   "cell_type": "code",
   "execution_count": 10,
   "metadata": {},
   "outputs": [],
   "source": [
    "# Create the ground truth labels\n",
    "bad_labels = [1] * len(bad_user_tweets)\n",
    "good_labels = [0] * len(good_user_tweets)\n",
    "# Combine the labels\n",
    "labels = bad_labels + good_labels"
   ]
  },
  {
   "cell_type": "code",
   "execution_count": 11,
   "metadata": {},
   "outputs": [
    {
     "name": "stdout",
     "output_type": "stream",
     "text": [
      "123\n"
     ]
    }
   ],
   "source": [
    "print(len(labels))"
   ]
  },
  {
   "cell_type": "code",
   "execution_count": 12,
   "metadata": {},
   "outputs": [],
   "source": [
    "model_name = \"bert-base-uncased\"\n",
    "# max sequence length for each document/sentence sample\n",
    "max_length = 512\n",
    "# load the tokenizer\n",
    "tokenizer = BertTokenizerFast.from_pretrained(model_name, do_lower_case=True)"
   ]
  },
  {
   "cell_type": "code",
   "execution_count": 13,
   "metadata": {},
   "outputs": [],
   "source": [
    "from sklearn.model_selection import train_test_split\n",
    "x_train, y_train, x_test, y_test = train_test_split(tweet_combined_ground_truth, labels, test_size=0.2)"
   ]
  },
  {
   "cell_type": "code",
   "execution_count": 14,
   "metadata": {},
   "outputs": [
    {
     "name": "stdout",
     "output_type": "stream",
     "text": [
      "98\n",
      "25\n",
      "98\n",
      "25\n"
     ]
    }
   ],
   "source": [
    "print(len(x_train))\n",
    "print(len(y_train))\n",
    "print(len(x_test))\n",
    "print(len(y_test))"
   ]
  },
  {
   "cell_type": "code",
   "execution_count": 15,
   "metadata": {},
   "outputs": [],
   "source": [
    "train_encodings = tokenizer(x_train, truncation=True, padding=True, max_length=max_length)\n",
    "test_encodings = tokenizer(y_train, truncation=True, padding=True, max_length=max_length)"
   ]
  },
  {
   "cell_type": "code",
   "execution_count": 16,
   "metadata": {},
   "outputs": [
    {
     "name": "stdout",
     "output_type": "stream",
     "text": [
      "<class 'transformers.tokenization_utils_base.BatchEncoding'>\n",
      "25\n"
     ]
    }
   ],
   "source": [
    "# print(train_encodings)\n",
    "print(type(train_encodings))\n",
    "print(len(y_train))"
   ]
  },
  {
   "cell_type": "code",
   "execution_count": 17,
   "metadata": {},
   "outputs": [],
   "source": [
    "# Create torch dataset\n",
    "class Dataset(torch.utils.data.Dataset):\n",
    "    def __init__(self, encodings, labels=None):\n",
    "        self.encodings = encodings\n",
    "        self.labels = labels\n",
    "\n",
    "    def __getitem__(self, idx):\n",
    "        item = {key: torch.tensor(val[idx]) for key, val in self.encodings.items()}\n",
    "        # print(item)\n",
    "        # print(\"Number of encodings: \" + str(len(self.encodings)))\n",
    "        # print(str(idx) + ' ' + str(len(self.labels)))\n",
    "        if self.labels:\n",
    "            item[\"labels\"] = torch.tensor(self.labels[idx])\n",
    "        return item\n",
    "\n",
    "    def __len__(self):\n",
    "        return len(self.encodings[\"input_ids\"])"
   ]
  },
  {
   "cell_type": "code",
   "execution_count": 18,
   "metadata": {},
   "outputs": [],
   "source": [
    "train_dataset = Dataset(train_encodings, x_test)\n",
    "test_dataset = Dataset(test_encodings, y_test)"
   ]
  },
  {
   "cell_type": "code",
   "execution_count": 19,
   "metadata": {},
   "outputs": [
    {
     "name": "stderr",
     "output_type": "stream",
     "text": [
      "Some weights of the model checkpoint at bert-base-uncased were not used when initializing BertForSequenceClassification: ['cls.predictions.transform.LayerNorm.weight', 'cls.predictions.transform.dense.weight', 'cls.seq_relationship.weight', 'cls.predictions.decoder.weight', 'cls.predictions.transform.dense.bias', 'cls.predictions.transform.LayerNorm.bias', 'cls.predictions.bias', 'cls.seq_relationship.bias']\n",
      "- This IS expected if you are initializing BertForSequenceClassification from the checkpoint of a model trained on another task or with another architecture (e.g. initializing a BertForSequenceClassification model from a BertForPreTraining model).\n",
      "- This IS NOT expected if you are initializing BertForSequenceClassification from the checkpoint of a model that you expect to be exactly identical (initializing a BertForSequenceClassification model from a BertForSequenceClassification model).\n",
      "Some weights of BertForSequenceClassification were not initialized from the model checkpoint at bert-base-uncased and are newly initialized: ['classifier.bias', 'classifier.weight']\n",
      "You should probably TRAIN this model on a down-stream task to be able to use it for predictions and inference.\n"
     ]
    }
   ],
   "source": [
    "model = BertForSequenceClassification.from_pretrained(model_name, num_labels=2).to(device)"
   ]
  },
  {
   "cell_type": "code",
   "execution_count": 20,
   "metadata": {},
   "outputs": [],
   "source": [
    "from sklearn.metrics import accuracy_score, recall_score, precision_score, f1_score\n",
    "\n",
    "def compute_metrics(p):\n",
    "    pred, labels = p\n",
    "    pred = np.argmax(pred, axis=1)\n",
    "\n",
    "    accuracy = accuracy_score(y_true=labels, y_pred=pred)\n",
    "    recall = recall_score(y_true=labels, y_pred=pred)\n",
    "    precision = precision_score(y_true=labels, y_pred=pred)\n",
    "    f1 = f1_score(y_true=labels, y_pred=pred)\n",
    "\n",
    "    return {\"accuracy\": accuracy, \"precision\": precision, \"recall\": recall, \"f1\": f1}"
   ]
  },
  {
   "cell_type": "code",
   "execution_count": 21,
   "metadata": {},
   "outputs": [],
   "source": [
    "training_args = TrainingArguments(\n",
    "    output_dir='./results',          # output directory\n",
    "    num_train_epochs=10,              # total number of training epochs\n",
    "    per_device_train_batch_size=8,  # batch size per device during training\n",
    "    per_device_eval_batch_size=20,   # batch size for evaluation\n",
    "    warmup_steps=500,                # number of warmup steps for learning rate scheduler\n",
    "    weight_decay=0.01,               # strength of weight decay\n",
    "    logging_dir='./logs',            # directory for storing logs\n",
    "    load_best_model_at_end=True,     # load the best model when finished training (default metric is loss)\n",
    "    # but you can specify `metric_for_best_model` argument to change to accuracy or other metric\n",
    "    logging_steps=400,               # log & save weights each logging_steps\n",
    "    save_steps=400,\n",
    "    evaluation_strategy=\"steps\",     # evaluate each `logging_steps`\n",
    ")"
   ]
  },
  {
   "cell_type": "code",
   "execution_count": 22,
   "metadata": {},
   "outputs": [],
   "source": [
    "trainer = Trainer(\n",
    "    model=model,                         # the instantiated Transformers model to be trained\n",
    "    args=training_args,                  # training arguments, defined above\n",
    "    train_dataset=train_dataset,        # training dataset\n",
    "    eval_dataset=test_dataset,          # evaluation dataset\n",
    "    compute_metrics=compute_metrics,  # the callback that computes metrics of interest\n",
    ")\n"
   ]
  },
  {
   "cell_type": "code",
   "execution_count": 23,
   "metadata": {},
   "outputs": [
    {
     "name": "stderr",
     "output_type": "stream",
     "text": [
      "***** Running training *****\n",
      "  Num examples = 98\n",
      "  Num Epochs = 3\n",
      "  Instantaneous batch size per device = 8\n",
      "  Total train batch size (w. parallel, distributed & accumulation) = 8\n",
      "  Gradient Accumulation steps = 1\n",
      "  Total optimization steps = 39\n",
      "100%|██████████| 39/39 [02:00<00:00,  2.65s/it]\n",
      "\n",
      "Training completed. Do not forget to share your model on huggingface.co/models =)\n",
      "\n",
      "\n",
      "100%|██████████| 39/39 [02:00<00:00,  3.08s/it]"
     ]
    },
    {
     "name": "stdout",
     "output_type": "stream",
     "text": [
      "{'train_runtime': 120.2251, 'train_samples_per_second': 2.445, 'train_steps_per_second': 0.324, 'train_loss': 0.6571747217422876, 'epoch': 3.0}\n"
     ]
    },
    {
     "name": "stderr",
     "output_type": "stream",
     "text": [
      "\n"
     ]
    },
    {
     "data": {
      "text/plain": [
       "TrainOutput(global_step=39, training_loss=0.6571747217422876, metrics={'train_runtime': 120.2251, 'train_samples_per_second': 2.445, 'train_steps_per_second': 0.324, 'train_loss': 0.6571747217422876, 'epoch': 3.0})"
      ]
     },
     "execution_count": 23,
     "metadata": {},
     "output_type": "execute_result"
    }
   ],
   "source": [
    "trainer.train()"
   ]
  },
  {
   "cell_type": "code",
   "execution_count": 24,
   "metadata": {},
   "outputs": [],
   "source": [
    "# import gensim.downloader as api\n",
    "# wv = api.load('word2vec-google-news-300')"
   ]
  },
  {
   "cell_type": "code",
   "execution_count": 25,
   "metadata": {},
   "outputs": [],
   "source": [
    "# tweet_text_vectors = []\n",
    "# for tweet in tweet_text_list:\n",
    "# \tfor word in tweet.split():\n",
    "# \t\t\ttry:\n",
    "# \t\t\t\ttweet_text_vectors.append(np.asarray(wv[word]).astype('float32'))\n",
    "# \t\t\texcept:\n",
    "# \t\t\t\tprint(f'Word {word} not in vocabulary')"
   ]
  }
 ],
 "metadata": {
  "interpreter": {
   "hash": "e7370f93d1d0cde622a1f8e1c04877d8463912d04d973331ad4851f04de6915a"
  },
  "kernelspec": {
   "display_name": "Python 3.10.1 64-bit",
   "language": "python",
   "name": "python3"
  },
  "language_info": {
   "codemirror_mode": {
    "name": "ipython",
    "version": 3
   },
   "file_extension": ".py",
   "mimetype": "text/x-python",
   "name": "python",
   "nbconvert_exporter": "python",
   "pygments_lexer": "ipython3",
   "version": "3.9.7"
  },
  "orig_nbformat": 4
 },
 "nbformat": 4,
 "nbformat_minor": 2
}
