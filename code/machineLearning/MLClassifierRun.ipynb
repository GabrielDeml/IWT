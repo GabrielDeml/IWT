{
 "cells": [
  {
   "cell_type": "code",
   "execution_count": 1,
   "metadata": {},
   "outputs": [],
   "source": [
    "import json\n",
    "import torch\n",
    "import numpy as np\n",
    "from transformers import BertTokenizerFast, BertForSequenceClassification\n",
    "from transformers import Trainer, TrainingArguments"
   ]
  },
  {
   "cell_type": "code",
   "execution_count": 2,
   "metadata": {},
   "outputs": [],
   "source": [
    "# Get device to use\n",
    "device = torch.device(\"cuda\" if torch.cuda.is_available() else \"cpu\")"
   ]
  },
  {
   "cell_type": "code",
   "execution_count": 3,
   "metadata": {},
   "outputs": [],
   "source": [
    "model_name = \"bert-base-uncased\"\n",
    "# max sequence length for each document/sentence sample\n",
    "max_length = 512\n",
    "# load the tokenizer\n",
    "tokenizer = BertTokenizerFast.from_pretrained(model_name, do_lower_case=True)"
   ]
  },
  {
   "cell_type": "code",
   "execution_count": 4,
   "metadata": {},
   "outputs": [],
   "source": [
    "model_path = \"results/checkpoint-1200\"\n",
    "model = BertForSequenceClassification.from_pretrained(model_path, num_labels=2)\n",
    "test_trainer = Trainer(model)"
   ]
  },
  {
   "cell_type": "code",
   "execution_count": 5,
   "metadata": {},
   "outputs": [],
   "source": [
    "# Create torch dataset\n",
    "class Dataset(torch.utils.data.Dataset):\n",
    "    def __init__(self, encodings, labels=None):\n",
    "        self.encodings = encodings\n",
    "        self.labels = labels\n",
    "\n",
    "    def __getitem__(self, idx):\n",
    "        item = {key: torch.tensor(val[idx]) for key, val in self.encodings.items()}\n",
    "        if self.labels:\n",
    "            item[\"labels\"] = torch.tensor(self.labels[idx])\n",
    "        return item\n",
    "\n",
    "    def __len__(self):\n",
    "        return len(self.encodings[\"input_ids\"])"
   ]
  },
  {
   "cell_type": "code",
   "execution_count": 6,
   "metadata": {},
   "outputs": [
    {
     "name": "stderr",
     "output_type": "stream",
     "text": [
      "[nltk_data] Downloading package stopwords to /home/gabe/nltk_data...\n",
      "[nltk_data]   Package stopwords is already up-to-date!\n",
      "[nltk_data] Downloading package wordnet to /home/gabe/nltk_data...\n",
      "[nltk_data]   Package wordnet is already up-to-date!\n",
      "[nltk_data] Downloading package omw-1.4 to /home/gabe/nltk_data...\n",
      "[nltk_data]   Package omw-1.4 is already up-to-date!\n"
     ]
    }
   ],
   "source": [
    "#remove punctuation\n",
    "import string\n",
    "import nltk\n",
    "nltk.download('stopwords')\n",
    "nltk.download('wordnet')\n",
    "nltk.download('omw-1.4')\n",
    "\n",
    "table = str.maketrans('', '', string.punctuation)\n",
    "\n",
    "# Remove stop words\n",
    "from nltk.corpus import stopwords\n",
    "\n",
    "stop = stopwords.words('english')\n",
    "\n",
    "# Lemmatize all words\n",
    "from nltk.stem import WordNetLemmatizer\n",
    "lemmatizer = WordNetLemmatizer()"
   ]
  },
  {
   "cell_type": "code",
   "execution_count": 7,
   "metadata": {},
   "outputs": [
    {
     "name": "stdout",
     "output_type": "stream",
     "text": [
      "Working on file 0\n"
     ]
    },
    {
     "name": "stderr",
     "output_type": "stream",
     "text": [
      "***** Running Prediction *****\n",
      "  Num examples = 99\n",
      "  Batch size = 8\n",
      "100%|██████████| 13/13 [00:03<00:00,  4.25it/s]***** Running Prediction *****\n",
      "  Num examples = 91\n",
      "  Batch size = 8\n",
      "25it [00:48,  2.20it/s]                        ***** Running Prediction *****\n",
      "  Num examples = 100\n",
      "  Batch size = 8\n",
      "38it [00:52,  4.16it/s]***** Running Prediction *****\n",
      "  Num examples = 99\n",
      "  Batch size = 8\n"
     ]
    },
    {
     "name": "stdout",
     "output_type": "stream",
     "text": [
      "material trending home bold stone natural wood httpstcoeujacetyc via archdigest\n"
     ]
    },
    {
     "name": "stderr",
     "output_type": "stream",
     "text": [
      "51it [01:03,  1.36it/s]***** Running Prediction *****\n",
      "  Num examples = 99\n",
      "  Batch size = 8\n",
      "64it [01:07,  3.58it/s]***** Running Prediction *****\n",
      "  Num examples = 19\n",
      "  Batch size = 8\n",
      "67it [01:08,  3.33it/s]***** Running Prediction *****\n",
      "  Num examples = 100\n",
      "  Batch size = 8\n"
     ]
    },
    {
     "name": "stdout",
     "output_type": "stream",
     "text": [
      "white ceramic coaster coaster personalized coaster customizable coaster coaster set ceramic coaster ceramic coaster set two coaster handmade ca httpstcotwvsgrnsv great name anniversary date initial slogan more httpstcomviwcdtxpx\n",
      "terrazzo coaster desire modern twist vintage look bold standout charm friend loved one terrazzo coaster coaster set terrazzo coaster ceramic coaster set coaster handmade ca httpstcotwvsgrnsv httpstcosxgzmwvc\n"
     ]
    },
    {
     "name": "stderr",
     "output_type": "stream",
     "text": [
      "80it [01:13,  3.77it/s]***** Running Prediction *****\n",
      "  Num examples = 100\n",
      "  Batch size = 8\n"
     ]
    },
    {
     "name": "stdout",
     "output_type": "stream",
     "text": [
      "rt fotograffa new artwork sale tranquility httpstcofnvbeymyy fineartamerica httpstcogvnbciumt\n"
     ]
    },
    {
     "name": "stderr",
     "output_type": "stream",
     "text": [
      "93it [01:17,  3.17it/s]***** Running Prediction *****\n",
      "  Num examples = 99\n",
      "  Batch size = 8\n"
     ]
    },
    {
     "name": "stdout",
     "output_type": "stream",
     "text": [
      "choice state ring made collector state spoon spiral design miks nm amp httpstcoeyipxqwzya antique silverplate spoon ring statespoonrings silver represent yourstate httpstcoohyivvmrm\n",
      "listed cute whole spoon shield ring buck spponring shieldring unique makersofinstagram makersmovement silver ring httpstcoljzghyckmf\n",
      "daffodil patterned bell pendant daffodil pendant bell silver antique jingle makersmovement makersofinstagram httpstcouxjdnqv\n",
      "🔔 sound on bell pendant made silverplated daffodil knife handle daffodil antiquesilverplate bell jingle bellsforher🎶 made etsy listed httpstcoskxplznfo\n",
      "groot planter💚 dprints groot iamgroot dprintedgroot wood houseplant makersgonnamake gloucester virginia httpstcoibfojwfkfx\n",
      "🦁awesome lion d print simple hairdryer assisted lay mane 🦁 lion lionsmane dprint thingyverse gold httpstcolemvgppj\n",
      "cha cha cha happy thursday yall sun today thursdayvibes sunshine macaw prettybirds companionbird yearoldmacaw beautiful feather wing yellowbelly soakinginthesun httpstcogisrcvd\n",
      "gold fork ring size century old recycled copper aluminum edward httpstcoheovrdmxte goldforkring gold ring tiny golden recycled httpstcoeupbgpyr\n",
      "sugar tong cuff matching spoon ring original recycled antique piece httpstcofkvuyypsf sugar sugartongtong bangle jewelryset spoonring silverwearjewelry cuff leaf giftsmadewithlove httpstcosblqegpk\n",
      "puzzle piece shaped black walnut engagement ring box httpstcopptzwit ringbox puzzlebox blackwalnuthardwood makeitmemorable wejustfit handmade proposalringbox httpstcoehutmmnkou\n"
     ]
    },
    {
     "name": "stderr",
     "output_type": "stream",
     "text": [
      "106it [01:23,  2.60it/s]***** Running Prediction *****\n",
      "  Num examples = 1\n",
      "  Batch size = 8\n",
      "107it [01:23,  3.33it/s]***** Running Prediction *****\n",
      "  Num examples = 100\n",
      "  Batch size = 8\n"
     ]
    },
    {
     "name": "stdout",
     "output_type": "stream",
     "text": [
      "httpstcocpymkdwlpd 😊 southwest pumpkin gunmetal turquoise sunkissed sunset tila httpstcotvlyrytg\n",
      "turquoise gemstone beaded wrap stretch bracelet order bunch mix match stack nonadesigns turquoisejewelry decemberbirthstone stackbracelet httpstcobxrrmstdby httpstcovjljisw\n",
      "zen necklace turquoise gemstone long beaded bracelet necklace amethyst iolite jasper jade peridot carnelian nonadesigns etsy turquoise turquoisejewelry decemberbirthstone httpstcouztjtmztot httpstcowubqlicm\n",
      "birthstone bauble always personal special carefully hand made care makeitmeaningful etsygifts birthstonejewelry nonadesigns tinyearrings httpstcooqtwkbmi httpstcolxxfyhs httpstconcbkvjep\n",
      "winter spruce multi gem long seed bead strand bracelet wear necklace bracelet more nonadesigns stack em up stackbracelet etsy etsyhandmade httpstcowqkqjlljq httpstcoydpaagwvc\n",
      "rich sparkly sienna peacock long seed bead stretch bracelet necklace nonadesigns etsy autumnjewelry fallcolors stackbracelet httpstcohlghexgmdf httpstcolucrqapfa\n",
      "little soft fall color ya almondine stack wrap bracelet sunstone labradorite jasper jade nonadesigns etsy beadedbracelet bohobracelet stackingbracelet gemstonejewelry httpstcocaqqjecsf httpstcoeopwizexq\n",
      "carnival inspired rio beaded wrap bracelet nonadesigns etsy bohobracelet jewelry stretchbracelet wrapbracelet colorfuljewelry stackbracelet httpstcoozqlqzacd httpstcoomxvdbemn\n",
      "snazzy single collect give new popular item etsy shop single stacking bracelet stretch cord httpstcorqkukxo jewelry stackbracelets layeringjewelry bohojewelry jewelryset stackbracelet stretchbracelet jewelrygift httpstcoayszcsqz\n",
      "bistro bracelet conjuring memory favorite outdoor dining experience colorful stack genuine stone unique glass textural metallic little al fresco one nonadesigns… httpstconnsnffg\n"
     ]
    },
    {
     "name": "stderr",
     "output_type": "stream",
     "text": [
      "120it [01:27,  3.63it/s]***** Running Prediction *****\n",
      "  Num examples = 99\n",
      "  Batch size = 8\n",
      "133it [01:33,  2.77it/s]***** Running Prediction *****\n",
      "  Num examples = 100\n",
      "  Batch size = 8\n"
     ]
    },
    {
     "name": "stdout",
     "output_type": "stream",
     "text": [
      "making use extra time great progress acanthus melanie potter bead seedbeads beading beader beadaddict beadedjewelry beadwork weaver beadersofinstagram beadedbracelet beadmat… httpstcombksfoznn\n",
      "making progress acanthus necklace melaniepotterbeads bead seedbeads beading beader beadaddict beadedjewelry beadwork weaver beadersofinstagram beadedbracelet… httpstcooqzvmoloc\n",
      "bead mat new skill kinga nichols bead embroidered butterfly fun one unique bead seedbeads beading beader beadaddict beadedjewelry beadwork weaver beadersofinstagram… httpstcolakczpowhe\n",
      "melanie potter coming city bead december thth sign class full chicago bead jewelry httpstcoykukolchqq httpstcoyidgypkb\n",
      "melanie potter coming city bead december thth sign class full chicago bead jewelry httpstcomsybbxpfki httpstcojiejphfjip\n",
      "lacy mithril bracelet vivid greengold pearl crystal bead seedbeads beading… httpstconwrtheilc\n",
      "rt lanazdesign abc right angle weave beading stitch beading bead beaded beadwork svetlanagallery craft httpstcopeube…\n"
     ]
    },
    {
     "name": "stderr",
     "output_type": "stream",
     "text": [
      "146it [01:36,  4.55it/s]***** Running Prediction *****\n",
      "  Num examples = 100\n",
      "  Batch size = 8\n"
     ]
    },
    {
     "name": "stdout",
     "output_type": "stream",
     "text": [
      "rt pagesix ‘journey center earth’ actress arlene dahl dead httpstcoddvkyom httpstcoaseacjhexo\n"
     ]
    },
    {
     "name": "stderr",
     "output_type": "stream",
     "text": [
      "159it [01:42,  2.34it/s]***** Running Prediction *****\n",
      "  Num examples = 100\n",
      "  Batch size = 8\n",
      "172it [01:48,  2.51it/s]***** Running Prediction *****\n",
      "  Num examples = 100\n",
      "  Batch size = 8\n"
     ]
    },
    {
     "name": "stdout",
     "output_type": "stream",
     "text": [
      "jewelry grab bag flying doorshop vintage jewelry mystery box grab bag necklace earring assorted httpstcovffzlelxn ring woman midcentury mysterybox grabbag jewelrylot giftforher selfcare surprise httpstcorsgspfjqbd\n",
      "discovered designer design amazingetsy shop vintage cadoro paisley brooch signed httpstcojxlvq bronze blue woman midcentury cadoro vintagebrooch signed paisley fauxpearls httpstcoinnwqdvgtq\n",
      "excited share latest addition etsy shop large kenneth jay lane kjk brooch pendant designer signed vintage httpstcojzqdcel green gold woman midcentury kennethjaylane kjl rhinestonebrooch pendant designer httpstcoiemsybwdl\n",
      "excited share latest addition etsy shop boucher signed lion head choker vintage necklace httpstcocpnlopkvi gold animal woman slidelock midcentury boucher marcel signed lion httpstconylofwp\n",
      "rt vanoudenhaegen new artwork sale marina sunset httpstcopucoxhz fineartamerica httpstcokfxiuoays\n",
      "wowza stunning stay tuned lot vintage designer jewelry coming soon etsy shop signed christian dior beaded pearl necklace vintage httpstcoyyurovc gold round no woman midcentury christiandior runway designerjewelry beadednecklace httpstcoixvggnfbp\n",
      "rt saltedbayonet lovely handmade genuine kellylime seaglass amp sterling silver necklace httpstcowxrrjahfd seaglassjewelry g…\n",
      "definitely find day corojewelry corocraft findoftheday snake vintage designerjewelry wow signed httpstcojgogndevtc httpstcomhwidgpbf\n",
      "excited share latest addition etsy shop vintage pink moonglow beaded necklace japan httpstcoufjgqrfem pink yes woman hook midcentury prettyinpink beadednecklace vintage moonglow httpstcomcdnckl\n",
      "thanks kind word ★★★★★ fantastic piece happy able snag sale thank you gracefrazier httpstcohvegtgpy etsy silver earring woman bohohippie sterlingsilver vintagejewelry jewellery tribaljewelry mapuche httpstcoudqtzbmsqu\n",
      "found nice article introduction great canadian vintage jewelry designer costume jewelry canada part httpstcoajcrazf\n"
     ]
    },
    {
     "name": "stderr",
     "output_type": "stream",
     "text": [
      "185it [01:53,  2.78it/s]***** Running Prediction *****\n",
      "  Num examples = 100\n",
      "  Batch size = 8\n"
     ]
    },
    {
     "name": "stdout",
     "output_type": "stream",
     "text": [
      "wooden handmade nautical ornament decorate captain home httpstcoqcdsagu\n",
      "awesome vintage moon art tapestry httpstcoacwaqbmw\n"
     ]
    },
    {
     "name": "stderr",
     "output_type": "stream",
     "text": [
      "198it [01:57,  4.02it/s]***** Running Prediction *****\n",
      "  Num examples = 100\n",
      "  Batch size = 8\n",
      "211it [02:00,  5.34it/s]***** Running Prediction *****\n",
      "  Num examples = 100\n",
      "  Batch size = 8\n"
     ]
    },
    {
     "name": "stdout",
     "output_type": "stream",
     "text": [
      "two dimensional artwork my httpstcoayrdzpfpi httpstcoieltphay\n"
     ]
    },
    {
     "name": "stderr",
     "output_type": "stream",
     "text": [
      "224it [02:06,  2.25it/s]***** Running Prediction *****\n",
      "  Num examples = 11\n",
      "  Batch size = 8\n"
     ]
    },
    {
     "name": "stdout",
     "output_type": "stream",
     "text": [
      "modest magnificentthere lot option online shop inspired love northumberland httpstcogvwohslwk indieweek yourbizhour smallbiz womaninbizhour supportsmallbusiness shopindie inbizhour giftideas httpstcoqxwdamaji\n",
      "there still time just time commission painting christmas uk only see detail httpstcozyorrtmnw indie yourbizhour smallbiz womaninbizhour supportsmallbusiness shopindie inbizhour yourbizhour giftideas httpstcoonphssx\n"
     ]
    },
    {
     "name": "stderr",
     "output_type": "stream",
     "text": [
      "226it [02:06,  3.10it/s]***** Running Prediction *****\n",
      "  Num examples = 100\n",
      "  Batch size = 8\n",
      "239it [02:11,  2.94it/s]***** Running Prediction *****\n",
      "  Num examples = 84\n",
      "  Batch size = 8\n",
      "250it [02:21,  1.29it/s]***** Running Prediction *****\n",
      "  Num examples = 100\n",
      "  Batch size = 8\n"
     ]
    },
    {
     "name": "stdout",
     "output_type": "stream",
     "text": [
      "httpstcobgirvsbzu rozwija się dynamicznie httpstcoizbtqijy dzięki wam naszym klientom dziękujemy za zaufanie ❤️ httpstcosdwxofy egazele egazelebiznesu wyroznienie podziekowania happy proud firmaecommerce pulsbiznesu httpstconurtpcrigx\n",
      "targi caravaningowe – camper caravan show ❗ 👉 doktorvolt zaprezentował swoje kempingowe słupki dystrybucyjne ➡ httpstcohjfovyvi dowiedz się więcej targach przejrzyj naszą fotorelację 😉 httpstcocxqiqikml targi targicaravaningowe caravaninglife httpstcocpuipdmmjj\n",
      "słupki dystrybucyjne kempingowe doktorvolt❗ przeczytaj koniecznie 👉 httpstcovzalfkg kemping kempings kempingi kamping kämpinge camping campinglife campingtrip campinglove campingcar campingofficial campingtime campingseason campingstyle polekempingowe httpstcojjzxymuny\n",
      "zachęcamy lektury najnowszego artykułu dotyczącego naszej firmy ☺ przeczytaj koniecznie❗😍 ▶️ httpstcoerzsbvcv opowiecieinfo opolskie opolszczyzna kemping kempings kempingi camping camper camp camplife polekempingowe rozdzielnica rozdzielnia httpstcotttsmjxpy\n",
      "nominację tytułu osobowość roku w kategorii biznes zdobył właściciel firmy doktorvolt – zbigniew maleska ❗ głosować możecie tutaj httpstcoxxjflcjjf każdy głos się liczy ❗ httpstcoxcxumtns nominacja osobowość biznes opolskie branza firma httpstcounucsht\n"
     ]
    },
    {
     "name": "stderr",
     "output_type": "stream",
     "text": [
      "263it [02:28,  2.18it/s]***** Running Prediction *****\n",
      "  Num examples = 100\n",
      "  Batch size = 8\n"
     ]
    },
    {
     "name": "stdout",
     "output_type": "stream",
     "text": [
      "💥healing benefit citrine wearers💥 glory sunny yellow citrine gem sought among family quartz crystal exodus book describes th gem belonging aaron breastplate httpstcotqlzeyqrl citrinejewelry citrine httpstcomzrozkxj\n",
      "blue topaz ethiopian opal ring sedex compliant dws jewellery pvt ltd blue topaz ethiopian opal ring maker sitapura industrial area jaipur rajasthan india visit httpstcoxbzjaqm bluetopazring ethiopianopalring silverrings gemstonerings httpstcoltsmuz\n",
      "arizona turquoise jewellery collection buy arizona turquoise jewellery set factory direct price merry christmas sedex compliant dws jewellery buy httpstcofkgycxnmt christmas christmasgifts merrychristmas arizonaturquoise arizonaturquoisejewelry httpstcoindfyxlcx\n",
      "amazonite jewellery collection buy amazonite jewellery set factory direct price merry christmas sedex compliant dws jewellery pvt ltd buy httpstcolokucmui amazonite amazonitejewelry amazonitejewellery christmas httpstcoxythonhhys\n",
      "buy ammolite jewellery set factory direct price merry christmas sedex compliant dws jewellery pvt ltd buy httpstcoxhuwqxlqn jewelrymanufacturer jewelryfactory jewelrymaker jewelrymaking jewelrymanufacturing christmas christmasgifts httpstcogipdgcvm\n",
      "merry christmas jewelry deal find great deal merry christmas sedex compliant dws jewellery shop httpstcoyxgysrmgoz merrychristmas merrychristmasdeals merrychristmassales christmas christmasdeals christmassales christmasjewelry httpstcoglhnnvf\n",
      "find great deal cyber monday sedex compliant dws jewellery pvt ltd shop httpstcobxcrari cybermonday cybermondaydeals cybermondaysales cybermondayjewelry manufacturer fashion luxury customjewelry silver manufacturing wholesale jewelrydesigner httpstcojnqomuuja\n",
      "amethyst jewellery collection buy amethyst jewellery set factory direct price merry christmas sedex compliant dws jewellery pvt ltd buy httpstcoyjfthkgkli jewelrymanufacturer jewelryfactory jewelrymaker jewelrymaking jewelrymanufacturing christmas httpstcoitzdses\n",
      "black friday jewelry deal shop httpstcokiwpugg blackfriday jewelrydeals manufacturer fashion luxury customjewelry silver manufacturing wholesale jewelrydesigner jewellery jewelrydesign onlineshopping shopping jewelry jewelrymanufacturer httpstcophdarn\n",
      "buy abalone shell jewellery set factory direct price merry christmas dws jewellery pvt ltd buy httpstcowpvslkxcee jewelrymanufacturer jewelryfactory jewelrymaker jewelrymaking jewelrymanufacturing jewelry jewellery christmasgifts merrychristmas httpstcoljxxesdve\n",
      "dws tiger eye jewellery manufacturing company located india every single piece tiger eye jewellery made love skilled craftsman visit here httpstcoknkcrkbsz tigerseyejewellery tigerseyejewelry silverjewellery silverjewelry httpstcotlqvphvg\n",
      "dws white topaz jewellery manufacturing company located india every single piece white topaz jewellery made love skilled craftsman visit here httpstcodtubpxdbvd whitetopazjewellery whitetopazjewelry silverjewellery silverjewelry httpstcoyuvclb\n",
      "dws jewellery pvt ltd wholesale tanzanite stud earring maker sitapura industrial area jaipur rajasthan india visit httpstcoeizndzgz tanzaniteearrings studearrings gemstoneearrings earringsmaker earring earring studjewelry jewelry wholesale httpstcosovxvvok\n",
      "dws spessartite garnet jewellery manufacturing company located india httpstcozgkxdhus spessartitegarnetjewellery spessartitegarnetjewelry silverjewellery silverjewelry manufacturer fashion luxury customjewelry silver manufacturing wholesale httpstcohvadmitf\n",
      "dws jewellery pvt ltd wholesale tanzanite silver earring maker sitapura industrial area jaipur rajasthan india visit httpstcoeizndzgz tanzaniteearrings silverearrings gemstoneearrings earringsmaker earring earring silverjewelry jewelry wholesale httpstcospheawpqph\n",
      "dws silver traditional jewellery manufacturing company located india every single piece traditional jewellery made love skilled craftsman visit here httpstcoatadoxsi traditionaljewellery traditionaljewelry silverjewellery silverjewelry httpstcokgvdrkyi\n",
      "dws jewellery pvt ltd smoky turquoise ring manufacturer sitapura industrial area jaipur rajasthan india visit httpstcoowtzuxho smokyring turquoisering silverrings gemstonerings ringsmanufacturer ring ring silverjewelry jewelry wholesale httpstcovoctumefe\n",
      "mookaite jasper people prefer using stoneembedded jewel beauty many gemstone available market selected spiritual medicinal property learn httpstcoyvpvkiwouk mookaitejasperjewelry mookaitejasper httpstcoadvsshdsr\n",
      "dws jewellery pvt ltd pearl turquoise ring manufacturer sitapura industrial area jaipur rajasthan india visit httpstcoowtzuxho pearlring turquoisering silverrings gemstonerings ringsmanufacturer ring ring silverjewelry jewelry wholesale httpstcogxjygyqu\n",
      "malachite jewelry manufacturing company india visit here httpstcolddeyhnq manufacturer fashion luxury customjewelry silver manufacturing wholesale jewelrydesigner jewellery jewelrydesign shopping jewelry malachitejewellery malachitejewelry malachite httpstcoimscwlkoi\n",
      "mojave copper pink opal turquoise ring manufacturer sitapura industrial area visit httpstcokkigtoyyra mojavecopperpinkopalturquoisering silverrings gemstonerings ringsmanufacturer ring ring silverjewelry jewelry wholesale httpstcoijthopwvk\n",
      "malachite rough gemstone healing jewelry visit here httpstcolwbkwhi manufacturer fashion luxury customjewelry silver manufacturing wholesale jewelrydesigner jewellery jewelrydesign onlineshopping shopping jewelry malachiterough httpstcoihjmqldcr\n",
      "mother pearl silver earring manufacturer sitapura industrial area visit httpstcosrjcqoj motherofpearlearrings silverearrings gemstoneearrings earringsmanufacturer earring earring silverjewelry jewelry wholesale jewelrymanufacturer jewelrysupplier httpstcotbgbfur\n",
      "london blue topaz jewelry manufacturing company india visit here httpstcofwfvdwsy fashion luxury customjewelry silver wholesale jewelrydesigner jewellery jewelrydesign onlineshopping jewelry londonbluetopazjewellery londonbluetopazjewelry londonbluetopaz httpstcohhvzgsoeb\n",
      "labradorite silver earring manufacturer sitapura industrial area visit httpstcofull labradoriteearrings silverearrings gemstoneearrings earringsmanufacturer earring earring silverjewelry jewelry wholesale jewelrymanufacturer jewelryexporter httpstcokksjsexbfz\n",
      "thing know buying citrine gemstone jewelry online visit here httpstcofwfvdwsy contact u fashion luxury customjewelry silver manufacturing jewelrydesigner jewelrydesign shopping jewelry citrinejewellery citrinejewelry citrine httpstcoyumxab\n",
      "coral cultured bangle manufacturer visit httpstcoapabrytuz coralculturedbangle silverbangle gemstonebangle banglemanufacturer bangle bangle silverjewelry jewelry wholesale jewelrymanufacturer jewelrysupplier jewelrywholesaler jewelryfactry httpstcokopukfhmm\n",
      "citrine citrine statement jewelry unique birthday gift httpstcorshhljfu citrinejewellery citrinejewelry citrine\n",
      "citrine statement jewelry unique birthday gift november born individual visit here httpstcontbhlgcpm contact u manufacturer fashion luxury customjewelry silver manufacturing wholesale jewelrydesigner jewellery jewelrydesign httpstcowjkmskc\n",
      "dws jewellery pvt ltd citrine white topaz pendant manufacturer sitapura industrial area jaipur rajasthan india visit httpstcozoxcpekxw citrinependant whitetopaz pendantmanufacturer pendant pendant gemstonejewelry jewelrymanufacturer jewelry httpstcomxmuq\n",
      "buy citrine jewelry like expert tip visit here httpstcontbhlgcpm fashion luxury customjewelry silver manufacturing wholesale jewelrydesigner jewellery jewelrydesign onlineshopping shopping jewelry citrinejewellery citrinejewelry citrine httpstcohrwbrrtf\n",
      "tanzanite silver ring manufacturer sitapura industrial area visit httpstcotebaeickv tanzanitering silverrings gemstonerings ringsmanufacturer ring ring silverjewelry jewelry wholesale jewelrymanufacturer jewelrysupplier jewelrywholesaler jewelryfactry httpstcokbqdvudzc\n",
      "planet moon jewellery collection visit here httpstcohrpiopcswv contact u manufacturer fashion luxury customjewelry silver manufacturing wholesale jewelrydesigner jewellery jewelrydesign onlineshopping shopping jewelry planetjewellery httpstcoyyaukfuir\n",
      "dws jewellery wholesale apatite earring manufacturer sitapura industrial area jaipur rajasthan india visit httpstconyttfkbax apatiteearrings silverearrings gemstoneearrings earringsmanufacturer earring earring silverjewelry jewelry wholesale httpstcoinkhuefoc\n",
      "♥️♥️♥️ exclusive guide citrine gemstone care ♥️♥️♥️ ➡️ httpstcontbhlgcpm 📞 manufacturer fashion luxury customjewelry silver manufacturing wholesale jewelrydesigner jewellery jewelrydesign onlineshopping shopping jewelry httpstcoyzrxwplwi\n",
      "dws wholesale tanzanite silver earring manufacturer sitapura industrial area jaipur rajasthan india visit httpstcohrijjwhm tanzaniteearrings silverearrings gemstoneearrings earringsmanufacturer earring earring silverjewelry jewelry wholesale httpstcojfpznatq\n",
      "dws jewellery pvt ltd safety pin manufacturing company located india visit here httpstcofnmzrtic manufacturer fashion luxury customjewelry silver manufacturing wholesale jewelrydesigner jewellery jewelrydesign onlineshopping shopping jewelry httpstcohfaxbkajp\n",
      "dws jewellery pvt ltd wholesale herkimer diamond earring manufacturer sitapura industrial area jaipur india visit httpstcogcqztwjns herkimerdiamondearrings silverearrings gemstoneearrings earringsmanufacturer earring earring silverjewelry httpstcogyanjjkfv\n",
      "lizardite jewelry manufacturing company india lizardite serpentine crystal type low temperature people usually consider common form mineral excess serpentine within them visit here httpstcohkbdcrpw contact u httpstcojuhgyh\n",
      "dws jewellery pvt ltd tanzanite gemstone silver ring manufacturer sitapura industrial area jaipur rajasthan india visit httpstcotebaeickv tanzanitering silverrings gemstonerings ringsmanufacturer ring ring silverjewelry jewelry wholesale httpstcoqylqfhlf\n",
      "dws star moon jewellery manufacturing company located india every single piece star moon jewellery made love skilled craftsman visit here httpstcodsrhbbeikw starjewellery moonjewellery starjewelry moonjewelry manufacturer httpstcocqcyudkqr\n",
      "dws jewellery pvt ltd wholesale tanzanite earring manufacturer sitapura industrial area jaipur rajasthan india visit httpstcohrijjwhm tanzaniteearrings silverearrings gemstoneearrings earringsmanufacturer earring earring silverjewelry jewelry httpstcoroeysrrjfh\n",
      "dws peace sign jewellery manufacturing company located india every single piece peace symbol jewellery made love skilled craftsman mainly manufacture peace jewellery high quality competitive price httpstcopaxafipag peacejewelry httpstcobuqkcmpuff\n",
      "dws jewellery pvt ltd wholesale tanzanite herkimer diamond silver earring manufacturer sitapura industrial area jaipur rajasthan india visit httpstcoeaplizghy tanzaniteearrings herkimerdiamondearrings silverearrings gemstoneearrings earring httpstcommxwfozzau\n",
      "dws seedpod jewellery manufacturing company located india every single piece seedpod jewellery made love skilled craftsman mainly manufacture seedpod jewellery high quality competitive price visit here httpstcomexntkolrk jewelry httpstcogkbjhiihn\n",
      "dws jewellery pvt ltd wholesale tanzanite herkimer diamond earring manufacturer sitapura industrial area jaipur rajasthan india visit httpstcoeaplizghy tanzaniteearrings herkimerdiamondearrings silverearrings gemstoneearrings earringsmanufacturer httpstcokclyumktc\n",
      "dws jewellery pvt ltd wholesale tanzanite amethyst herkimer diamond earring manufacturer sitapura industrial area jaipur rajasthan india visit httpstcoeaplizghy tanzaniteearrings amethystearrings silverearrings gemstoneearrings earringsmanufacturer httpstcolxdoxmgpux\n",
      "dws tribal silver jewellery manufacturing company located india every single piece tribal silver jewellery made love skilled craftsman mainly manufacture tribal silver jewellery high quality competitive price httpstcozhpfrjbb httpstcofcsoyepzgr\n",
      "dws jewellery pvt ltd wholesale blue chalcedony bracelet manufacturer sitapura industrial area jaipur rajasthan india visit httpstcoxkumknmeg bluechalcedonybracelet silverbracelet gemstonebracelet braceletmanufacturer bracelet bracelet silverjewelry httpstcouxozwfva\n",
      "dws sunshine aisle jewelry manufacturing company located india every single piece sunshine jewelry made love skilled craftsman mainly manufacture sunshine aisle jewelry high quality competitive price httpstcoiyqktbquh jewelry httpstcoseyghvln\n",
      "dws jewellery pvt ltd wholesale ♥️♥️♥️ red onyx bracelet ♥️♥️♥️ manufacturer sitapura industrial area jaipur rajasthan india ➡️ httpstcoyrvuzaoj redonyxbracelet silverbracelet gemstonebracelet braceletmanufacturer bracelet bracelet silverjewelry jewelry httpstcowwbtzsxuxb\n",
      "dws jewellery pvt ltd street jewelry manufacturing company located india every single piece street jewelry made love skilled craftsman mainly manufacture street jewelry high quality competitive price httpstconpnretvhz jewelry httpstcobvzuhlhqy\n",
      "dws jewellery pvt ltd wholesale rose chalcedony bracelet manufacturer sitapura industrial area jaipur rajasthan india visit httpstcossgmdxeov silverbracelet gemstonebracelet braceletmanufacturer bracelet bracelet silverjewelry jewelry wholesale httpstcotjctzogs\n",
      "dws jewellery pvt ltd wholesale amethyst bracelet manufacturer sitapura industrial area jaipur rajasthan india visit httpstcoubplac amethystbracelet silverbracelet gemstonebracelet braceletmanufacturer bracelet bracelet silverjewelry jewelry httpstcoobknz\n",
      "outsource production wavy discstyle jewelry dws jewellery pvt ltd competitive price 🔗 httpstcoynqxyklill fashion luxury customjewelry silver manufacturing wholesale jewelrydesigner jewellery jewelrydesign shopping jewelry httpstcomkpxojdic\n",
      "outsource production vibrant rock style jewelry dws jewellery pvt ltd competitive price httpstcoppegdfiy manufacturer fashion luxury customjewelry silver manufacturing wholesale jewelrydesigner jewellery jewelrydesign onlineshopping httpstcojsagksavcx\n",
      "dws jewellery pvt ltd wholesale turquoise cultured bracelet manufacturer sitapura industrial area jaipur rajasthan india visit httpstcoyqgvlyjcf turquoiseculturedbracelet silverbracelet gemstonebracelet braceletmanufacturer bracelet bracelet httpstcoetjkrhlem\n",
      "outsource production wrapped treasure style jewelry dws jewellery pvt ltd competitive price click here httpstcoccfeptlzp manufacturer fashion luxury customjewelry silver manufacturing wholesale jewelrydesigner jewellery jewelrydesign httpstcoyleuukvuft\n",
      "dws jewellery pvt ltd meteorite pendant manufacturer sitapura industrial area jaipur rajasthan india visit httpstcoxlnljrqie meteorite meteoritependant pendantmanufacturer pendant pendant gemstonejewelry jewelry wholesale httpstcotdvtiat\n",
      "tanzanite jewelry collection outsource production tanzanite jewelry dws jewellery pvt ltd competitive price click here httpstcoppegdfiy manufacturer fashion luxury customjewelry silver manufacturing wholesale jewelrydesigner jewellery httpstcoldjkbqaodp\n",
      "outsource production floret petal style jewelry dws jewellery pvt ltd competitive price click here httpstcoyykkysedyl manufacturer fashion luxury customjewelry silver manufacturing wholesale jewelrydesigner jewellery jewelrydesign httpstcofmoyrgpbmo\n",
      "dws jewellery pvt ltd silver octopus pendant manufacturer sitapura industrial area jaipur rajasthan india order now httpstcoublgdhiy manufacturer fashion luxury customjewelry silver manufacturing wholesale jewelrydesigner jewellery jewelrydesign httpstcobmzjadlzfd\n",
      "face jewelry collection outsource production face style jewelry dws jewellery pvt ltd competitive price click here httpstcokbxevbz jewelry fashion luxury customjewelry silver manufacturing wholesale jewelrydesigner jewellery httpstcoztblivzfz\n",
      "weaving jewelry collection outsource production weaving style jewelry dws jewellery pvt ltd competitive price click here httpstcojdsiqoy mob no manufacturer fashion luxury customjewelry silver manufacturing wholesale jewelry httpstcojzbzqbmbyc\n",
      "mojave copper opal sterling silver ring manufacturer sitapura industrial area order now httpstcousmaabmlsy mojavecopperopalring silverrings gemstonerings ringsmanufacturer ring ring silverjewelry jewelry wholesale httpstcoevwtxprs\n",
      "outsource production tribal silver jewelry design dws jewellery pvt ltd competitive price click here httpstcommquwzs mob no email onlinejewelsmanufacturecom jewelry fashion luxury customjewelry silver manufacturing httpstcoomungapzfs\n",
      "dws jewellery pvt ltd moonstone sterling silver ring manufacturer sitapura industrial area jaipur rajasthan india order now httpstcohqoipajq moonstonering silverrings gemstonerings ringsmanufacturer ring ring silverjewelry jewelry wholesale httpstcoizjnqpoyog\n",
      "pencil jewelry collection outsource production pencil jewelry design dws jewellery pvt ltd competitive price click here httpstcogkrypdl mob no email onlinejewelsmanufacturecom jewelry fashion luxury customjewelry silver httpstconhxzp\n",
      "find men collection perfect jewelry perfect men dws jewellery click here httpstcomylmbgi mob no menjewelry jewelrycollection menscollection menfashion ring manufacturer fashion luxury customjewelry silver manufacturing jewelry httpstcofapefgs\n",
      "outsource production entwined nest jewelry design dws jewellery pvt ltd competitive price click here httpstcowvoatlwb manufacturer fashion luxury customjewelry silver manufacturing jewelry jewelrydesigner jewellery jewelrydesign httpstcogvqfmdbjd\n",
      "mojave copper ethiopian opal sterling silver ring manufacturer sitapura industrial area order now httpstcohqoipajq mojavecopperethiopianopalring silverrings gemstonerings ringsmanufacturer ring ring silverjewelry jewelry wholesale httpstcontvcgnadl\n",
      "guide buying ammolite jewelry learn httpstcohpxckuthlb manufacturer fashion luxury customjewelry silver manufacturing wholesale jewelrydesigner jewellery jewelrydesign onlineshopping shopping jewelry ammolite ammolitejewelry jewelryexporter httpstcordypqeoy\n",
      "dws jewellery wholesale lemon topaz stud earring manufacturer sitapura industrial area jaipur rajasthan india order now httpstcodqgxdti lemontopazearrings silverearrings gemstoneearrings earringsmanufacturer earring earring silverjewelry stud stud httpstcoatzsvuai\n",
      "plaisir de ethnique jewelry collection outsource production plaisir de ethnique jewelry design dws jewellery pvt ltd competitive price click here httpstcorywjbhyity manufacturer fashion luxury customjewelry silver manufacturing jewelry jewel httpstcopilmwfwdyw\n",
      "increasing significance ammolite among millenials learn httpstcoetbewckf manufacturer fashion luxury customjewelry silver manufacturing wholesale jewelrydesigner jewellery jewelrydesign onlineshopping shopping jewelry httpstcoibvjdmy\n",
      "dws jewellery pvt ltd wholesale labradorite earring manufacturer sitapura industrial area jaipur rajasthan india httpstcoulpzibdfg manufacturer fashion luxury customjewelry silver manufacturing wholesale jewelrydesigner jewellery jewelrydesign httpstcoudzspgefnu\n",
      "italian mesh jewelry collection outsource manufacture mesh jewelry design dws jewellery pvt ltd click here httpstcoqwvlvfrw mob no email onlinejewelsmanufacturecom manufacturer fashion luxury customjewelry jewelry httpstcohiesgqjs\n",
      "dws jewellery pvt ltd wholesale lapis stud earring manufacturer sitapura industrial area jaipur rajasthan india order now httpstcokltwdwajb lapisearrings silverearrings gemstoneearrings earringsmanufacturer earring earring silverjewelry jewelry httpstcoabzuinq\n",
      "ammolite gifting aquarians gemini taureans learn httpstcojcswklnkwg manufacturer fashion luxury customjewelry silver manufacturing wholesale jewelrydesigner jewellery jewelrydesign onlineshopping shopping jewelry ammolite ammolitejewelry httpstcoofmsmjkz\n",
      "mojave copper oyster turquoise ring manufacturer sitapura industrial area httpstcouinekjaei manufacturer fashion luxury customjewelry silver manufacturing wholesale jewelrydesigner jewellery jewelrydesign onlineshopping shopping jewelry silverrings ring httpstcogyckj\n",
      "identifying real ammolite ammolite gemstone jewelry care tip learn httpstcorrtxhhonkt ammolite ammolitejewelry ammolitejewelrydesigner jewelrydesigner jewelry manufacturer fashion luxury customjewelry silver manufacturing wholesale jewelrydesigner httpstconfszsq\n",
      "carnelian earring manufacturer sitapura industrial area httpstcoyxdpyzolw manufacturer fashion luxury customjewelry silver manufacturing wholesale jewelrydesigner jewellery jewelrydesign onlineshopping shopping carnelianearrings silverearrings earring httpstconhypkovib\n",
      "ammolite gemstone benefit wearer learn httpstcoqcosfyijl manufacturer fashion luxury customjewelry silver manufacturing wholesale jewelrydesigner jewellery jewelrydesign onlineshopping shopping ammolite ammolitejewelry jewelry httpstcotcyejkulj\n",
      "interesting fact ammolite gemstone need know learn httpstcojobunyvl manufacturer fashion luxury customjewelry silver manufacturing wholesale jewelrydesigner jewellery jewelrydesign onlineshopping shopping ammolite ammolitejewelry jewelry httpstcoyndoyfvk\n",
      "abstract round jewelry manufacturing company india httpstcoqrwmie jewelrymanufacturing jewelry jewelrycompany manufacturer fashion luxury customjewelry silver manufacturing wholesale jewelrydesigner jewellery jewelrydesign onlineshopping shopping httpstcoptcqykqxs\n",
      "lucky lip jewelry manufacturing company india httpstcoghkgmtr jewelrymanufacturing jewelrymanufacturer jewelry manufacturer jewelrymaking jewelrycompany manufacturer fashion luxury customjewelry silver manufacturing wholesale jewelrydesigner jewellery httpstcoquzowfiq\n",
      "long gemstone jewelry manufacturing company india httpstcopijdaut jewelrymanufacturing jewelry manufacturer fashion luxury customjewelry silver manufacturing wholesale jewelrydesigner jewellery jewelrydesign onlineshopping shopping httpstcowswtwmqnt\n",
      "jaguar rosette jewelry manufacturing company india httpstcotikbndvy manufacturer fashion luxury customjewelry silver manufacturing wholesale jewelrydesigner jewellery jewelrydesign onlineshopping shopping jewelrymanufacturing jewelrymanufacturer jewelry httpstcoyyqwxzjj\n",
      "natural gemstone jewelry manufacturing company india httpstcosnmydxpo manufacturer fashion luxury customjewelry silver manufacturing wholesale jewelrydesigner jewellery jewelrydesign onlineshopping shopping jewelry httpstcorqhznqvks\n",
      "holy hamsa jewelry manufacturing company india httpstcoygopvtezy jewelrymanufacturing jewelrymanufacturer jewelry manufacturer jewelrymaking manufacturer fashion luxury customjewelry silver manufacturing wholesale jewelrydesigner jewellery jewelrydesign httpstcodvetsfvi\n",
      "hammered jewelry manufacturing company india httpstcoetaxndvt jewelrymanufacturing jewelrymanufacturer jewelry manufacturer jewelrymaking jewelrycompany jewelryfactory manufacturer fashion luxury customjewelry silver manufacturing wholesale jewelrydesign httpstcosjfxmyz\n",
      "visit dws jewellery glossy candy jewelry manufacturing httpstcorwhmzhnq jewelrymanufacturing jewelrymanufacturer jewelry manufacturer jewelrymaking jewelrycompany jewelryfactory manufacturer fashion luxury customjewelry silver manufacturing wholesale httpstcoiugeizrd\n",
      "fascinating enamel jewelry manufacturing company india httpstcorkjohpy jewelrymanufacturing jewelrymanufacturer jewelry manufacturer jewelrymaking jewelrycompany jewelryfactory manufacturer fashion luxury customjewelry silver manufacturing wholesale httpstcoirwhsbh\n",
      "dws jewellery pvt ltd wholesale lapis hoop earring manufacturer sitapura industrial area jaipur rajasthan india httpstcoqgtod jewelrymanufacturer jewelrywholesaler jewelrymanufacturers jewelrywholesale earring earring silverjewelry jewelry jewel httpstcoxrqszzlso\n",
      "visit dws jewellery geometric jewelry manufacturing company manufacture geometric jewelry silver metal affordable price website httpstcocyjahdgbr manufacturer fashion luxury customjewelry silver manufacturing wholesale jewelrydesigner jewellery httpstcosgjqjbr\n",
      "dws jewellery pvt ltd aqua chalcedony life ring manufacturer sitapura industrial area jaipur rajasthan india httpstcoctpadkp aquachalcedonyring silverrings gemstonerings ringsmanufacturer ring ring silverjewelry jewelry wholesale httpstcocdzbixlkhq\n"
     ]
    },
    {
     "name": "stderr",
     "output_type": "stream",
     "text": [
      "276it [02:32,  2.99it/s]***** Running Prediction *****\n",
      "  Num examples = 97\n",
      "  Batch size = 8\n"
     ]
    },
    {
     "name": "stdout",
     "output_type": "stream",
     "text": [
      "rt saltedbayonet rare handmade genuine red depression glass seaglass cz amp sterling silver necklace httpstcohyfnbdbt surftumb…\n",
      "rt saltedbayonet tiny handmade genuine cobalt blue seaglass amp sterling silver hoopearrings httpstcowjppfcar seaglassjewelry…\n",
      "rt tanyawarren ballerina mouse handmade crochet dancing mouse httpstcoxpeuksvmd httpstcolumsmyiw\n"
     ]
    },
    {
     "name": "stderr",
     "output_type": "stream",
     "text": [
      "289it [02:37,  3.54it/s]***** Running Prediction *****\n",
      "  Num examples = 100\n",
      "  Batch size = 8\n",
      "302it [02:44,  2.22it/s]***** Running Prediction *****\n",
      "  Num examples = 99\n",
      "  Batch size = 8\n"
     ]
    },
    {
     "name": "stdout",
     "output_type": "stream",
     "text": [
      "coming soon thewindinggarden booth flea hag antique branson mo fleahagantiques creekside antique hollister mo creeksideantiques shipping httpstcohkmvvckzim httpstcoserwqhff retro primative antique vintage cottage midcentury kettle butterchurn httpstcotrunbinjqq\n",
      "excited share latest addition etsy shop womenamps flannel shirt sunbleach fittedoversize flannel shirt distressed flannel vintage flannel hippie boho grunge shirt httpstcosvilohfvv vintage vintageinspired vintageclothing flannel httpstcozkxmqitlk\n",
      "excited share latest addition etsy shop s yellow retro mid century watering pitcher httpstcohdezapmni retrofashion retro plant midcentury yellow thewindinggarden vintageshop httpstcofkgkgekmny\n"
     ]
    },
    {
     "name": "stderr",
     "output_type": "stream",
     "text": [
      "315it [02:49,  3.14it/s]***** Running Prediction *****\n",
      "  Num examples = 100\n",
      "  Batch size = 8\n"
     ]
    },
    {
     "name": "stdout",
     "output_type": "stream",
     "text": [
      "loki odin travel altar shop now wiccan later week loki travel altar altoid pocket altar portable altar tin httpstconjbspdjqb norse pagan altar portable diety embroidery httpstcoyscczhuwg\n",
      "looking perfect gift friend pagan wiccan everything need broom closet httpstcohkfkbpcd pagan norse altar wicca wiccan tarot embroidery httpstcolpwkvjyb\n",
      "alter tin cut hem embroider cloth cut shape bake coat token everything picked hand quickly becoming popular item httpstcohgldblrd odin norse pagan altar altoidtin pocket embroidery httpstcojtjlkibqk\n",
      "long overdue upgrade present upgraded urnes snake altar cloth shop httpstcomiykyz pagan norse urnessnake urnes embroidery loki httpstcojhoiwcxo\n",
      "updated urnes snake tarotrune bag one detailed last one urnes urnessnake pagan norse embroidery httpstcodlypzngi\n"
     ]
    },
    {
     "name": "stderr",
     "output_type": "stream",
     "text": [
      "328it [02:57,  1.87it/s]***** Running Prediction *****\n",
      "  Num examples = 100\n",
      "  Batch size = 8\n",
      "341it [03:04,  2.06it/s]***** Running Prediction *****\n",
      "  Num examples = 6\n",
      "  Batch size = 8\n",
      "342it [03:04,  2.45it/s]***** Running Prediction *****\n",
      "  Num examples = 99\n",
      "  Batch size = 8\n",
      "355it [03:10,  2.93it/s]***** Running Prediction *****\n",
      "  Num examples = 100\n",
      "  Batch size = 8\n"
     ]
    },
    {
     "name": "stdout",
     "output_type": "stream",
     "text": [
      "asalasart hi im speculo owner glassified studio make glass art consisting stained glass acid etched mirror glass mosaic halloween stock sale right now site httpstcoqhlfaomde httpstcotjhdczce\n",
      "daebreakstudio hi speçulo owner glassified studio looking connect creative account small business owner make stained glass sun catcher mosaic acid etched mirror site httpstcoqhlfaomde httpstcomkcayou\n",
      "part clean amp wax voila finally done baby available httpstcopraertvjeg stainedglass dexternewblood dexter artwork artistontwitter httpstcopxtnofkuqo\n",
      "part patinaing patina chemical reacts solder turn black copper case black stainedglass artwork dexternewblood dexter httpstcogtbjk\n",
      "part painting glass baking set paint stainedglass dexternewblood dexter httpstcocowjibcoqt\n",
      "honor dexter new blood coming day made small dexter stained glass panel prototype ill make though stainedglass dexter artwork httpstcontwyuartsh\n",
      "iridescent green crystal moon cluster available httpstcolxjjuvb use code getspooky checkout order stainedglass artistontwitter artwork crystal httpstcoxcuzkotnw\n",
      "oh think id stop photo edits well well thought wrong available httpstconxfwcsod stainedglass glassart butt booty artistontwitter beachlife beachvibes httpstcotpojamflln\n",
      "halloween piece still available im going try one halloweenthemed stock launch start christmas ornament available httpstcoqhlfaomde use code getspooky checkout order stainedglass nightsofhalloween httpstcojyypkygr\n",
      "zero available httpstcoovamjtpf use code getspooky checkout order stainedglass glassart artistontwitter nightmarebeforechristmas spooktober halloween httpstcoejrhov\n",
      "gamblin man himself oogie boogie available httpstcofbuvo use code getspooky checkout order stainedglass glassart oogieboogiebash oogieboogie halloween halloweencountdown httpstcoflxghwskme\n",
      "when bat fly moon available httpstcotofvitqs use code getspooky checkout order stainedglass glassart halloween halloweenseason halloweencountdown bat moonlovers httpstcopbgwbcvth\n",
      "lilaccrafts hi im speçulo make stained glass art including sun catcher mosaic also acid etched mirror halloween sale right now site httpstcoqhlfaomde httpstcounnoaxrb\n",
      "beetlejuice beetlejuice beetlejuice available httpstcokiapcg use code getspooky checkout order beetlejuicethemusical beetlejuice mirrormirror artshare halloween httpstcopqqogiwo\n",
      "beetlejuice beetlejuice beetlejuice available httpstcokiapcg use code getspooky checkout order beetlejuice mirrormirror artistofthesummer artistontwitter mirrorworld halloween httpstcoywjgfiya\n",
      "pumpkin spice pumpkin patch psl pumpkin pie pumpkin pun know fall thing 🎃 youre pumpkindding me available httpstcodfbwaqjhri use code getspooky checkout order stainedglass pumpkin artistontwitter fall fallvibes httpstcorlrufruxqf\n",
      "mayneatraktion make stained glass website httpstcoqhlfaomde im sale halloween httpstcocpfcuwcrw\n",
      "gotta hand ya available httpstcoiyeteenz use code getspooky checkout order stainedglass artistontwitter artistofthesummer halloween halloweentime skeleton spookymonth httpstcomjpfrjxet\n",
      "gone batty rainbow iridescent available httpstcoeelowdsr use code getspooky checkout order stainedglass artwork artshare artistsontwitter artistontwitter artvsartist halloween halloweendecor httpstcofkmvlviuy\n",
      "gone batty rainbow iridescent available httpstcoeelowdsr use code getspooky checkout order stainedglass artwork artistontwitter artistofthesummer artshare halloween halloweenart httpstcoemvwsnz\n",
      "ghosties back stock time haunting blue tint available httpstcoqhlfaomde use code getspooky checkout off artistontwitter artshare stainedglass artwork artistsontwitter httpstcotqevnjbks\n",
      "long time postso ive to secretly making halloween collection 💀🧙🦇🎃👻 piece live available site httpstcoqhlfawlm use code getspooky checkout off stainedglass artistontwitter artwork halloween httpstcohithmrsd\n",
      "plague doctor back time he rollin solo whopping × today last day store opening sale catch he gone httpstcoogwarei stainedglass artistontwitter artwork plaguedoctor httpstcouttyrrm\n",
      "marilyn monroe listed ➡️ httpstcopgixpihk stainedglass artistontwitter marilynmonroe swomen artistsontwitter httpstcoygrwsixjxw\n"
     ]
    },
    {
     "name": "stderr",
     "output_type": "stream",
     "text": [
      "368it [03:16,  2.55it/s]***** Running Prediction *****\n",
      "  Num examples = 100\n",
      "  Batch size = 8\n"
     ]
    },
    {
     "name": "stdout",
     "output_type": "stream",
     "text": [
      "elmwood card offer egift card so you’re struggling buy someone need last minute gift let choose something getting gift card httpstcojoxzlxew 🎁 mhhsbd gift shopsmall supportsmallbusiness handmade httpstcobmixzxsku\n",
      "look guy… he’s available £postage httpstcojwmankwo 😬🦖 artjewellery mhhsbd dino dinosaur gift giftideas httpstcosmlhobkzc\n"
     ]
    },
    {
     "name": "stderr",
     "output_type": "stream",
     "text": [
      "381it [03:22,  2.40it/s]***** Running Prediction *****\n",
      "  Num examples = 100\n",
      "  Batch size = 8\n",
      "394it [03:30,  1.86it/s]***** Running Prediction *****\n",
      "  Num examples = 54\n",
      "  Batch size = 8\n"
     ]
    },
    {
     "name": "stdout",
     "output_type": "stream",
     "text": [
      "goosebump rl stine return mummy he back dead egyptian superstition secret hoax mynostalgiclife goosebump rlstine returnofthemummy vintagebooks vintageetsy paperback shopvintage httpstcohecdkf\n",
      "polar express book written illustrated chris van allsburg picture story book santa north pole mynostalgiclife thepolarexpress vintagebook chrisvanallsburg vintageetsy httpstcoyfsemch\n",
      "turnascope kaleidascope toy orange veiwfinder madeinhongkong wonderwheel childstoy mynostalgiclife turnascope kaleidascopetoy vintageetsy shopvintage httpstcogducyqhk\n",
      "simpson marge simpson toy cake topper marge camping wildlife pencil topper burger king kid club fastfoodtoy mynostalgiclife thesimpsons margesimpson vintagetoys burgerking vintageetsy httpstcocftvpcu\n",
      "sardonyx net elizabeth a lynn scifi fiction best far future universe ruled slavery drug mynostalgiclife sardonyxnet elizabethalynn scififiction paperback vintagebook vintageetsy httpstcoprwomxixc\n",
      "disney holiday read along book pocahontas the spirit giving nib page book amp audio tape a gift you song mynostalgiclife disneyholiday readalongbook pocahontas cassettetape vintagedisney shopsmall httpstcoyigcxjpnfz\n",
      "tom jerry welchs jelly jar glass tom jerry play soccer collectible juice glass turner entertainment co tomandjerry welchsjelly jellyjar glassjar vintageetsy vintagecollectible shopsmall httpstcocyseeyb\n",
      "rt vintageforchild httpstcokbxhighcki smurf plush vintage httpstcopkfmpekrw\n",
      "mickey mouse tumbler mcdonald’s water glass disney world celebration collectible glassware disney millennium square glass mynostalgiclife disney mcdonalds vintageglass mickeymouse vintageetsy httpstcomegxszhg\n",
      "nightmare christmas vhs jack skellington tim burton cult classic movie disney special edition medium movie mynostalgiclife vintagevhs thenightmarebeforechristmas jackskellington vintageetsy httpstcojqjshxcy\n",
      "cutie club mini doll horse cutie club colt kid cutie club mini galoob mynostalgiclife cutieclub cutieclubmini vintagetoys cutieclubdolls cutieclubhorses etsytoys vintageetsy httpstcokjyqhhwbjq\n",
      "jumanji book written illustrated chris van allsburg picture story book magical board game whatever imagine mynostalgiclife jumanji jumanjibook chrisvanallsburg vintagebook vintageetsy httpstcouaijdcgt\n",
      "mampm candy dispenser red candy dispenser mar candy co retro desk top candy machine mynostalgiclife mandm candydispenser redmandm vintageetsy vintagetoys httpstcolnpqgz\n",
      "first salute book view american revolution narrative history barbara w tuchman medium amp historybooks coffeetablebook vintagebooks thefirstsalutebook etsy americanrevolution vintageetsy httpstcohvkhcilc\n"
     ]
    },
    {
     "name": "stderr",
     "output_type": "stream",
     "text": [
      "401it [03:33,  2.17it/s]***** Running Prediction *****\n",
      "  Num examples = 100\n",
      "  Batch size = 8\n"
     ]
    },
    {
     "name": "stdout",
     "output_type": "stream",
     "text": [
      "purchase link below httpstcolrizhnrafq jewelry jewelryforsale etsyjewelry smallbusinessowner blackownedbusinesses bluemoon httpstcoreqfcoud\n",
      "purchase link below httpstcolrizhnrafq jewelry jewelryforsale etsyjewelry smallbusinessowner blackownedbusinesses bluemoon httpstcojcmbkae\n",
      "purchase link below httpstcolrizhnrafq jewelry jewelryforsale etsyjewelry smallbusinessowner blackownedbusinesses bluemoon lovenecklace romance httpstcotutwppxzb\n",
      "purchase link below httpstcolrizhnrafq jewelry jewelryforsale etsyjewelry smallbusinessowner blackownedbusinesses bluemoon httpstcoixfhhrrw\n",
      "purchase link below httpstcolrizhnrafq jewelry jewelryforsale etsyjewelry smallbusinessowner blackownedbusinesses bluemoon httpstcocjakhlxib\n",
      "purchase link below httpstcolrizhnrafq jewelry jewelryforsale etsyjewelry smallbusinessowner blackownedbusinesses bluemoon httpstcoleophev\n",
      "purchase link below httpstcolrizhnrafq jewelry jewelryforsale etsyjewelry smallbusinessowner blackownedbusinesses bluemoon httpstcolzvihxfbig\n",
      "purchase link below httpstcolrizhnrafq jewelry jewelryforsale etsyjewelry smallbusinessowner blackownedbusinesses bluemoon httpstcojveesy\n",
      "purchase link below httpstcolrizhnrafq jewelry jewelryforsale etsyjewelry smallbusinessowner blackownedbusinesses bluemoon naturejewelry selenite httpstcobefgnptk\n",
      "purchase link below httpstcolrizhnrafq jewelry jewelryforsale etsyjewelry smallbusinessowner blackownedbusinesses bluemoon httpstcolbxhabdn\n",
      "purchase link below httpstcolrizhnrafq jewelry jewelryforsale etsyjewelry smallbusinessowner blackownedbusinesses bluemoon romance lovejewelry angel httpstcoxzbrxqnbtq\n",
      "purchase link below httpstcolrizhnrafq jewelry jewelryforsale etsyjewelry smallbusinessowner blackownedbusinesses bluemoon romance httpstcolclbziu\n",
      "purchase link below httpstcolrizhnrafq jewelry jewelryforsale etsyjewelry smallbusinessowner blackownedbusinesses bluemoon naturejewelry httpstcouphtchehew\n",
      "purchase link below httpstcolrizhnrafq jewelry jewelryforsale etsyjewelry smallbusinessowner blackownedbusinesses bluemoon soulmatejewelry weddingjewelry wedding soulmates twinflames etsyshop httpstcohmmlvs\n",
      "purchase link below httpstcolrizhnrafq jewelry jewelryforsale etsyjewelry smallbusinessowner blackownedbusinesses bluemoon httpstcoiduunnrkcj\n",
      "purchase link below httpstcolrizhnrafq jewelry jewelryforsale etsyjewelry smallbusinessowner blackownedbusinesses bluemoon httpstcomuottaaqw\n",
      "purchase link below httpstcolrizhnrafq jewelry jewelryforsale etsyjewelry smallbusinessowner blackownedbusinesses bluemoon httpstcotglumissn\n",
      "purchase link below httpstcolrizhnrafq jewelry jewelryforsale etsyjewelry smallbusinessowner blackownedbusinesses bluemoon selenite beachjewelry serenity httpstcosfwfgv\n",
      "purchase link below httpstcolrizhnrafq jewelry jewelryforsale etsyjewelry smallbusinessowner blackownedbusinesses bluemoon beachjewelry httpstcomjgejzut\n",
      "purchase link below httpstcolrizhnrafq jewelry jewelryforsale etsyjewelry smallbusinessowner blackownedbusinesses bluemoon httpstcosmuzdcgwb\n",
      "purchase link below httpstcolrizhnrafq jewelry jewelryforsale etsyjewelry smallbusinessowner blackownedbusinesses bluemoon httpstcowlllzjuq\n",
      "purchase link below httpstcolrizhnrafq jewelry jewelryforsale etsyjewelry smallbusinessowner blackownedbusinesses bluemoon cat httpstcogxruvisbg\n",
      "purchase link below httpstcolrizhnyrg jewelry jewelryforsale etsyjewelry smallbusinessowner blackownedbusinesses bluemoon httpstcopymahlttq\n",
      "purchase link below httpstcolrizhnrafq jewelry jewelryforsale etsyjewelry smallbusinessowner blackownedbusinesses bluemoon httpstcosfgcvzlf\n",
      "purchase link below httpstcolrizhnrafq jewelry jewelryforsale etsyjewelry smallbusinessowner blackownedbusinesses bluemoon httpstcoqclbmsjya\n",
      "purchase link below httpstcolrizhnrafq jewelry jewelryforsale etsyjewelry smallbusinessowner blackownedbusinesses bluemoon httpstcoehumamml\n",
      "purchase link below httpstcolrizhnrafq jewelry jewelryforsale etsyjewelry smallbusinessowner blackownedbusinesses bluemoon httpstcoavpihgx\n",
      "purchase link below httpstcolrizhnrafq jewelry jewelryforsale etsyjewelry smallbusinessowner blackownedbusinesses bluemoon httpstcomlmenodo\n",
      "purchase link below httpstcolrizhnrafq jewelry jewelryforsale etsyjewelry smallbusinessowner blackownedbusinesses bluemoon httpstcogdcglhk\n",
      "purchase link below httpstcolrizhnrafq jewelry jewelryforsale etsyjewelry smallbusinessowner blackownedbusinesses bluemoon httpstcoyuzdwoeh\n",
      "purchase link below httpstcolrizhnrafq jewelry jewelryforsale etsyjewelry smallbusinessowner blackownedbusinesses bluemoon coraline httpstcoiqvzigo\n",
      "purchase link below httpstcolrizhnrafq jewelry jewelryforsale etsyjewelry smallbusinessowner blackownedbusinesses bluemoon httpstcoigeiunzhu\n",
      "purchase link below httpstcolrizhnrafq jewelry jewelryforsale etsyjewelry smallbusinessowner blackownedbusinesses bluemoon httpstcomshdnzujyv\n",
      "purchase link below httpstcolrizhnrafq jewelry jewelryforsale etsyjewelry smallbusinessowner blackownedbusinesses bluemoon httpstcopvgaqda\n",
      "purchase link below httpstcolrizhnrafq jewelry jewelryforsale etsyjewelry smallbusinessowner blackownedbusinesses bluemoon httpstcoayvftl\n",
      "purchase link below httpstcolrizhnyrg jewelry jewelryforsale etsyjewelry smallbusinessowner blackownedbusinesses bluemoon httpstcompquatemm\n",
      "purchase link below httpstcolrizhnyrg jewelry jewelryforsale etsyjewelry smallbusinessowner blackownedbusinesses bluemoon httpstcoaortemcc\n",
      "purchase link below httpstcolrizhnyrg jewelry jewelryforsale etsyjewelry smallbusinessowner blackownedbusinesses bluemoon httpstcohqlxyxac\n",
      "purchase link below httpstcolrizhnyrg jewelry jewelryforsale etsyjewelry smallbusinessowner blackownedbusinesses bluemoon httpstcoiilvpabq\n",
      "purchase link below httpstcolrizhnyrg jewelry jewelryforsale etsyjewelry smallbusinessowner blackownedbusinesses bluemoon httpstcopllfhmozci\n",
      "purchase link below httpstcolrizhnyrg jewelry jewelryforsale etsyjewelry smallbusinessowner blackownedbusinesses bluemoon httpstcogvenuoqjpg\n",
      "purchase link below httpstcolrizhnyrg jewelry jewelryforsale etsyjewelry smallbusinessowner blackownedbusinesses bluemoon httpstconljrbbg\n",
      "purchase link below httpstcolrizhnyrg jewelry jewelryforsale etsyjewelry smallbusinessowner blackownedbusinesses bluemoon httpstcotngskhojd\n",
      "purchase link below httpstcolrizhnyrg jewelry jewelryforsale etsyjewelry smallbusinessowner blackownedbusinesses bluemoon httpstcocaofexdln\n",
      "purchase link below httpstconjodoc jewelry jewelryforsale etsyjewelry smallbusinessowner blackownedbusinesses bluemoon httpstcowhzqdhuvdp\n"
     ]
    },
    {
     "name": "stderr",
     "output_type": "stream",
     "text": [
      "414it [03:40,  2.30it/s]***** Running Prediction *****\n",
      "  Num examples = 99\n",
      "  Batch size = 8\n"
     ]
    },
    {
     "name": "stdout",
     "output_type": "stream",
     "text": [
      "pay more flat rate design inch size buy voucher get logo voucher usd month validity httpstcojrelhheqbm digitizing digitizing embroidery fashion onlinedigitizing digitize design usa uk httpstconfzmktsa\n",
      "new winter motorcycle waterproof warm breathable racing embroidered jacket httpstcoqskmqwv digitizing digitizing embroidery fashion leatherjacket wintermotorcyclewaterproof winterfashion embroideryleatherjacket leatherjacketswag jacket httpstcocvsiwfjty\n",
      "unisex men amp woman electric heating polyester thermal vest outdoor waterproof hooded jacket httpstcolncghwo digitizing digitizing embroidery fashion leatherjacket electricheatingpolyester winterfashion embroideryleatherjacket jacket httpstcomgldoylggq\n",
      "heated vest jacket unisex electric heating thermal vest men amp woman httpstcouzcpdolf digitizing digitizing embroidery fashion leatherjacket leatherjacketseason winterfashion embroideryleatherjacket leatherjacketswag jacket httpstcowgjqadal\n",
      "men’s black embroidery patched motorcycle leather jacket httpstconipbxgk digitizing digitizing embroidery fashion leatherjacket leatherjacketseason winterfashion embroideryleatherjacket leatherjacketswag jacket httpstcohrhbv\n",
      "men faux pu hooded motorcycle biker men’s embroidered jacket httpstcowrowmabncu digitizing digitizing embroidery fashion leatherjacket leatherjacketseason winterfashion embroideryleatherjacket leatherjacketswag jacket realleather fauxleatherjacket httpstcoecsosjfx\n",
      "men trendy motorcycle faux leather jacket httpstcorlqokceh digitizing digitizing embroidery fashion leatherjacket leatherjacketseason winterfashion embroideryleatherjacket leatherjacketswag jacket realleather fauxleatherjacket httpstcobaajrfor\n",
      "new autumn warm vintage fleece motor biker bomber leather jacket men httpstcokdgpgyz digitizing digitizing embroidery fashion leatherjacket leatherjacketseason winterfashion embroideryleatherjacket leatherjacketswag jacket bomberleatherjacket httpstcoergsnfujl\n",
      "blue varsity casual bomber unisex contrast embroidered jacket httpstcooyzqavuq digitizing digitizing embroidery fashion leatherjacket leatherjacketseason winterfashion embroideryleatherjacket leatherjacketswag jacket bomberleatherjacket httpstcomirnegbyp\n",
      "pay more flat rate design inch size buy voucher get logo voucher usd month validity httpstcojrelhheqbm digitizing digitizing embroidery fashion onlinedigitizing digitize design usa uk httpstcoeicxbwzp\n",
      "blue varsity casual bomber unisex contrast embroidered jacket httpstcooyzqaejs digitizing digitizing embroidery fashion leatherjacket leatherjacketseason winterfashion embroideryleatherjacket leatherjacketswag jacket bomberleatherjacket httpstcombksioqufn\n",
      "new autumn warm vintage fleece motor biker bomber leather jacket men httpstcokdgpyxi digitizing digitizing embroidery fashion leatherjacket leatherjacketseason winterfashion embroideryleatherjacket leatherjacketswag jacket bomberleatherjacket httpstcoqhjactjzf\n",
      "men trendy motorcycle faux leather jacket httpstcorlqoktccr digitizing digitizing embroidery fashion leatherjacket leatherjacketseason winterfashion embroideryleatherjacket leatherjacketswag jacket realleather fauxleatherjacket httpstcosmhesrxltt\n",
      "men faux pu hooded motorcycle biker men’s embroidered jacket httpstcowrowmaszu digitizing digitizing embroidery fashion leatherjacket leatherjacketseason winterfashion embroideryleatherjacket leatherjacketswag jacket realleather fauxleatherjacket httpstconzhucdzth\n",
      "men’s black embroidery patched motorcycle leather jacket httpstconipbxgk digitizing digitizing embroidery fashion leatherjacket leatherjacketseason winterfashion embroideryleatherjacket leatherjacketswag jacket httpstcoeioorwp\n",
      "heated vest jacket unisex electric heating thermal vest men amp woman httpstcouzcpdolf digitizing digitizing embroidery fashion leatherjacket leatherjacketseason winterfashion embroideryleatherjacket leatherjacketswag jacket httpstcosvchtjtggl\n",
      "unisex men amp woman electric heating polyester thermal vest outdoor waterproof hooded jacket httpstcolncghwo digitizing digitizing embroidery fashion leatherjacket electricheatingpolyester winterfashion embroideryleatherjacket jacket httpstcoscbuogxbc\n",
      "new winter motorcycle waterproof warm breathable racing embroidered jacket httpstcoqskmqwv digitizing digitizing embroidery fashion leatherjacket wintermotorcyclewaterproof winterfashion embroideryleatherjacket leatherjacketswag jacket httpstcohaegoaikl\n",
      "pay more flat rate design inch size buy voucher get logo voucher usd month validity httpstcojrelhheqbm digitizing digitizing embroidery fashion onlinedigitizing digitize design usa uk httpstcofscelekgu\n",
      "new winter motorcycle waterproof warm breathable racing embroidered jacket httpstcoqskmqwv digitizing digitizing embroidery fashion leatherjacket wintermotorcyclewaterproof winterfashion embroideryleatherjacket leatherjacketswag jacket httpstcoimuhbvb\n",
      "heated vest jacket unisex electric heating thermal vest men amp woman httpstcouzcpdolf digitizing digitizing embroidery fashion leatherjacket leatherjacketseason winterfashion embroideryleatherjacket leatherjacketswag jacket httpstcoxhzhodzll\n",
      "unisex men amp woman electric heating polyester thermal vest outdoor waterproof hooded jacket httpstcolncghwo digitizing digitizing embroidery fashion leatherjacket electricheatingpolyester winterfashion embroideryleatherjacket jacket httpstcoytrwxob\n",
      "men’s black embroidery patched motorcycle leather jacket httpstconipbxgk digitizing digitizing embroidery fashion leatherjacket leatherjacketseason winterfashion embroideryleatherjacket leatherjacketswag jacket httpstcolshraldn\n",
      "men faux pu hooded motorcycle biker men’s embroidered jacket httpstcowrowmaszu digitizing digitizing embroidery fashion leatherjacket leatherjacketseason winterfashion embroideryleatherjacket leatherjacketswag jacket realleather fauxleatherjacket httpstcohngzvsxrdm\n",
      "men trendy motorcycle faux leather jacket httpstcorlqoktccr digitizing digitizing embroidery fashion leatherjacket leatherjacketseason winterfashion embroideryleatherjacket leatherjacketswag jacket realleather fauxleatherjacket httpstconnuampyyq\n",
      "new autumn warm vintage fleece motor biker bomber leather jacket men httpstcokdgpyxi digitizing digitizing embroidery fashion leatherjacket leatherjacketseason winterfashion embroideryleatherjacket leatherjacketswag jacket bomberleatherjacket httpstcoycqktkzbp\n",
      "blue varsity casual bomber unisex contrast embroidered jacket httpstcooyzqaejs digitizing digitizing embroidery fashion leatherjacket leatherjacketseason winterfashion embroideryleatherjacket leatherjacketswag jacket bomberleatherjacket httpstcohpwcfkvk\n",
      "men’s plush thick real fur fashionable winter genuine leather embroidered jacket httpstcoitgtpnjd digitizing digitizing embroidery fashion leatherjacket winterfashion embroideryleatherjacket leatherjacketswag jacket genuineleatherjacket httpstcorbuvwvst\n",
      "woman short embroidered baseball style fashion jacket httpstcoelqedlw digitizing digitizing embroidery fashion leatherjacket leatherjacketseason winterfashion embroideryleatherjacket leatherjacketswag jacket httpstcotvjdeqnjg\n",
      "unisex men amp woman electric heating polyester thermal vest outdoor waterproof hooded jacket httpstcolncghwo digitizing digitizing embroidery fashion leatherjacket electricheatingpolyester winterfashion embroideryleatherjacket jacket httpstcoejzzanld\n",
      "heated vest jacket unisex electric heating thermal vest men amp woman httpstcouzcpdolf digitizing digitizing embroidery fashion leatherjacket leatherjacketseason winterfashion embroideryleatherjacket leatherjacketswag jacket httpstcozcicsoqs\n",
      "new winter motorcycle waterproof warm breathable racing embroidered jacket httpstcoqskmqwv digitizing digitizing embroidery fashion leatherjacket wintermotorcyclewaterproof winterfashion embroideryleatherjacket leatherjacketswag jacket httpstcoqwcyhllcnb\n",
      "pay more flat rate design inch size buy voucher get logo voucher usd month validity httpstcojrelhheqbm digitizing digitizing embroidery fashion onlinedigitizing digitize design usa uk httpstcobfbqehbff\n",
      "new winter motorcycle waterproof warm breathable racing embroidered jacket httpstcoqskmqwv digitizing digitizing embroidery fashion leatherjacket wintermotorcyclewaterproof winterfashion embroideryleatherjacket leatherjacketswag jacket httpstcosfttzhbddf\n",
      "heated vest jacket unisex electric heating thermal vest men amp woman httpstcouzcpdolf digitizing digitizing embroidery fashion leatherjacket leatherjacketseason winterfashion embroideryleatherjacket leatherjacketswag jacket httpstcokbrhm\n",
      "unisex men amp woman electric heating polyester thermal vest outdoor waterproof hooded jacket httpstcolncghwo digitizing digitizing embroidery fashion leatherjacket electricheatingpolyester winterfashion embroideryleatherjacket jacket httpstcojvsqfdzd\n",
      "men’s black embroidery patched motorcycle leather jacket httpstconipbxgk digitizing digitizing embroidery fashion leatherjacket leatherjacketseason winterfashion embroideryleatherjacket leatherjacketswag jacket httpstcohgwkcsklv\n",
      "men faux pu hooded motorcycle biker men’s embroidered jacket httpstcowrowmaszu digitizing digitizing embroidery fashion leatherjacket leatherjacketseason winterfashion embroideryleatherjacket leatherjacketswag jacket realleather fauxleatherjacket httpstcoxlzisiogo\n",
      "men trendy motorcycle faux leather jacket httpstcorlqoktccr digitizing digitizing embroidery fashion leatherjacket leatherjacketseason winterfashion embroideryleatherjacket leatherjacketswag jacket realleather fauxleatherjacket httpstcosgzgifek\n",
      "new autumn warm vintage fleece motor biker bomber leather jacket men httpstcokdgpyxi digitizing digitizing embroidery fashion leatherjacket leatherjacketseason winterfashion embroideryleatherjacket leatherjacketswag jacket bomberleatherjacket httpstcogsxbihoga\n",
      "blue varsity casual bomber unisex contrast embroidered jacket httpstcooyzqaejs digitizing digitizing embroidery fashion leatherjacket leatherjacketseason winterfashion embroideryleatherjacket leatherjacketswag jacket bomberleatherjacket httpstcokaeagkqum\n",
      "men’s plush thick real fur fashionable winter genuine leather embroidered jacket httpstcoitgtpnjd digitizing digitizing embroidery fashion leatherjacket winterfashion embroideryleatherjacket leatherjacketswag jacket genuineleatherjacket httpstcoapusbgmt\n",
      "woman short embroidered baseball style fashion jacket httpstcoelqedlw digitizing digitizing embroidery fashion leatherjacket leatherjacketseason winterfashion embroideryleatherjacket leatherjacketswag jacket httpstcohgreqkbgy\n",
      "pay more flat rate design inch size buy voucher get logo voucher usd month validity httpstcojrelhheqbm digitizing digitizing embroidery fashion onlinedigitizing digitize design usa uk httpstcowzdrsmxxei\n",
      "woman short embroidered baseball style fashion jacket httpstcoelqedlw digitizing digitizing embroidery fashion leatherjacket leatherjacketseason winterfashion embroideryleatherjacket leatherjacketswag jacket httpstcockqwgkcfrn\n",
      "men’s plush thick real fur fashionable winter genuine leather embroidered jacket httpstcoitgtpnjd digitizing digitizing embroidery fashion leatherjacket winterfashion embroideryleatherjacket leatherjacketswag jacket genuineleatherjacket httpstcoiaoboznv\n",
      "blue varsity casual bomber unisex contrast embroidered jacket httpstcooyzqaejs digitizing digitizing embroidery fashion leatherjacket leatherjacketseason winterfashion embroideryleatherjacket leatherjacketswag jacket bomberleatherjacket httpstcopercpsrgw\n",
      "new autumn warm vintage fleece motor biker bomber leather jacket men httpstcokdgpyxi digitizing digitizing embroidery fashion leatherjacket leatherjacketseason winterfashion embroideryleatherjacket leatherjacketswag jacket bomberleatherjacket httpstcodslfpmmj\n",
      "men trendy motorcycle faux leather jacket httpstcorlqoktccr digitizing digitizing embroidery fashion leatherjacket leatherjacketseason winterfashion embroideryleatherjacket leatherjacketswag jacket realleather fauxleatherjacket httpstcogecsfmhxw\n",
      "men faux pu hooded motorcycle biker men’s embroidered jacket httpstcowrowmaszu digitizing digitizing embroidery fashion leatherjacket leatherjacketseason winterfashion embroideryleatherjacket leatherjacketswag jacket realleather fauxleatherjacket httpstcoedlzmtfe\n",
      "men’s black embroidery patched motorcycle leather jacket httpstconipbxgk digitizing digitizing embroidery fashion leatherjacket leatherjacketseason winterfashion embroideryleatherjacket leatherjacketswag jacket httpstcoxvyfbuqlta\n",
      "unisex men amp woman electric heating polyester thermal vest outdoor waterproof hooded jacket httpstcolncghwo digitizing digitizing embroidery fashion leatherjacket electricheatingpolyester winterfashion embroideryleatherjacket jacket httpstcoyhxdnmnh\n",
      "heated vest jacket unisex electric heating thermal vest men amp woman httpstcouzcpdolf digitizing digitizing embroidery fashion leatherjacket leatherjacketseason winterfashion embroideryleatherjacket leatherjacketswag jacket httpstcoctzqtztzf\n",
      "new winter motorcycle waterproof warm breathable racing embroidered jacket httpstcoqskmqwv digitizing digitizing embroidery fashion leatherjacket wintermotorcyclewaterproof winterfashion embroideryleatherjacket leatherjacketswag jacket httpstcoypxnasim\n",
      "pay more flat rate design inch size buy voucher get logo voucher usd month validity httpstcojrelhheqbm digitizing digitizing embroidery fashion onlinedigitizing digitize design usa uk httpstcoifdhuyoko\n",
      "men’s black embroidery patched motorcycle leather jacket httpstconipbxgk digitizing digitizing embroidery fashion leatherjacket leatherjacketseason winterfashion embroideryleatherjacket leatherjacketswag jacket httpstconsyuksxj\n",
      "men faux pu hooded motorcycle biker men’s embroidered jacket httpstcowrowmaszu digitizing digitizing embroidery fashion leatherjacket leatherjacketseason winterfashion embroideryleatherjacket leatherjacketswag jacket realleather fauxleatherjacket httpstcohscyxg\n",
      "men trendy motorcycle faux leather jacket httpstcorlqoktccr digitizing digitizing embroidery fashion leatherjacket leatherjacketseason winterfashion embroideryleatherjacket leatherjacketswag jacket realleather fauxleatherjacket httpstcohrwjzqni\n",
      "new autumn warm vintage fleece motor biker bomber leather jacket men httpstcokdgpyxi digitizing digitizing embroidery fashion leatherjacket leatherjacketseason winterfashion embroideryleatherjacket leatherjacketswag jacket bomberleatherjacket httpstcozgwmxg\n",
      "blue varsity casual bomber unisex contrast embroidered jacket httpstcooyzqaejs digitizing digitizing embroidery fashion leatherjacket leatherjacketseason winterfashion embroideryleatherjacket leatherjacketswag jacket bomberleatherjacket httpstcoemblubub\n",
      "men’s plush thick real fur fashionable winter genuine leather embroidered jacket httpstcoitgtpnjd digitizing digitizing embroidery fashion leatherjacket winterfashion embroideryleatherjacket leatherjacketswag jacket genuineleatherjacket httpstcosbwlxqxt\n",
      "embroidered autumn pu leather women’s amp men’s unisex motorcycle jacket httpstcoxnwjhcpeb digitizing digitizing embroidery fashion leatherjacket leatherjacketseason winterfashion embroideryleatherjacket leatherjacketswag jacket httpstcokljpmnlo\n",
      "woman short embroidered baseball style fashion jacket httpstcoelqedlw digitizing digitizing embroidery fashion leatherjacket leatherjacketseason winterfashion embroideryleatherjacket leatherjacketswag jacket httpstcolemfnvsu\n",
      "pay more flat rate design inch size buy voucher get logo voucher usd month validity httpstcojrelhheqbm digitizing digitizing embroidery fashion onlinedigitizing digitize design usa uk httpstcojxaemdlam\n",
      "woman short embroidered baseball style fashion jacket httpstcoelqedlw digitizing digitizing embroidery fashion leatherjacket leatherjacketseason winterfashion embroideryleatherjacket leatherjacketswag jacket httpstcozvxsqehey\n",
      "embroidered autumn pu leather women’s amp men’s unisex motorcycle jacket httpstcoxnwjhcpeb digitizing digitizing embroidery fashion leatherjacket leatherjacketseason winterfashion embroideryleatherjacket leatherjacketswag jacket httpstcoexphvapiv\n",
      "men’s plush thick real fur fashionable winter genuine leather embroidered jacket httpstcoitgtpnjd digitizing digitizing embroidery fashion leatherjacket winterfashion embroideryleatherjacket leatherjacketswag jacket genuineleatherjacket httpstcotspzfrwsq\n",
      "blue varsity casual bomber unisex contrast embroidered jacket httpstcooyzqaejs digitizing digitizing embroidery fashion leatherjacket leatherjacketseason winterfashion embroideryleatherjacket leatherjacketswag jacket bomberleatherjacket httpstconongwnll\n",
      "new autumn warm vintage fleece motor biker bomber leather jacket men httpstcokdgpyxi digitizing digitizing embroidery fashion leatherjacket leatherjacketseason winterfashion embroideryleatherjacket leatherjacketswag jacket bomberleatherjacket httpstcokjlwfskb\n",
      "men trendy motorcycle faux leather jacket httpstcorlqoktccr digitizing digitizing embroidery fashion leatherjacket leatherjacketseason winterfashion embroideryleatherjacket leatherjacketswag jacket realleather fauxleatherjacket httpstconqiyfrzyg\n",
      "men faux pu hooded motorcycle biker men’s embroidered jacket httpstcowrowmaszu digitizing digitizing embroidery fashion leatherjacket leatherjacketseason winterfashion embroideryleatherjacket leatherjacketswag jacket realleather fauxleatherjacket httpstcofbxcfaqkt\n",
      "men’s black embroidery patched motorcycle leather jacket httpstconipbxgk digitizing digitizing embroidery fashion leatherjacket leatherjacketseason winterfashion embroideryleatherjacket leatherjacketswag jacket httpstcoxdnmizbgl\n",
      "pay more flat rate design inch size buy voucher get logo voucher usd month validity httpstcojrelhheqbm digitizing digitizing embroidery fashion onlinedigitizing digitize design usa uk httpstcoywufmmkr\n",
      "men’s black embroidery patched motorcycle leather jacket httpstconipbxgk digitizing digitizing embroidery fashion leatherjacket leatherjacketseason winterfashion embroideryleatherjacket leatherjacketswag jacket httpstcoujiffn\n",
      "men faux pu hooded motorcycle biker men’s embroidered jacket httpstcowrowmaszu digitizing digitizing embroidery fashion leatherjacket leatherjacketseason winterfashion embroideryleatherjacket leatherjacketswag jacket realleather fauxleatherjacket httpstcoacahmoko\n",
      "men trendy motorcycle faux leather jacket httpstcorlqoktccr digitizing digitizing embroidery fashion leatherjacket leatherjacketseason winterfashion embroideryleatherjacket leatherjacketswag jacket realleather fauxleatherjacket httpstcopbjdkkihy\n",
      "new autumn warm vintage fleece motor biker bomber leather jacket men httpstcokdgpyxi digitizing digitizing embroidery fashion leatherjacket leatherjacketseason winterfashion embroideryleatherjacket leatherjacketswag jacket bomberleatherjacket httpstcoqxxgcgs\n",
      "blue varsity casual bomber unisex contrast embroidered jacket httpstcooyzqavuq digitizing digitizing embroidery fashion leatherjacket leatherjacketseason winterfashion embroideryleatherjacket leatherjacketswag jacket bomberleatherjacket httpstcogcohndcbon\n",
      "men’s plush thick real fur fashionable winter genuine leather embroidered jacket httpstcoitgtaoal digitizing digitizing embroidery fashion leatherjacket winterfashion embroideryleatherjacket leatherjacketswag jacket genuineleatherjacket httpstcothqpoxiku\n",
      "embroidered autumn pu leather women’s amp men’s unisex motorcycle jacket httpstcoxnwjhdp digitizing digitizing embroidery fashion leatherjacket leatherjacketseason winterfashion embroideryleatherjacket leatherjacketswag jacket httpstcottofyee\n",
      "woman short embroidered baseball style fashion jacket httpstcoelqedownc digitizing digitizing embroidery fashion leatherjacket leatherjacketseason winterfashion embroideryleatherjacket leatherjacketswag jacket httpstcoyceodjtsx\n",
      "pay more flat rate design inch size buy voucher get logo voucher usd month validity httpstcojrelhheqbm digitizing digitizing embroidery fashion onlinedigitizing digitize design usa uk httpstcozbwftjp\n",
      "woman short embroidered baseball style fashion jacket httpstcoelqedlw digitizing digitizing embroidery fashion leatherjacket leatherjacketseason winterfashion embroideryleatherjacket leatherjacketswag jacket httpstcopfmgilsb\n",
      "embroidered autumn pu leather women’s amp men’s unisex motorcycle jacket httpstcoxnwjhcpeb digitizing digitizing embroidery fashion leatherjacket leatherjacketseason winterfashion embroideryleatherjacket leatherjacketswag jacket httpstcocrzwtkie\n",
      "men’s plush thick real fur fashionable winter genuine leather embroidered jacket httpstcoitgtpnjd digitizing digitizing embroidery fashion leatherjacket winterfashion embroideryleatherjacket leatherjacketswag jacket genuineleatherjacket httpstcozdnaomg\n",
      "blue varsity casual bomber unisex contrast embroidered jacket httpstcooyzqaejs digitizing digitizing embroidery fashion leatherjacket leatherjacketseason winterfashion embroideryleatherjacket leatherjacketswag jacket bomberleatherjacket httpstcovghrele\n",
      "new autumn warm vintage fleece motor biker bomber leather jacket men httpstcokdgpyxi digitizing digitizing embroidery fashion leatherjacket leatherjacketseason winterfashion embroideryleatherjacket leatherjacketswag jacket bomberleatherjacket httpstcogasxscvld\n",
      "men trendy motorcycle faux leather jacket httpstcorlqoktccr digitizing digitizing embroidery fashion leatherjacket leatherjacketseason winterfashion embroideryleatherjacket leatherjacketswag jacket realleather fauxleatherjacket httpstcojvinvpc\n",
      "men faux pu hooded motorcycle biker men’s embroidered jacket httpstcowrowmaszu digitizing digitizing embroidery fashion leatherjacket leatherjacketseason winterfashion embroideryleatherjacket leatherjacketswag jacket realleather fauxleatherjacket httpstcohmliqcxt\n",
      "men’s black embroidery patched motorcycle leather jacket httpstconipbxgk digitizing digitizing embroidery fashion leatherjacket leatherjacketseason winterfashion embroideryleatherjacket leatherjacketswag jacket httpstcoljxtjvku\n",
      "buy voucher get cap left chest flat usd – embroidery digitizing discount coupon – digitizing solution httpstcobkndayof digitizing digitizing embroidery fashion onlinedigitizing digitize design usa uk httpstcocdefhdc\n",
      "men’s black embroidery patched motorcycle leather jacket httpstconipbxgk digitizing digitizing embroidery fashion leatherjacket leatherjacketseason winterfashion embroideryleatherjacket leatherjacketswag jacket httpstcooifgskniq\n",
      "men faux pu hooded motorcycle biker men’s embroidered jacket httpstcowrowmaszu digitizing digitizing embroidery fashion leatherjacket leatherjacketseason winterfashion embroideryleatherjacket leatherjacketswag jacket realleather fauxleatherjacket httpstcotqbqiqpm\n",
      "men trendy motorcycle faux leather jacket httpstcorlqoktccr digitizing digitizing embroidery fashion leatherjacket leatherjacketseason winterfashion embroideryleatherjacket leatherjacketswag jacket realleather fauxleatherjacket httpstcorpzpvjuckk\n",
      "new autumn warm vintage fleece motor biker bomber leather jacket men httpstcokdgpyxi digitizing digitizing embroidery fashion leatherjacket leatherjacketseason winterfashion embroideryleatherjacket leatherjacketswag jacket bomberleatherjacket httpstcopupancpyu\n",
      "blue varsity casual bomber unisex contrast embroidered jacket httpstcooyzqaejs digitizing digitizing embroidery fashion leatherjacket leatherjacketseason winterfashion embroideryleatherjacket leatherjacketswag jacket bomberleatherjacket httpstcouxuetnemeg\n",
      "men’s plush thick real fur fashionable winter genuine leather embroidered jacket httpstcoitgtpnjd digitizing digitizing embroidery fashion leatherjacket winterfashion embroideryleatherjacket leatherjacketswag jacket genuineleatherjacket httpstcokjxypjqa\n",
      "men black slim turndown neck zipper full motorcycle faux leather rivet pu jacket httpstcowzghoxwltx digitizing digitizing embroidery fashion leatherjacket leatherjacketseason winterfashion embroideryleatherjacket leatherjacketswag jacket fauxleatherjacket httpstcotfzozkijf\n",
      "embroidered autumn pu leather women’s amp men’s unisex motorcycle jacket httpstcoxnwjhcpeb digitizing digitizing embroidery fashion leatherjacket leatherjacketseason winterfashion embroideryleatherjacket leatherjacketswag jacket httpstcoxbqthvrt\n",
      "woman short embroidered baseball style fashion jacket httpstcoelqedlw digitizing digitizing embroidery fashion leatherjacket leatherjacketseason winterfashion embroideryleatherjacket leatherjacketswag jacket httpstconlvanwyd\n"
     ]
    },
    {
     "name": "stderr",
     "output_type": "stream",
     "text": [
      "427it [03:43,  4.30it/s]***** Running Prediction *****\n",
      "  Num examples = 51\n",
      "  Batch size = 8\n",
      "434it [03:46,  2.78it/s]***** Running Prediction *****\n",
      "  Num examples = 100\n",
      "  Batch size = 8\n"
     ]
    },
    {
     "name": "stdout",
     "output_type": "stream",
     "text": [
      "many great quote crystal energy here’s one favorite crystal find powerful see aunt lydia you httpstcokafqqwrbgz wicca wiccan pagan hoodoo spirituality crystal crystal healing energy newage httpstcotbicqtdu\n",
      "monthly wiccan subscription thing magic beginner seasoned witch httpstcosqkobf wicca wiccan magick saturdaymorning saturdaythoughts candle spell httpstcoefgdwyhv\n",
      "warm thursdaymorning all niece nephew gather round peek aunt lydia money drawing candle here consider sample spell box httpstcofjethcwhz wicca wiccan candle spell magick httpstcorjyguyped\n",
      "sampler spell box available httpstcofjethddsxg perfect beginner seasoned wiccan magick wicca candle spell tuesdayvibe candle pagan httpstcoawvsmxpii\n",
      "aunt lydia closet monthly wiccan subscription thing magic beginner seasoned witch know sampler box may purchased subscription necessary httpstcoqitzpqumu wicca wiccan magick pagan smallbusiness crystal spell httpstcoclpbmkz\n",
      "new subscriber enter promo code earlycrow discount first box can’t wait share surprise aunt lydia’s closet httpstcoojyidah wicca wiccan subscriptionbox pagan magic discount auntlydiascloset spirituality spiritual mondaythoughts httpstcowrcvunx\n",
      "happy thursdaymorning everybody start day peek aunt lydia closet see waiting you httpstcosqkobf wicca wiccan smallbusiness candle tarot httpstcosqkzk httpstcoosthhhap\n",
      "else crazy handmade candle amazing shipment england can’t wait share you httpstcoojyidah wicca wiccan wiccansofinstagram candle alter handmade smallbusiness newage auntlydia httpstcokcldipvoh\n",
      "httpstcopyzyeasx great article reconnecting nature natural world around you wicca spiritualist wednesdaythought subscriptionbox wednesdaywisdom wednesdayvibe httpstcojpnsivhkb\n",
      "crow significant bird crow cross path mean verge manifesting one desire add promo code earlycrow first box httpstcovmilabkmje tuesdayvibe tuesdaythoughts bird smallbusiness subscriptionbox httpstcombaotgw\n",
      "obsessed money drawing candles🤩🤩 miss handmade item like sourced small business around globe httpstcoruuxyri love wicca smallbusiness candle httpstcoyeomska\n"
     ]
    },
    {
     "name": "stderr",
     "output_type": "stream",
     "text": [
      "447it [03:51,  3.18it/s]***** Running Prediction *****\n",
      "  Num examples = 99\n",
      "  Batch size = 8\n",
      "460it [03:55,  3.71it/s]***** Running Prediction *****\n",
      "  Num examples = 100\n",
      "  Batch size = 8\n",
      "473it [04:02,  2.08it/s]***** Running Prediction *****\n",
      "  Num examples = 100\n",
      "  Batch size = 8\n",
      "486it [04:13,  1.45it/s]***** Running Prediction *****\n",
      "  Num examples = 100\n",
      "  Batch size = 8\n",
      "499it [04:17,  3.14it/s]***** Running Prediction *****\n",
      "  Num examples = 100\n",
      "  Batch size = 8\n"
     ]
    },
    {
     "name": "stdout",
     "output_type": "stream",
     "text": [
      "check vintage omc otagiri loving pair siamese cat figurine japan gold sticker gift httpstcovhkozl ebay\n",
      "check vintage lot canvas caper rocking horse shimmer snowflake leisure art gift httpstcofqvoxwvka ebay\n",
      "check vintage christmas ceramic figurine girl angel choir blue big eye ’s ” httpstcolymcofuaw ebay\n",
      "rt grandfinery victorian sterling spider web mother pearl brooch pendant s xx insect jewelry httpstcofynwcknt grand…\n",
      "rt artist new artwork sale hillside cottage snowdonia north wale httpstcoeblwabdj fineartamerica httpstcor…\n",
      "check vintage black cat red bow silver glitter eye chalkware wall plaque kitschy ” httpstconasyefhg ebay\n",
      "rt melissa check vintage lithograph american child map children’s book salway httpstcopbxfvdycv ebay\n",
      "check vintage lithograph american child map children’s book salway httpstcopbxfvdycv ebay\n",
      "rt bluestrixie handmade mosaic crochet blanket httpstcouzrdvmxtm via etsysocial trixieblues etsy ethnic geometric httpstc…\n",
      "rt saltedbayonet lovely handmade genuine kellylime seaglass amp sterling silver necklace httpstcowxrrjahfd seaglassjewelry g…\n",
      "rt melissa check vintage lithograph american child map children’s book salway httpstcopbxfvdycv ebay\n"
     ]
    },
    {
     "name": "stderr",
     "output_type": "stream",
     "text": [
      "512it [04:23,  2.74it/s]***** Running Prediction *****\n",
      "  Num examples = 100\n",
      "  Batch size = 8\n"
     ]
    },
    {
     "name": "stdout",
     "output_type": "stream",
     "text": [
      "stunning fortune telling ceramic teacup amp saucer set make somebody happt christmas gifting beautiful set 💜🖤💜 httpstcobxqyscwtg christmas teacup giftideas fortuneteller httpstcobmnfufehr\n",
      "check stunning small phrenology head storage jar temerity jones perfect gift available website check link detail 💜🖤💜 httpstcoycxmthmzk christmas giftideas phrenology storage httpstcovsxypgjkl\n",
      "check beautiful skull pink rose cotton lined bag zip closing perfect christmas gift available part gothic collection click link detail 💜💀☠️🖤 httpstcouvvihcssi bag skull rose pink giftideas christmas httpstcoyaonelfez\n",
      "stunning white sugar skull design oil wax melt burner available part gothic fragrance collection click link take look perfect christmas gift 💜🖤💜☠ httpstcooxfpefezi burner waxmelts skull gothic christmasgifts httpstconeanfvu\n",
      "cute pot pal salt amp pepper fox design available website see link perfect christmas gift 💜🖤💜 httpstcopsnffxtv giftideas fox christmas homewares saltandpepper httpstcozhzsdbauxv\n",
      "looking perfect gothic christmas gift grab one ceramic white amp black classic skull mug available website click link below☠ 💜🖤💜☠ httpstcorkyopjju skull christmasgifts gothic unusualgifts httpstcoeoydlimzy\n",
      "stunning set phrenology palmistry coaster temerity jones click link view website 💜 httpstcolsyhjbbhe coaster phrenology palmistry giftideas homedecor httpstcozdfzmooy\n",
      "cute rainbow shaped wall clock perfect addition bedroom click link view item website 💜🖤💜 httpstconveumtiwev clock rainbow bedroomdecor giftideas httpstcoxvtirliol\n",
      "beautiful electric sugar skull design ceramic lamp wax melt burner would make perfect gift christmas available website click link see full detail lamp 💜🖤💜 httpstcoyzildifcg sugarskull waxmelts christmas giftideas httpstcorsbkzklj\n",
      "grab stunning white witch cauldron design cup website part gothic homeware collection 💜💜🧙🧙 httpstcojaljnjrojq witch giftideas gothicstyle httpstcohcliiufw\n",
      "stunning bronze effect backflow tree man design incense fragrance burner perfect christmas gift available website part spiritual home collection 💜💜 httpstcoracbtskpb httpstcogazptgqv\n",
      "cute pirate adventure door gift set perfect stocking filler christmas available website 💜🖤💜 httpstcokqbczfog christmasgifts pirate imaginativeplay kidsactivities httpstcodcxbviwr\n",
      "beautiful ouija design spirit board black mug available website part gothic home collection 💜🖤💜 httpstcovzfklmtk coffee giftideas christmas gothic ouija httpstcozhyahxtl\n",
      "check stunning black witch brew cauldron design teapot available website part gothic kitchenware collection 💜🖤💜 httpstcozrmqxlzu witchyvibes giftsforher teapot kitchendecor christmascountdown httpstcodsihvrgjqj\n",
      "perfect christmas birthday gift cute adventure fund shadow box frame money box available website 💜🖤💜 httpstcoifzvygskog christmas birthday adventure moneysaving httpstcohrndmfq\n",
      "check quirky man wood design tealight candle holder available website 💜🖤💜 httpstcodovmbluws treeman candleholder giftideas unusual christmas httpstcojatwjwndj\n",
      "spooky amp funky glass skull mason style jar metal lid straw buy website 💜🖤💜 httpstcobtcpeldss skull spooky gothic discountcode freeshipping giftideas httpstcouhhkdwq\n",
      "last day offer code halloween free postage amp grab one black tree life colour changing led electric wax melter perfect gift idea 💜🖤💜 httpstcowsptqidk treeoflife waxmelts fragrance lamp gift httpstcojpjgligbnj\n",
      "check beautiful palmistry tattoo design hand ornament option choose would make perfect christmas gift 💜🤚 httpstcocmpqbfqgg palmistry tattoo homedecor giftideas httpstcowncbcaps\n",
      "look super cute dinosaur head easy wall mount coat hook perfect little dino fan bedroom available website 🦖🦕💜 httpstcokexolk dinosaur bedroomdecor hook child supportsmallbusinesses httpstcogzvgsad\n",
      "skull rose stainless steel hot amp cold thermal insulated drink bottle make perfect gift available part gothic collection website 💜☠️💜 httpstcoeffmhdovpn httpstcopdcwtevu\n",
      "love cute green dinosaur shaped wall clock available website perfect dinosaur lover bedroom 🦖dont forget discount code halloween checkout free postage amp httpstcoryiccmvhn clock dinosaur bedroomdecor giftideas kidsroomdecor httpstcorwntudht\n",
      "check electric sugar skull design standing ceramic lamp wax melt warmer make beautiful gift available website fragrance homeware collection 💜🖤💜☠ httpstcoyzildifcg sugarskull waxaddict christmasgifts lamp fragrance httpstcorgwvpedsn\n",
      "stunning black canvas tote bag print call ouija board design perfect christmas gift available website part gothic collection 💜🖤💜 httpstcoczxseffmv totebag gothicstyle gift httpstcokugrabydd\n",
      "perfect gift available website stunning fortune telling ceramic teacup amp saucer httpstcobxqysdexa httpstcocsvigjalmk\n",
      "super cute perfect stocking filler christmas eve box beautiful starlight lantern hey diddle diddle nursery rhyme child cut night light 💜🖤💜 httpstcogfvjetzwbo nightlights giftideas christmasevebox httpstcoxofuuqls\n",
      "looking perfect gift spooky friend check stunning black witch brew cauldron mug available website 💜🖤💜 httpstcodecxjysr cauldron mug giftideas httpstcoswpobtvgbm\n",
      "limited stock left time get back super cute orange jackolantern oil amp wax burner order website 🎃🎃 httpstcoxfjewd pumkin gift halloween jackolantern httpstcofqyfzkvpo\n"
     ]
    },
    {
     "name": "stderr",
     "output_type": "stream",
     "text": [
      "525it [04:30,  2.14it/s]***** Running Prediction *****\n",
      "  Num examples = 100\n",
      "  Batch size = 8\n",
      "538it [04:38,  1.84it/s]***** Running Prediction *****\n",
      "  Num examples = 100\n",
      "  Batch size = 8\n"
     ]
    },
    {
     "name": "stdout",
     "output_type": "stream",
     "text": [
      "happily created necklace design expanding offer gorgeous matching set earring available etsy shop httpstcozfagbo stainedglass stainedglassjewelry glassjewelry ledbellyvintage etsyjewelry httpstcopbolpdkyj\n",
      "handmade better ☺️ drop emoji like seeing behind scene like this httpstcoifyacqfdm jewelryreel stainedglassjewelry handmadejewelry handmadeisbetter jewelrydesigner shopsmallsandiego etsyshop shopsmall supportsmall\n",
      "oh hey there ⁣ ⁣ beautiful black iridescent sphere stained glass necklace available httpstcomidetvmx⁣ stainedglassjewelry stainedglassart vintagestyle retrostyle retronecklace abstractjewelry iridescent springfashion summerfashion etsy httpstcooxalwiuhy\n",
      "new reel layer necklaces⁣ partnership anna grace robinson httpstcovtraziehfu⁣ ⁣ see full reel httpstcotftxgfjbvh⁣ ⁣ layerednecklaces personalstylist annagrobinson annagracestylist ledbellyvintage partnership stainedglassjewelry etsyshop httpstcoejdedrroc\n",
      "ledbelly stained glass jewelry httpstcohooieuof created amazing personal stylist httpstcozdazmwjcz fridayfashion shoutout personalstylist ledbellyvintage stainedglassjewelry youtube instagram reel vintagestyle vintagefashion\n",
      "it’s bit gloomy san diego morning are hopefully great ⁣ beauty available httpstcoizlsby⁣ stainedglassjewelry minimalistjewelry teardrop teardropnecklace teardroppendant iridescentpendant httpstcosmdltcl\n",
      "¿escuche que querias ma joyas iridiscentes para el cinco de mayo⁣ stainedglassjewelry jewelrydesign geometricjewelry minimalist iridescent iridescentglass statementjewelry ooak stainedglass stainedglassart stainedglassartist handmadejewelry etsy ledbellyvintage httpstcorefxfweg\n",
      "cutting grinding iridescent glass thought best make couple shape ⁣⁣ visit u httpstcozfagbo stainedglassjewelry iridescentnecklace iridescentjewelry beachjewelry ooak geometricjewelry handmadejewelry etsy httpstcolpluxwepvq\n",
      "little something special special someone⁣ 💛 stained glass billy ball bouquet walldecor ledbellyvintage billballs craspedia craspediabillyballs stainedglass stainedglassart stainedglassflowers httpstcopzjoptzry\n",
      "closer look unique necklace piece make shine on ⁣now available shop httpstcosnrbiockw⁣ handmadenecklace stainedglass stainedglassjewelry naturalagate agateslice browngeode geodeslice crystal crystalglass glassstone iridescent httpstcoogjhawrd\n",
      "whirlwind year resulted reading extraordinary book making stained glass jewelry ⁣how you ⁣ root beer float necklace etsy httpstcohowzuccrrz httpstcothcqaytq\n",
      "say i’m obsessed geometric necklace good green ⁣ available httpstcosdebeluld⁣ stainedglass stainedglassjewelry stainedglassplants greenpendant greenglass statementnecklace greenbeauty vintagestyle glassnecklace etsy httpstcoxwwwsikc\n",
      "haha creative juice indeed love fresh dried craspedia beautiful color formation head spinning design something reflecting pantone color ⁣⁣⁣⁣⁣ stainedglass stainedglassflowers craspedia billybuttons woollyheads httpstcojoqlxscnu httpstcobbrrpjj\n",
      "etsy yes made new stainedglass pendant necklace love turned out id honored featured etsy day vintagestyle handmadejewelry stainedglassjewelry ooak etsyshop standwithsmall ledbellyvintage httpstconhpzusyamd\n",
      "ledbelly reel motion see httpstcowbluzjgmt vintagestyle stainedglassart stainedglassjewelry stainedglassnecklace etsy handmade handcrafted ledbellyvintage jewelrydesign design instagram\n",
      "“i drew line drew line you thing yellow”⁣ available httpstcommjhtycmby stainedglass stainedglassjewelry stainedglassnecklace yellowpendant suncatcher ooak etsyshop standwithsmall ⁣coldplay yellow httpstcobavjltui\n",
      "ill carve masterpiece marble boulder here ⁣johnny cash ⁣ available httpstcokjyuqbbqc⁣ ⁣⁣ marblenecklace marbleglass marblejewelry stainedglass stainedglassjewelry stainedglassart stainedglassartist glasswork glassart uniquejewelry\n",
      "early pastel color don’t think so pretty pastel green necklace available ledbelly httpstcogmbrqbrxd pastelgreen mintgreen mintgreennecklace beachgreen stainedglass stainedglassjewelry stainedglassart stainedglassartist stainedglassnecklace httpstcoulwvxcx\n",
      "get color earlier next year yelloworangegold absolutely gorgeous maybe make something fabulous fat tuesday ⁣ mardigras mardigrascolors fattuesday carnivalcolors stainedglass stainedglassjewelry stainedglassart glasswork httpstconehuruaw\n",
      "sweet slate blue love mine newly created stained glass necklace available httpstcohanmj⁣ stainedglass stainedglassart stainedglassnecklace artdeco artdecostyle vintagestyle uniquejewelry etsy standwithsmall supportsmall shopsmall httpstcoywhgyxxpgw\n",
      "army green stainedglass pendant madewithlove httpstcoklpcwbtql stainedglassjewelry stainedglassart ooakjewelry handmade handcrafted etsy etsyshop standwithsmall shopsmall ledbellyvintage\n",
      "blend beauty copper grown much could see worn hip outfit boot stainedglass stainedglassart stainedglassjewelry standwithsmall artdecodesign artdecojewelry geometricart httpstcopsdvyepj\n",
      "tiffany blue stained glass necklace earring set available ledbelly httpstcozvqevi⁣ tiffanyblue tealblue stainedglass stainedglassart stainedglassjewelry glassart glassartist glasswork minimalistjewelry jewelryset ooakjewelry geometricjewelry httpstcomshteeo\n",
      "old new royal blue vintage art deco stained glass necklace available shop httpstcobwjlnexvj⁣ royalblue artdeco stainedglassjewelry stainedglass stainedglassart ooak uniquejewelry statementnecklace vintagenecklace httpstcowuvaasv\n",
      "oh goodness ledbellyvintage brick mortar dream back texas perfect thank sharing txhistcomm artdecodesign loveartdeco artdeco architecture ledbellyvintage vintageshop jewelryshop httpstcocuvxzduwre\n",
      "truly necklace season year s czech artdeco amber glass cabochon redesigned dainty necklace ⁣httpstcobzvjpnhg look pretty sun perfect layering ⁣ artdeconecklace czechglass glasspendant glassnecklace etsy\n",
      "super excited share product inspiring much vintage glass gorgeous piece available httpstcoeyhhsqkt⁣⁣⁣⁣⁣⁣⁣⁣⁣⁣⁣⁣⁣⁣ artdeco artdecojewelry artdeconecklace ooakjewelry glassart glassnecklace httpstcoviaritn\n",
      "seen lovely lariat necklace drop made mixed material czech stone triangle ’s attached ’s swarovski crystal stainless steel chain lovely available half today httpstcouxausjffd artdeco etsy\n",
      "neat these love simple touch emerald green great gift him ⁣ ⁣ available httpstcoejgxtvby⁣ artdeco cufflink artdecocufflinks vintagecufflinks mensjewelry mensaccessories vintageformen mensvintage dandymen vintagefashion httpstcozuwnnhyi\n",
      "’s czech glass cabochon redesigned dainty necklace ⁣ artdeco artdeconecklace antique antiquejewerly restored upcycled vintage vintageredesign vintagenecklace jewelrydesign etsy handmade standwithsmall shopsmall httpstcogdqnhfuwf\n",
      "recent week ledbelly adding art deco men jewelry collection loving vintage stickpin ⁣ dandymen dandyjewelry vintagestickpins stickpin artdeco midcentury dapper dapperstickpins vintagejewelry mensjewelry etsy etsymen httpstcojniaszlfuz\n",
      "gorgeous “la mode” belt buckle converted amazing necklace available httpstcopdznyxvo ⁣ vintagefashion vintagejewelry vintagegirl ooakjewelry ooaknecklace artdeconecklace artdecobuckle beltbuckle vintagenecklace weddingjewelry etsy etsyshop httpstcosmvbbbytf\n",
      "feel way jewelry food want kept matching piece necklace truly one kind available httpstcohnuouduevp contact u question vintage antique artdeco jewelry httpstcontbbblfutt\n",
      "might everything beyond beaut available httpstcozzxsygttky vintage vintagejewelry antiquejewelry restoredjewelry jewelrydesign artdeco artdecojewelry dressclips vintagefashion repurposedjewelry uniquejewelry roaringtwenties httpstcoeixfeaxdip\n",
      "super cool stylish necklace made ’s belt buckle necklace great statement piece look beautiful layered similar design see httpstcolmhvetm⁣ vintage vintagejewelry antiquejewelry restoredjewelry jewelrydesign artdeco httpstcopyndblpi\n",
      "brooch bracelet earring necklace visit u httpstcohnaorkrdd vintage vintagejewelry antiquejewelry restoredjewelry jewelrydesign vintagefashion uniquejewelry roaringtwenties flappergirls vintagegirls vintageshop etsyshop jewelry httpstcozxmgyqir\n",
      "spectacular ’s baby blue pendant necklace available ledbelly vintage could see piece worn pretty blouse even tshirt jean altogether beautiful available httpstcoqzbyfsfq⁣ ⁣⁣ vintagenecklace handmadenecklace artdeco etsy httpstcomprxdea\n",
      "beautiful ’s sapphire blue pendant necklace available shop httpstcoeukihiedve artdeco artdecopendant sapphireblue bluesapphire bluestone dressclip antiquejewelry ooak vintagedressclip wedding bridesmaidsgifts madeofhonorgift motherofthebride httpstcoeypodywbjy\n",
      "love emeraldgreen artnouveau necklace considered keeping boy i’d keep everything 😉 ⁣transformed dress clip ’s’s see httpstcognpmvffpl⁣ artnouveaunecklace antiquenecklace antiquejewelry shopsmall\n",
      "art deco beauty made weekend wear one them ⁣httpstcoqmgdzqsntl artdeco artdeconecklace artdecojewelry restoredjewelry dressclips vintagejewelry antique antiquejewelry oneofakind handmade handcrafted madewithlove makersgonnamake httpstcojcvjynyuo\n",
      "feeling need mix thing bit loving turned czech glass bead suede leather gold plated ball chain ⁣ ⁣ necklace ” long pendent ” long x ” wide see httpstcoeiecjtepm⁣ ledbellyvintage etsy etsyshop needlepoint httpstconeiarxzm\n",
      "elegant yellow czech glass antique necklace shop ledbellyvintage necklace ” long pendant ” available see httpstcokswjvmzms ledbellyvintage repaired antique antiquenecklace czechglass yellowglass yellownecklace edwardian victorian httpstcodfxqvpkfg\n",
      "year old upcycled necklace truly one take heart⁣ ⁣ ⁣ ⁣ ⁣ ⁣ artdeco artdecoclip dressclip upcycled recycled antiquenecklace antiquejewelry pinkrhinestonenecklace rodium heart… httpstcouriaaisehx\n",
      "it’s st patty’s i’d give stroll beach tonight ⁣ ⁣ ⁣ ⁣ ⁣ ⁣ ⁣ vintage antique artdeco shell necklace emerald green rhodium stpatricksday beachvibes beachlife beach… httpstcoaswzlhfqc\n",
      "men jewelry something typically offer loving amazing art deco cufflink tie clip set great gift him⁣ ⁣ available httpstcoazozkwjzi⁣⁣⁣⁣⁣⁣⁣⁣ vintage vintagejewelry mensjewelry tieclip cufflink collectable dandy\n",
      "super stylish southwest vintage necklace available ledbelly necklace large silvertone metal piece naja hand faux turquoise bead ⁣ ⁣⁣⁣ httpstcoelaeqqbmj⁣ vintage boho bohojewelry southwest southwestjewelry nativeamerican etsy httpstcocdboefmd\n",
      "art deco marcasite black enamel necklace earring set available ledbelly make perfect birthday gift⁣ ⁣⁣httpstcowgyxuwhs⁣ vintage vintagejewelry jewelryset artdeco artdecojewelry artdeconecklace artdecoearrings marcasites enamel httpstcoxefozgjg\n",
      "fabulous fashionable southweststyle jewelry set available ledbelly ⁣ ⁣ pendant measure long x wide⁣ chain measure long⁣ earring measure ⁣ available httpstcokydnogtg⁣ redstone southwest boho jewelry vintagejewelry jewelryset httpstcoyqifxxxe\n",
      "happy labor day get anything store today ⁣ code ledday⁣ visit httpstcorsuwrnzk⁣ sale happylaborday labordaysale etsy etsysale etsyshop shopsmall shophandmade vintage vintagejewelry love happy httpstcowldiuj\n",
      "i’m love whitinganddavis pink etched glass necklace featuring tiny fleurdelis ledbelly fav sure picture really don’t justice ⁣ available httpstcojrwctiuh httpstcogdtjbfrpx\n",
      "’s vintage rose pin repurposed clear resin chain k gold filled ” long available httpstcodflhsapvv⁣ vintage vintagepin vintagelapel vintagerose rose rosependant rosenecklace resin resinjewelry resinpendant fashion fridayfashion httpstcockpvihwja\n",
      "another gorgeous hair comb great special event available httpstcodytmfha vintage brooch bridal wedding hair haircomb hairjewelry hairstyle vintageweddings bridalhair weddinghair hairpiece hairaccessories bridalaccessories boho bohostyle\n",
      "beautiful vintage leaf hair comb available httpstcoljuocuiqx ⁣⠀⁣ vintage brooch bridal wedding hair haircomb hairjewelry hairstyle vintageweddings bridalhair weddinghair hairpiece hairaccessories bridalaccessories boho bohostyle vintagegirl httpstcoxubloghp\n",
      "beautiful vintage hummingbird pin repurposed onto resin pendant necklace available shop httpstcokextodtudd⁣ ⁣⁣⁣⁣⁣⁣⁣⁣⁣pendant measure mm ⁣ chain ” long k goldfilled vintage hummingbird rhinestone green resin resinjewelry httpstcoyhdqimxj\n",
      "can’t really describe reminds of it’s simple bold statement necklace could see worn vneck top available httpstcowmxqn⁣⁣⁣⁣⁣⁣⁣⁣ vintage artnouveau artnouveaujewelry artnouveaupendant artdeco httpstcofkmqkiiii\n",
      "art nouveau beauty shop ⁣ pendant measure ” long x ” wide⁣ chain rhodium plated ” length ⁣ httpstcorblxnkjdn⁣ vintage artnouveau artnouveaujewelry artnouveaunecklace artnouveaupendant artdeco artdecojewelry dressclip etsy httpstcoyuxtjahrm\n",
      "there’s something little mouse love one kind conversational piece available shop httpstcoyudzcanxzd vintage vintagemouse mousepin resin resinpendant resinnecklace ooak vintagefashion vintagestyle ledbellyvintage cool fun\n",
      "gorgeous art deco dress clip decided keep is marked pat ’s ’s httpstcotanouoijm⁣⁣⁣⁣⁣⁣⁣⁣⁣⁣ vintage artdeco artdecojewelry artdecoclip dressclip vintagedressclip fashion love jewelry httpstcoozvthasr\n",
      "similar silver gold piece shop gold enamel silver sterling onyx wonderful necklace see httpstcocnsmygbhri⁣⁣⁣⁣ vintage artdeco artdeconecklaces artdecopendants artdecojewelry fashion pendant necklace httpstcoikhicp\n",
      "something ultra simple different repurposed bar necklace available shop dainty darling visit httpstcouevobelxn⁣⁣⁣ vintage barnecklace barbrooch vintagebrooch vintagebarnecklace vintagenecklace fashion pendant necklace minimalist httpstcorsxbzihlei\n",
      "little something super fun marvelous martini pendant necklace newly listed shop necklace cool conversational piece ⁣ ⁣⁣ pendant measure ” long x ” wide⠀⁣⁣⁣⁣⁣⁣⁣⁣ necklace ” long ⁣⁣ httpstcojwaidum httpstcoclrlvgjx\n",
      "repairing fantastic art deco piece favorite somehow makeup baguette stone truly hope spruce issue soon⁣ vintage artdeco artdecojewelry artdeconecklace artdecodressclips dressclips pendant necklace love jewelry httpstcorqrtbs\n",
      "rhinestone cross cane clear resin background make great gift chain ” long made sterling silver plated brass⁣⁣ httpstcofdkdqaz⁣ vintage resin resinjewelry cross religion religious catholic christian crossnecklace httpstcouqiararc\n",
      "sweet silver swan necklace shop ⁣ pendant measure mm⁣ chain ” long made sterling silver plated brass⁣ httpstcoavimysnp⁣⁣⠀⁣⁣⁣⁣⁣ vintage vintageinspired resin resinjewelry swan silverswan rhinestone pendant necklace love httpstcoqqtegwed\n",
      "created lovely resin piece old pin coming shop week⁣ vintage vintageinspired recycled resin resinjewelry mouse swan hummingbird rose cross bee pendant necklace love jewelry jewelrydesigner jewelrydesign fashion fashionstatement httpstcohjppjfbvzc\n",
      "felt “poret” husband wife photo went well beautiful necklace available shop httpstcodebwkqu vintage vintagejewelry cameo cameopendant cameonecklace antiquestyle victorian victoriannecklace necklace love jewelry httpstcoqaorszwi\n",
      "“home heart is” necklace unique made old pin repurposed necklace⁣ measure ” long x ” wide⁣ httpstcodrgvlofin⁣ vintage vintagejewelry home heart homeiswheretheheartis homesweethome house httpstcovpjwuzbsa\n",
      "“free bird” necklace fun statement festival day matter ⁣⁣⁣⁣⁣ measure ” long x ” wide⁣ httpstcoredzyb⁣ vintage vintagejewelry bird birdnecklace birdpendant hippie hippienecklace festival festivalnecklace love httpstcoptstkejt\n",
      "fun stuff coming shop afternoon vintage vintagejewelry pendant cameo bird home homeiswheretheheartis heart cat catlover catwoman catlady love repurposed jewelry necklace jewelrydesigner jewelrydesign fashion style vintagefashion vintagestyle httpstcowaluijac\n",
      "pretty pewter peacock necklace shop vintage brooch repurposed ” rhodium plated chain ⁣ ⁣⠀⁣ pendant height inch pendant width inches⁣ httpstcozgnipicdc⁣ vintage vintagebrooch vintagependant pendant peacock peacocknecklace httpstcownvndbqds\n",
      "⁣with much appreciation ledbelly giving away frosted halfcircle resin swarovski crystal necklace secured ” sterling silverplated brass ball chain ⁣⁣⁣ visit httpstcotbipff enter giveaway geometric resin swarovski necklace ledbelly httpstcozsjbvjyjk\n",
      "keeping beauty dress clip best thing pearl look great color coming shop today style soon⁣ vintage vintagejewelry dressclips furclips scarfclip fashion style vintagefashion vintagestyle fauxpearls pearl httpstcoipnctoc\n"
     ]
    },
    {
     "name": "stderr",
     "output_type": "stream",
     "text": [
      "551it [04:43,  2.93it/s]***** Running Prediction *****\n",
      "  Num examples = 100\n",
      "  Batch size = 8\n"
     ]
    },
    {
     "name": "stdout",
     "output_type": "stream",
     "text": [
      "excited share item etsy shop amethyst ring silver wide silver amethyst ring adjustable amethyst ring february birthstone ring purple gemstone ring httpstcokotiuqjlj httpstcohrbtnuuqs\n",
      "excited share item etsy shop octopus silver ring iolite ring tentacle ring silver adjustable ring octopus ring gemstone httpstcomfgllez httpstcoskdatw\n",
      "rt mdfineart allotment southampton art painting gardening southampton art landscape httpstcoludguwe httpstcorjfks…\n",
      "rt alanathrower new artwork sale your steed awaits httpstcofjxrobqa fineartamerica httpstcohmtllzumj\n",
      "rt kathygail new artwork sale enchanted forest httpstcolahgmggm shoppixels httpstcoravkvuvwb\n",
      "rt truewildernesss aspen stick large aspen stick wood handmade supply wand truewilderness httpstcotpfycnyxas via etsy\n"
     ]
    },
    {
     "name": "stderr",
     "output_type": "stream",
     "text": [
      "564it [04:50,  2.19it/s]***** Running Prediction *****\n",
      "  Num examples = 100\n",
      "  Batch size = 8\n",
      "577it [04:57,  2.27it/s]***** Running Prediction *****\n",
      "  Num examples = 100\n",
      "  Batch size = 8\n",
      "590it [05:04,  1.89it/s]***** Running Prediction *****\n",
      "  Num examples = 98\n",
      "  Batch size = 8\n",
      "603it [05:11,  2.41it/s]***** Running Prediction *****\n",
      "  Num examples = 100\n",
      "  Batch size = 8\n",
      "616it [05:19,  1.84it/s]***** Running Prediction *****\n",
      "  Num examples = 100\n",
      "  Batch size = 8\n"
     ]
    },
    {
     "name": "stdout",
     "output_type": "stream",
     "text": [
      "available sale blue opal petrifiedwood cabochon cabochonsupplier cabochon cabochonsforsale instasmithy silversmith jewelrysupplies cabsforsale lapidaryartist stonesforsale cabochonmaker lapidaryart wirewrappedpendant crystaljewelry jjstoneshop jjs httpstcomrnxgmln\n"
     ]
    },
    {
     "name": "stderr",
     "output_type": "stream",
     "text": [
      "629it [05:32,  1.15it/s]***** Running Prediction *****\n",
      "  Num examples = 100\n",
      "  Batch size = 8\n",
      "642it [05:37,  2.98it/s]***** Running Prediction *****\n",
      "  Num examples = 100\n",
      "  Batch size = 8\n"
     ]
    },
    {
     "name": "stdout",
     "output_type": "stream",
     "text": [
      "vintage leopard spotted cat brooch pin enamel red rhinestone collar httpstcodvcwpwex\n",
      "rt saltedbayonet wee seaham gem handmade genuine rare seaglass rainbow amp silver fillable locketnecklace httpstcookvgaiic…\n",
      "rt flai new artwork sale wild sea turtle httpstcorcpzpmcio fineartamerica httpstcoolnysshey\n",
      "rt slitoff new artwork sale spring cherry blossom httpstcoblvkznd fineartamerica httpstcorgfimjdx\n",
      "mermaid season make little girl happy bootsiesboutique ebay store httpstcowoswqco tweeted via httpstcopygjxansj httpstcovyphklyddv\n",
      "vintage wood horse head pin brooch leather riding crop polo stick httpstcomqpcyfvj\n",
      "rt slitoff new artwork sale sand dune storm cloud morocco httpstcosckitix fineartamerica httpstcoubl…\n",
      "rt slitoff new artwork sale storm cloud desert morocco httpstcoxzyqyk fineartamerica httpstcoqdi…\n"
     ]
    },
    {
     "name": "stderr",
     "output_type": "stream",
     "text": [
      "655it [05:43,  2.85it/s]***** Running Prediction *****\n",
      "  Num examples = 100\n",
      "  Batch size = 8\n"
     ]
    },
    {
     "name": "stdout",
     "output_type": "stream",
     "text": [
      "connecttotheearth raiseyourvibration special event live meditation sound bath est youtube httpstcotdzmriwxzr don’t fancy link search helpingenergy youtube httpstcohurndaaasp\n"
     ]
    },
    {
     "name": "stderr",
     "output_type": "stream",
     "text": [
      "668it [05:54,  1.37it/s]***** Running Prediction *****\n",
      "  Num examples = 98\n",
      "  Batch size = 8\n"
     ]
    },
    {
     "name": "stdout",
     "output_type": "stream",
     "text": [
      "cgs memberspotlight🌟 glass artist ana vinuela lorenzo spain see more httpstcoudtnjlwtm contact artist directly link above contemporaryglasssociety cgs glass artistsoninstagram artglass glassart glassartist contemporaryart contemporaryglass httpstcobztbbqqt\n",
      "cgs memberspotlight🌟 glass artist anna alsinabardagi spain here httpstcoszxiukn please contact artist link above contemporaryglasssociety cgs glass artistsoninstagram artglass glassart glassartist contemporaryart contemporaryglass httpstcolayfxiv\n",
      "cgs memberspotlight🌟 glass artist monica garciaalonso se england at httpstcotfqicvaqj contact artist directly link above contemporaryglasssociety cgs glass artistsoninstagram artglass glassart glassartist contemporaryart contemporaryglass httpstcoratpggujy\n",
      "cgs memberspotlight🌟 glass artist penny stevens se discover here httpstcooobsltwlou contact artist directly link above contemporaryglasssociety cgs bead artistsoninstagram artglass glassart glassartist contemporaryart glass fusedglass glassfusing httpstcookhgfpr\n",
      "fire tony carolus price £ “a affordablepart ” online selling exhibition work show £ £ visit httpstcojupqqjv contemporaryglasssociety cgs artglass glassart glassartist contemporaryart artstudio artistsofinstagram httpstcolpgdhuytb\n",
      "cgs memberspotlight 🌟 glass artist mitch hosford london more httpstcomosdngg read contact artist directly link above contemporaryglasssociety cgs bead artistsoninstagram artglass glassart glassartist contemporaryart contemporaryglass httpstcogffvbufn\n",
      "modern retro bob leatherbarrow price £ “a affordable part ” online selling exhibition work show designed affordable £ £ visit httpstcojupqqjv contact artist direct link above contemporaryglasssociety cgs art httpstcolhrpicsr\n",
      "cgs memberspotlight 🔥 glass artist lucy prescott south east discover at httpstcomenbhay contact artist directly link above contemporaryglasssociety cgs bead artistsoninstagram artglass glassart glassartist contemporaryart contemporaryglass httpstcolmlupz\n",
      "international glass artist jacki cohen jackicohen kindly introduces work u all thank jacki u cgsuk contemporary glass society internationalinspiration internationalartist arizona usa art artwork artistsontwitter httpstcotbjnkhmel\n",
      "cgsuk brings the looking glass international inspiration series international glass artist jacki cohen jackicohen located scottsdale az arizona usa thank jacki kindly sharing work u follow instagram jackicohenglassartdesigns httpstcocbrtofao\n",
      "glass graduate luisa carmen martin lopez launch graduate piece online glass graduation show graduate work next generation visit httpstcobqavymbfrf title four season price cgs exhibition graduateshow cgs graduate university glassart httpstcogambieazg\n",
      "another beautiful piece sale brand new affordable part online glass selling exhibition at httpstcongwgfkguy purchase please contact artist directly find many amazing unique piece glass sale stunning show httpstcovlxcrcjnw\n",
      "cgs memberspotlight 🌟 artist jo turner more httpstcobedxauqzj contemporaryglasssociety cgs bead artistsoninstagram artglass glassart glassartist contemporaryglass beadmaking lampwork lampworkbeads etsy etsyglass etsy etsy glassbeaduk isgbbeadmakers httpstcoppqkpc\n",
      "dragonfly nancy sutcliffe cgsuk “a affordable part ” online selling show price £ httpstcongwgfkguy work £ £ contemporaryglasssociety cgs artglass glassart contemporaryart contemporaryglass fineart artstudio artistsofinstagram httpstcoavqotp\n",
      "cgs memberspotlight 🌟 artist tina smith wale more httpstcopfuyhjanu contemporaryglasssociety cgs artistsoninstagram glassart glassartist contemporaryglass lampworkbeads bead beadmaking lampwork lampworking craft etsy etsy notonthehighstreet httpstcoilefrx\n",
      "cgs memberspotlight artist joy funnell more httpstcojyvegcxku “joy senior art clay instructor guild enamellers” contemporaryglasssociety cgs glassartist artistsoninstagram glassware glassstudio fusedglassart artonfacebook artoftheday httpstcoaveljfcoj\n",
      "cgs memberspotlight🌟 artist kertész krisztina transilvania more httpstcoqdntjjb contemporaryglasssociety cgs glassartist glassart castglass artistsoninstagram glassware artglass glassstudio glassartist comtemporaryart contemporaryglass handmade httpstcothlmudlrlk\n",
      "launch brand new cgs online glass selling show “a affordable part work priced £ £ artist opportunity offer beautiful glass affordable price httpstcoltltqvw art craft design fineart gallery exhibition httpstcowbyme\n",
      "announcement brand new cgs online glass selling show “a affordable part ” launched yesterday work priced £ £ artist opportunity offer beautiful glass affordable price httpstcongwgfkguy art craft design httpstcodicmtendpo\n",
      "glass graduate kate courtneytaylor launch graduate piece online glass graduation show graduate work next generation visit httpstcobqavymbfrf title untethered price nfs cgs exhibition graduateshow cgs graduate university httpstcohpamicsin\n",
      "glass graduate yixue yang launch graduate work online glass graduation show yang one ten sunderlanduni glass amp ceramic graduate visit httpstcobqavymbfrf title progression price £ cgs exhibition graduateshow cgs graduate university httpstcosrihnbajj\n",
      "cgs memberspotlight🌟 artist april pebble owen more httpstcopqxawjb “i want make object great wealth artwork vibrant amp speaks hidden depth contemporaryglasssociety glassartist glassart fusing stainedglass stainedglassart festival art httpstcoltfzace\n",
      "lampwork glass bead handmade glass leaf lilac purple artglass leaf focal bead set emma ralph uk ejrbeads sra ooak httpstcowxbjxygfr via etsy httpstcolneyhmseat\n",
      "cgs memberspotlight 🌟 glass artist zsuzsa lili molnár budapest hungary more httpstcoujdtdbzg my aim recent piece emphasize importance existence others feelings”read above contemporaryglasssociety cgs glass httpstcoyepfbfzfz\n",
      "stunning cgs memberspotlight🌟 artist karina del savio argentina see more httpstcotfxzib contemporaryglasssociety cgs glassblowing glassart artistsoninstagram glass glassware glasscasting hotglass glassstudio httpstcowtgtlbc\n",
      "congratulation steveninglass awarded cgsuk amp glasssellersco commendation cgs new graduate review circulated internationally neuesglas new glass art amp architecture cgs bsmgp artglasscogc stirlingcampus fvcollege craftscotland craft httpstcobwvpddiw\n",
      "cgs memberspotlight🌟 michele oberdieck canada london more httpstcoluzppofhq colour always driving force work source inspiration coming natural world contemporaryglasssociety cgs glassblowing glassart rt httpstcobeeekvckc\n",
      "cgs memberspotlight🌟 artist kelly rooker more httpstcovnrtemhcf music amp human form key element work developed dance movement silhouette amp street art contemporaryglasssociety cgs foot glassware foot shoe httpstcoxbzthumqi\n",
      "“new glass now” feature range object amp installation artist working country renwickgallery smithsonian american art museum oct mar arieloconnor amberkerr theogordon marysavvy americanart atsaam sisaam lunder cgs glassart httpstcoyffafxgyu\n",
      "contemporary glass art exhibition brings fresh global perspective renwick gallery httpstcojsnojnkt artistontwitter creativinn creativinn cgsglass supportingglassgalleries supportingglassartists httpstcogyrovmnqb\n",
      "thawfund night warm heart silent auction live head httpstcoxstyhhy place bid spend afternoon michigan stateoftheart hotglass studio amp gallery owned amp operated glass artist april wagner epiphanyglass cgsglass support httpstcoarvcwlpkuy\n",
      "canadian clay amp glass building registry artist specialize clay glass amp copper enamel art information gathered shared canadian clay glass gallery future exhibition amp collaborative opportunity httpstcoavmmfzclc artstartsto httpstcovycutegv\n",
      "allister malcolm glass ltd allistermalcolm give u twitter warm colour cold day take closer look shop colour option cordial range patterndesign luscious warmcolours glassart handmade httpstcodelbsfiq\n",
      "gorgeous inspiration colour texture glass artist gina szulkowski ginasglass firedinaskutt softglass fusedglass bullseyeglass moltenmedia softglassart chicagoglass httpstcoedvazjpqah\n",
      "another striking piece dudentoast glassart glass glassartist casting sculpture httpstcoqgygsda\n",
      "glass graduate helen slater stokes hslaterglass launch graduate work current online glass graduation show graduate work next generation visit httpstcobqavymbfrf title virtual landscape x x cm price £ cgs exhibition graduateshow httpstcoqgqzaz\n",
      "cgs member spotlight 🌟 artist claire fernig spinnaker glass east england at httpstcojvjmilnl i take lot inspiration nature sailing sea spinnaker glass created read cgs fusedglassart fusedglassartist httpstcovcoxcvcqmf\n",
      "glass graduate catherine dunstan reveals beautiful piece glass explode colour vibrance piece exhibited online glass exhibition httpstcobqavymsqjd title support system price sold pair £ cgs exhibition graduateshow httpstcopiffckkzg\n",
      "cgs member spotlight 🌟 artist grace sharp more httpstcowxzxyycgit with innate interest exploring colour form use glass fluidity order convey express different emotional state contemporaryglasssociety hotglass glass httpstcoqnoivcqekh\n",
      "invite look find artist area contemporary glass society website link below creativeglassuk craftscounciluk dccireland dccireland glassartsociety glasssellersco ldnglassblowing craftsmagazine craftscotland craft glass glassart art httpstcorztenkwh\n",
      "creativeglassuk craftscounciluk dccireland dccireland glassartsociety glasssellersco ldnglassblowing craftsmagazine craftscotland httpstcotbckacfnv\n",
      "complete glassroots art beadmaking art beadmaking scheduled day glassrootsinc newark glassart jewelry class httpstcofxsxinx httpstcotdubgtak\n",
      "cgsuk member spotlight artist jane hester more httpstcowrstqgjs severai year ago attended glass fusing workshop amp became fascinated many way glass manipulated kiln read contemporaryglasssociety kilnformedglass fusing httpstcosmdzrfysk\n",
      "cgs member spotlight 🌟 neil edward insta eduardos more httpstconyvoewcfdp recent work focused using blown glass form fuse western eastern concept contact detail link cgs glassblowing glassart glassblower handmade httpstcocvodexijj\n"
     ]
    },
    {
     "name": "stderr",
     "output_type": "stream",
     "text": [
      "681it [06:01,  2.02it/s]***** Running Prediction *****\n",
      "  Num examples = 100\n",
      "  Batch size = 8\n"
     ]
    },
    {
     "name": "stdout",
     "output_type": "stream",
     "text": [
      "treat here chickenfarmer backyardpoultry petchickens chickensaspets chicken chickensofig chicken chickenlove chickenlover poultry backyardpoultry crazychickenlady chickenkeeper mypetchicken ilovechickens chick christmas lifewithfarming farm httpstcotyemvf\n",
      "cutest ever christmas duckling you’re welcome 🥰 duck dailyducks duck duckling duckling pet pet nature animal animal cute cutie wildlife daymade farm xmastreats xmas usa httpstcozsssqv\n",
      "blue fawn call duck female flying duck dailyducks duck duckling duckling pet pet nature animal animal cute cutie wildlife daymade farm httpstcojuzztlrmp\n",
      "rooster amaze watch noko go favorite toy chickensarefriendsnotfood animalsplaying petchickens housechicken housechickens rooster chicken chickenjoy citychickens chooksofinstsgram chooks chickenkeeper chickenmama chickenlove lovemychicken mychicken httpstcoxnoxvlbv\n"
     ]
    },
    {
     "name": "stderr",
     "output_type": "stream",
     "text": [
      "694it [06:09,  2.05it/s]***** Running Prediction *****\n",
      "  Num examples = 100\n",
      "  Batch size = 8\n",
      "707it [06:17,  1.93it/s]***** Running Prediction *****\n",
      "  Num examples = 100\n",
      "  Batch size = 8\n"
     ]
    },
    {
     "name": "stdout",
     "output_type": "stream",
     "text": [
      "three wise hare cm seenohearnospeakno evil bronze hare figurine decoration decor besthomedecor gift giftideas perfectforgift httpstcoysudhpvw\n",
      "obsidian cm obsidian dragon figurine gothic finestresin handpainted beast mythicalbeasts besthomedecor homedecor decor decoration gift perfectgift giftideas httpstcovjcgxgq\n",
      "candycorn cm candycorn pink dayofthedead skeleton unicorn figurine gothic decoration decor gift perfectgift giftideas besthomedecor homedecor httpstcoibinuagxg\n",
      "danegeld tankard cm danegeld viking tankard stainlesssteel gift perfect perfectgift perfectforgifts besthomedecor homedecor decor decoration gothic skull skulllovers httpstcontexdupsbu\n",
      "enchantment a cm annestokes enchantment blue fairywithgoblet figurine decoration besthomedecor homedecor decor gift perfectgift giftideas httpstconujciwmbz\n",
      "adult silver dragon a cm annestokes ageofdragons adult silver dragon figurine gothic gothicfigurine besthomedecor homedecor decor decoration gift perfectgift giftideas httpstcoqrsaeuhz\n",
      "breaking free cm breakingfree skeleton emerging fromskull ornament gift perfectgift giftideas besthomedecor homedecor decor decoration gothic httpstcocbgmgtzp\n",
      "angel offering cm white angel offering kneeling caped angel figurine besthomedecor homedecor decor decoration gift perfectgift giftideas httpstcommpmfqfsl\n",
      "baphomet bust cm celestial blackandsilver baphometbust besthomedecor homedecor decor gift perfectgift giftideas decoration gothic gothichome httpstcomtlwcfnjl\n",
      "fossilised goblet cm fossilised dragon remains goblet besthomedecor homedecor decor decoration gift giftideas perfectgift gothic httpstcogiqtfljcn\n",
      "love never dy cm loveneverdies skeleton hand heart figurine besthomedecor homedecor decor decoration finestresin gift perfectgift giftideas httpstcoioskzeeak\n",
      "spirit salem lp cm officiallylicensed lisaparker spiritsofsalem figurine besthomedecor homedecor decor gift giftideas perfectgift gothic finestresin handpainted httpstcofithnpsc\n",
      "acdc back black tankard cm officiallylicensed acdc backinblack tankard mug besthomedecor homedecor decor decoration gift perfectgift giftideas gothic httpstcouqoanxfe\n",
      "year magical dragon a cm annestokes yearofthemagical dragon pagan wheeloftheyear wall plaque gothic besthomedecor homedecor decor decoration gift perfectgift giftideas httpstcoajjzjzcwfj\n",
      "rivet raven cm steampunk rivet raven mechanical bird figurine besthomedecor homedecor decor gift perfectgift giftideas decoration httpstcooihjwlv\n",
      "wheel steel cm wheelsofsteelcm steampunk motorcycle skeleton figurine gothic besthomedecor homedecor decor decoration gift perfectgift giftideas httpstcorzrgpellmp\n",
      "lolita cm littleshadows lolita figurine gothic fairyandsugar skull ornament besthomedecor homedecor decor decoration gift perfectgift giftideas polyresin handpainted sugarskull httpstcoyumywehwd\n",
      "slipknot goblet cm officiallylicensed slipknot flaming goat horn goblet besthomedecor homedecor decoration gift perfectgift giftideas highquality handpainted resin httpstcoyxnvhsbx\n",
      "guardian fall box lp cm lisaparker guardianofthefall white autumn wolf trinketbox finestresin gift perfectgift giftideas besthomedecor homedecor decor decoration httpstcoahahenojd\n",
      "adeline cm littleshadows adeline figurine gothic fairy ornament finestresin handpainted besthomedecor decor decoration gift perfectgift giftideas httpstcoqjkymwzd\n",
      "cauldron bubble incense burner set cm cauldronbubble witch wiccan incense stickburners finestresin handpainted occult gothic gothiclovers besthomedecor homedecor decor gift perfectgift giftideas httpstcokqvuzbjz\n",
      "scent styx backflow incense burner cm scentofthestyx grimreaper backflow incenseburner finestresin handpainted besthomedecor homedecor decor gift perfectgift giftideas httpstcolehqvvz\n",
      "emerald chronology cm emeraldchronology greendragon wallclock clockplaque finestresin handpainted dragoncollection fantastic gothic besthomedecor homedecor decor decoration gift perfectgift giftideas httpstcosahoffbfw\n",
      "spirit board embossed shoulder bag nn cm spiritboard embossedshoulder tabletbag blackcm bag gothicbag mysterious magical occult besthomedecor homedecor decor decoration gift perfectgift giftideas httpstcogfbmhynmu\n",
      "cogwork hatter box cm bronzesilver cogwork hatterbox steampunk hatstorage highquality handpainted steampunkcollection besthomedecor homedecor decor gift perfectgift giftideas httpstcouleihsltpb\n",
      "baphomet goblet cm baphometgoblet goat goddeity wineglass occult drinkingvessel finestresin handpainted dishwashersafe stainlesssteel baphomet besthomedecor homedecor decor gift perfectgift giftideas httpstcogbbbylenv\n",
      "danegeld tankard cm danegeldviking tankard stainlesssteel finestresin highquality nordicrunes gift perfectgift giftideas besthomedecor homedecor decor decoration mug kitchenmug viking skull httpstcozsvwgsyc\n",
      "maeven cm raven fairy queen maeven figurine finestresin handpainted blackwings besthomedecor homedecor decor gift giftidas giftideas httpstcohhfzweq\n",
      "dead man hand gold cm deadmanshand golden playingcard skull ornament realistic humanskull decorated finestresin handpainted besthomedecor homedecor decor decoration giftidas gift perfectgift httpstcoogokkde\n",
      "aged oak backflow incense burner cm agedoak treespirit backflow incenseburner finestresin handpainted besthomedecor homedecor decoration decor gift perfectgift giftidas httpstcorhpdxwayt\n",
      "sacred memory sand timer a cm annestokes sacredmemory darkangel sandtimer ornament gothic fantasy timerdesign highquality resin handpainted besthomedecor homedecor decor decoration gift perfectgift giftidas httpstcoawuwgjrbk\n",
      "draco skull wall plaque cm spiraldraco skull dragon dagger wallplaque gothic spiralwallplaque dracoskullart skullart finestresin handpainted humanskull besthomedecor homedecor decor gift bestgift giftideas httpstcoelxcmedua\n",
      "cthulhu skull jr cm jamesryman greencthulhu skullfigurine ornament skull figurine octopus gothic finestresin handpainted fantasy humanoctopus horror besthomedecor homedecor decor gift perfectgift giftideas httpstcolkhmpvzb\n",
      "lady lake jr bronze cm ladyofthelake fairytale enchantress figurine gothic alternative highquality handpainted besthomedecor homedecor decor bronzedfigurine bronzed perfectgift perfectforgift giftideas httpstcopgbbmjtv\n",
      "black white spirit board cm blackandwhite spiritboard ouija ouijaboard baroquedesign occult highquality gothic besthomedecor homedecor decor gift perfectgift giftideas httpstcoqevuxb\n",
      "salem spell kit salem spellkit spellkitset witch wellness wellnessstones decoratedbox spiritualwellness stone sixstones smalldisplaybox besthomedecor homedecor decor gift perfectgift giftideas witchcraft httpstcoeylwvhyzj\n",
      "winter offspring cm winter motherandwolf ornament wolf winterforest highquality handpainted resin wolf whitewolf whitewolfes besthomedecor homedecor decor gift perfectgift giftideas httpstcoofzvmyxf\n",
      "obsidian cm obsidian dragon figurine dragonfigurine obsidiandragon gothic finestresin handpainted gothicdragon mythical besthomedecor homedecor decor gift perfectgift giftideas httpstcoudhmwpnq\n",
      "psychedelic skull pink cm psychedelic fluorescent skull figurine pink skullfigurine finestresin handpainted besthomedecor homedecor decor gift perfectgift giftideas httpstcoonlfekzha\n",
      "medieval shot glassset medieval edwardian set setglasses glass fantastic shotglasses finestresin handpainted besthomedecor homedecor decor gift perfectgift giftideas httpstcoitzfvkqgk\n",
      "alice cm alice wonderland fairyfigurine fairy figurine alicefigurine alicefairy gothic fantasy mysterious finestresin handpainted bluewing handpainted besthomedecor homedecor decor perfectgift giftideas gift httpstcobpdjowyk\n",
      "rabbit cm fantasy fairy figurine fairyfigurine fantasyfigurine finestresin handpainted rabbit clock easter holiday wonderlandfairy wonderland bunny gothic besthomedecor homedecor decoration decor gift gift perfectgift giftideas httpstcobjyvixoypi\n",
      "siren lament a cm annestokes siren sirenslament mermaid enchantress figurine mermaidfigurine sirensfigurine highquality handpainted skull mythological fantasy besthomedecor homedecor decoration gift perfectgift giftideas httpstcoyneffqu\n",
      "assassin creed creed tankard cm assasinscreed whitegametankard white game tankard insignia finestresin handpainted cup mug assasinsfan besthomedecor homedecor decoration decor gift perfectgift giftideas httpstcoqrlspkaiz\n",
      "cthulhu jr cm jamesryan green cthulhu greenctjulhu figurine ornament figurineornament artwork finestresin handpainted besthomedecor homedecor decoration decor gift giftideas perfectgift httpstcodieydjxplh\n",
      "edo cm dark black grotesque figurine protect highquality handpainted gothic gothicollection castle evilspirits besthomedecor homedecor decoration perfectgift gift giftideas httpstcovuvmdbhtf\n",
      "tabitha cm smallwitches tabitha blackcat broomstick catfigurine figurine finestresin handpainted witchycollection witchcollection highquality handpainted smallbroom blackwitch besthomedecor homedecor decoration decor gift perfectgift perfectforgift httpstcoalvmdfl\n",
      "forest nectar goblet cm bronze forest nectarancient ancient treespirit ancienttree greenman goblet wineglass glass wine highquality resin handpainted glasscup glass alternative naturalspirit flower figurine gift perfectgift besthomedecor httpstconpcrcng\n",
      "tankard brave cm tankard brave scottish shield mug alternative decoration finestresin handpainted historical scotland silver sword sword easeofcleaning besthomedecor homedecor decor gift perfectgift perfectforgift giftideas httpstcoyujjmqzj\n",
      "hootle cm steampunkowl steampunk owlfigurine figurine steampunkfigurine highquality handpainted hat alternative besthomedecor homedecor decoration gift perfectgift giftideas httpstcowwykkxfed\n",
      "luna oak cm moondesign lunaoak serenetreespirit moonornament highquality moon treespirit gift polyresin ornament besthomedecor homedecor nature alternative gothic guardian forest handpainted perfectgift decoration httpstcoiqpcoraet\n",
      "edgar raven goblet cm edgarallenpoe nevermore ravengoblet skulldesign finestresin handpainted easeofcleaning gothic besthomedecor homedecor decoration goblet gift perfectgift gothichome gothicdecoration httpstcocfohwigcc\n",
      "hold baphomet cm baphomet handplaque finestresin handpainted freestanding beautiful occult pentagram humanskulls skull horn gothichome gothic besthomedecor homedecor design gift perfectgift perfectforgift giftideas httpstcoxtftxzw\n",
      "new product buy here httpstcohrweipgrxc cogwork carnivore cm audrey audreyfilm audreyfans steampunk steampunkplant plant feedme amazingplant besthomedecor homedecor decoration httpstcowfewbhyu\n",
      "motorhead warpig goblet cm motorheadgoblet goblet motorheadfans iconicmascot skull gothic rock motorhead glass besthomedecor homedecor kitchen rocking perfectgift gift motorheaddesign warpig handpainted resin httpstcokghaxua\n",
      "dragon door knocker cm dragondoorknocker stylishdoorknocker glazedblackeyes gothic stylishdoor hangingdragon perfectgothichome blackdragon besthomedecor dragonskull blackeyes polyresin hanging gothichome walldecor doorknocker httpstcozekqzzv\n",
      "macabre mount cm mothwallplaque baroqueframed macabremount gothictheme wing besthomedecor homedecor bronze deathhead alternativehome gothicpicture polyresin baroquestyle alternative gold gothic uniquegift alt httpstcodifxpxn\n",
      "wheel year plaque cm paganhome paganholiday beltane plaque besthomedecor wallmounted mabon polyresin litha designed ostara flower handpainted highquality samhain gift httpstcorgrrurjmyq\n",
      "forest elder backflow incense burner cm forest backflow incenseburner treespirit figurine besthomedecor homedecor gift perfectgift perfectforgift decoration decor finestresin handpainted tree httpstcotkjjoxcfa\n",
      "dracus machina bookend cm bronzemachinery bookendfigurine finestresin dragonstatuette steampunkfigurine musthave ironwings dracusmachina steampunkdragon dragonbookends polyresin dragon cybernetic perfectgift steampunk besthomedecor gift httpstcoosdjaltt\n",
      "cogwork cruiser cm steampunkmotor besthomedecor homedecor perfectforgift polyresin decor gift motorbike perfectgift gift steampunk decoration motor httpstcobjolnpj\n",
      "esmerelda cm esmeraldafigurine figurine purplehair fairyornament decoratedface skullfigurine sugarskull besthomedecor fairycollection orangeroses homedecor polyresin fairyfigurine handpainted ornament gift perfectgift figurine decoration skull httpstcornhchcs\n"
     ]
    },
    {
     "name": "stderr",
     "output_type": "stream",
     "text": [
      "720it [06:21,  3.43it/s]***** Running Prediction *****\n",
      "  Num examples = 5\n",
      "  Batch size = 8\n",
      "721it [06:21,  4.01it/s]***** Running Prediction *****\n",
      "  Num examples = 100\n",
      "  Batch size = 8\n",
      "734it [06:26,  2.76it/s]***** Running Prediction *****\n",
      "  Num examples = 4\n",
      "  Batch size = 8\n",
      "735it [06:26,  3.42it/s]***** Running Prediction *****\n",
      "  Num examples = 100\n",
      "  Batch size = 8\n"
     ]
    },
    {
     "name": "stdout",
     "output_type": "stream",
     "text": [
      "nevermore cushion cover edgar allan poe raven cushion cover httpstcodolikveace via etsy thevioletroseemporium poe halloweenathome theraven nevermore halloween\n"
     ]
    },
    {
     "name": "stderr",
     "output_type": "stream",
     "text": [
      "748it [06:33,  2.33it/s]***** Running Prediction *****\n",
      "  Num examples = 100\n",
      "  Batch size = 8\n",
      "761it [06:37,  3.13it/s]***** Running Prediction *****\n",
      "  Num examples = 100\n",
      "  Batch size = 8\n",
      "774it [06:42,  3.29it/s]***** Running Prediction *****\n",
      "  Num examples = 100\n",
      "  Batch size = 8\n"
     ]
    },
    {
     "name": "stdout",
     "output_type": "stream",
     "text": [
      "ceramic design liz mazurek visit page like amp follow httpstcokmazvykd pottery art ceramic design httpstconapqvhgjk\n",
      "ceramic design kara klimshuk visit page like amp follow httpstcoogxmglcjqm pottery art ceramic design httpstcoswjiemua\n",
      "ceramic design hilda carr visit page like amp follow httpstcoiqafgeme pottery art ceramic design httpstcoitmmpuzna\n",
      "ceramic design susan simonini visit page like amp follow httpstcoqbayknasw pottery art ceramic design httpstcoahanvbkb\n",
      "ceramic design leigh anne thompson visit page like amp follow httpstcoaucrofwb pottery art ceramic design httpstcojlzfvsx\n",
      "ceramic design j e n e n visit page like amp follow httpstcoloyqjrbtn pottery art ceramic design httpstcoyyqsliq\n",
      "ceramic design carly joe visit page like amp follow httpstcodmdpesh pottery art ceramic design httpstcoefdupu\n",
      "ceramic design madriguera workshop visit page like amp follow httpstcopgjyfbap pottery art ceramic design httpstcowmvtgnocmg\n",
      "ceramic design tracy murray visit page like amp follow httpstcogoautcop pottery art ceramic design httpstcohqejspa\n",
      "ceramic design 𝐷𝑎𝑤𝑛 visit page like amp follow httpstcoaemkrxcg pottery art ceramic design httpstcoeeavllhrbo\n",
      "ceramic design ryuji iwasaki visit page like amp follow httpstcorvugtmjh pottery art ceramic design httpstcozwwhqhyplj\n",
      "ceramic design l r visit page like amp follow httpstcosdjfufch pottery art ceramic design httpstcoqexqeyvqtv\n",
      "ceramic design annemarie peter visit page like amp follow httpstcoskjeveg pottery art ceramic design httpstcovfutjtskyx\n",
      "ceramic design chloe may brown visit page like amp follow httpstcoknymgyiuew pottery art ceramic design httpstcoceagmgzwhc\n",
      "ceramic design leigh anne thompson visit page like amp follow httpstcofnzprdckb pottery art ceramic design httpstcokvmffcprt\n",
      "ceramic design evi louka visit page like amp follow httpstcokfjxcboip pottery art ceramic design httpstcovoewyvok\n",
      "ceramic design tasja p visit page like amp follow httpstcojsyzmtbhz pottery art ceramic design httpstcobyzrcm\n",
      "ceramic design suepryke visit page like amp follow httpstcotlwpjfuz pottery art ceramic design httpstcogtbhwujd\n",
      "ceramic design 𝐷𝑎𝑤𝑛 visit page like amp follow httpstcoviihqzeum pottery art ceramic design httpstcotscxrmyi\n",
      "ceramic design silt clay visit page like amp follow httpstconpfhipyu pottery art ceramic design httpstcohyuuqq\n",
      "ceramic design marieleman visit page like amp follow httpstcouudezbui pottery art ceramic design httpstcoyjfsumlfy\n",
      "ceramic design kiparukart visit page like amp follow httpstcoqqqpoqzcgy pottery art ceramic design httpstcoybeszv\n",
      "ceramic design amy schnitzer visit page like amp follow httpstcoyjyjztzdwr pottery art ceramic design httpstcohdjophogm\n",
      "ceramic design michelle volpe visit page like amp follow httpstcomuxrjo pottery art ceramic design httpstcokztstqff\n",
      "ceramic design muastudios visit page like amp follow httpstcoaoecicnjrb pottery art ceramic design httpstcoliieqflc\n",
      "ceramic design shutupamprelax • ceramic visit page like amp follow httpstcoejeloiodq pottery art ceramic design httpstcoxqhlceikgs\n",
      "ceramic design ceramic project visit page like amp follow httpstcoktcktvaw pottery art ceramic design httpstcovayilskkpo\n",
      "ceramic design annemarie peter visit page like amp follow httpstcoijtmweqz pottery art ceramic design httpstcormowya\n",
      "ceramic design colin klimesh taylor carter visit page like amp follow httpstcoozkrdrcsd pottery art ceramic design httpstcosoddekg\n",
      "ceramic design rebecca ridley visit page like amp follow httpstcomwouwfyri pottery art ceramic design httpstcoplmgxqvvf\n",
      "ceramic design pascale tétreault visit page like amp follow httpstcoksfnfcsczn pottery art ceramic design httpstcobqiobagx\n",
      "ceramic design sazha gazova visit page like amp follow httpstcobmeuvhhfyr pottery art ceramic design httpstcotkaulpcspu\n",
      "ceramic design suepryke visit page like amp follow httpstcoiuqkjbvxrv pottery art ceramic design httpstcoymapflcac\n",
      "ceramic design pagepotteryaustralia visit page like amp follow httpstcojycmbctq pottery art ceramic design httpstcommqpolqotl\n",
      "ceramic design whigham visit page like amp follow httpstcoogkkzhvmn pottery art ceramic design httpstcokrsqayahf\n",
      "ceramic design miri orenstein visit page like amp follow httpstcozyfuukrkh pottery art ceramic design httpstcotreqnk\n",
      "ceramic design angela nicholson visit page like amp follow httpstcoiktcgsyl pottery art ceramic design httpstcowflyqbmna\n",
      "ceramic design tri lukne visit page like amp follow httpstcohbtzoxeng pottery art ceramic design httpstcovdqkdzykv\n",
      "ceramic design annemieke boot visit page like amp follow httpstcofrjocfyo pottery art ceramic design httpstcoxdzajpehq\n",
      "ceramic design marieandrée roberge visit page like amp follow httpstcogvitrnew pottery art ceramic design httpstcopvcbxiyra\n",
      "ceramic design turtle island rd visit page like amp follow httpstcohmxvgds pottery art ceramic design httpstcocitcdoet\n",
      "ceramic design colin klimesh taylor carter visit page like amp follow httpstcoxwiylvuv pottery art ceramic design httpstcocnqfzwqen\n",
      "ceramic design alessia elli visit page like amp follow httpstcontjasgtmk pottery art ceramic design httpstcohagjbdgn\n",
      "ceramic design naike chen visit page like amp follow httpstcodygjapxgw pottery art ceramic design httpstcoqprhxqbrhq\n",
      "ceramic design suepryke visit page like amp follow httpstcokzpoqeu pottery art ceramic design httpstcowxfpghdwgu\n",
      "ceramic design plan b visit page like amp follow httpstcolievhfxiz pottery art ceramic design httpstcolptdnhkav\n",
      "ceramic design fusska visit page like amp follow httpstcoohhsyuup pottery art ceramic design httpstcosojzlwgb\n",
      "ceramic design kasper würtz visit page like amp follow httpstcochrztppz pottery art ceramic design httpstcoatbixqfuyc\n",
      "ceramic design maddalena pantano visit page like amp follow httpstcobpuembqje pottery art ceramic design httpstcotzcrsrg\n",
      "ceramic design hannie goldgewicht visit page like amp follow httpstcojyovcopar pottery art ceramic design httpstcosmyixy\n",
      "ceramic design miro visit page like amp follow httpstcondqmphvlvb pottery art ceramic design httpstcojbvbhdfjd\n",
      "ceramic design rose line visit page like amp follow httpstcodfkcyctxhk pottery art ceramic design httpstcofsabewgc\n",
      "ceramic design p h n visit page like amp follow httpstcoaoddhwch pottery art ceramic design httpstconxurtcqhi\n",
      "ceramic design jennifer spring visit page like amp follow httpstcoqnitmoupwi pottery art ceramic design httpstcomkxvfbz\n",
      "ceramic design mark rose amp maya santoso visit page like amp follow httpstcopugoglrl pottery art ceramic design httpstcoaalgzswdw\n",
      "ceramic design carole neilson visit page like amp follow httpstcoiqbvwaizyz pottery art ceramic design httpstcotjskskaq\n",
      "ceramic design colin klimesh taylor carter visit page like amp follow httpstcotradbexs pottery art ceramic design httpstcotdhqmskd\n",
      "ceramic design p u b l c h l visit page like amp follow httpstcorbrkfwgy pottery art ceramic design httpstcorwohcdb\n",
      "ceramic design jess sellinger visit page like amp follow httpstcoyspxlluew pottery art ceramic design httpstcopifpkjqlv\n",
      "ceramic design crysten visit page like amp follow httpstcoihcxlhzh pottery art ceramic design httpstcojrveqcercp\n",
      "ceramic design jen kuroki visit page like amp follow httpstcogxheblqs pottery art ceramic design httpstcotynckcstf\n",
      "ceramic design massimo artigiano visit page like amp follow httpstcotwvknokvj pottery art ceramic design httpstcojhwxmgas\n",
      "ceramic design cellar ceramic visit page like amp follow httpstcoxazbgog pottery art ceramic design httpstcosbssqoait\n",
      "ceramic design kasper würtz visit page like amp follow httpstcoqyglxcld pottery art ceramic design httpstcoqnhheucgg\n",
      "ceramic design l r visit page like amp follow httpstcokthefgazzf pottery art ceramic design httpstcotqbcoze\n",
      "ceramic design mark rose amp maya santoso visit page like amp follow httpstcodlyugwfee pottery art ceramic design httpstcoxobowjsvzr\n",
      "ceramic design moon visit page like amp follow httpstcoxnbcszb pottery art ceramic design httpstcotvravzivq\n",
      "ceramic design shannon garson visit page like amp follow httpstcoicndobdkox pottery art ceramic design httpstcojjqtfjble\n",
      "ceramic design faye louise timmins visit page like amp follow httpstcoqufmqygb pottery art ceramic design httpstcoxntzwlew\n",
      "ceramic design miro visit page like amp follow httpstcotodngjxdm pottery art ceramic design httpstcownkwnbulwx\n",
      "ceramic design sarah pike visit page like amp follow httpstcojutnkxipk pottery art ceramic design httpstcozrrkqhr\n",
      "ceramic design kwak kyung tae visit page like amp follow httpstcosawgqcamhs pottery art ceramic design httpstcopzixjdztj\n",
      "ceramic design tasja p visit page like amp follow httpstcocctshfd pottery art ceramic design httpstcosypkqjg\n",
      "ceramic design carole neilson visit page like amp follow httpstconbfttbzyt pottery art ceramic design httpstcohijjmuac\n",
      "ceramic design ryuji iwasaki visit page like amp follow httpstcoacflsondu pottery art ceramic design httpstcopjjkzycmx\n",
      "ceramic design nikki dowdell visit page like amp follow httpstcolaviqdxc pottery art ceramic design httpstcotwbcxo\n",
      "ceramic design gina feddersen visit page like amp follow httpstcolkmpujhia pottery art ceramic design httpstcoeqrebqkcy\n",
      "ceramic design amy schnitzer visit page like amp follow httpstcobetgrzq pottery art ceramic design httpstcocecwinj\n",
      "ceramic design ryanmaria visit page like amp follow httpstcogfnxksdiz pottery art ceramic design httpstcotrggvqfvg\n",
      "ceramic design luke bonecutter visit page like amp follow httpstcojbjgtzwhi pottery art ceramic design httpstcoyepmigog\n",
      "ceramic design lisa junius visit page like amp follow httpstcoehovvgzmsk pottery art ceramic design httpstcogvyyeqsb\n",
      "ceramic design om objectmatter ceramic visit page like amp follow httpstcopafaobkge pottery art ceramic design httpstcooogfyqxd\n",
      "ceramic design mirjameisenring visit page like amp follow httpstcolodyinna pottery art ceramic design httpstcojlmotjjhpf\n",
      "ceramic design nom living visit page like amp follow httpstcopajaxzmdc pottery art ceramic design httpstcovhwwpzwca\n",
      "ceramic design meredith host visit page like amp follow httpstcohofdlodfp pottery art ceramic design httpstcordtzwm\n",
      "ceramic design demet galatalı visit page like amp follow httpstcorwpyyome pottery art ceramic design httpstcoquzgspwwz\n",
      "ceramic design michelle van andel visit page like amp follow httpstcoydlxijxep pottery art ceramic design httpstcoqelvim\n",
      "ceramic design n r y c e r c visit page like amp follow httpstcojagyvfmsex pottery art ceramic design httpstcohgclrn\n",
      "ceramic design em piscopo visit page like amp follow httpstcojtogruak pottery art ceramic design httpstcohdliedn\n",
      "ceramic design katie robbins visit page like amp follow httpstcomxlyrpqxc pottery art ceramic design httpstcohdgmmuvqe\n",
      "ceramic design whigham visit page like amp follow httpstcotbnxykoq pottery art ceramic design httpstcojdztxfct\n",
      "ceramic design carole neilson visit page like amp follow httpstcohlkrezc pottery art ceramic design httpstcomvgnre\n",
      "ceramic design tasja p visit page like amp follow httpstcotbmgnmbkah pottery art ceramic design httpstcopvbqtvry\n",
      "ceramic design analogue life visit page like amp follow httpstcovzxlqmwsm pottery art ceramic design httpstcoocsiamvmp\n",
      "ceramic design sharon visit page like amp follow httpstconknimua pottery art ceramic design httpstcotkzdfase\n",
      "ceramic design annemieke boot visit page like amp follow httpstcopkoqcyfya pottery art ceramic design httpstcolpltxsgp\n",
      "ceramic design kelly brenner justice visit page like amp follow httpstcomzauejk pottery art ceramic design httpstcoxoocnysu\n",
      "ceramic design wiesje visit page like amp follow httpstcoyzclawni pottery art ceramic design httpstcodknpaxtaz\n",
      "ceramic design adarbakar visit page like amp follow httpstconajwtehsxr pottery art ceramic design httpstcocsiuppidi\n"
     ]
    },
    {
     "name": "stderr",
     "output_type": "stream",
     "text": [
      "787it [06:49,  2.16it/s]***** Running Prediction *****\n",
      "  Num examples = 44\n",
      "  Batch size = 8\n"
     ]
    },
    {
     "name": "stdout",
     "output_type": "stream",
     "text": [
      "made little christmas yarn doll hang tree good luck happiness throughout holiday christmas yule craft doll handmade httpstcozuojkf\n"
     ]
    },
    {
     "name": "stderr",
     "output_type": "stream",
     "text": [
      "793it [06:51,  2.39it/s]***** Running Prediction *****\n",
      "  Num examples = 99\n",
      "  Batch size = 8\n"
     ]
    },
    {
     "name": "stdout",
     "output_type": "stream",
     "text": [
      "first dance available major streaming platform 🔥 spotify httpstcoxvfok apple music httpstcocwvebemtk google play httpstcodoiuslbhb youtube httpstcoxylszzw httpstcojpzblakb\n"
     ]
    },
    {
     "name": "stderr",
     "output_type": "stream",
     "text": [
      "806it [06:58,  2.24it/s]***** Running Prediction *****\n",
      "  Num examples = 100\n",
      "  Batch size = 8\n"
     ]
    },
    {
     "name": "stdout",
     "output_type": "stream",
     "text": [
      "lone star wall cross decor cross crossdecor homedecor interiordecor foryourhomeandmore httpstcoigyrwnbh httpstcouxidehj\n",
      "designer dog art glass artglass artglassstatues glassart glassartstatues glassvases homedecor foryourhomeandmore httpstcovlmrwturzb httpstconrnnmewfoy\n",
      "flame art glass statue artglass artglassstatues glassart glassartstatues homedecor foryourhomeandmore httpstcoddjfikcylc httpstcojvbnxbo\n",
      "art glass statue artglass artglassstatues glassart glassartstatues homedecor foryourhomeandmore httpstcozivptxmu httpstcogyxsfsqi\n",
      "twig light snowman statue snowman snowmandecor christmas christmasdecorideas homeinterior foryourhomeandmore httpstcobdydqpopx httpstcozpfirvxz\n",
      "rt onekindesign step inside striking mediterranean style dwelling texas hill country httpstcoxmlobnybua httpstcoxeovyjdbc\n",
      "large blue cylinder glass vase artglass glassart glassvases homedecor foryourhomeandmorehttpsforyourhomeandmorecomcollectionsartglassproductslargebluecylinderglassvase httpstcocukvjfd\n",
      "small blue cylinder glass vase artglass glassart glassvases homedecor foryourhomeandmore httpstcoduisplee httpstcosxatzpuvi\n",
      "rt homeadore modern loft kaunas idwhite httpstcoijanabyu interiordesign architecture home decoration httpstcosxsr…\n",
      "crimson sunset art glass vase artglass artglassstatues glassart glassartstatues glassvases homedecor foryourhomeandmore httpstcokivoctsx httpstcobndqtbzf\n",
      "rt onekindesign fascinating modern desert home meld sonoran landscape httpstcolgxhymennu httpstcopcyzo\n",
      "woman prayer oil warmer womansprayer oilwarmer oilwarmerdecor homedecoration foryourhomeandmore httpstcoiigffhips httpstcoqayvcsmu\n",
      "rt onekindesign spanish style bungalow venice beach celebrates tropical modernism httpstcozpvrjvxkjh httpstcopwgsugvt\n",
      "angel trio oil warmer angeldecor angel oilwarmer homedecoration foryourhomeandmore httpstcokekxlnp httpstcoqovazscfj\n"
     ]
    },
    {
     "name": "stderr",
     "output_type": "stream",
     "text": [
      "819it [07:03,  2.86it/s]***** Running Prediction *****\n",
      "  Num examples = 100\n",
      "  Batch size = 8\n",
      "830it [07:28,  2.15s/it]"
     ]
    }
   ],
   "source": [
    "for i in range(1000):\n",
    "    try:\n",
    "        followers_timeline_file = open(\"../../data/followers_timeline_{}.json\".format(str(i)), 'r')\n",
    "        print(\"Working on file {}\".format(str(i)))\n",
    "    except:\n",
    "        print(\"File not found\")\n",
    "        break\n",
    "    followers_timeline = json.load(followers_timeline_file)\n",
    "    for user in followers_timeline[\"followers_timeline\"]:\n",
    "        for follower in followers_timeline[\"followers_timeline\"][user]:\n",
    "            try:\n",
    "                tweet_timeline = followers_timeline[\"followers_timeline\"][user][follower][\"data\"]\n",
    "                tweet_text_list = []\n",
    "                for tweet in tweet_timeline:\n",
    "                    try:\n",
    "                        tweet_text = tweet['text']\n",
    "                        tweet_text = ' '.join([word for word in tweet_text.lower().split() if word not in stop])  # remove stopwords\n",
    "                        # remove punc.\n",
    "                        tweet_text = tweet_text.translate(table)\n",
    "                        tweet_text = ''.join(c for c in tweet_text if not c.isdigit())  # remove numbers\n",
    "                        tweet_text = tweet_text.replace('  ', ' ')  # remove double spaces\n",
    "                        tweet_text = ' '.join([lemmatizer.lemmatize(word) for word in tweet_text.split()])  # lemminize\n",
    "                        tweet_text_list.append(tweet_text)\n",
    "                    except:\n",
    "                        pass\n",
    "                X_test_tokenized = tokenizer(tweet_text_list, padding=True, truncation=True, max_length=512)\n",
    "                test_dataset = Dataset(X_test_tokenized)\n",
    "                raw_pred, _, _ = test_trainer.predict(test_dataset)\n",
    "                y_pred = np.argmax(raw_pred, axis=1)\n",
    "                counter = 0\n",
    "                for tweet_pred in y_pred:\n",
    "                    if tweet_pred == 1:\n",
    "                        print(tweet_text_list[counter])\n",
    "                    counter += 1\n",
    "                        \n",
    "            except:\n",
    "                pass\n"
   ]
  }
 ],
 "metadata": {
  "interpreter": {
   "hash": "5d259f8ea978a0011a9c41c85f38b722350957b00d06485c4eb037401ff597af"
  },
  "kernelspec": {
   "display_name": "Python 3.9.7 64-bit ('main': conda)",
   "language": "python",
   "name": "python3"
  },
  "language_info": {
   "codemirror_mode": {
    "name": "ipython",
    "version": 3
   },
   "file_extension": ".py",
   "mimetype": "text/x-python",
   "name": "python",
   "nbconvert_exporter": "python",
   "pygments_lexer": "ipython3",
   "version": "3.9.7"
  },
  "orig_nbformat": 4
 },
 "nbformat": 4,
 "nbformat_minor": 2
}
