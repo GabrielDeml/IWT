{
 "cells": [
  {
   "cell_type": "code",
   "execution_count": 1,
   "metadata": {},
   "outputs": [],
   "source": [
    "import torch\n",
    "import pandas as pd\n",
    "from transformers import BertTokenizer"
   ]
  },
  {
   "cell_type": "code",
   "execution_count": null,
   "metadata": {},
   "outputs": [],
   "source": [
    "# Model location\n",
    "model_file = \"pytorch_model.bin\"\n",
    "# Load model\n",
    "model = torch.load(model_file)\n",
    "# Load test data csv\n",
    "test_data_file = \"../data/glue_data/test.csv\"\n",
    "test_data = pd.read_csv(test_data_file)\n",
    "# Get only the sentence column\n",
    "test_data = test_data[\"sentence\"].to_list()\n",
    "\n",
    "model_name = \"bert-base-uncased\"\n",
    "# max sequence length for each document/sentence sample\n",
    "max_length = 512\n",
    "# load the tokenizer\n",
    "tokenizer = BertTokenizer.from_pretrained(model_name, do_lower_case=True)\n",
    "test_data = tokenizer(test_data, max_length=max_length, padding=\"max_length\", truncation=True, return_tensors=\"pt\")\n",
    "# Run predictions\n",
    "predictions = model(**test_data)\n",
    "# Get the predictions\n",
    "predictions = torch.softmax(predictions[0], dim=1).detach().numpy()\n",
    "# Get the labels\n",
    "labels = torch.argmax(predictions, dim=1).detach().numpy()\n",
    "# Create a dataframe\n",
    "df = pd.DataFrame({\"id\": list(range(len(labels))), \"label\": labels})\n",
    "# Save the dataframe\n",
    "df.to_csv(\"predictions.csv\", index=False)"
   ]
  },
  {
   "cell_type": "code",
   "execution_count": null,
   "metadata": {},
   "outputs": [],
   "source": []
  }
 ],
 "metadata": {
  "interpreter": {
   "hash": "5d259f8ea978a0011a9c41c85f38b722350957b00d06485c4eb037401ff597af"
  },
  "kernelspec": {
   "display_name": "Python 3.9.7 ('main')",
   "language": "python",
   "name": "python3"
  },
  "language_info": {
   "codemirror_mode": {
    "name": "ipython",
    "version": 3
   },
   "file_extension": ".py",
   "mimetype": "text/x-python",
   "name": "python",
   "nbconvert_exporter": "python",
   "pygments_lexer": "ipython3",
   "version": "3.9.7"
  },
  "orig_nbformat": 4
 },
 "nbformat": 4,
 "nbformat_minor": 2
}
