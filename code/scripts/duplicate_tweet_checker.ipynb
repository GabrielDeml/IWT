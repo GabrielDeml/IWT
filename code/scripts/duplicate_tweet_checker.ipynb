{
 "cells": [
  {
   "cell_type": "code",
   "execution_count": 18,
   "metadata": {},
   "outputs": [],
   "source": [
    "import sys\n",
    "sys.path.append('../../lib/')"
   ]
  },
  {
   "cell_type": "code",
   "execution_count": 19,
   "metadata": {},
   "outputs": [],
   "source": [
    "from analysis import *\n",
    "import json"
   ]
  },
  {
   "cell_type": "code",
   "execution_count": 20,
   "metadata": {},
   "outputs": [],
   "source": [
    "json_path = \"../../data/dataset/100_random_tweets_from_seed_users.json\"\n",
    "tweet_list = analysis.create_tweet_list_from_loaded_json(analysis.universal_data_loader(json_path))"
   ]
  },
  {
   "cell_type": "code",
   "execution_count": 21,
   "metadata": {},
   "outputs": [],
   "source": [
    "# Check to make sure all the tweets are unique\n",
    "tweet_ids = {}\n",
    "for tweet in tweet_list:\n",
    "\tif analysis.get_tweet_id(tweet) in tweet_ids:\n",
    "\t\ttweet_ids[analysis.get_tweet_id(tweet)] += 1\n",
    "\telse:\n",
    "\t\ttweet_ids[analysis.get_tweet_id(tweet)] = 1"
   ]
  },
  {
   "cell_type": "code",
   "execution_count": 22,
   "metadata": {},
   "outputs": [],
   "source": [
    "for tweet_id in tweet_ids:\n",
    "\tif tweet_ids[tweet_id] > 1:\n",
    "\t\tprint(\"Tweet ID: \" + str(tweet_id) + \" appears \" + str(tweet_ids[tweet_id]) + \" times.\")\n",
    "\t\t# Remove the tweet from the list\n",
    "\t\tfor tweet in tweet_list:\n",
    "\t\t\tif analysis.get_tweet_id(tweet) == tweet_id:\n",
    "\t\t\t\ttweet_list.remove(tweet)"
   ]
  },
  {
   "cell_type": "code",
   "execution_count": 23,
   "metadata": {},
   "outputs": [],
   "source": [
    "with open(json_path, \"w\") as f:\n",
    "\tjson.dump(tweet_list, f)"
   ]
  }
 ],
 "metadata": {
  "interpreter": {
   "hash": "5d259f8ea978a0011a9c41c85f38b722350957b00d06485c4eb037401ff597af"
  },
  "kernelspec": {
   "display_name": "Python 3.9.7 ('main')",
   "language": "python",
   "name": "python3"
  },
  "language_info": {
   "codemirror_mode": {
    "name": "ipython",
    "version": 3
   },
   "file_extension": ".py",
   "mimetype": "text/x-python",
   "name": "python",
   "nbconvert_exporter": "python",
   "pygments_lexer": "ipython3",
   "version": "3.9.7"
  },
  "orig_nbformat": 4
 },
 "nbformat": 4,
 "nbformat_minor": 2
}
