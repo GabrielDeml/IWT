{
 "cells": [
  {
   "cell_type": "code",
   "execution_count": 1,
   "metadata": {},
   "outputs": [],
   "source": [
    "import sys\n",
    "sys.path.append('../../lib/')"
   ]
  },
  {
   "cell_type": "code",
   "execution_count": 2,
   "metadata": {},
   "outputs": [],
   "source": [
    "from analysis import *"
   ]
  },
  {
   "cell_type": "code",
   "execution_count": 3,
   "metadata": {},
   "outputs": [
    {
     "name": "stdout",
     "output_type": "stream",
     "text": [
      "Hot as FUUUCK http://t.co/lsDaY2Cg\n",
      "\n",
      "Hot as FUUUCK {{url}}\n"
     ]
    }
   ],
   "source": [
    "text = \"Hot as FUUUCK http://t.co/lsDaY2Cg\"\n",
    "text_clean = analysis.replace_urls(text)\n",
    "print(text)\n",
    "print()\n",
    "print(text_clean)"
   ]
  }
 ],
 "metadata": {
  "interpreter": {
   "hash": "5d259f8ea978a0011a9c41c85f38b722350957b00d06485c4eb037401ff597af"
  },
  "kernelspec": {
   "display_name": "Python 3.9.7 ('main')",
   "language": "python",
   "name": "python3"
  },
  "language_info": {
   "codemirror_mode": {
    "name": "ipython",
    "version": 3
   },
   "file_extension": ".py",
   "mimetype": "text/x-python",
   "name": "python",
   "nbconvert_exporter": "python",
   "pygments_lexer": "ipython3",
   "version": "3.9.7"
  },
  "orig_nbformat": 4
 },
 "nbformat": 4,
 "nbformat_minor": 2
}
