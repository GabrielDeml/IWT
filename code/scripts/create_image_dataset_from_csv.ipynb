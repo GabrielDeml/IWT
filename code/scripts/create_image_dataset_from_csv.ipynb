{
 "cells": [
  {
   "cell_type": "markdown",
   "metadata": {},
   "source": [
    "This script takes in a labeled image csv and copies the images into the correct train/val folders"
   ]
  },
  {
   "cell_type": "code",
   "execution_count": 1,
   "metadata": {},
   "outputs": [],
   "source": [
    "import sys\n",
    "import pandas as pd\n",
    "from sklearn.model_selection import train_test_split\n",
    "import numpy as np\n",
    "import glob\n",
    "sys.path.append('../../lib/')\n",
    "from shutil import copyfile"
   ]
  },
  {
   "cell_type": "code",
   "execution_count": 2,
   "metadata": {},
   "outputs": [],
   "source": [
    "from analysis import *"
   ]
  },
  {
   "cell_type": "code",
   "execution_count": 3,
   "metadata": {},
   "outputs": [],
   "source": [
    "# Load csv \n",
    "df = pd.read_csv('../../data/dataset/converting_to_model_form/images/fake_ids_label.csv')"
   ]
  },
  {
   "cell_type": "code",
   "execution_count": 4,
   "metadata": {},
   "outputs": [
    {
     "name": "stdout",
     "output_type": "stream",
     "text": [
      "  image_id  label\n",
      "0      2_0      0\n",
      "1      3_0      1\n",
      "2     10_0      0\n",
      "3     15_0      1\n",
      "4     16_0      1\n"
     ]
    }
   ],
   "source": [
    "print(df.head())"
   ]
  },
  {
   "cell_type": "code",
   "execution_count": 5,
   "metadata": {},
   "outputs": [],
   "source": [
    "good_ids = df[df['label'] == 0]\n",
    "bad_ids = df[df['label'] == 1]"
   ]
  },
  {
   "cell_type": "code",
   "execution_count": 6,
   "metadata": {},
   "outputs": [
    {
     "name": "stdout",
     "output_type": "stream",
     "text": [
      "   image_id  label\n",
      "0       2_0      0\n",
      "2      10_0      0\n",
      "10     25_0      0\n",
      "12     27_0      0\n",
      "20     35_0      0\n",
      "  image_id  label\n",
      "1      3_0      1\n",
      "3     15_0      1\n",
      "4     16_0      1\n",
      "5     17_0      1\n",
      "6     19_0      1\n"
     ]
    }
   ],
   "source": [
    "print(good_ids.head())\n",
    "print(bad_ids.head())"
   ]
  },
  {
   "cell_type": "code",
   "execution_count": 7,
   "metadata": {},
   "outputs": [
    {
     "name": "stdout",
     "output_type": "stream",
     "text": [
      "0        2_0\n",
      "2       10_0\n",
      "10      25_0\n",
      "12      27_0\n",
      "20      35_0\n",
      "       ...  \n",
      "317    507_0\n",
      "318    507_1\n",
      "319    507_2\n",
      "320    509_0\n",
      "321    513_0\n",
      "Name: image_id, Length: 322, dtype: object\n",
      "0      0\n",
      "2      0\n",
      "10     0\n",
      "12     0\n",
      "20     0\n",
      "      ..\n",
      "317    1\n",
      "318    1\n",
      "319    1\n",
      "320    1\n",
      "321    1\n",
      "Name: label, Length: 322, dtype: int64\n"
     ]
    }
   ],
   "source": [
    "# Merge good and bad ids\n",
    "ids = pd.concat([good_ids['image_id'], bad_ids['image_id']])\n",
    "labels = pd.concat([good_ids['label'], bad_ids['label']])\n",
    "print(ids)\n",
    "print(labels)\n",
    "# Convert to numpy array\n",
    "ids = np.array(ids)\n",
    "labels = np.array(labels)"
   ]
  },
  {
   "cell_type": "code",
   "execution_count": 8,
   "metadata": {},
   "outputs": [],
   "source": [
    "# Split into train and test\n",
    "train_ids, test_ids, train_labels, test_labels = train_test_split(ids, labels, test_size=0.2, stratify=labels, random_state=42)"
   ]
  },
  {
   "cell_type": "code",
   "execution_count": 9,
   "metadata": {},
   "outputs": [
    {
     "name": "stdout",
     "output_type": "stream",
     "text": [
      "374_0\n",
      "1\n",
      "327_0\n",
      "0\n",
      "257\n",
      "65\n",
      "257\n",
      "65\n"
     ]
    }
   ],
   "source": [
    "print(train_ids[0])\n",
    "print(train_labels[0])\n",
    "print(test_ids[0])\n",
    "print(test_labels[0])\n",
    "print(len(train_ids))\n",
    "print(len(test_ids))\n",
    "print(len(train_labels))\n",
    "print(len(test_labels))"
   ]
  },
  {
   "cell_type": "code",
   "execution_count": 10,
   "metadata": {},
   "outputs": [],
   "source": [
    "# Create a map between ids and labels\n",
    "train_map = dict(zip(train_ids, train_labels))\n",
    "test_map = dict(zip(test_ids, test_labels))"
   ]
  },
  {
   "cell_type": "code",
   "execution_count": 11,
   "metadata": {},
   "outputs": [
    {
     "name": "stdout",
     "output_type": "stream",
     "text": [
      "{'374_0': 1, '367_3': 0, '308_2': 1, '398_0': 1, '200_0': 1, '499_0': 1, '431_1': 1, '207_0': 0, '228_0': 1, '396_2': 0, '185_0': 1, '16_0': 1, '285_0': 0, '211_1': 1, '57_0': 0, '155_0': 0, '352_0': 1, '434_1': 1, '400_3': 0, '126_0': 1, '187_0': 1, '404_0': 0, '410_0': 1, '367_1': 1, '170_0': 0, '124_2': 1, '59_0': 1, '171_0': 1, '315_0': 1, '42_0': 1, '360_0': 0, '153_1': 1, '274_3': 0, '53_0': 0, '299_0': 0, '262_0': 0, '349_0': 1, '186_0': 1, '191_0': 0, '308_0': 1, '130_0': 1, '361_0': 1, '124_1': 1, '471_0': 0, '341_1': 1, '107_0': 0, '439_0': 1, '85_0': 0, '247_3': 0, '210_0': 1, '497_0': 1, '325_0': 0, '448_0': 1, '274_0': 0, '309_1': 0, '268_0': 1, '362_1': 1, '262_1': 0, '93_0': 0, '438_0': 1, '37_0': 1, '396_0': 1, '211_2': 1, '394_0': 1, '247_1': 0, '264_0': 1, '29_0': 1, '89_0': 1, '240_0': 0, '308_1': 1, '252_0': 0, '279_0': 1, '26_0': 1, '341_2': 1, '436_3': 0, '489_0': 1, '298_0': 1, '324_0': 1, '297_0': 0, '391_0': 1, '311_0': 1, '466_0': 0, '277_1': 0, '90_0': 1, '337_0': 0, '463_1': 1, '361_2': 0, '477_1': 1, '280_0': 1, '406_0': 1, '363_0': 1, '141_0': 1, '367_0': 1, '456_0': 1, '169_0': 1, '277_0': 0, '229_0': 0, '509_0': 1, '153_0': 1, '143_0': 1, '477_0': 1, '294_2': 1, '429_0': 0, '230_0': 1, '362_0': 1, '248_0': 0, '379_0': 0, '23_1': 1, '110_3': 0, '474_0': 1, '221_0': 1, '75_0': 0, '301_0': 1, '309_0': 1, '140_0': 1, '262_3': 0, '81_0': 1, '293_0': 0, '146_1': 0, '413_0': 1, '124_0': 1, '58_0': 1, '110_2': 0, '431_2': 1, '479_0': 0, '188_0': 0, '316_0': 0, '367_2': 0, '400_1': 1, '395_0': 0, '447_0': 1, '502_0': 1, '452_0': 0, '44_2': 1, '17_0': 1, '19_1': 1, '319_0': 1, '475_0': 1, '322_0': 1, '267_0': 0, '317_0': 0, '15_0': 1, '436_2': 0, '190_0': 0, '362_2': 1, '146_0': 1, '132_0': 1, '308_3': 1, '35_0': 0, '273_0': 1, '313_0': 1, '215_0': 0, '346_0': 1, '28_0': 1, '368_0': 1, '434_2': 0, '27_0': 0, '331_0': 1, '487_0': 1, '377_0': 1, '135_0': 1, '217_0': 1, '492_0': 1, '151_0': 0, '34_0': 1, '244_0': 0, '134_0': 1, '41_0': 1, '444_0': 0, '431_0': 1, '284_0': 0, '164_0': 1, '238_0': 1, '211_0': 1, '513_0': 1, '432_0': 0, '407_0': 0, '2_0': 0, '420_0': 1, '396_3': 0, '378_0': 0, '262_2': 1, '340_0': 0, '71_0': 0, '306_0': 1, '129_0': 1, '317_3': 0, '118_1': 1, '247_2': 0, '118_2': 1, '359_0': 0, '176_0': 1, '150_0': 0, '189_0': 1, '216_0': 1, '331_2': 1, '463_0': 1, '106_0': 1, '266_0': 1, '31_2': 1, '463_2': 1, '200_1': 1, '402_0': 0, '225_0': 1, '100_0': 0, '294_0': 1, '310_0': 1, '218_0': 1, '507_1': 1, '507_2': 1, '54_0': 0, '103_0': 0, '147_0': 0, '277_2': 0, '38_0': 1, '56_0': 0, '478_0': 1, '331_1': 1, '23_0': 1, '317_1': 1, '55_0': 1, '387_0': 1, '502_1': 1, '148_0': 1, '449_0': 0, '338_0': 1, '458_0': 1, '357_0': 0, '410_1': 0, '376_0': 0, '44_1': 1, '44_0': 1, '247_0': 0, '434_0': 1, '486_0': 0, '436_0': 1, '258_0': 1, '477_2': 1, '346_1': 1, '358_0': 0, '304_0': 0, '397_0': 1, '453_0': 0, '396_1': 0, '495_0': 1, '45_0': 0, '317_2': 0, '184_0': 1, '341_0': 1, '118_0': 1, '124_3': 1, '400_2': 0, '302_0': 0, '411_0': 0, '150_1': 0, '507_0': 1, '430_0': 0}\n",
      "{'327_0': 0, '96_0': 0, '274_1': 0, '294_3': 1, '433_0': 0, '416_0': 0, '347_0': 1, '110_0': 1, '159_0': 0, '440_0': 1, '364_0': 1, '59_1': 1, '59_2': 1, '69_0': 1, '163_0': 1, '233_0': 0, '417_0': 1, '186_1': 1, '25_0': 0, '118_3': 1, '336_0': 1, '112_0': 1, '274_2': 0, '504_0': 0, '282_0': 1, '426_0': 0, '153_2': 1, '19_0': 1, '381_0': 0, '121_0': 0, '498_0': 1, '410_2': 0, '110_1': 1, '361_1': 1, '294_1': 1, '346_2': 1, '296_0': 1, '441_0': 1, '258_1': 1, '122_0': 1, '186_2': 1, '400_0': 0, '31_0': 1, '430_1': 0, '419_0': 0, '392_0': 1, '133_0': 1, '10_0': 0, '369_0': 0, '3_0': 1, '128_0': 1, '364_1': 1, '342_0': 0, '31_1': 1, '129_1': 0, '146_2': 0, '425_0': 1, '355_0': 1, '32_0': 1, '384_0': 0, '275_0': 1, '450_0': 1, '295_0': 0, '95_0': 1, '436_1': 0}\n"
     ]
    }
   ],
   "source": [
    "print(train_map)\n",
    "print(test_map)"
   ]
  },
  {
   "cell_type": "code",
   "execution_count": 12,
   "metadata": {},
   "outputs": [
    {
     "name": "stdout",
     "output_type": "stream",
     "text": [
      "Error: file ../../data/dataset/building_dataset/images_fake_ids_final/302_0.jpg already exists ../../data/dataset/building_dataset/images_fake_ids_final/151_0.jpg\n",
      "Error: file ../../data/dataset/building_dataset/images_fake_ids_final/352_0.jpg already exists ../../data/dataset/building_dataset/images_fake_ids_final/164_0.jpg\n",
      "Error: file ../../data/dataset/building_dataset/images_fake_ids_final/378_0.jpg already exists ../../data/dataset/building_dataset/images_fake_ids_final/357_0.jpg\n",
      "Error: file ../../data/dataset/building_dataset/images_fake_ids_final/400_0.jpg already exists ../../data/dataset/building_dataset/images_fake_ids_final/317_0.jpg\n",
      "Error: file ../../data/dataset/building_dataset/images_fake_ids_final/400_1.jpg already exists ../../data/dataset/building_dataset/images_fake_ids_final/317_1.jpg\n",
      "Error: file ../../data/dataset/building_dataset/images_fake_ids_final/400_2.jpg already exists ../../data/dataset/building_dataset/images_fake_ids_final/317_2.jpg\n",
      "Error: file ../../data/dataset/building_dataset/images_fake_ids_final/400_3.jpg already exists ../../data/dataset/building_dataset/images_fake_ids_final/317_3.jpg\n",
      "Error: file ../../data/dataset/building_dataset/images_fake_ids_final/419_0.jpg already exists ../../data/dataset/building_dataset/images_fake_ids_final/93_0.jpg\n",
      "Error: file ../../data/dataset/building_dataset/images_fake_ids_final/436_0.jpg already exists ../../data/dataset/building_dataset/images_fake_ids_final/396_0.jpg\n",
      "Error: file ../../data/dataset/building_dataset/images_fake_ids_final/444_0.jpg already exists ../../data/dataset/building_dataset/images_fake_ids_final/2_0.jpg\n",
      "Error: file ../../data/dataset/building_dataset/images_fake_ids_final/458_0.jpg already exists ../../data/dataset/building_dataset/images_fake_ids_final/153_1.jpg\n",
      "Error: file ../../data/dataset/building_dataset/images_fake_ids_final/466_0.jpg already exists ../../data/dataset/building_dataset/images_fake_ids_final/75_0.jpg\n",
      "Error: file ../../data/dataset/building_dataset/images_fake_ids_final/471_0.jpg already exists ../../data/dataset/building_dataset/images_fake_ids_final/190_0.jpg\n",
      "Error: file ../../data/dataset/building_dataset/images_fake_ids_final/502_0.jpg already exists ../../data/dataset/building_dataset/images_fake_ids_final/211_0.jpg\n",
      "Error: file ../../data/dataset/building_dataset/images_fake_ids_final/502_1.jpg already exists ../../data/dataset/building_dataset/images_fake_ids_final/211_1.jpg\n"
     ]
    }
   ],
   "source": [
    "# copy images to train and test folders\n",
    "base = \"../../data/dataset/building_dataset/images_fake_ids_final/\"\n",
    "files = []\n",
    "for file_type in [base + '*.jpg', base + '*.png']:\n",
    "\tfiles.extend(glob.glob(file_type))\n",
    "hash_of_images = {}\n",
    "\n",
    "def hash_file(file_path):\n",
    "    # Read the file in and compute the hash\n",
    "\twith open(file_path, 'rb') as f:\n",
    "\t\treturn hash(f.read())\n",
    "\n",
    "for file in files:\n",
    "\t# Hash the file\n",
    "\tfile_hash = hash_file(file)\n",
    "\t# Add the file to the hash map\n",
    "\tif file_hash not in hash_of_images:\n",
    "\t\thash_of_images[file_hash] = file\n",
    "\t\tfile_name = file.split('/')[-1]\n",
    "\t\tfile_name = file_name.split('.')[0]\n",
    "\t\textention = file.split('.')[-1]\n",
    "\t\tif file_name in train_ids:\n",
    "\t\t\tif train_map[file_name] == 1:\n",
    "\t\t\t\tcopyfile(file, \"../../data/dataset/converting_to_model_form/images/train/iwt/\" + file_name + \".\" + extention)\n",
    "\t\t\telse:\n",
    "\t\t\t\tcopyfile(file, \"../../data/dataset/converting_to_model_form/images/train/not_iwt/\" + file_name + \".\" + extention)\n",
    "\n",
    "\t\telif file_name in test_ids:\n",
    "\t\t\tif test_map[file_name] == 1:\n",
    "\t\t\t\tcopyfile(file, \"../../data/dataset/converting_to_model_form/images/test/iwt/\" + file_name + \".\" + extention)\n",
    "\t\t\telse:\n",
    "\t\t\t\tcopyfile(file, \"../../data/dataset/converting_to_model_form/images/test/not_iwt/\" + file_name + \".\" + extention)\n",
    "\t\telse:\n",
    "\t\t\tprint(\"Error: file not found\")\n",
    "\telse:\n",
    "\t\tprint(\"Error: file {} already exists {}\".format(file, hash_of_images[file_hash]))"
   ]
  }
 ],
 "metadata": {
  "interpreter": {
   "hash": "e7370f93d1d0cde622a1f8e1c04877d8463912d04d973331ad4851f04de6915a"
  },
  "kernelspec": {
   "display_name": "Python 3.10.2 64-bit",
   "language": "python",
   "name": "python3"
  },
  "language_info": {
   "codemirror_mode": {
    "name": "ipython",
    "version": 3
   },
   "file_extension": ".py",
   "mimetype": "text/x-python",
   "name": "python",
   "nbconvert_exporter": "python",
   "pygments_lexer": "ipython3",
   "version": "3.10.2"
  },
  "orig_nbformat": 4
 },
 "nbformat": 4,
 "nbformat_minor": 2
}
