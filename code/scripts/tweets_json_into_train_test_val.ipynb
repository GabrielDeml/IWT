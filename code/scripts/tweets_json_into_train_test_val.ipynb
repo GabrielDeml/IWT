{
 "cells": [
  {
   "cell_type": "code",
   "execution_count": 1,
   "metadata": {},
   "outputs": [],
   "source": [
    "import sys\n",
    "import pandas as pd\n",
    "# insert at 1, 0 is the script path (or '' in REPL)\n",
    "sys.path.append('../../lib/')"
   ]
  },
  {
   "cell_type": "code",
   "execution_count": 2,
   "metadata": {},
   "outputs": [],
   "source": [
    "from analysis import *\n",
    "from sklearn.model_selection import train_test_split"
   ]
  },
  {
   "cell_type": "code",
   "execution_count": 4,
   "metadata": {},
   "outputs": [],
   "source": [
    "bad_tweet_list = analysis.create_tweet_list_from_loaded_json(analysis.universal_data_loader(\"bad_user_tweets_with_seed_v4.json\"))\n",
    "good_tweet_list = analysis.create_tweet_list_from_loaded_json(analysis.universal_data_loader(\"all_good_tweets_v4.json\"))"
   ]
  },
  {
   "cell_type": "code",
   "execution_count": 5,
   "metadata": {},
   "outputs": [],
   "source": [
    "# Convert into train test val lists\n",
    "test = 10\n",
    "val = 10\n",
    "\n",
    "labels = [1 for _ in range(len(bad_tweet_list))] + \\\n",
    "    [0 for _ in range(len(good_tweet_list))]\n",
    "\n",
    "x_train, x_test, y_train, y_test = train_test_split(\n",
    "    bad_tweet_list + good_tweet_list, labels, stratify=labels, test_size=(test + val) / 100, random_state=42)\n",
    "\n",
    "x_test, x_val, y_test, y_val = train_test_split(\n",
    "    x_test, y_test, test_size=val / (test + val), random_state=42, stratify=y_test)\n",
    "\n",
    "\n",
    "# Write to a csv\n",
    "for i in range(len(x_train)):\n",
    "    x_train[i] = analysis.get_tweet_text(\n",
    "        x_train[i]).replace(\"\\n\", \"\").replace(\",\", \"\")\n",
    "\n",
    "for i in range(len(x_test)):\n",
    "\tx_test[i] = analysis.get_tweet_text(\n",
    "\t\tx_test[i]).replace(\"\\n\", \"\").replace(\",\", \"\")\n",
    " \n",
    "for i in range(len(x_val)):\n",
    "\tx_val[i] = analysis.get_tweet_text(\n",
    "\t\tx_val[i]).replace(\"\\n\", \"\").replace(\",\", \"\")\n",
    "\n",
    "# Convert to dataframe\n",
    "df_train = pd.DataFrame(data={\"label\": y_train, \"text\": x_train}).dropna()\n",
    "df_test = pd.DataFrame(data={\"label\": y_test, \"text\": x_test}).dropna()\n",
    "df_val = pd.DataFrame(data={\"label\": y_val, \"text\": x_val}).dropna()\n",
    "\n",
    "# Write to csv\n",
    "df_train.to_csv(\"train.csv\", index=False)\n",
    "df_test.to_csv(\"test.csv\", index=False)\n",
    "df_val.to_csv(\"val.csv\", index=False)\n",
    "\n"
   ]
  }
 ],
 "metadata": {
  "interpreter": {
   "hash": "5d259f8ea978a0011a9c41c85f38b722350957b00d06485c4eb037401ff597af"
  },
  "kernelspec": {
   "display_name": "Python 3.9.7 ('main')",
   "language": "python",
   "name": "python3"
  },
  "language_info": {
   "codemirror_mode": {
    "name": "ipython",
    "version": 3
   },
   "file_extension": ".py",
   "mimetype": "text/x-python",
   "name": "python",
   "nbconvert_exporter": "python",
   "pygments_lexer": "ipython3",
   "version": "3.9.7"
  },
  "orig_nbformat": 4
 },
 "nbformat": 4,
 "nbformat_minor": 2
}
