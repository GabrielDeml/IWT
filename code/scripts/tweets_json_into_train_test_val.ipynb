{
 "cells": [
  {
   "cell_type": "code",
   "execution_count": 2,
   "metadata": {},
   "outputs": [],
   "source": [
    "import sys\n",
    "import pandas as pd\n",
    "sys.path.append('../../lib/')"
   ]
  },
  {
   "cell_type": "code",
   "execution_count": 3,
   "metadata": {},
   "outputs": [],
   "source": [
    "from analysis import *\n",
    "from sklearn.model_selection import train_test_split"
   ]
  },
  {
   "cell_type": "code",
   "execution_count": 5,
   "metadata": {},
   "outputs": [],
   "source": [
    "bad_tweet_list = analysis.create_tweet_list_from_loaded_json(analysis.universal_data_loader(\"bad_user_tweets_with_seed_v4.json\"))\n",
    "good_tweet_list = analysis.create_tweet_list_from_loaded_json(analysis.universal_data_loader(\"all_good_tweets_v4.json\"))"
   ]
  },
  {
   "cell_type": "code",
   "execution_count": 6,
   "metadata": {},
   "outputs": [],
   "source": [
    "# Convert into train test val lists\n",
    "test = 10\n",
    "val = 10\n",
    "\n",
    "labels = [1 for _ in range(len(bad_tweet_list))] + \\\n",
    "    [0 for _ in range(len(good_tweet_list))]\n",
    "\n",
    "x_train, x_test, y_train, y_test = train_test_split(\n",
    "    bad_tweet_list + good_tweet_list, labels, stratify=labels, test_size=(test + val) / 100, random_state=42)\n",
    "\n",
    "x_test, x_val, y_test, y_val = train_test_split(\n",
    "    x_test, y_test, test_size=val / (test + val), random_state=42, stratify=y_test)\n",
    "\n",
    "# Save train to csv\n",
    "with open(\"train_tweets.csv\", \"w\") as f:\n",
    "    f.write('\"label\",\"sentence\"\\n')\n",
    "    for tweet, label in zip(x_train, y_train):\n",
    "        tweet_text = analysis.get_tweet_text(tweet)\n",
    "        tweet_text = analysis.replace_urls(tweet_text)\n",
    "        tweet_text = analysis.replace_mentions(tweet_text)\n",
    "        tweet_text = tweet_text.replace('\"', '\"\"')\n",
    "        f.write('\"{}\",\"{}\"\\n'.format(label, tweet_text))\n",
    "    \n",
    "# Save test to csv\n",
    "with open(\"test_tweets.csv\", \"w\") as f:\n",
    "    f.write('\"label\",\"sentence\"\\n')\n",
    "    for tweet, label in zip(x_test, y_test):\n",
    "        tweet_text = analysis.get_tweet_text(tweet)\n",
    "        tweet_text = analysis.replace_urls(tweet_text)\n",
    "        tweet_text = analysis.replace_mentions(tweet_text)\n",
    "        tweet_text = tweet_text.replace('\"', '\"\"')\n",
    "        f.write('\"{}\",\"{}\"\\n'.format(label, tweet_text))\n",
    "\n",
    "# Save val to csv\n",
    "with open(\"val_tweets.csv\", \"w\") as f:\n",
    "    f.write('\"label\",\"sentence\"\\n')\n",
    "    for tweet, label in zip(x_val, y_val):\n",
    "        tweet_text = analysis.get_tweet_text(tweet)\n",
    "        tweet_text = analysis.replace_urls(tweet_text)\n",
    "        tweet_text = analysis.replace_mentions(tweet_text)\n",
    "        tweet_text = tweet_text.replace('\"', '\"\"')\n",
    "        f.write('\"{}\",\"{}\"\\n'.format(label, tweet_text))"
   ]
  },
  {
   "cell_type": "code",
   "execution_count": null,
   "metadata": {},
   "outputs": [],
   "source": []
  }
 ],
 "metadata": {
  "interpreter": {
   "hash": "5d259f8ea978a0011a9c41c85f38b722350957b00d06485c4eb037401ff597af"
  },
  "kernelspec": {
   "display_name": "Python 3.9.7 ('main')",
   "language": "python",
   "name": "python3"
  },
  "language_info": {
   "codemirror_mode": {
    "name": "ipython",
    "version": 3
   },
   "file_extension": ".py",
   "mimetype": "text/x-python",
   "name": "python",
   "nbconvert_exporter": "python",
   "pygments_lexer": "ipython3",
   "version": "3.9.7"
  },
  "orig_nbformat": 4
 },
 "nbformat": 4,
 "nbformat_minor": 2
}
