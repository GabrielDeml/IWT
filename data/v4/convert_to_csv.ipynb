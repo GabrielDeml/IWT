{
 "cells": [
  {
   "cell_type": "code",
   "execution_count": 1,
   "metadata": {},
   "outputs": [],
   "source": [
    "import sys\n",
    "sys.path.append('../../lib/')"
   ]
  },
  {
   "cell_type": "code",
   "execution_count": 2,
   "metadata": {},
   "outputs": [],
   "source": [
    "from analysis import *"
   ]
  },
  {
   "cell_type": "code",
   "execution_count": 3,
   "metadata": {},
   "outputs": [],
   "source": [
    "bad_tweet_list = analysis.create_tweet_list_from_loaded_json(analysis.universal_data_loader(\"bad_user_tweets_with_seed_v4.json\"))"
   ]
  },
  {
   "cell_type": "code",
   "execution_count": 4,
   "metadata": {},
   "outputs": [],
   "source": [
    "# Write to CSV\n",
    "tweet_texts = []\n",
    "for tweet in bad_tweet_list:\n",
    "\n",
    "    # Get just the tweet's text\n",
    "    tweet_text = analysis.get_tweet_text(tweet)\n",
    "\n",
    "    # Remove all url's from tweet and replace with 'URL'\n",
    "    tweet_text = analysis.replace_urls(tweet_text)\n",
    "\n",
    "    # Replace all @username\n",
    "    tweet_text = analysis.replace_mentions(tweet_text)\n",
    "\n",
    "    # Excape any quotes in the tweet\n",
    "    tweet_text = tweet_text.replace('\"', '\"\"')\n",
    "\n",
    "    # Append text to list\n",
    "    tweet_texts.append(tweet_text)\n",
    "\n",
    "with open(\"bad_user_tweets_with_seed_v4.csv\", \"w\") as f:\n",
    "    for tweet_text in tweet_texts:\n",
    "        # Write to CSV\n",
    "        f.write('\"' + tweet_text + '\" \\n')\n"
   ]
  }
 ],
 "metadata": {
  "interpreter": {
   "hash": "e7370f93d1d0cde622a1f8e1c04877d8463912d04d973331ad4851f04de6915a"
  },
  "kernelspec": {
   "display_name": "Python 3.10.2 64-bit",
   "language": "python",
   "name": "python3"
  },
  "language_info": {
   "codemirror_mode": {
    "name": "ipython",
    "version": 3
   },
   "file_extension": ".py",
   "mimetype": "text/x-python",
   "name": "python",
   "nbconvert_exporter": "python",
   "pygments_lexer": "ipython3",
   "version": "3.9.7"
  },
  "orig_nbformat": 4
 },
 "nbformat": 4,
 "nbformat_minor": 2
}
