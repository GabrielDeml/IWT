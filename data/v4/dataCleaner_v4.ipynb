{
 "cells": [
  {
   "cell_type": "code",
   "execution_count": 1,
   "metadata": {},
   "outputs": [],
   "source": [
    "import json"
   ]
  },
  {
   "cell_type": "code",
   "execution_count": 2,
   "metadata": {},
   "outputs": [],
   "source": [
    "# Read the data\n",
    "with open('bad_user_tweets_with_seed_v4.json', 'r') as f:\n",
    "\tpositive_data = json.load(f)\n"
   ]
  },
  {
   "cell_type": "code",
   "execution_count": 3,
   "metadata": {},
   "outputs": [],
   "source": [
    "with open('../v3/maybe_bad_tweets_ivroy_v3.json', 'r') as f:\n",
    "\tall_data = json.load(f)"
   ]
  },
  {
   "cell_type": "code",
   "execution_count": 4,
   "metadata": {},
   "outputs": [],
   "source": [
    "positive_tweets = positive_data['IWTSeller']\n",
    "all_data = all_data['tweets_with_search_words']"
   ]
  },
  {
   "cell_type": "code",
   "execution_count": 5,
   "metadata": {},
   "outputs": [
    {
     "name": "stdout",
     "output_type": "stream",
     "text": [
      "{'user': '1132988843609808899', 'tweet': 'Also same French Estate Import this lovely Antique French Ivory 1860s-1870s Pink Silk lined Box with Mirror, Brush and comb https://t.co/bP7jEgmrMO'}\n",
      "{'user': '153701624', 'tweet': 'Excited to share the latest addition to my #etsyvintage shop #Vintage #HandCarved #Ivory #RoseBrooch #FineJewellery #24ktGold #Wellsjewelry #Collectible #Heirloom #Weddingjewelry https://t.co/amVIwUacGn https://t.co/lB9M3GSxRw'}\n",
      "{'user': '242877245', 'tweet': 'Carrington &amp; Co. London - A 19th century Rosewood and etched ivory cased eight day mantel timepiece, lot 200 inour weekly sale, est £400-£600 #antiques #clocks #auction #Lewes https://t.co/duUOfiRRZO'}\n",
      "{'user': '4721076616', 'tweet': \"Antique 1920's Durham Duplex Straight Razor - French Ivory Celluloid Handle PAT USA May 28, 07 https://t.co/8gDWhLtllU https://t.co/XhcrZPJAqZ\"}\n",
      "{'user': '47297687', 'tweet': 'Dragon Sculpture in Mammoth Ivory\\n\\nSpecial Offer Link: https://t.co/zIAXVIJ7xY\\n\\n #Mammoth #ivory #warriors #tusk #qiang #Ivoryandart #art #sculpture #sculptures #homedecor #homedecoration #summersale #summersales https://t.co/8N6K7WqC7h'}\n",
      "{'user': '707966804253999105', 'tweet': \"Antique 1920's Durham Duplex Straight Razor - French Ivory Celluloid Handle PAT USA May 28, 07 https://t.co/Nb39PzzqpU https://t.co/qTUMNSEvEq\"}\n",
      "{'user': '717712395112751104', 'tweet': 'A pair of #ivory africans sculptures, #France 70s\\n#vintage #modern #vintageshop #deco #decoration #ElRastro #Madrid #style #instadecor #instaantiques #interior #design #inspiration #interiors #homedecor #antiquesdealersofinstagram #antiqueshop #art https://t.co/dBV4H1dboW'}\n",
      "{'user': '85810276', 'tweet': 'Our #Silver &amp; Objects of Vertu sale on 16th July features some interesting pieces including this #Mokume tea caddy by #TiffanyandCo, #EdwardMoore period, decorated with a carved ivory okimono finial of playful #Japanese figures. Estimated at £1,000-1,500. https://t.co/biwOPtSQ5y https://t.co/EiPisM3Lyw'}\n",
      "{'user': '937064669608628226', 'tweet': 'Chinese Carved Ivory &amp; Wood Card Cases. https://t.co/XMOoBg717O'}\n"
     ]
    }
   ],
   "source": [
    "idMap = {}\n",
    "counter = 0\n",
    "for tweet in positive_tweets:\n",
    "\tcounter += 1\n",
    "\ttry:\n",
    "\t\tif tweet['id'] not in idMap:\n",
    "\t\t\tidMap[tweet['id']] = 1\n",
    "\t\telse:\n",
    "\t\t\tidMap[tweet['id']] += 1\n",
    "\texcept:\n",
    "\t\tprint(tweet)"
   ]
  },
  {
   "cell_type": "code",
   "execution_count": 7,
   "metadata": {},
   "outputs": [
    {
     "name": "stdout",
     "output_type": "stream",
     "text": [
      "165\n"
     ]
    }
   ],
   "source": [
    "print(counter)"
   ]
  },
  {
   "cell_type": "code",
   "execution_count": 5,
   "metadata": {},
   "outputs": [],
   "source": [
    "for tweet_id in idMap.keys():\n",
    "\tif idMap[tweet_id] > 1:\n",
    "\t\tprint(tweet_id)"
   ]
  },
  {
   "cell_type": "code",
   "execution_count": null,
   "metadata": {},
   "outputs": [],
   "source": [
    "out_json = {}\n",
    "out_json['good_tweets'] = []\n",
    "\n",
    "for tweet in all_data:\n",
    "\tif tweet['id'] not in idMap:\n",
    "\t\tout_json['good_tweets'].append(tweet)\n",
    "\n",
    "# Write the data\n",
    "with open('false_postives_from_v3_ivory.json', 'w') as f:\n",
    "\tjson.dump(out_json, f)"
   ]
  }
 ],
 "metadata": {
  "interpreter": {
   "hash": "e7370f93d1d0cde622a1f8e1c04877d8463912d04d973331ad4851f04de6915a"
  },
  "kernelspec": {
   "display_name": "Python 3.10.1 64-bit",
   "language": "python",
   "name": "python3"
  },
  "language_info": {
   "codemirror_mode": {
    "name": "ipython",
    "version": 3
   },
   "file_extension": ".py",
   "mimetype": "text/x-python",
   "name": "python",
   "nbconvert_exporter": "python",
   "pygments_lexer": "ipython3",
   "version": "3.10.1"
  },
  "orig_nbformat": 4
 },
 "nbformat": 4,
 "nbformat_minor": 2
}
