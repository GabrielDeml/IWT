{
 "cells": [
  {
   "cell_type": "code",
   "execution_count": 1,
   "metadata": {},
   "outputs": [],
   "source": [
    "import json"
   ]
  },
  {
   "cell_type": "code",
   "execution_count": 2,
   "metadata": {},
   "outputs": [],
   "source": [
    "# Read the data\n",
    "with open('bad_tweets_v3.json', 'r') as f:\n",
    "\tpositive_data = json.load(f)\n"
   ]
  },
  {
   "cell_type": "code",
   "execution_count": 3,
   "metadata": {},
   "outputs": [],
   "source": [
    "positive_tweets = positive_data['bad_tweets']"
   ]
  },
  {
   "cell_type": "code",
   "execution_count": 4,
   "metadata": {},
   "outputs": [],
   "source": [
    "idMap = {}\n",
    "counter = 0\n",
    "for tweet in positive_tweets:\n",
    "\tcounter += 1\n",
    "\ttry:\n",
    "\t\tif tweet['id'] not in idMap:\n",
    "\t\t\tidMap[tweet['id']] = 1\n",
    "\t\telse:\n",
    "\t\t\tidMap[tweet['id']] += 1\n",
    "\texcept:\n",
    "\t\tprint(tweet)"
   ]
  },
  {
   "cell_type": "code",
   "execution_count": 5,
   "metadata": {},
   "outputs": [
    {
     "name": "stdout",
     "output_type": "stream",
     "text": [
      "114\n"
     ]
    }
   ],
   "source": [
    "print(counter)"
   ]
  },
  {
   "cell_type": "code",
   "execution_count": 6,
   "metadata": {},
   "outputs": [
    {
     "name": "stdout",
     "output_type": "stream",
     "text": [
      "1034860489803804672\n",
      "1159402859869474822\n",
      "973241438820544512\n",
      "931128477490843650\n",
      "1452276327961309190\n",
      "849656429770354690\n",
      "1300518708671123462\n",
      "828594701733339136\n",
      "951392766478766080\n",
      "675659983619555328\n",
      "1285642121681215488\n",
      "1271714397082259459\n",
      "517625103950286848\n",
      "515489946367688704\n",
      "704632296587051008\n",
      "628580435849666560\n",
      "457483078437724160\n",
      "1434759226103156741\n",
      "1346861967819079685\n"
     ]
    }
   ],
   "source": [
    "for tweet_id in idMap.keys():\n",
    "\tif idMap[tweet_id] > 1:\n",
    "\t\tprint(tweet_id)"
   ]
  },
  {
   "cell_type": "code",
   "execution_count": 7,
   "metadata": {},
   "outputs": [
    {
     "name": "stdout",
     "output_type": "stream",
     "text": [
      "95\n"
     ]
    }
   ],
   "source": [
    "print(len(idMap.keys()))"
   ]
  },
  {
   "cell_type": "code",
   "execution_count": 8,
   "metadata": {},
   "outputs": [
    {
     "ename": "NameError",
     "evalue": "name 'all_data' is not defined",
     "output_type": "error",
     "traceback": [
      "\u001b[0;31m---------------------------------------------------------------------------\u001b[0m",
      "\u001b[0;31mNameError\u001b[0m                                 Traceback (most recent call last)",
      "\u001b[0;32m/tmp/ipykernel_67885/743572626.py\u001b[0m in \u001b[0;36m<module>\u001b[0;34m\u001b[0m\n\u001b[1;32m      2\u001b[0m \u001b[0mout_json\u001b[0m\u001b[0;34m[\u001b[0m\u001b[0;34m'good_tweets'\u001b[0m\u001b[0;34m]\u001b[0m \u001b[0;34m=\u001b[0m \u001b[0;34m[\u001b[0m\u001b[0;34m]\u001b[0m\u001b[0;34m\u001b[0m\u001b[0;34m\u001b[0m\u001b[0m\n\u001b[1;32m      3\u001b[0m \u001b[0;34m\u001b[0m\u001b[0m\n\u001b[0;32m----> 4\u001b[0;31m \u001b[0;32mfor\u001b[0m \u001b[0mtweet\u001b[0m \u001b[0;32min\u001b[0m \u001b[0mall_data\u001b[0m\u001b[0;34m:\u001b[0m\u001b[0;34m\u001b[0m\u001b[0;34m\u001b[0m\u001b[0m\n\u001b[0m\u001b[1;32m      5\u001b[0m         \u001b[0;32mif\u001b[0m \u001b[0mtweet\u001b[0m\u001b[0;34m[\u001b[0m\u001b[0;34m'id'\u001b[0m\u001b[0;34m]\u001b[0m \u001b[0;32mnot\u001b[0m \u001b[0;32min\u001b[0m \u001b[0midMap\u001b[0m\u001b[0;34m:\u001b[0m\u001b[0;34m\u001b[0m\u001b[0;34m\u001b[0m\u001b[0m\n\u001b[1;32m      6\u001b[0m                 \u001b[0mout_json\u001b[0m\u001b[0;34m[\u001b[0m\u001b[0;34m'good_tweets'\u001b[0m\u001b[0;34m]\u001b[0m\u001b[0;34m.\u001b[0m\u001b[0mappend\u001b[0m\u001b[0;34m(\u001b[0m\u001b[0mtweet\u001b[0m\u001b[0;34m)\u001b[0m\u001b[0;34m\u001b[0m\u001b[0;34m\u001b[0m\u001b[0m\n",
      "\u001b[0;31mNameError\u001b[0m: name 'all_data' is not defined"
     ]
    }
   ],
   "source": [
    "out_json = {}\n",
    "out_json['good_tweets'] = []\n",
    "\n",
    "for tweet in all_data:\n",
    "\tif tweet['id'] not in idMap:\n",
    "\t\tout_json['good_tweets'].append(tweet)\n",
    "\n",
    "# Write the data\n",
    "with open('false_postives_from_v3_ivory.json', 'w') as f:\n",
    "\tjson.dump(out_json, f)"
   ]
  },
  {
   "cell_type": "code",
   "execution_count": 4,
   "metadata": {},
   "outputs": [
    {
     "name": "stdout",
     "output_type": "stream",
     "text": [
      "297\n"
     ]
    }
   ],
   "source": [
    "# Open maybe_bad_tweets_ivory_v2.json\n",
    "# Read the data\n",
    "with open('maybe_bad_tweets_ivroy_v3.json', 'r') as f:\n",
    "\tmaybe_bad_tweets_ivory = json.load(f)\n",
    "\n",
    "maybe_bad_tweets_ivory = maybe_bad_tweets_ivory['tweets_with_search_words']\n",
    "\n",
    "counter = 0\n",
    "for tweet in maybe_bad_tweets_ivory:\n",
    "\tcounter += 1\n",
    "print(counter)"
   ]
  }
 ],
 "metadata": {
  "interpreter": {
   "hash": "e7370f93d1d0cde622a1f8e1c04877d8463912d04d973331ad4851f04de6915a"
  },
  "kernelspec": {
   "display_name": "Python 3.10.1 64-bit",
   "language": "python",
   "name": "python3"
  },
  "language_info": {
   "codemirror_mode": {
    "name": "ipython",
    "version": 3
   },
   "file_extension": ".py",
   "mimetype": "text/x-python",
   "name": "python",
   "nbconvert_exporter": "python",
   "pygments_lexer": "ipython3",
   "version": "3.10.1"
  },
  "orig_nbformat": 4
 },
 "nbformat": 4,
 "nbformat_minor": 2
}
