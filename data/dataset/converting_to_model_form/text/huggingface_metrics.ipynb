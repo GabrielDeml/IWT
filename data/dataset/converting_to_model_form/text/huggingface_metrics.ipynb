{
 "cells": [
  {
   "cell_type": "code",
   "execution_count": 2,
   "metadata": {},
   "outputs": [],
   "source": [
    "import pandas as pd"
   ]
  },
  {
   "cell_type": "code",
   "execution_count": 5,
   "metadata": {},
   "outputs": [
    {
     "name": "stdout",
     "output_type": "stream",
     "text": [
      "['index', 'prediction']\n",
      "index prediction\n",
      "['0', '1']\n",
      "0 1\n",
      "['1', '0']\n",
      "1 0\n",
      "['2', '1']\n",
      "2 1\n",
      "['3', '0']\n",
      "3 0\n",
      "['4', '1']\n",
      "4 1\n",
      "['5', '0']\n",
      "5 0\n",
      "['6', '0']\n",
      "6 0\n",
      "['7', '1']\n",
      "7 1\n",
      "['8', '0']\n",
      "8 0\n",
      "['9', '0']\n",
      "9 0\n",
      "['10', '0']\n",
      "10 0\n",
      "['11', '0']\n",
      "11 0\n",
      "['12', '0']\n",
      "12 0\n",
      "['13', '0']\n",
      "13 0\n",
      "['14', '1']\n",
      "14 1\n",
      "['15', '1']\n",
      "15 1\n",
      "['16', '1']\n",
      "16 1\n",
      "['17', '0']\n",
      "17 0\n",
      "['18', '0']\n",
      "18 0\n",
      "['19', '1']\n",
      "19 1\n",
      "['20', '0']\n",
      "20 0\n",
      "['21', '1']\n",
      "21 1\n",
      "['22', '0']\n",
      "22 0\n",
      "['23', '0']\n",
      "23 0\n",
      "['24', '1']\n",
      "24 1\n",
      "['25', '1']\n",
      "25 1\n",
      "['26', '0']\n",
      "26 0\n",
      "['27', '0']\n",
      "27 0\n",
      "['28', '1']\n",
      "28 1\n",
      "['29', '0']\n",
      "29 0\n",
      "['30', '1']\n",
      "30 1\n",
      "['31', '0']\n",
      "31 0\n",
      "['32', '1']\n",
      "32 1\n",
      "['33', '1']\n",
      "33 1\n",
      "['34', '1']\n",
      "34 1\n",
      "['35', '1']\n",
      "35 1\n",
      "['36', '0']\n",
      "36 0\n",
      "['37', '1']\n",
      "37 1\n",
      "['38', '1']\n",
      "38 1\n",
      "['39', '0']\n",
      "39 0\n",
      "['40', '1']\n",
      "40 1\n",
      "['41', '0']\n",
      "41 0\n",
      "['42', '0']\n",
      "42 0\n",
      "['43', '0']\n",
      "43 0\n",
      "['44', '0']\n",
      "44 0\n",
      "['45', '0']\n",
      "45 0\n",
      "['46', '1']\n",
      "46 1\n",
      "['47', '0']\n",
      "47 0\n",
      "['48', '0']\n",
      "48 0\n",
      "[1, 0, 1, 0, 1, 0, 0, 1, 0, 0, 0, 0, 0, 0, 1, 1, 1, 0, 0, 1, 0, 1, 0, 0, 1, 1, 0, 0, 1, 0, 1, 0, 1, 1, 1, 1, 0, 1, 1, 0, 1, 0, 0, 0, 0, 0, 1, 0, 0]\n"
     ]
    }
   ],
   "source": [
    "# Get predictions from predict_results_None.txt\n",
    "# It has the format:\n",
    "# index\tprediction\n",
    "# 0\t1\n",
    "# 1\t0\n",
    "predictions = []\n",
    "with open(\"predict_results_None.txt\", \"r\") as f:\n",
    "\tlines = f.readlines()\n",
    "\tfor line in lines:\n",
    "\t\tline = line.strip()\n",
    "\t\tline = line.split(\"\\t\")\n",
    "\t\tprint(line)\n",
    "\t\tprint(line[0], line[1])\n",
    "\t\t# if the prediction is not a number skip it\n",
    "\t\ttry:\n",
    "\t\t\tpredictions.append(int(line[1]))\n",
    "\t\texcept:\n",
    "\t\t\tcontinue\n",
    "print(predictions)"
   ]
  },
  {
   "cell_type": "code",
   "execution_count": 7,
   "metadata": {},
   "outputs": [],
   "source": [
    "true_labels_df = pd.read_csv(\"test_tweets_text_userdescriptions_ocrs.csv\")\n",
    "true_labels = true_labels_df[\"label\"].tolist()"
   ]
  },
  {
   "cell_type": "code",
   "execution_count": 8,
   "metadata": {},
   "outputs": [
    {
     "name": "stdout",
     "output_type": "stream",
     "text": [
      "              precision    recall  f1-score   support\n",
      "\n",
      "           0       0.96      0.87      0.92        31\n",
      "           1       0.81      0.94      0.87        18\n",
      "\n",
      "    accuracy                           0.90        49\n",
      "   macro avg       0.89      0.91      0.89        49\n",
      "weighted avg       0.91      0.90      0.90        49\n",
      "\n"
     ]
    }
   ],
   "source": [
    "# Use sklearns classification report to get metrics\n",
    "from sklearn.metrics import classification_report\n",
    "print(classification_report(true_labels, predictions))"
   ]
  }
 ],
 "metadata": {
  "interpreter": {
   "hash": "767d51c1340bd893661ea55ea3124f6de3c7a262a8b4abca0554b478b1e2ff90"
  },
  "kernelspec": {
   "display_name": "Python 3.10.2 64-bit",
   "language": "python",
   "name": "python3"
  },
  "language_info": {
   "codemirror_mode": {
    "name": "ipython",
    "version": 3
   },
   "file_extension": ".py",
   "mimetype": "text/x-python",
   "name": "python",
   "nbconvert_exporter": "python",
   "pygments_lexer": "ipython3",
   "version": "3.10.2"
  },
  "orig_nbformat": 4
 },
 "nbformat": 4,
 "nbformat_minor": 2
}
