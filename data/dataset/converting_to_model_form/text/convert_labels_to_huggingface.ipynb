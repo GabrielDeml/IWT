{
 "cells": [
  {
   "cell_type": "markdown",
   "metadata": {},
   "source": [
    "This script converts combined labels to a dataset that huggingface can use"
   ]
  },
  {
   "cell_type": "code",
   "execution_count": 1,
   "metadata": {},
   "outputs": [],
   "source": [
    "import sys\n",
    "sys.path.append('../../../../lib/')"
   ]
  },
  {
   "cell_type": "code",
   "execution_count": 2,
   "metadata": {},
   "outputs": [],
   "source": [
    "from analysis import *\n",
    "import pandas as pd\n",
    "import json"
   ]
  },
  {
   "cell_type": "code",
   "execution_count": 3,
   "metadata": {},
   "outputs": [],
   "source": [
    "# Read Combinedlabels.csv\n",
    "df = pd.read_csv(\"Combinedlabels.csv\")"
   ]
  },
  {
   "cell_type": "code",
   "execution_count": 4,
   "metadata": {},
   "outputs": [
    {
     "name": "stdout",
     "output_type": "stream",
     "text": [
      "   tweet_id  Gabe  Guanyi  Mom  Sum  \\\n",
      "0         0     0       0    0    0   \n",
      "1         1     0       0    0    0   \n",
      "2         2     0       0    0    0   \n",
      "3         3     1       1    1    3   \n",
      "4         4     0       0    0    0   \n",
      "\n",
      "                                          tweet_text  \\\n",
      "0  RT {{MENTION}}: Starting in one hour. Raising ...   \n",
      "1  $102.82 this week! This is how I now make a pa...   \n",
      "2  OPEN today 10 am until 1 pm\\n419 CCPkwy Cape C...   \n",
      "3  A superb 18th century European carved ivory di...   \n",
      "4                                 Driving aroundd :P   \n",
      "\n",
      "                                    user_description  \n",
      "0  Can't start a fire... Can't start a fire witho...  \n",
      "1                     Follow me and you'll find out!  \n",
      "2  We are 3rd generation Brocante-Antique Import ...  \n",
      "3  John Nicholson's Auctioneers are the largest a...  \n",
      "4  Im 13 years young\\nim in love with the most am...  \n"
     ]
    }
   ],
   "source": [
    "print(df.head())"
   ]
  },
  {
   "cell_type": "code",
   "execution_count": 5,
   "metadata": {},
   "outputs": [],
   "source": [
    "# Read in ocr json\n",
    "with open('text_from_images/ids_to_text.json') as f:\n",
    "\tocr_json = json.load(f)"
   ]
  },
  {
   "cell_type": "code",
   "execution_count": 6,
   "metadata": {},
   "outputs": [
    {
     "name": "stdout",
     "output_type": "stream",
     "text": [
      "2128\n"
     ]
    }
   ],
   "source": [
    "texts = []\n",
    "labels = []\n",
    "max_length = 0\n",
    "for index, row in df.iterrows():\n",
    "\t\tlabel = row['Sum']\n",
    "\t\tif label >= 2:\n",
    "\t\t\tlabels.append(1)\n",
    "\t\telse:\n",
    "\t\t\tlabels.append(0)\n",
    "\t\ttry:\n",
    "\t\t\ttext = str(row[\"tweet_text\"]) + \" [sep] \" + str(row[\"user_description\"] + \" [sep] \" + ocr_json[str(row[\"tweet_id\"])])\n",
    "\t\texcept:\n",
    "\t\t\ttext = str(row[\"tweet_text\"]) + \" [sep] \" + str(row[\"user_description\"])\n",
    "\t\ttext = text.replace('\"', '\"\"')\n",
    "\t\tif len(text) > max_length:\n",
    "\t\t\tmax_length = len(text)\n",
    "\t\ttexts.append(text)\n",
    "print(str(max_length))"
   ]
  },
  {
   "cell_type": "code",
   "execution_count": 7,
   "metadata": {},
   "outputs": [],
   "source": [
    "good_tweets = {}\n",
    "bad_tweets = {}\n",
    "good_tweets[\"tweets\"] = []\n",
    "bad_tweets[\"tweets\"] = []\n",
    "\n",
    "for tweet in range(len(texts)):\n",
    "\tout = {}\n",
    "\tout[\"text\"] = texts[tweet]\n",
    "\tif labels[tweet] == 0:\n",
    "\t\tgood_tweets[\"tweets\"].append(out)\n",
    "\telse:\n",
    "\t\tbad_tweets[\"tweets\"].append(out)"
   ]
  },
  {
   "cell_type": "code",
   "execution_count": 8,
   "metadata": {},
   "outputs": [],
   "source": [
    "# Write to good_tweets.json\n",
    "with open('good_tweets.json', 'w') as outfile:\n",
    "\tjson.dump(good_tweets, outfile)\n",
    "\n",
    "with open('bad_tweets.json', 'w') as outfile:\n",
    "\tjson.dump(bad_tweets, outfile)"
   ]
  }
 ],
 "metadata": {
  "interpreter": {
   "hash": "e7370f93d1d0cde622a1f8e1c04877d8463912d04d973331ad4851f04de6915a"
  },
  "kernelspec": {
   "display_name": "Python 3.10.2 64-bit",
   "language": "python",
   "name": "python3"
  },
  "language_info": {
   "codemirror_mode": {
    "name": "ipython",
    "version": 3
   },
   "file_extension": ".py",
   "mimetype": "text/x-python",
   "name": "python",
   "nbconvert_exporter": "python",
   "pygments_lexer": "ipython3",
   "version": "3.10.2"
  },
  "orig_nbformat": 4
 },
 "nbformat": 4,
 "nbformat_minor": 2
}
