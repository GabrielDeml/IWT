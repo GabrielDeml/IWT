{
 "cells": [
  {
   "cell_type": "markdown",
   "metadata": {},
   "source": [
    "This script converts a good and bad tweet jsons into a dataset for the huggingface example code."
   ]
  },
  {
   "cell_type": "code",
   "execution_count": 1,
   "metadata": {},
   "outputs": [],
   "source": [
    "import sys\n",
    "import pandas as pd\n",
    "sys.path.append('../../../../lib/')"
   ]
  },
  {
   "cell_type": "code",
   "execution_count": 2,
   "metadata": {},
   "outputs": [],
   "source": [
    "from analysis import *\n",
    "from sklearn.model_selection import train_test_split\n",
    "from sklearn.model_selection import StratifiedKFold"
   ]
  },
  {
   "cell_type": "code",
   "execution_count": 3,
   "metadata": {},
   "outputs": [],
   "source": [
    "bad_tweet_list = analysis.create_tweet_list_from_loaded_json(analysis.universal_data_loader(\"bad_tweets_text_userdescriptions_ocrs.json\"))\n",
    "good_tweet_list = analysis.create_tweet_list_from_loaded_json(analysis.universal_data_loader(\"good_tweets_text_userdescriptions_ocrs.json\"))"
   ]
  },
  {
   "cell_type": "code",
   "execution_count": 4,
   "metadata": {},
   "outputs": [],
   "source": [
    "# Convert into k-fold\n",
    "k = 10\n",
    "\n",
    "skf = StratifiedKFold(n_splits=k, shuffle=True)\n",
    "\n",
    "merged_tweet_list = bad_tweet_list + good_tweet_list\n",
    "labels = [1 for _ in range(len(bad_tweet_list))] + [0 for _ in range(len(good_tweet_list))]\n",
    "\n",
    "number_of_tweets_train = 0\n",
    "number_of_tweets_test = 0\n",
    "k_counter = 0\n",
    "for train_index, test_index in skf.split(good_tweet_list + bad_tweet_list, labels):\n",
    "    with open(\"ten_fold/tweets_train_text_userdescriptions_ocrs_\" + str(k_counter) + \".csv\", \"w\") as f:\n",
    "        for train in train_index:\n",
    "            tweet_text = analysis.get_tweet_text(merged_tweet_list[train])\n",
    "            tweet_text = tweet_text.replace('\"', '\"\"')\n",
    "            f.write('\"{}\",\"{}\"\\n'.format(labels[train], tweet_text))\n",
    "            \n",
    "    with open(\"ten_fold/tweets_test_text_userdescriptions_ocrs_\" + str(k_counter) + \".csv\", \"w\") as f:\n",
    "        for test in test_index:\n",
    "            tweet_text = analysis.get_tweet_text(merged_tweet_list[test])\n",
    "            tweet_text = tweet_text.replace('\"', '\"\"')\n",
    "            f.write('\"{}\",\"{}\"\\n'.format(labels[test], tweet_text))\n",
    "    k_counter += 1"
   ]
  },
  {
   "cell_type": "code",
   "execution_count": null,
   "metadata": {},
   "outputs": [],
   "source": []
  }
 ],
 "metadata": {
  "interpreter": {
   "hash": "5d259f8ea978a0011a9c41c85f38b722350957b00d06485c4eb037401ff597af"
  },
  "kernelspec": {
   "display_name": "Python 3.9.7 ('main')",
   "language": "python",
   "name": "python3"
  },
  "language_info": {
   "codemirror_mode": {
    "name": "ipython",
    "version": 3
   },
   "file_extension": ".py",
   "mimetype": "text/x-python",
   "name": "python",
   "nbconvert_exporter": "python",
   "pygments_lexer": "ipython3",
   "version": "3.10.2"
  },
  "orig_nbformat": 4
 },
 "nbformat": 4,
 "nbformat_minor": 2
}
