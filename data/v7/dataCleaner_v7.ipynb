{
 "cells": [
  {
   "cell_type": "code",
   "execution_count": 1,
   "metadata": {},
   "outputs": [],
   "source": [
    "import json"
   ]
  },
  {
   "cell_type": "code",
   "execution_count": 2,
   "metadata": {},
   "outputs": [],
   "source": [
    "# Read the data\n",
    "with open('maybe_bad_tweets_v7.json', 'r') as f:\n",
    "\tpositive_data = json.load(f)\n"
   ]
  },
  {
   "cell_type": "code",
   "execution_count": 3,
   "metadata": {},
   "outputs": [],
   "source": [
    "positive_tweets = positive_data['tweets']"
   ]
  },
  {
   "cell_type": "code",
   "execution_count": 8,
   "metadata": {},
   "outputs": [],
   "source": [
    "idMap = {}\n",
    "clean_tweets = {}\n",
    "clean_tweets['tweets'] = []\n",
    "counter = 0\n",
    "for tweet in positive_tweets:\n",
    "\tclean_tweet = {}\n",
    "\tclean_tweet['id'] = tweet['id']\n",
    "\tclean_tweet['text'] = tweet['text']\n",
    "\tcounter += 1\n",
    "\tclean_tweets['tweets'].append(clean_tweet)\n",
    "\t"
   ]
  },
  {
   "cell_type": "code",
   "execution_count": 9,
   "metadata": {},
   "outputs": [],
   "source": [
    "# Write the data\n",
    "with open('clean_tweets_v7.json', 'w') as f:\n",
    "\tjson.dump(clean_tweets, f)"
   ]
  },
  {
   "cell_type": "code",
   "execution_count": 12,
   "metadata": {},
   "outputs": [],
   "source": [
    "search_words = [\"ivory\"]\n",
    "    # \"trophy\", \"skin\"\n",
    "    #             \"fur\",\n",
    "    #             \"dragon\",\n",
    "    #             \"pelt\",\n",
    "    #             \"tusk\",\n",
    "    #             \"ivory\",\n",
    "    #             \"scale\",\n",
    "    #             \"taxidermy\",\n",
    "    #             \"rug\",\n",
    "    #             \"hide\",\n",
    "    #             \"bone\",\n",
    "    #             \"meat\",\n",
    "    #             \"delicacy\",\n",
    "    #             \"medicine\",\n",
    "    #             \"live\",\n",
    "    #             \"pangolin\",\n",
    "    #             \"leopard\",\n",
    "    #             \"rhino\",\n",
    "    #             \"sungazer\",\n",
    "    #             \"lizard\",\n",
    "    #             \"crocodile\",\n",
    "    #             \"alligator\",\n",
    "    #             \"parrot\",\n",
    "    #             \"snake\",\n",
    "    #             \"python\",\n",
    "    #             \"yellow material\",\n",
    "    #             \"white plastic\",\n",
    "    #             \"jelly\",\n",
    "    #             \"aloo\",\n",
    "    #             \"kola\",\n",
    "    #             \"australian teddy bear\",\n",
    "    #             \"stripped t-shirt\",\n",
    "    #             \"four wheeler\",\n",
    "    #             \"antique\",\n",
    "    #             \"mammoth\",\n",
    "    #             \"carved\",\n",
    "    #             \"sale\",\n",
    "    #             \"selling\",\n",
    "    #             \"price\",\n",
    "    #             \"xiangya\",\n",
    "    #             \"african material\",\n",
    "    #             \"ANTEBELLUMELEG1\"]\n",
    "suspicious_tweets_word_list = []\n",
    "tweets_with_search_words = []\n",
    "suspicious_tweets_word_count = {}\n",
    "suspicious_tweet_count = 0\n",
    "total_tweets_count = 0\n",
    "followers = 0\n",
    "for word in search_words:\n",
    "    suspicious_tweets_word_count[word] = 0\n",
    "\n",
    "\n",
    "for tweet in positive_tweets:\n",
    "    # print(tweet)\n",
    "    try:\n",
    "        tweet_text = tweet['text']\n",
    "        tweet_id = tweet['id']\n",
    "        tweet_suspicious = False\n",
    "        bad_tweet = {}\n",
    "        total_tweets_count += 1\n",
    "        for search_word in search_words:\n",
    "            if search_word in tweet_text.lower():\n",
    "                # print(tweet_text)\n",
    "\n",
    "                \n",
    "                # bad_tweet['user'] = tweet['user']\n",
    "                bad_tweet['tweet'] = tweet_text\n",
    "                bad_tweet['id'] = tweet_id\n",
    "                \n",
    "                if tweet_suspicious == False:\n",
    "                    bad_tweet['suspicious_word'] = [search_word]\n",
    "                    suspicious_tweets_word_list.append([search_word])\n",
    "                    suspicious_tweet_count += 1\n",
    "                else:\n",
    "                    suspicious_tweets_word_list[-1].append(search_word)\n",
    "                    bad_tweet['suspicious_word'].append(search_word)\n",
    "                tweet_suspicious = True\n",
    "                suspicious_tweets_word_count[search_word] += 1\n",
    "        # If bad tweet is not empty\n",
    "        if len(bad_tweet) > 0:\n",
    "            tweets_with_search_words.append(bad_tweet)\n",
    "    except:\n",
    "        pass"
   ]
  },
  {
   "cell_type": "code",
   "execution_count": 14,
   "metadata": {},
   "outputs": [],
   "source": [
    "# write the data\n",
    "output = {}\n",
    "output['tweets'] = tweets_with_search_words\n",
    "with open('suspicious_tweets_word_count_v7.json', 'w') as f:\n",
    "\tjson.dump(output, f)"
   ]
  },
  {
   "cell_type": "code",
   "execution_count": 13,
   "metadata": {},
   "outputs": [
    {
     "name": "stdout",
     "output_type": "stream",
     "text": [
      "Suspicious tweet count:  14\n",
      "Total tweets:  2564\n",
      "Percentage of suspicious tweets:  0.5460218408736349\n"
     ]
    }
   ],
   "source": [
    "print(\"Suspicious tweet count: \", suspicious_tweet_count)\n",
    "# print(\"Total followers: \", followers)\n",
    "print(\"Total tweets: \", total_tweets_count)\n",
    "# print(\"Average tweets per follower: \", total_tweets_count/followers)\n",
    "print(\"Percentage of suspicious tweets: \", (suspicious_tweet_count/total_tweets_count)*100)"
   ]
  }
 ],
 "metadata": {
  "interpreter": {
   "hash": "e7370f93d1d0cde622a1f8e1c04877d8463912d04d973331ad4851f04de6915a"
  },
  "kernelspec": {
   "display_name": "Python 3.10.1 64-bit",
   "language": "python",
   "name": "python3"
  },
  "language_info": {
   "codemirror_mode": {
    "name": "ipython",
    "version": 3
   },
   "file_extension": ".py",
   "mimetype": "text/x-python",
   "name": "python",
   "nbconvert_exporter": "python",
   "pygments_lexer": "ipython3",
   "version": "3.10.1"
  },
  "orig_nbformat": 4
 },
 "nbformat": 4,
 "nbformat_minor": 2
}
