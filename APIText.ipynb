{
 "cells": [
  {
   "cell_type": "code",
   "execution_count": 4,
   "metadata": {},
   "outputs": [],
   "source": [
    "# Import twitter api\n",
    "import tweepy\n",
    "import json"
   ]
  },
  {
   "cell_type": "code",
   "execution_count": 2,
   "metadata": {},
   "outputs": [],
   "source": [
    "auth = tweepy.OAuthHandler(\"CI5JiJbIdAhN3qS4Rmvq3LqRp\", \"945NeqMvY1vUIKUCSSroO9eLrpbwWPt0Ueiic5lrnfVT1F97DE\")\n",
    "auth.set_access_token(\"905838785778380801-8KVhL09CsKFOI7H5nUnXsaYaFubgCgC\", \"aZdSWNhVj7MGY2Yzy2COjYaRLLPaDRyBQgiMtNgxEalDC\")\n",
    "\n",
    "api = tweepy.API(auth)"
   ]
  },
  {
   "cell_type": "code",
   "execution_count": 5,
   "metadata": {},
   "outputs": [],
   "source": [
    "tweet_ids_file = open(\"GMouYes/data/seed_ids.json\", \"r\")\n",
    "tweet_ids = json.load(tweet_ids_file)\n",
    "tweet_ids_file.close()"
   ]
  },
  {
   "cell_type": "code",
   "execution_count": 13,
   "metadata": {},
   "outputs": [
    {
     "name": "stdout",
     "output_type": "stream",
     "text": [
      "1132988843609808899\n"
     ]
    }
   ],
   "source": [
    "print(tweet_ids[0])"
   ]
  },
  {
   "cell_type": "code",
   "execution_count": 16,
   "metadata": {},
   "outputs": [
    {
     "ename": "TypeError",
     "evalue": "lookup_statuses() missing 1 required positional argument: 'id'",
     "output_type": "error",
     "traceback": [
      "\u001b[0;31m---------------------------------------------------------------------------\u001b[0m",
      "\u001b[0;31mTypeError\u001b[0m                                 Traceback (most recent call last)",
      "\u001b[0;32m/tmp/ipykernel_7603/1457980013.py\u001b[0m in \u001b[0;36m<module>\u001b[0;34m\u001b[0m\n\u001b[0;32m----> 1\u001b[0;31m \u001b[0mtweets_status\u001b[0m \u001b[0;34m=\u001b[0m \u001b[0mapi\u001b[0m\u001b[0;34m.\u001b[0m\u001b[0mlookup_statuses\u001b[0m\u001b[0;34m(\u001b[0m\u001b[0;34m)\u001b[0m\u001b[0;34m\u001b[0m\u001b[0;34m\u001b[0m\u001b[0m\n\u001b[0m",
      "\u001b[0;32m~/.local/lib/python3.9/site-packages/tweepy/api.py\u001b[0m in \u001b[0;36mwrapper\u001b[0;34m(*args, **kwargs)\u001b[0m\n\u001b[1;32m     44\u001b[0m             \u001b[0mkwargs\u001b[0m\u001b[0;34m[\u001b[0m\u001b[0;34m'payload_list'\u001b[0m\u001b[0;34m]\u001b[0m \u001b[0;34m=\u001b[0m \u001b[0mpayload_list\u001b[0m\u001b[0;34m\u001b[0m\u001b[0;34m\u001b[0m\u001b[0m\n\u001b[1;32m     45\u001b[0m             \u001b[0mkwargs\u001b[0m\u001b[0;34m[\u001b[0m\u001b[0;34m'payload_type'\u001b[0m\u001b[0;34m]\u001b[0m \u001b[0;34m=\u001b[0m \u001b[0mpayload_type\u001b[0m\u001b[0;34m\u001b[0m\u001b[0;34m\u001b[0m\u001b[0m\n\u001b[0;32m---> 46\u001b[0;31m             \u001b[0;32mreturn\u001b[0m \u001b[0mmethod\u001b[0m\u001b[0;34m(\u001b[0m\u001b[0;34m*\u001b[0m\u001b[0margs\u001b[0m\u001b[0;34m,\u001b[0m \u001b[0;34m**\u001b[0m\u001b[0mkwargs\u001b[0m\u001b[0;34m)\u001b[0m\u001b[0;34m\u001b[0m\u001b[0;34m\u001b[0m\u001b[0m\n\u001b[0m\u001b[1;32m     47\u001b[0m         \u001b[0mwrapper\u001b[0m\u001b[0;34m.\u001b[0m\u001b[0mpayload_list\u001b[0m \u001b[0;34m=\u001b[0m \u001b[0mpayload_list\u001b[0m\u001b[0;34m\u001b[0m\u001b[0;34m\u001b[0m\u001b[0m\n\u001b[1;32m     48\u001b[0m         \u001b[0mwrapper\u001b[0m\u001b[0;34m.\u001b[0m\u001b[0mpayload_type\u001b[0m \u001b[0;34m=\u001b[0m \u001b[0mpayload_type\u001b[0m\u001b[0;34m\u001b[0m\u001b[0;34m\u001b[0m\u001b[0m\n",
      "\u001b[0;31mTypeError\u001b[0m: lookup_statuses() missing 1 required positional argument: 'id'"
     ]
    }
   ],
   "source": [
    "tweets_status = api.lookup_statuses()"
   ]
  },
  {
   "cell_type": "code",
   "execution_count": null,
   "metadata": {},
   "outputs": [],
   "source": [
    "# Get the followers of the user\n",
    "api.get_followers(user_id=1132988843609808899)"
   ]
  },
  {
   "cell_type": "code",
   "execution_count": 23,
   "metadata": {},
   "outputs": [
    {
     "data": {
      "text/plain": [
       "{'url': 'https://twitter.com/TaintedLady411/status/1142784782985809920',\n",
       " 'author_name': 'Tainted Lady Brocante Antiques',\n",
       " 'author_url': 'https://twitter.com/TaintedLady411',\n",
       " 'html': '<blockquote class=\"twitter-tweet\"><p lang=\"en\" dir=\"ltr\">Also same French Estate Import this lovely Antique French Ivory 1860s-1870s Pink Silk lined Box with Mirror, Brush and comb <a href=\"https://t.co/bP7jEgmrMO\">pic.twitter.com/bP7jEgmrMO</a></p>&mdash; Tainted Lady Brocante Antiques (@TaintedLady411) <a href=\"https://twitter.com/TaintedLady411/status/1142784782985809920?ref_src=twsrc%5Etfw\">June 23, 2019</a></blockquote>\\n<script async src=\"https://platform.twitter.com/widgets.js\" charset=\"utf-8\"></script>\\n',\n",
       " 'width': 550,\n",
       " 'height': None,\n",
       " 'type': 'rich',\n",
       " 'cache_age': '3153600000',\n",
       " 'provider_name': 'Twitter',\n",
       " 'provider_url': 'https://twitter.com',\n",
       " 'version': '1.0'}"
      ]
     },
     "execution_count": 23,
     "metadata": {},
     "output_type": "execute_result"
    }
   ],
   "source": [
    "api.get_oembed(url=\"https://twitter.com/TaintedLady411/status/1142784782985809920\")"
   ]
  },
  {
   "cell_type": "code",
   "execution_count": 15,
   "metadata": {},
   "outputs": [
    {
     "name": "stdout",
     "output_type": "stream",
     "text": [
      "[]\n"
     ]
    }
   ],
   "source": [
    "print(tweets_status)"
   ]
  },
  {
   "cell_type": "code",
   "execution_count": 3,
   "metadata": {},
   "outputs": [
    {
     "name": "stdout",
     "output_type": "stream",
     "text": [
      "The \"hands-free\" law went into effect in 2020, banning the use of all handheld electronic devices while driving or… https://t.co/spusmnSkj5\n",
      "New @Starting9! Verlander, Eddie Rodriguez, Noah Syndergaard and Jose Berrios all get breaded up, taking a look at… https://t.co/qXPBRpNGRN\n",
      "This is a fire box.\n",
      "\n",
      "They still work.\n",
      "\n",
      "There are over 1,000 of them installed around Boston.\n",
      "\n",
      "Boston's fire box sys… https://t.co/tgM9TibmAv\n",
      "Our Build Back Better Act will help lift long-term economic growth through stronger productivity and labor force gr… https://t.co/ZjwlsT55wq\n",
      "THE KINGS HATH RETURNED https://t.co/0mo4YgQTRx\n",
      ".@Money23Green warns the haters 👀 https://t.co/jv8QrkwGJX\n",
      "November from Charlestown.\n",
      "\n",
      "❤ https://t.co/THy01ywV6E\n",
      "When you wake up and realize there is one week until Thanksgiving...\n",
      "\n",
      "📹: @daryadasha3333 https://t.co/8Gti5qWEHQ\n",
      "The 1755 Cape Ann earthquake took place off the coast of Massachusetts 266 years ago today.\n",
      "\n",
      "At between 6.0 and 6.3… https://t.co/xFZdbHPWMq\n",
      "APPRECIATE YOU &amp; YOUR SUPPORT.! 👊🏾💯 https://t.co/FvhFWSfHjn\n",
      "Thompson shares his thoughts.\n",
      "\n",
      "(via @MattGeorgeSAC)\n",
      "https://t.co/vPVYlE0Sh9\n",
      "Tristan Thompson sounded OFF after the Kings' loss tonight. https://t.co/vuMiS5LclF\n",
      "D-BOOK DAGGER THREE 🗡\n",
      "\n",
      "(via @NBATV) \n",
      "https://t.co/qLtDUDRBqO\n",
      "D-Book is UNFAIR.\n",
      "\n",
      "(via @NBATV)\n",
      "https://t.co/mF94GHeSY6\n",
      "Lonzo stuffed Dame 👀 https://t.co/ofr4SUGX4R\n",
      "Jimmy's reaction after getting a triple-double 😂 https://t.co/bRiw4aIYfP\n",
      "Ant knew he cooked his defender 😅🔥 https://t.co/qcDpfoQIIg\n",
      "FRANZ WAGNER. @brhoops https://t.co/NkQcJYV44J\n",
      "KAT over Tristan Thompson 🔨 https://t.co/3nVMVzeml8\n",
      "Josh Giddey vision 👀 @brhoops https://t.co/SDTaiLDD86\n"
     ]
    }
   ],
   "source": [
    "public_tweets = api.home_timeline()\n",
    "for tweet in public_tweets:\n",
    "\t\tprint(tweet.text)"
   ]
  }
 ],
 "metadata": {
  "interpreter": {
   "hash": "31f2aee4e71d21fbe5cf8b01ff0e069b9275f58929596ceb00d14d90e3e16cd6"
  },
  "kernelspec": {
   "display_name": "Python 3.7.3 64-bit",
   "language": "python",
   "name": "python3"
  },
  "language_info": {
   "codemirror_mode": {
    "name": "ipython",
    "version": 3
   },
   "file_extension": ".py",
   "mimetype": "text/x-python",
   "name": "python",
   "nbconvert_exporter": "python",
   "pygments_lexer": "ipython3",
   "version": "3.9.7"
  },
  "orig_nbformat": 4
 },
 "nbformat": 4,
 "nbformat_minor": 2
}
