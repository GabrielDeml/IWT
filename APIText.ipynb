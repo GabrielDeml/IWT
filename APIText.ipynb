{
 "cells": [
  {
   "cell_type": "code",
   "execution_count": 1,
   "metadata": {},
   "outputs": [],
   "source": [
    "# Import twitter api\n",
    "import tweepy"
   ]
  },
  {
   "cell_type": "code",
   "execution_count": 2,
   "metadata": {},
   "outputs": [],
   "source": [
    "auth = tweepy.OAuthHandler(\"CI5JiJbIdAhN3qS4Rmvq3LqRp\", \"945NeqMvY1vUIKUCSSroO9eLrpbwWPt0Ueiic5lrnfVT1F97DE\")\n",
    "auth.set_access_token(\"905838785778380801-8KVhL09CsKFOI7H5nUnXsaYaFubgCgC\", \"aZdSWNhVj7MGY2Yzy2COjYaRLLPaDRyBQgiMtNgxEalDC\")\n",
    "\n",
    "api = tweepy.API(auth)"
   ]
  },
  {
   "cell_type": "code",
   "execution_count": null,
   "metadata": {},
   "outputs": [],
   "source": [
    "user_ids = ["
   ]
  },
  {
   "cell_type": "code",
   "execution_count": 3,
   "metadata": {},
   "outputs": [
    {
     "name": "stdout",
     "output_type": "stream",
     "text": [
      "The \"hands-free\" law went into effect in 2020, banning the use of all handheld electronic devices while driving or… https://t.co/spusmnSkj5\n",
      "New @Starting9! Verlander, Eddie Rodriguez, Noah Syndergaard and Jose Berrios all get breaded up, taking a look at… https://t.co/qXPBRpNGRN\n",
      "This is a fire box.\n",
      "\n",
      "They still work.\n",
      "\n",
      "There are over 1,000 of them installed around Boston.\n",
      "\n",
      "Boston's fire box sys… https://t.co/tgM9TibmAv\n",
      "Our Build Back Better Act will help lift long-term economic growth through stronger productivity and labor force gr… https://t.co/ZjwlsT55wq\n",
      "THE KINGS HATH RETURNED https://t.co/0mo4YgQTRx\n",
      ".@Money23Green warns the haters 👀 https://t.co/jv8QrkwGJX\n",
      "November from Charlestown.\n",
      "\n",
      "❤ https://t.co/THy01ywV6E\n",
      "When you wake up and realize there is one week until Thanksgiving...\n",
      "\n",
      "📹: @daryadasha3333 https://t.co/8Gti5qWEHQ\n",
      "The 1755 Cape Ann earthquake took place off the coast of Massachusetts 266 years ago today.\n",
      "\n",
      "At between 6.0 and 6.3… https://t.co/xFZdbHPWMq\n",
      "APPRECIATE YOU &amp; YOUR SUPPORT.! 👊🏾💯 https://t.co/FvhFWSfHjn\n",
      "Thompson shares his thoughts.\n",
      "\n",
      "(via @MattGeorgeSAC)\n",
      "https://t.co/vPVYlE0Sh9\n",
      "Tristan Thompson sounded OFF after the Kings' loss tonight. https://t.co/vuMiS5LclF\n",
      "D-BOOK DAGGER THREE 🗡\n",
      "\n",
      "(via @NBATV) \n",
      "https://t.co/qLtDUDRBqO\n",
      "D-Book is UNFAIR.\n",
      "\n",
      "(via @NBATV)\n",
      "https://t.co/mF94GHeSY6\n",
      "Lonzo stuffed Dame 👀 https://t.co/ofr4SUGX4R\n",
      "Jimmy's reaction after getting a triple-double 😂 https://t.co/bRiw4aIYfP\n",
      "Ant knew he cooked his defender 😅🔥 https://t.co/qcDpfoQIIg\n",
      "FRANZ WAGNER. @brhoops https://t.co/NkQcJYV44J\n",
      "KAT over Tristan Thompson 🔨 https://t.co/3nVMVzeml8\n",
      "Josh Giddey vision 👀 @brhoops https://t.co/SDTaiLDD86\n"
     ]
    }
   ],
   "source": [
    "public_tweets = api.home_timeline()\n",
    "for tweet in public_tweets:\n",
    "\t\tprint(tweet.text)"
   ]
  }
 ],
 "metadata": {
  "interpreter": {
   "hash": "31f2aee4e71d21fbe5cf8b01ff0e069b9275f58929596ceb00d14d90e3e16cd6"
  },
  "kernelspec": {
   "display_name": "Python 3.7.3 64-bit",
   "language": "python",
   "name": "python3"
  },
  "language_info": {
   "codemirror_mode": {
    "name": "ipython",
    "version": 3
   },
   "file_extension": ".py",
   "mimetype": "text/x-python",
   "name": "python",
   "nbconvert_exporter": "python",
   "pygments_lexer": "ipython3",
   "version": "3.9.7"
  },
  "orig_nbformat": 4
 },
 "nbformat": 4,
 "nbformat_minor": 2
}
