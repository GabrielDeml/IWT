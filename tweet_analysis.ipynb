{
 "cells": [
  {
   "cell_type": "code",
   "execution_count": 1,
   "metadata": {},
   "outputs": [],
   "source": [
    "import json\n",
    "import matplotlib.pyplot as plt\n",
    "from wordcloud import WordCloud"
   ]
  },
  {
   "cell_type": "code",
   "execution_count": 2,
   "metadata": {},
   "outputs": [],
   "source": [
    "tweet_analysis_json = {}"
   ]
  },
  {
   "cell_type": "code",
   "execution_count": 3,
   "metadata": {},
   "outputs": [],
   "source": [
    "# Json path\n",
    "json_path = './GMouYes/data/userExactTweet.json'"
   ]
  },
  {
   "cell_type": "code",
   "execution_count": 4,
   "metadata": {},
   "outputs": [],
   "source": [
    "# Open json file\n",
    "json_file = open(json_path, 'r')\n",
    "# Load json file\n",
    "json_data = json.load(json_file)\n",
    "json_file.close()"
   ]
  },
  {
   "cell_type": "code",
   "execution_count": 5,
   "metadata": {},
   "outputs": [
    {
     "name": "stdout",
     "output_type": "stream",
     "text": [
      "1132988843609808899\n",
      "{'data': [{'attachments': {'media_keys': ['3_1142784773208887298']}, 'author_id': '1132988843609808899', 'conversation_id': '1142784782985809920', 'created_at': '2019-06-23T13:21:38.000Z', 'entities': {'urls': [{'display_url': 'pic.twitter.com/bP7jEgmrMO', 'end': 147, 'expanded_url': 'https://twitter.com/TaintedLady411/status/1142784782985809920/photo/1', 'start': 124, 'url': 'https://t.co/bP7jEgmrMO'}]}, 'id': '1142784782985809920', 'lang': 'en', 'possibly_sensitive': False, 'public_metrics': {'like_count': 0, 'quote_count': 0, 'reply_count': 0, 'retweet_count': 0}, 'reply_settings': 'everyone', 'source': 'Twitter Web Client', 'text': 'Also same French Estate Import this lovely Antique French Ivory 1860s-1870s Pink Silk lined Box with Mirror, Brush and comb https://t.co/bP7jEgmrMO'}], 'includes': {'media': [{'media_key': '3_1142784773208887298', 'type': 'photo', 'url': 'https://pbs.twimg.com/media/D9v8sk3XUAIAsKo.jpg'}]}}\n",
      "\n",
      "\n",
      "153701624\n",
      "{'data': [{'attachments': {'media_keys': ['3_1147130298150334465']}, 'author_id': '153701624', 'conversation_id': '1147130303670038528', 'created_at': '2019-07-05T13:09:11.000Z', 'entities': {'hashtags': [{'end': 55, 'start': 43, 'tag': 'etsyvintage'}, {'end': 69, 'start': 61, 'tag': 'Vintage'}, {'end': 81, 'start': 70, 'tag': 'HandCarved'}, {'end': 88, 'start': 82, 'tag': 'Ivory'}, {'end': 100, 'start': 89, 'tag': 'RoseBrooch'}, {'end': 115, 'start': 101, 'tag': 'FineJewellery'}, {'end': 125, 'start': 116, 'tag': '24ktGold'}, {'end': 139, 'start': 126, 'tag': 'Wellsjewelry'}, {'end': 152, 'start': 140, 'tag': 'Collectible'}, {'end': 162, 'start': 153, 'tag': 'Heirloom'}, {'end': 178, 'start': 163, 'tag': 'Weddingjewelry'}], 'urls': [{'display_url': 'etsy.me/2Jdx9Ga', 'end': 202, 'expanded_url': 'https://etsy.me/2Jdx9Ga', 'start': 179, 'url': 'https://t.co/amVIwUacGn'}, {'display_url': 'pic.twitter.com/lB9M3GSxRw', 'end': 226, 'expanded_url': 'https://twitter.com/GothicGlass/status/1147130303670038528/photo/1', 'start': 203, 'url': 'https://t.co/lB9M3GSxRw'}]}, 'id': '1147130303670038528', 'lang': 'en', 'possibly_sensitive': False, 'public_metrics': {'like_count': 0, 'quote_count': 0, 'reply_count': 0, 'retweet_count': 0}, 'reply_settings': 'everyone', 'source': 'Twitter for iPad', 'text': 'Excited to share the latest addition to my #etsyvintage shop #Vintage #HandCarved #Ivory #RoseBrooch #FineJewellery #24ktGold #Wellsjewelry #Collectible #Heirloom #Weddingjewelry https://t.co/amVIwUacGn https://t.co/lB9M3GSxRw'}], 'includes': {'media': [{'media_key': '3_1147130298150334465', 'type': 'photo', 'url': 'https://pbs.twimg.com/media/D-ts7axWsAE2t98.jpg'}]}}\n",
      "\n",
      "\n",
      "242877245\n",
      "{'data': [{'attachments': {'media_keys': ['3_1144560712561385472']}, 'author_id': '242877245', 'context_annotations': [{'domain': {'description': 'Interests, opinions, and behaviors of individuals, groups, or cultures; like Speciality Cooking or Theme Parks', 'id': '67', 'name': 'Interests and Hobbies'}, 'entity': {'description': 'Antiquing/Antiques', 'id': '1088447781453193225', 'name': 'Antiques'}}], 'conversation_id': '1144560733159604229', 'created_at': '2019-06-28T10:58:38.000Z', 'entities': {'annotations': [{'end': 22, 'normalized_text': 'Carrington & Co. London', 'probability': 0.6041, 'start': 0, 'type': 'Organization'}], 'hashtags': [{'end': 155, 'start': 146, 'tag': 'antiques'}, {'end': 163, 'start': 156, 'tag': 'clocks'}, {'end': 172, 'start': 164, 'tag': 'auction'}, {'end': 179, 'start': 173, 'tag': 'Lewes'}], 'urls': [{'display_url': 'pic.twitter.com/duUOfiRRZO', 'end': 203, 'expanded_url': 'https://twitter.com/Gorringes/status/1144560733159604229/photo/1', 'start': 180, 'url': 'https://t.co/duUOfiRRZO'}]}, 'id': '1144560733159604229', 'lang': 'en', 'possibly_sensitive': False, 'public_metrics': {'like_count': 2, 'quote_count': 0, 'reply_count': 0, 'retweet_count': 0}, 'reply_settings': 'everyone', 'source': 'Twitter Web Client', 'text': 'Carrington &amp; Co. London - A 19th century Rosewood and etched ivory cased eight day mantel timepiece, lot 200 inour weekly sale, est £400-£600 #antiques #clocks #auction #Lewes https://t.co/duUOfiRRZO'}], 'includes': {'media': [{'media_key': '3_1144560712561385472', 'type': 'photo', 'url': 'https://pbs.twimg.com/media/D-JL52gW4AA0czG.jpg'}]}}\n",
      "\n",
      "\n",
      "4721076616\n",
      "{'data': [{'attachments': {'media_keys': ['3_1146329004611424262']}, 'author_id': '4721076616', 'conversation_id': '1146336528517554177', 'created_at': '2019-07-03T08:35:00.000Z', 'entities': {'urls': [{'display_url': 'etsy.com/listing/251196…', 'end': 118, 'expanded_url': 'https://www.etsy.com/listing/251196044/antique-1920s-durham-duplex-straight', 'start': 95, 'status': 200, 'unwound_url': 'https://www.etsy.com/listing/251196044/antique-1920s-durham-duplex-straight', 'url': 'https://t.co/8gDWhLtllU'}, {'display_url': 'pic.twitter.com/XhcrZPJAqZ', 'end': 142, 'expanded_url': 'https://twitter.com/PopsJunkDrawer/status/1146336528517554177/photo/1', 'start': 119, 'url': 'https://t.co/XhcrZPJAqZ'}]}, 'id': '1146336528517554177', 'lang': 'en', 'possibly_sensitive': False, 'public_metrics': {'like_count': 0, 'quote_count': 0, 'reply_count': 0, 'retweet_count': 0}, 'reply_settings': 'everyone', 'source': 'SocialCrew Crafty', 'text': \"Antique 1920's Durham Duplex Straight Razor - French Ivory Celluloid Handle PAT USA May 28, 07 https://t.co/8gDWhLtllU https://t.co/XhcrZPJAqZ\"}], 'includes': {'media': [{'media_key': '3_1146329004611424262', 'type': 'photo', 'url': 'https://pbs.twimg.com/media/D-iUJ_uXUAYtwnh.jpg'}]}}\n",
      "\n",
      "\n",
      "47297687\n",
      "{'data': [{'attachments': {'media_keys': ['3_1146720784301191168']}, 'author_id': '47297687', 'context_annotations': [{'domain': {'description': 'Television shows from around the world', 'id': '3', 'name': 'TV Shows'}, 'entity': {'id': '10029304530', 'name': 'NBA Basketball'}}, {'domain': {'description': 'Top level interests and hobbies groupings, like Food or Travel', 'id': '65', 'name': 'Interests and Hobbies Vertical'}, 'entity': {'description': 'Arts and Crafts', 'id': '847868793636372480', 'name': 'Arts and Crafts'}}, {'domain': {'description': 'A grouping of interests and hobbies entities, like Novelty Food or Destinations', 'id': '66', 'name': 'Interests and Hobbies Category'}, 'entity': {'description': 'Visual Arts', 'id': '1046577790353428480', 'name': 'Visual arts'}}, {'domain': {'description': 'Interests, opinions, and behaviors of individuals, groups, or cultures; like Speciality Cooking or Theme Parks', 'id': '67', 'name': 'Interests and Hobbies'}, 'entity': {'description': 'Sculpting', 'id': '1046579830823706624', 'name': 'Sculpting'}}], 'conversation_id': '1146720815460671488', 'created_at': '2019-07-04T10:02:02.000Z', 'entities': {'hashtags': [{'end': 89, 'start': 81, 'tag': 'Mammoth'}, {'end': 96, 'start': 90, 'tag': 'ivory'}, {'end': 106, 'start': 97, 'tag': 'warriors'}, {'end': 112, 'start': 107, 'tag': 'tusk'}, {'end': 119, 'start': 113, 'tag': 'qiang'}, {'end': 132, 'start': 120, 'tag': 'Ivoryandart'}, {'end': 137, 'start': 133, 'tag': 'art'}, {'end': 148, 'start': 138, 'tag': 'sculpture'}, {'end': 160, 'start': 149, 'tag': 'sculptures'}, {'end': 171, 'start': 161, 'tag': 'homedecor'}, {'end': 187, 'start': 172, 'tag': 'homedecoration'}, {'end': 199, 'start': 188, 'tag': 'summersale'}, {'end': 212, 'start': 200, 'tag': 'summersales'}], 'urls': [{'display_url': 'bit.ly/2Yx9S7w', 'end': 78, 'expanded_url': 'http://bit.ly/2Yx9S7w', 'start': 55, 'url': 'https://t.co/zIAXVIJ7xY'}, {'display_url': 'pic.twitter.com/8N6K7WqC7h', 'end': 236, 'expanded_url': 'https://twitter.com/CarvedIvory/status/1146720815460671488/photo/1', 'start': 213, 'url': 'https://t.co/8N6K7WqC7h'}]}, 'id': '1146720815460671488', 'lang': 'en', 'possibly_sensitive': False, 'public_metrics': {'like_count': 1, 'quote_count': 0, 'reply_count': 0, 'retweet_count': 0}, 'reply_settings': 'everyone', 'source': 'Twitter Web Client', 'text': 'Dragon Sculpture in Mammoth Ivory\\n\\nSpecial Offer Link: https://t.co/zIAXVIJ7xY\\n\\n #Mammoth #ivory #warriors #tusk #qiang #Ivoryandart #art #sculpture #sculptures #homedecor #homedecoration #summersale #summersales https://t.co/8N6K7WqC7h'}], 'includes': {'media': [{'media_key': '3_1146720784301191168', 'type': 'photo', 'url': 'https://pbs.twimg.com/media/D-n4ekzUcAA-FCm.jpg'}]}}\n",
      "\n",
      "\n",
      "707966804253999105\n",
      "{'data': [{'attachments': {'media_keys': ['3_1146329004611424262']}, 'author_id': '707966804253999105', 'conversation_id': '1146336530144878592', 'created_at': '2019-07-03T08:35:01.000Z', 'entities': {'urls': [{'display_url': 'etsy.com/listing/251196…', 'end': 118, 'expanded_url': 'https://www.etsy.com/listing/251196044/antique-1920s-durham-duplex-straight', 'start': 95, 'status': 200, 'unwound_url': 'https://www.etsy.com/listing/251196044/antique-1920s-durham-duplex-straight', 'url': 'https://t.co/Nb39PzzqpU'}, {'display_url': 'pic.twitter.com/qTUMNSEvEq', 'end': 142, 'expanded_url': 'https://twitter.com/CoolStuffUNeed/status/1146336530144878592/photo/1', 'start': 119, 'url': 'https://t.co/qTUMNSEvEq'}]}, 'id': '1146336530144878592', 'lang': 'en', 'possibly_sensitive': False, 'public_metrics': {'like_count': 0, 'quote_count': 0, 'reply_count': 0, 'retweet_count': 0}, 'reply_settings': 'everyone', 'source': 'SocialCrew Crafty', 'text': \"Antique 1920's Durham Duplex Straight Razor - French Ivory Celluloid Handle PAT USA May 28, 07 https://t.co/Nb39PzzqpU https://t.co/qTUMNSEvEq\"}], 'includes': {'media': [{'media_key': '3_1146329004611424262', 'type': 'photo', 'url': 'https://pbs.twimg.com/media/D-iUJ_uXUAYtwnh.jpg'}]}}\n",
      "\n",
      "\n",
      "717712395112751104\n",
      "{'data': [{'attachments': {'media_keys': ['3_1146388304256032771']}, 'author_id': '717712395112751104', 'context_annotations': [{'domain': {'description': 'Television shows from around the world', 'id': '3', 'name': 'TV Shows'}, 'entity': {'id': '10031906473', 'name': 'El Rastro'}}, {'domain': {'description': 'Top level interests and hobbies groupings, like Food or Travel', 'id': '65', 'name': 'Interests and Hobbies Vertical'}, 'entity': {'description': 'Arts and Crafts', 'id': '847868793636372480', 'name': 'Arts and Crafts'}}, {'domain': {'description': 'A grouping of interests and hobbies entities, like Novelty Food or Destinations', 'id': '66', 'name': 'Interests and Hobbies Category'}, 'entity': {'description': 'Visual Arts', 'id': '1046577790353428480', 'name': 'Visual arts'}}, {'domain': {'description': 'Interests, opinions, and behaviors of individuals, groups, or cultures; like Speciality Cooking or Theme Parks', 'id': '67', 'name': 'Interests and Hobbies'}, 'entity': {'description': 'Sculpting', 'id': '1046579830823706624', 'name': 'Sculpting'}}, {'domain': {'description': 'Entity Service top level domain, every item that is in Entity Service should be in this domain', 'id': '30', 'name': 'Entities [Entity Service]'}, 'entity': {'description': 'Hobbies and interests', 'id': '847868745150119936', 'name': 'Home & family'}}, {'domain': {'description': 'A grouping of interests and hobbies entities, like Novelty Food or Destinations', 'id': '66', 'name': 'Interests and Hobbies Category'}, 'entity': {'description': 'Design', 'id': '847872720331079681', 'name': 'Design'}}], 'conversation_id': '1146388306814484480', 'created_at': '2019-07-03T12:00:45.000Z', 'entities': {'hashtags': [{'end': 16, 'start': 10, 'tag': 'ivory'}, {'end': 45, 'start': 38, 'tag': 'France'}, {'end': 58, 'start': 50, 'tag': 'vintage'}, {'end': 66, 'start': 59, 'tag': 'modern'}, {'end': 79, 'start': 67, 'tag': 'vintageshop'}, {'end': 85, 'start': 80, 'tag': 'deco'}, {'end': 97, 'start': 86, 'tag': 'decoration'}, {'end': 107, 'start': 98, 'tag': 'ElRastro'}, {'end': 115, 'start': 108, 'tag': 'Madrid'}, {'end': 122, 'start': 116, 'tag': 'style'}, {'end': 134, 'start': 123, 'tag': 'instadecor'}, {'end': 149, 'start': 135, 'tag': 'instaantiques'}, {'end': 159, 'start': 150, 'tag': 'interior'}, {'end': 167, 'start': 160, 'tag': 'design'}, {'end': 180, 'start': 168, 'tag': 'inspiration'}, {'end': 191, 'start': 181, 'tag': 'interiors'}, {'end': 202, 'start': 192, 'tag': 'homedecor'}, {'end': 230, 'start': 203, 'tag': 'antiquesdealersofinstagram'}, {'end': 243, 'start': 231, 'tag': 'antiqueshop'}, {'end': 248, 'start': 244, 'tag': 'art'}], 'urls': [{'display_url': 'pic.twitter.com/dBV4H1dboW', 'end': 272, 'expanded_url': 'https://twitter.com/TransformistaEl/status/1146388306814484480/photo/1', 'start': 249, 'url': 'https://t.co/dBV4H1dboW'}]}, 'id': '1146388306814484480', 'lang': 'en', 'possibly_sensitive': False, 'public_metrics': {'like_count': 0, 'quote_count': 0, 'reply_count': 0, 'retweet_count': 0}, 'reply_settings': 'everyone', 'source': 'Hootsuite Inc.', 'text': 'A pair of #ivory africans sculptures, #France 70s\\n#vintage #modern #vintageshop #deco #decoration #ElRastro #Madrid #style #instadecor #instaantiques #interior #design #inspiration #interiors #homedecor #antiquesdealersofinstagram #antiqueshop #art https://t.co/dBV4H1dboW'}], 'includes': {'media': [{'media_key': '3_1146388304256032771', 'type': 'photo', 'url': 'https://pbs.twimg.com/media/D-jKFsHX4AMTVy5.jpg'}]}}\n",
      "\n",
      "\n",
      "85810276\n",
      "{'data': [{'attachments': {'media_keys': ['3_1147150668140077061']}, 'author_id': '85810276', 'context_annotations': [{'domain': {'description': 'Top level entities that describe a Brands industry', 'id': '45', 'name': 'Brand Vertical'}, 'entity': {'id': '781974596706635776', 'name': 'Retail'}}, {'domain': {'description': 'Categories within Brand Verticals that narrow down the scope of Brands', 'id': '46', 'name': 'Brand Category'}, 'entity': {'id': '781974596891185152', 'name': 'Jewelry'}}, {'domain': {'description': 'Brands and Companies', 'id': '47', 'name': 'Brand'}, 'entity': {'id': '10041160414', 'name': 'Tiffany & Co.'}}, {'domain': {'description': 'Top level interests and hobbies groupings, like Food or Travel', 'id': '65', 'name': 'Interests and Hobbies Vertical'}, 'entity': {'description': 'Fashion', 'id': '844603730221707264', 'name': 'Fashion'}}, {'domain': {'description': 'A grouping of interests and hobbies entities, like Novelty Food or Destinations', 'id': '66', 'name': 'Interests and Hobbies Category'}, 'entity': {'description': 'Fashion Brand', 'id': '846427983237672960', 'name': 'Fashion Brand'}}, {'domain': {'description': 'Top level entities that describe a Brands industry', 'id': '45', 'name': 'Brand Vertical'}, 'entity': {'id': '781974596706635776', 'name': 'Retail'}}, {'domain': {'description': 'Categories within Brand Verticals that narrow down the scope of Brands', 'id': '46', 'name': 'Brand Category'}, 'entity': {'id': '781974596891185152', 'name': 'Jewelry'}}, {'domain': {'description': 'Brands and Companies', 'id': '47', 'name': 'Brand'}, 'entity': {'id': '10041160414', 'name': 'Tiffany & Co.'}}], 'conversation_id': '1147150670878978048', 'created_at': '2019-07-05T14:30:07.000Z', 'entities': {'hashtags': [{'end': 11, 'start': 4, 'tag': 'Silver'}, {'end': 108, 'start': 101, 'tag': 'Mokume'}, {'end': 135, 'start': 122, 'tag': 'TiffanyandCo'}, {'end': 149, 'start': 137, 'tag': 'EdwardMoore'}, {'end': 223, 'start': 214, 'tag': 'Japanese'}], 'urls': [{'display_url': 'buff.ly/2XseoYw', 'end': 283, 'expanded_url': 'https://buff.ly/2XseoYw', 'start': 260, 'url': 'https://t.co/biwOPtSQ5y'}, {'display_url': 'pic.twitter.com/EiPisM3Lyw', 'end': 307, 'expanded_url': 'https://twitter.com/WoolleyWallis/status/1147150670878978048/photo/1', 'start': 284, 'url': 'https://t.co/EiPisM3Lyw'}]}, 'id': '1147150670878978048', 'lang': 'en', 'possibly_sensitive': False, 'public_metrics': {'like_count': 0, 'quote_count': 0, 'reply_count': 0, 'retweet_count': 1}, 'reply_settings': 'everyone', 'source': 'Buffer', 'text': 'Our #Silver &amp; Objects of Vertu sale on 16th July features some interesting pieces including this #Mokume tea caddy by #TiffanyandCo, #EdwardMoore period, decorated with a carved ivory okimono finial of playful #Japanese figures. Estimated at £1,000-1,500. https://t.co/biwOPtSQ5y https://t.co/EiPisM3Lyw'}], 'includes': {'media': [{'media_key': '3_1147150668140077061', 'type': 'photo', 'url': 'https://pbs.twimg.com/media/D-t_dG5XYAUCSF5.jpg'}]}}\n",
      "\n",
      "\n",
      "937064669608628226\n",
      "{'data': [{'attachments': {'media_keys': ['3_1142849072140881920', '3_1142849106961997824', '3_1142849127501500417', '3_1142849145532747776']}, 'author_id': '937064669608628226', 'conversation_id': '1142849159730466817', 'created_at': '2019-06-23T17:37:27.000Z', 'entities': {'urls': [{'display_url': 'pic.twitter.com/XMOoBg717O', 'end': 67, 'expanded_url': 'https://twitter.com/AntikSalon/status/1142849159730466817/photo/1', 'start': 44, 'url': 'https://t.co/XMOoBg717O'}, {'display_url': 'pic.twitter.com/XMOoBg717O', 'end': 67, 'expanded_url': 'https://twitter.com/AntikSalon/status/1142849159730466817/photo/1', 'start': 44, 'url': 'https://t.co/XMOoBg717O'}, {'display_url': 'pic.twitter.com/XMOoBg717O', 'end': 67, 'expanded_url': 'https://twitter.com/AntikSalon/status/1142849159730466817/photo/1', 'start': 44, 'url': 'https://t.co/XMOoBg717O'}, {'display_url': 'pic.twitter.com/XMOoBg717O', 'end': 67, 'expanded_url': 'https://twitter.com/AntikSalon/status/1142849159730466817/photo/1', 'start': 44, 'url': 'https://t.co/XMOoBg717O'}]}, 'id': '1142849159730466817', 'lang': 'en', 'possibly_sensitive': False, 'public_metrics': {'like_count': 0, 'quote_count': 0, 'reply_count': 0, 'retweet_count': 0}, 'reply_settings': 'everyone', 'source': 'Twitter Web Client', 'text': 'Chinese Carved Ivory &amp; Wood Card Cases. https://t.co/XMOoBg717O'}], 'includes': {'media': [{'media_key': '3_1142849072140881920', 'type': 'photo', 'url': 'https://pbs.twimg.com/media/D9w3LRDXkAA2zVO.jpg'}, {'media_key': '3_1142849106961997824', 'type': 'photo', 'url': 'https://pbs.twimg.com/media/D9w3NSxXoAAD_0z.jpg'}, {'media_key': '3_1142849127501500417', 'type': 'photo', 'url': 'https://pbs.twimg.com/media/D9w3OfSXkAEuhMG.jpg'}, {'media_key': '3_1142849145532747776', 'type': 'photo', 'url': 'https://pbs.twimg.com/media/D9w3PidWkAAUtq0.jpg'}]}}\n",
      "\n",
      "\n"
     ]
    }
   ],
   "source": [
    "for i in json_data:\n",
    "\tprint(i)\n",
    "\tprint(json_data[i])\n",
    "\tprint('\\n')"
   ]
  },
  {
   "cell_type": "code",
   "execution_count": 6,
   "metadata": {},
   "outputs": [
    {
     "name": "stdout",
     "output_type": "stream",
     "text": [
      "['1132988843609808899', '153701624', '242877245', '4721076616', '47297687', '707966804253999105', '717712395112751104', '85810276', '937064669608628226']\n"
     ]
    }
   ],
   "source": [
    "id_list = []\n",
    "for i in json_data:\n",
    "\tid_list.append(i)\n",
    "tweet_analysis_json['id_list'] = id_list\n",
    "print(id_list)"
   ]
  },
  {
   "cell_type": "code",
   "execution_count": 7,
   "metadata": {},
   "outputs": [
    {
     "name": "stdout",
     "output_type": "stream",
     "text": [
      "No hashtags\n",
      "No hashtags\n",
      "No hashtags\n",
      "No hashtags\n",
      "[[], ['etsyvintage', 'Vintage', 'HandCarved', 'Ivory', 'RoseBrooch', 'FineJewellery', '24ktGold', 'Wellsjewelry', 'Collectible', 'Heirloom', 'Weddingjewelry'], ['antiques', 'clocks', 'auction', 'Lewes'], [], ['Mammoth', 'ivory', 'warriors', 'tusk', 'qiang', 'Ivoryandart', 'art', 'sculpture', 'sculptures', 'homedecor', 'homedecoration', 'summersale', 'summersales'], [], ['ivory', 'France', 'vintage', 'modern', 'vintageshop', 'deco', 'decoration', 'ElRastro', 'Madrid', 'style', 'instadecor', 'instaantiques', 'interior', 'design', 'inspiration', 'interiors', 'homedecor', 'antiquesdealersofinstagram', 'antiqueshop', 'art'], ['Silver', 'Mokume', 'TiffanyandCo', 'EdwardMoore', 'Japanese'], []]\n"
     ]
    }
   ],
   "source": [
    "hashtag_list = []\n",
    "\n",
    "for i in json_data:\n",
    "\ttmp_hashtag_list = []\n",
    "\ttry:\n",
    "\t\tfor j in json_data[i][\"data\"][0][\"entities\"][\"hashtags\"]:\n",
    "\t\t\ttmp_hashtag_list.append(j[\"tag\"])\n",
    "\texcept:\n",
    "\t\tprint(\"No hashtags\")\n",
    "\thashtag_list.append(tmp_hashtag_list)\n",
    "tweet_analysis_json['hashtag_list_raw'] = hashtag_list\n",
    "print(hashtag_list)"
   ]
  },
  {
   "cell_type": "code",
   "execution_count": 8,
   "metadata": {},
   "outputs": [
    {
     "name": "stdout",
     "output_type": "stream",
     "text": [
      "[('ivory', 2), ('art', 2), ('homedecor', 2), ('etsyvintage', 1), ('Vintage', 1), ('HandCarved', 1), ('Ivory', 1), ('RoseBrooch', 1), ('FineJewellery', 1), ('24ktGold', 1), ('Wellsjewelry', 1), ('Collectible', 1), ('Heirloom', 1), ('Weddingjewelry', 1), ('antiques', 1), ('clocks', 1), ('auction', 1), ('Lewes', 1), ('Mammoth', 1), ('warriors', 1), ('tusk', 1), ('qiang', 1), ('Ivoryandart', 1), ('sculpture', 1), ('sculptures', 1), ('homedecoration', 1), ('summersale', 1), ('summersales', 1), ('France', 1), ('vintage', 1), ('modern', 1), ('vintageshop', 1), ('deco', 1), ('decoration', 1), ('ElRastro', 1), ('Madrid', 1), ('style', 1), ('instadecor', 1), ('instaantiques', 1), ('interior', 1), ('design', 1), ('inspiration', 1), ('interiors', 1), ('antiquesdealersofinstagram', 1), ('antiqueshop', 1), ('Silver', 1), ('Mokume', 1), ('TiffanyandCo', 1), ('EdwardMoore', 1), ('Japanese', 1)]\n"
     ]
    }
   ],
   "source": [
    "hashtag_hash = {}\n",
    "for i in hashtag_list:\n",
    "\tfor j in i:\n",
    "\t\tif j in hashtag_hash:\n",
    "\t\t\thashtag_hash[j] += 1\n",
    "\t\telse:\n",
    "\t\t\thashtag_hash[j] = 1\n",
    "\n",
    "# Sort and print\n",
    "sorted_hashtag_hash = sorted(hashtag_hash.items(), key=lambda x: x[1], reverse=True)\n",
    "tweet_analysis_json['hashtag_sorted'] = sorted_hashtag_hash\n",
    "print(sorted_hashtag_hash)"
   ]
  },
  {
   "cell_type": "code",
   "execution_count": 10,
   "metadata": {},
   "outputs": [
    {
     "name": "stdout",
     "output_type": "stream",
     "text": [
      "Link list:  [['https://twitter.com/TaintedLady411/status/1142784782985809920/photo/1'], ['https://etsy.me/2Jdx9Ga', 'https://twitter.com/GothicGlass/status/1147130303670038528/photo/1'], ['https://twitter.com/Gorringes/status/1144560733159604229/photo/1'], ['https://www.etsy.com/listing/251196044/antique-1920s-durham-duplex-straight', 'https://twitter.com/PopsJunkDrawer/status/1146336528517554177/photo/1'], ['http://bit.ly/2Yx9S7w', 'https://twitter.com/CarvedIvory/status/1146720815460671488/photo/1'], ['https://www.etsy.com/listing/251196044/antique-1920s-durham-duplex-straight', 'https://twitter.com/CoolStuffUNeed/status/1146336530144878592/photo/1'], ['https://twitter.com/TransformistaEl/status/1146388306814484480/photo/1'], ['https://buff.ly/2XseoYw', 'https://twitter.com/WoolleyWallis/status/1147150670878978048/photo/1'], ['https://twitter.com/AntikSalon/status/1142849159730466817/photo/1', 'https://twitter.com/AntikSalon/status/1142849159730466817/photo/1', 'https://twitter.com/AntikSalon/status/1142849159730466817/photo/1', 'https://twitter.com/AntikSalon/status/1142849159730466817/photo/1']]\n"
     ]
    }
   ],
   "source": [
    "link_list = []\n",
    "for i in json_data:\n",
    "\tlink_list_tmp = []\n",
    "\ttry:\n",
    "\n",
    "\t\turls = json_data[i][\"data\"][0][\"entities\"][\"urls\"]\n",
    "\t\tfor j in urls:\n",
    "\t\t\tlink_list_tmp.append(j['expanded_url'])\n",
    "\texcept:\n",
    "\t\tprint(\"No links\")\n",
    "\tlink_list.append(link_list_tmp)\n",
    "tweet_analysis_json['links'] = link_list\n",
    "print(\"Link list: \", link_list)"
   ]
  },
  {
   "cell_type": "code",
   "execution_count": 11,
   "metadata": {},
   "outputs": [],
   "source": [
    "# Write to json file\n",
    "with open('tweet_analysis.json', 'w') as outfile:\n",
    "\tjson.dump(tweet_analysis_json, outfile)\n"
   ]
  }
 ],
 "metadata": {
  "interpreter": {
   "hash": "31f2aee4e71d21fbe5cf8b01ff0e069b9275f58929596ceb00d14d90e3e16cd6"
  },
  "kernelspec": {
   "display_name": "Python 3.7.3 64-bit",
   "language": "python",
   "name": "python3"
  },
  "language_info": {
   "codemirror_mode": {
    "name": "ipython",
    "version": 3
   },
   "file_extension": ".py",
   "mimetype": "text/x-python",
   "name": "python",
   "nbconvert_exporter": "python",
   "pygments_lexer": "ipython3",
   "version": "3.9.7"
  },
  "orig_nbformat": 4
 },
 "nbformat": 4,
 "nbformat_minor": 2
}
