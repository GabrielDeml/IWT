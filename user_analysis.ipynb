{
 "cells": [
  {
   "cell_type": "code",
   "execution_count": 21,
   "metadata": {},
   "outputs": [],
   "source": [
    "import json\n",
    "import matplotlib.pyplot as plt\n",
    "from wordcloud import WordCloud\n",
    "import os\n",
    "import requests"
   ]
  },
  {
   "cell_type": "code",
   "execution_count": 20,
   "metadata": {},
   "outputs": [],
   "source": [
    "# Get BEARER_TOKEN from key.json\n",
    "with open('key.json') as f:\n",
    "\tkey = json.load(f)\n",
    "\tbearer_token = key['BEARER_TOKEN']"
   ]
  },
  {
   "cell_type": "code",
   "execution_count": 26,
   "metadata": {},
   "outputs": [],
   "source": [
    "# Json path\n",
    "json_path = './GMouYes/data/userProfile.json'"
   ]
  },
  {
   "cell_type": "code",
   "execution_count": 27,
   "metadata": {},
   "outputs": [],
   "source": [
    "# Open json file\n",
    "json_file = open(json_path, 'r')\n",
    "# Load json file\n",
    "json_data = json.load(json_file)"
   ]
  },
  {
   "cell_type": "code",
   "execution_count": 28,
   "metadata": {},
   "outputs": [
    {
     "name": "stdout",
     "output_type": "stream",
     "text": [
      "1132988843609808899\n",
      "{'data': [{'created_at': '2019-05-27T12:36:05.000Z', 'description': 'We are 3rd generation Brocante-Antique Import Dealers. Specializing in French, Dutch and fine items for the Ladies. We offer a variety Decor & Design services.', 'entities': {'url': {'urls': [{'display_url': 'pinterest.com/theshadylady1/…', 'end': 23, 'expanded_url': 'https://www.pinterest.com/theshadylady1/tainted-lady-brocante-antiques-419-cc-pkwy-cape-co/', 'start': 0, 'url': 'https://t.co/5Q81qEd6Dp'}]}}, 'id': '1132988843609808899', 'location': 'Cape Coral, FL', 'name': 'Tainted Lady Brocante Antiques', 'profile_image_url': 'https://pbs.twimg.com/profile_images/1132989034618327040/BRoVL-Bv_normal.jpg', 'protected': False, 'public_metrics': {'followers_count': 6, 'following_count': 20, 'listed_count': 0, 'tweet_count': 162}, 'url': 'https://t.co/5Q81qEd6Dp', 'username': 'TaintedLady411', 'verified': False}]}\n",
      "\n",
      "\n",
      "153701624\n",
      "{'data': [{'created_at': '2010-06-09T06:46:20.000Z', 'description': 'Original art glass designs  \\nInstagram: @GothicGlassStudio Etsy: https://t.co/X9LgL96Fxw', 'entities': {'description': {'mentions': [{'end': 58, 'start': 40, 'username': 'GothicGlassStudio'}], 'urls': [{'display_url': 'etsy.com/ca/shop/Gothic…', 'end': 88, 'expanded_url': 'https://www.etsy.com/ca/shop/GothicGlassStudio?ref=hdr_shop_menu', 'start': 65, 'url': 'https://t.co/X9LgL96Fxw'}]}, 'url': {'urls': [{'display_url': 'gothicglassstudio.etsy.com', 'end': 23, 'expanded_url': 'http://gothicglassstudio.etsy.com', 'start': 0, 'url': 'https://t.co/iteoW5pQXx'}]}}, 'id': '153701624', 'location': 'Nova Scotia', 'name': 'Gothic Glass Studio', 'profile_image_url': 'https://pbs.twimg.com/profile_images/1139172189796741126/DZdjMYxy_normal.png', 'protected': False, 'public_metrics': {'followers_count': 3059, 'following_count': 1021, 'listed_count': 406, 'tweet_count': 109455}, 'url': 'https://t.co/iteoW5pQXx', 'username': 'GothicGlass', 'verified': False}]}\n",
      "\n",
      "\n",
      "242877245\n",
      "{'data': [{'created_at': '2011-01-25T20:13:36.000Z', 'description': 'The leading #fineart & #antiques #auctioneers in the South East. Explore our collections at: https://t.co/LYDBPmN07U or visit us in #Lewes #EastSussex', 'entities': {'description': {'hashtags': [{'end': 20, 'start': 12, 'tag': 'fineart'}, {'end': 32, 'start': 23, 'tag': 'antiques'}, {'end': 45, 'start': 33, 'tag': 'auctioneers'}, {'end': 138, 'start': 132, 'tag': 'Lewes'}, {'end': 150, 'start': 139, 'tag': 'EastSussex'}], 'urls': [{'display_url': 'gorringes.co.uk', 'end': 116, 'expanded_url': 'http://www.gorringes.co.uk', 'start': 93, 'url': 'https://t.co/LYDBPmN07U'}]}, 'url': {'urls': [{'display_url': 'gorringes.co.uk', 'end': 23, 'expanded_url': 'http://www.gorringes.co.uk', 'start': 0, 'url': 'https://t.co/LYDBPmN07U'}]}}, 'id': '242877245', 'location': 'Lewes, East Sussex, UK', 'name': 'gorringes', 'profile_image_url': 'https://pbs.twimg.com/profile_images/689765491628490752/40GvzNnY_normal.jpg', 'protected': False, 'public_metrics': {'followers_count': 4390, 'following_count': 1076, 'listed_count': 62, 'tweet_count': 5417}, 'url': 'https://t.co/LYDBPmN07U', 'username': 'Gorringes', 'verified': False}]}\n",
      "\n",
      "\n",
      "3131222121\n",
      "{'data': [{'created_at': '2015-04-02T09:33:41.000Z', 'description': '', 'id': '3131222121', 'name': 'waterforfuel316', 'profile_image_url': 'https://pbs.twimg.com/profile_images/583566903630766080/_zTPF74o_normal.jpg', 'protected': False, 'public_metrics': {'followers_count': 1100, 'following_count': 1052, 'listed_count': 48, 'tweet_count': 767103}, 'url': '', 'username': 'waterforfuel316', 'verified': False}]}\n",
      "\n",
      "\n",
      "4721076616\n",
      "{'data': [{'created_at': '2016-01-06T03:43:15.000Z', 'description': 'Etsy Shop with great vintage goodies for your bar, barbershop, tattoo parlor, etc.', 'entities': {'url': {'urls': [{'display_url': 'etsy.com/shop/PopsJunkD…', 'end': 23, 'expanded_url': 'https://www.etsy.com/shop/PopsJunkDrawer', 'start': 0, 'url': 'https://t.co/pmfaLzMUKK'}]}}, 'id': '4721076616', 'location': 'Randolph, NJ', 'name': 'PopsJunkDrawer', 'profile_image_url': 'https://pbs.twimg.com/profile_images/692971711885656064/YxCozz23_normal.png', 'protected': False, 'public_metrics': {'followers_count': 57, 'following_count': 21, 'listed_count': 4, 'tweet_count': 25252}, 'url': 'https://t.co/pmfaLzMUKK', 'username': 'PopsJunkDrawer', 'verified': False}]}\n",
      "\n",
      "\n",
      "47297687\n",
      "{'data': [{'created_at': '2009-06-15T09:19:45.000Z', 'description': 'I love Art especially Carved legal ivory', 'entities': {'url': {'urls': [{'display_url': 'ivoryandart.com', 'end': 22, 'expanded_url': 'http://www.ivoryandart.com', 'start': 0, 'url': 'http://t.co/HUmfwf21u9'}]}}, 'id': '47297687', 'name': 'IvoryAndArt.com', 'profile_image_url': 'https://pbs.twimg.com/profile_images/263683327/DIM_1896_thumb_normal.jpg', 'protected': False, 'public_metrics': {'followers_count': 176, 'following_count': 29, 'listed_count': 6, 'tweet_count': 1185}, 'url': 'http://t.co/HUmfwf21u9', 'username': 'CarvedIvory', 'verified': False}]}\n",
      "\n",
      "\n",
      "707966804253999105\n",
      "{'data': [{'created_at': '2016-03-10T16:30:14.000Z', 'description': '', 'id': '707966804253999105', 'name': 'CoolStuffYouNeed', 'profile_image_url': 'https://pbs.twimg.com/profile_images/719384466364305408/cUC99d8n_normal.jpg', 'protected': False, 'public_metrics': {'followers_count': 26, 'following_count': 0, 'listed_count': 6, 'tweet_count': 31947}, 'url': '', 'username': 'CoolStuffUNeed', 'verified': False}]}\n",
      "\n",
      "\n",
      "717712395112751104\n",
      "{'data': [{'created_at': '2016-04-06T13:55:44.000Z', 'description': 'EL TRANSFORMISTA, founded in 1991, it´s specializes in #decorativearts from the period of #30s until #70s, #antiques and unique objects', 'entities': {'description': {'hashtags': [{'end': 70, 'start': 55, 'tag': 'decorativearts'}, {'end': 94, 'start': 90, 'tag': '30s'}, {'end': 105, 'start': 101, 'tag': '70s'}, {'end': 116, 'start': 107, 'tag': 'antiques'}]}, 'url': {'urls': [{'display_url': 'eltransformista.com', 'end': 23, 'expanded_url': 'http://www.eltransformista.com', 'start': 0, 'url': 'https://t.co/Trz3ia0bnL'}]}}, 'id': '717712395112751104', 'location': 'Madrid, Comunidad de Madrid', 'name': 'El Transformista', 'profile_image_url': 'https://pbs.twimg.com/profile_images/717712914396942337/89FiwfOa_normal.jpg', 'protected': False, 'public_metrics': {'followers_count': 78, 'following_count': 89, 'listed_count': 69, 'tweet_count': 1970}, 'url': 'https://t.co/Trz3ia0bnL', 'username': 'TransformistaEl', 'verified': False}]}\n",
      "\n",
      "\n",
      "85810276\n",
      "{'data': [{'created_at': '2009-10-28T12:51:30.000Z', 'description': 'Fine Art auction house with specialist departments including Silver, Jewellery, Paintings, Furniture, African Art, Militaria, Ceramics, Design and Asian Art', 'entities': {'url': {'urls': [{'display_url': 'woolleyandwallis.co.uk', 'end': 23, 'expanded_url': 'http://www.woolleyandwallis.co.uk', 'start': 0, 'url': 'https://t.co/22VyWTNBKL'}]}}, 'id': '85810276', 'location': 'Salisbury, UK', 'name': 'Woolley and Wallis', 'profile_image_url': 'https://pbs.twimg.com/profile_images/378800000019818436/687d5141dc480b8cbf29816cb60f974b_normal.jpeg', 'protected': False, 'public_metrics': {'followers_count': 4021, 'following_count': 1374, 'listed_count': 71, 'tweet_count': 2586}, 'url': 'https://t.co/22VyWTNBKL', 'username': 'WoolleyWallis', 'verified': False}]}\n",
      "\n",
      "\n",
      "937064669608628226\n",
      "{'data': [{'created_at': '2017-12-02T21:03:21.000Z', 'description': 'Консультационный центр', 'entities': {'url': {'urls': [{'display_url': 'antiksalon.moscow', 'end': 23, 'expanded_url': 'http://antiksalon.moscow', 'start': 0, 'url': 'https://t.co/TP36CiCAry'}]}}, 'id': '937064669608628226', 'location': 'Москва', 'name': 'Аntiksalon.Мoscow', 'profile_image_url': 'https://pbs.twimg.com/profile_images/1091641262757892096/DFNb_LMl_normal.jpg', 'protected': False, 'public_metrics': {'followers_count': 435, 'following_count': 122, 'listed_count': 0, 'tweet_count': 11257}, 'url': 'https://t.co/TP36CiCAry', 'username': 'AntikSalon', 'verified': False}]}\n",
      "\n",
      "\n"
     ]
    }
   ],
   "source": [
    "for i in json_data:\n",
    "\tprint(i)\n",
    "\tprint(json_data[i])\n",
    "\tprint('\\n')"
   ]
  },
  {
   "cell_type": "code",
   "execution_count": 29,
   "metadata": {},
   "outputs": [
    {
     "name": "stdout",
     "output_type": "stream",
     "text": [
      "['1132988843609808899', '153701624', '242877245', '3131222121', '4721076616', '47297687', '707966804253999105', '717712395112751104', '85810276', '937064669608628226']\n"
     ]
    }
   ],
   "source": [
    "id_list = []\n",
    "for i in json_data:\n",
    "\tid_list.append(i)\n",
    "print(id_list)"
   ]
  },
  {
   "cell_type": "code",
   "execution_count": 24,
   "metadata": {},
   "outputs": [
    {
     "name": "stdout",
     "output_type": "stream",
     "text": [
      "Location list:  ['Cape Coral, FL', 'Nova Scotia', 'Lewes, East Sussex, UK', 'Unknown', 'Randolph, NJ', 'Unknown', 'Unknown', 'Madrid, Comunidad de Madrid', 'Salisbury, UK', 'Москва']\n"
     ]
    }
   ],
   "source": [
    "# Create location list\n",
    "location_list = []\n",
    "for i in json_data:\n",
    "\ttry:\n",
    "\t\tlocation_list.append(json_data[i][\"data\"][0]['location'])\n",
    "\texcept:\n",
    "\t\tlocation_list.append('Unknown')\n",
    "print(\"Location list: \", location_list)\n"
   ]
  },
  {
   "cell_type": "code",
   "execution_count": 9,
   "metadata": {},
   "outputs": [
    {
     "name": "stdout",
     "output_type": "stream",
     "text": [
      "We are 3rd generation Brocante-Antique Import Dealers. Specializing in French, Dutch and fine items for the Ladies. We offer a variety Decor & Design services.\n",
      "Original art glass designs  \n",
      "Instagram: @GothicGlassStudio Etsy: https://t.co/X9LgL96Fxw\n",
      "The leading #fineart & #antiques #auctioneers in the South East. Explore our collections at: https://t.co/LYDBPmN07U or visit us in #Lewes #EastSussex\n",
      "\n",
      "Etsy Shop with great vintage goodies for your bar, barbershop, tattoo parlor, etc.\n",
      "I love Art especially Carved legal ivory\n",
      "\n",
      "EL TRANSFORMISTA, founded in 1991, it´s specializes in #decorativearts from the period of #30s until #70s, #antiques and unique objects\n",
      "Fine Art auction house with specialist departments including Silver, Jewellery, Paintings, Furniture, African Art, Militaria, Ceramics, Design and Asian Art\n",
      "Консультационный центр\n"
     ]
    }
   ],
   "source": [
    "description_list = []\n",
    "for i in json_data:\n",
    "\tdescription = \"\"\n",
    "\ttry: \n",
    "\t\tdescription = json_data[i][\"data\"][0][\"description\"]\n",
    "\texcept:\n",
    "\t\tdescription = \"No description\"\n",
    "\tdescription_list.append(description)\n",
    "\tprint(description)"
   ]
  },
  {
   "cell_type": "code",
   "execution_count": 23,
   "metadata": {},
   "outputs": [
    {
     "name": "stdout",
     "output_type": "stream",
     "text": [
      "Length of descriptions:  [159, 88, 150, 0, 82, 40, 0, 135, 156, 22]\n"
     ]
    }
   ],
   "source": [
    "# Find length of description\n",
    "word_length_list = []\n",
    "for i in description_list:\n",
    "\tword_length_list.append(len(i))\n",
    "print(\"Length of descriptions: \", word_length_list)"
   ]
  },
  {
   "cell_type": "code",
   "execution_count": 21,
   "metadata": {},
   "outputs": [
    {
     "name": "stdout",
     "output_type": "stream",
     "text": [
      "No description\n",
      "No description\n",
      "Average word length:  [5.4, 9.875, 6.190476190476191, 0, 5.384615384615385, 4.857142857142857, 0, 5.8, 6.85, 10.5]\n"
     ]
    }
   ],
   "source": [
    "# Find average length of each user's description\n",
    "average_word_length = []\n",
    "for i in description_list:\n",
    "\ttmp_word_length = []\n",
    "\ttry: \n",
    "\t\tfor w in i.split():\n",
    "\t\t\t# print(w)\n",
    "\t\t\ttmp_word_length.append(len(w))\n",
    "\t\taverage_word_length.append(sum(tmp_word_length)/len(tmp_word_length))\n",
    "\texcept:\n",
    "\t\taverage_word_length.append(0)\n",
    "\t\tprint(\"No description\")\n",
    "\t\n",
    "print(\"Average word length: \", average_word_length)"
   ]
  },
  {
   "cell_type": "code",
   "execution_count": 27,
   "metadata": {},
   "outputs": [
    {
     "name": "stdout",
     "output_type": "stream",
     "text": [
      "No links\n",
      "No links\n",
      "Link list:  [['https://www.pinterest.com/theshadylady1/tainted-lady-brocante-antiques-419-cc-pkwy-cape-co/'], ['http://gothicglassstudio.etsy.com'], ['http://www.gorringes.co.uk'], [], ['https://www.etsy.com/shop/PopsJunkDrawer'], ['http://www.ivoryandart.com'], [], ['http://www.eltransformista.com'], ['http://www.woolleyandwallis.co.uk'], ['http://antiksalon.moscow']]\n"
     ]
    }
   ],
   "source": [
    "# Get links in user\n",
    "link_list = []\n",
    "for i in json_data:\n",
    "    link_list_tmp = []\n",
    "    try:\n",
    "\n",
    "        urls = json_data[i][\"data\"][0][\"entities\"]['url'][\"urls\"]\n",
    "        for j in urls:\n",
    "            link_list_tmp.append(j['expanded_url'])\n",
    "    except:\n",
    "        print(\"No links\")\n",
    "    link_list.append(link_list_tmp)\n",
    "print(\"Link list: \", link_list)\n"
   ]
  },
  {
   "cell_type": "code",
   "execution_count": 59,
   "metadata": {},
   "outputs": [],
   "source": [
    "# Get timeline\n",
    "def get_timeline(user_id, num_tweets = 5):\n",
    "\t# Create the url\n",
    "\turl = 'https://api.twitter.com/2/users/' + user_id + '/tweets?max_results=' + str(num_tweets)\n",
    "\t# Create request headers\n",
    "\theaders = {\n",
    "\t\t'authorization': 'Bearer ' + bearer_token,\n",
    "\t\t'user-agent': 'v2FilteredStreamPython',\n",
    "\t}\n",
    "\t# Make the request\n",
    "\tresponse = requests.get(url, headers=headers)\n",
    "\treturn response.json()"
   ]
  },
  {
   "cell_type": "code",
   "execution_count": null,
   "metadata": {},
   "outputs": [],
   "source": [
    "users_timeline = {}\n",
    "for i in id_list:\n",
    "\t# Get the timeline \n",
    "\ttimeline = get_timeline(i)\n",
    "\t# Add the timeline to the dictionary\n",
    "\tusers_timeline[i] = timeline\n",
    "# Write the dictionary to a json file\n",
    "with open('users_timeline.json', 'w') as f:\n",
    "\tjson.dump(users_timeline, f)\n"
   ]
  },
  {
   "cell_type": "code",
   "execution_count": 60,
   "metadata": {},
   "outputs": [
    {
     "name": "stdout",
     "output_type": "stream",
     "text": [
      "{'data': [{'id': '1195314301487194114', 'text': 'For Sale now French Crowns https://t.co/D4lXfzIxZP'}, {'id': '1195314169026875392', 'text': 'For Sale Now https://t.co/r5EfE8jhVu'}, {'id': '1195313865640357888', 'text': 'https://t.co/jdrdOOAzg7'}, {'id': '1192782833309356033', 'text': \"VETERANS Day SALE for everyone! Great savings I'm offering a discount! https://t.co/3dZKxPH6eG via @Etsy\"}, {'id': '1192623975102328833', 'text': \"I'm offering a Veterans DAY sale 30 % discount! https://t.co/3dZKxPH6eG via @Etsy\"}, {'id': '1192351366439677953', 'text': \"I'm offering a discount! https://t.co/3dZKxPH6eG via @Etsy\"}, {'id': '1191689867132067842', 'text': \"I'm offering a discount! https://t.co/3dZKxPH6eG via @Etsy\"}, {'id': '1187403727709364224', 'text': \"I'm offering a discount! https://t.co/3dZKxPH6eG via @Etsy\"}, {'id': '1161952707172872192', 'text': 'https://t.co/5Pxw853DST'}, {'id': '1161952540159725571', 'text': 'Free &amp; easy for most= \"KINDNESS\" https://t.co/LxrI04fsxg'}], 'meta': {'oldest_id': '1161952540159725571', 'newest_id': '1195314301487194114', 'result_count': 10, 'next_token': '7140dibdnow9c7btw3q3yz6c8c8tdl8erbene7ozqlc8h'}}\n"
     ]
    }
   ],
   "source": [
    "user = get_timeline(id_list[0], 10)\n",
    "print(user)"
   ]
  },
  {
   "cell_type": "code",
   "execution_count": null,
   "metadata": {},
   "outputs": [],
   "source": [
    "print(json.dumps(user, indent=4, sort_keys=True))"
   ]
  },
  {
   "cell_type": "code",
   "execution_count": 70,
   "metadata": {},
   "outputs": [],
   "source": [
    "# Get timeline\n",
    "def get_followers(user_id):\n",
    "\t# Create the url\n",
    "\turl = 'https://api.twitter.com/2/users/{}/followers'.format(user_id)\n",
    "\t# Create request headers\n",
    "\theaders = {\n",
    "\t\t'authorization': 'Bearer ' + bearer_token,\n",
    "\t\t'user-agent': 'v2FilteredStreamPython',\n",
    "\t}\n",
    "\t# Make the request\n",
    "\tresponse = requests.get(url, headers=headers)\n",
    "\treturn response.json()"
   ]
  },
  {
   "cell_type": "code",
   "execution_count": 73,
   "metadata": {},
   "outputs": [
    {
     "name": "stdout",
     "output_type": "stream",
     "text": [
      "{\n",
      "    \"data\": [\n",
      "        {\n",
      "            \"id\": \"913508043954036738\",\n",
      "            \"name\": \"NSW Vintage Antique\",\n",
      "            \"username\": \"NSWvintage\"\n",
      "        },\n",
      "        {\n",
      "            \"id\": \"1087253284589572096\",\n",
      "            \"name\": \"Crypto Lilly \\u2764\\ufe0f ZIL\",\n",
      "            \"username\": \"cryptozilbabe\"\n",
      "        },\n",
      "        {\n",
      "            \"id\": \"1132910170969903104\",\n",
      "            \"name\": \"Mohammed Banda\",\n",
      "            \"username\": \"MohammedBanda3\"\n",
      "        },\n",
      "        {\n",
      "            \"id\": \"3892350434\",\n",
      "            \"name\": \"FloridaProperty365\",\n",
      "            \"username\": \"flproperty365\"\n",
      "        },\n",
      "        {\n",
      "            \"id\": \"1218563444\",\n",
      "            \"name\": \"MiDeWestcoast\",\n",
      "            \"username\": \"MiDeWestcoast\"\n",
      "        },\n",
      "        {\n",
      "            \"id\": \"28723372\",\n",
      "            \"name\": \"Miles Holmwood\",\n",
      "            \"username\": \"MilesSTEREOS\"\n",
      "        }\n",
      "    ],\n",
      "    \"meta\": {\n",
      "        \"result_count\": 6\n",
      "    }\n",
      "}\n"
     ]
    }
   ],
   "source": [
    "user_followers = get_followers(id_list[0])\n",
    "print(json.dumps(user_followers, indent=4, sort_keys=True))"
   ]
  }
 ],
 "metadata": {
  "interpreter": {
   "hash": "31f2aee4e71d21fbe5cf8b01ff0e069b9275f58929596ceb00d14d90e3e16cd6"
  },
  "kernelspec": {
   "display_name": "Python 3.7.3 64-bit",
   "language": "python",
   "name": "python3"
  },
  "language_info": {
   "codemirror_mode": {
    "name": "ipython",
    "version": 3
   },
   "file_extension": ".py",
   "mimetype": "text/x-python",
   "name": "python",
   "nbconvert_exporter": "python",
   "pygments_lexer": "ipython3",
   "version": "3.9.7"
  },
  "orig_nbformat": 4
 },
 "nbformat": 4,
 "nbformat_minor": 2
}
